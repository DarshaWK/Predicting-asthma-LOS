{
 "cells": [
  {
   "cell_type": "markdown",
   "id": "c92ee44d",
   "metadata": {},
   "source": [
    "## Preparing the tools"
   ]
  },
  {
   "cell_type": "code",
   "execution_count": 2,
   "id": "93450828",
   "metadata": {},
   "outputs": [
    {
     "name": "stdout",
     "output_type": "stream",
     "text": [
      "Collecting smogn\n",
      "  Downloading smogn-0.1.2-py3-none-any.whl (30 kB)\n",
      "Requirement already satisfied: tqdm in c:\\anaconda3\\lib\\site-packages (from smogn) (4.64.0)\n",
      "Requirement already satisfied: pandas in c:\\anaconda3\\lib\\site-packages (from smogn) (1.4.2)\n",
      "Requirement already satisfied: numpy in c:\\anaconda3\\lib\\site-packages (from smogn) (1.21.5)\n",
      "Requirement already satisfied: pytz>=2020.1 in c:\\anaconda3\\lib\\site-packages (from pandas->smogn) (2021.3)\n",
      "Requirement already satisfied: python-dateutil>=2.8.1 in c:\\anaconda3\\lib\\site-packages (from pandas->smogn) (2.8.2)\n",
      "Requirement already satisfied: six>=1.5 in c:\\anaconda3\\lib\\site-packages (from python-dateutil>=2.8.1->pandas->smogn) (1.16.0)\n",
      "Requirement already satisfied: colorama in c:\\anaconda3\\lib\\site-packages (from tqdm->smogn) (0.4.4)\n",
      "Installing collected packages: smogn\n",
      "Successfully installed smogn-0.1.2\n"
     ]
    }
   ],
   "source": [
    "#Install SMOGN\n",
    "!pip install smogn"
   ]
  },
  {
   "cell_type": "code",
   "execution_count": 4,
   "id": "9d7d4e73",
   "metadata": {},
   "outputs": [
    {
     "name": "stdout",
     "output_type": "stream",
     "text": [
      "Collecting xgboost\n",
      "  Downloading xgboost-1.6.2-py3-none-win_amd64.whl (125.4 MB)\n",
      "Requirement already satisfied: scipy in c:\\anaconda3\\lib\\site-packages (from xgboost) (1.7.3)\n",
      "Requirement already satisfied: numpy in c:\\anaconda3\\lib\\site-packages (from xgboost) (1.21.5)\n",
      "Installing collected packages: xgboost\n",
      "Successfully installed xgboost-1.6.2\n"
     ]
    }
   ],
   "source": [
    "# Install xgboost\n",
    "!pip install xgboost"
   ]
  },
  {
   "cell_type": "code",
   "execution_count": 6,
   "id": "5f6acd79",
   "metadata": {},
   "outputs": [
    {
     "name": "stdout",
     "output_type": "stream",
     "text": [
      "Collecting imblearn"
     ]
    },
    {
     "name": "stderr",
     "output_type": "stream",
     "text": [
      "ERROR: Could not install packages due to an OSError: [WinError 5] Access is denied: 'C:\\\\Anaconda3\\\\Lib\\\\site-packages\\\\~klearn\\\\decomposition\\\\_cdnmf_fast.cp39-win_amd64.pyd'\n",
      "Consider using the `--user` option or check the permissions.\n",
      "\n"
     ]
    },
    {
     "name": "stdout",
     "output_type": "stream",
     "text": [
      "\n",
      "  Downloading imblearn-0.0-py2.py3-none-any.whl (1.9 kB)\n",
      "Collecting imbalanced-learn\n",
      "  Downloading imbalanced_learn-0.9.1-py3-none-any.whl (199 kB)\n",
      "Requirement already satisfied: numpy>=1.17.3 in c:\\anaconda3\\lib\\site-packages (from imbalanced-learn->imblearn) (1.21.5)\n",
      "Requirement already satisfied: scipy>=1.3.2 in c:\\anaconda3\\lib\\site-packages (from imbalanced-learn->imblearn) (1.7.3)\n",
      "Collecting scikit-learn>=1.1.0\n",
      "  Downloading scikit_learn-1.1.2-cp39-cp39-win_amd64.whl (7.4 MB)\n",
      "Requirement already satisfied: joblib>=1.0.0 in c:\\anaconda3\\lib\\site-packages (from imbalanced-learn->imblearn) (1.1.0)\n",
      "Requirement already satisfied: threadpoolctl>=2.0.0 in c:\\anaconda3\\lib\\site-packages (from imbalanced-learn->imblearn) (2.2.0)\n",
      "Installing collected packages: scikit-learn, imbalanced-learn, imblearn\n",
      "  Attempting uninstall: scikit-learn\n",
      "    Found existing installation: scikit-learn 1.0.2\n",
      "    Uninstalling scikit-learn-1.0.2:\n",
      "      Successfully uninstalled scikit-learn-1.0.2\n"
     ]
    }
   ],
   "source": [
    "# Install imblearn\n",
    "!pip install imblearn"
   ]
  },
  {
   "cell_type": "code",
   "execution_count": 10,
   "id": "b6dbbfd9",
   "metadata": {},
   "outputs": [],
   "source": [
    "# Import all the tools needed\n",
    "\n",
    "import numpy as np\n",
    "import pandas as pd\n",
    "import calendar\n",
    "\n",
    "from sklearn.ensemble import RandomForestRegressor, AdaBoostRegressor\n",
    "from sklearn.linear_model import LogisticRegression\n",
    "from sklearn.linear_model import LinearRegression, Ridge\n",
    "from sklearn.neighbors import KNeighborsClassifier, KNeighborsRegressor\n",
    "from sklearn.svm import SVR\n",
    "from sklearn.neural_network import MLPRegressor\n",
    "import xgboost.XGBRegressor\n",
    "# from sklearn.svm import LinearSVC\n",
    "# from sklearn.neural_network import MLPClassifier\n",
    "# from sklearn.naive_bayes import GaussianNB\n",
    "\n",
    "from sklearn.model_selection import train_test_split\n",
    "from sklearn.model_selection import cross_val_score, cross_validate\n",
    "from sklearn.model_selection import RandomizedSearchCV, GridSearchCV\n",
    "from sklearn.compose import TransformedTargetRegressor\n",
    "from sklearn.pipeline import Pipeline\n",
    "from sklearn.preprocessing import MinMaxScaler\n",
    "from sklearn.compose import ColumnTransformer\n",
    "from sklearn.preprocessing import StandardScaler, OneHotEncoder\n",
    "\n",
    "# from imblearn.over_sampling import SMOTENC\n",
    "import smogn\n",
    "from pylab import rcParams\n",
    "from math import sqrt\n",
    "import seaborn as sb\n",
    "import matplotlib.pyplot as plt\n",
    "from sklearn.metrics import mean_squared_error,r2_score, mean_absolute_error"
   ]
  },
  {
   "cell_type": "markdown",
   "id": "862f4de9",
   "metadata": {},
   "source": [
    "## Load data"
   ]
  },
  {
   "cell_type": "code",
   "execution_count": 12,
   "id": "3fc51023",
   "metadata": {
    "scrolled": true
   },
   "outputs": [
    {
     "data": {
      "text/plain": [
       "(10833, 9)"
      ]
     },
     "execution_count": 12,
     "metadata": {},
     "output_type": "execute_result"
    }
   ],
   "source": [
    "# asthma_admission_data = pd.read_csv(\"data/processed_admission_data.csv\")\n",
    "asthma_admission_data = pd.read_csv(\"data/processed_admission_data_beforeOHE.csv\")\n",
    "asthma_admission_data.shape"
   ]
  },
  {
   "cell_type": "code",
   "execution_count": 13,
   "id": "1b6db703",
   "metadata": {},
   "outputs": [
    {
     "data": {
      "text/html": [
       "<div>\n",
       "<style scoped>\n",
       "    .dataframe tbody tr th:only-of-type {\n",
       "        vertical-align: middle;\n",
       "    }\n",
       "\n",
       "    .dataframe tbody tr th {\n",
       "        vertical-align: top;\n",
       "    }\n",
       "\n",
       "    .dataframe thead th {\n",
       "        text-align: right;\n",
       "    }\n",
       "</style>\n",
       "<table border=\"1\" class=\"dataframe\">\n",
       "  <thead>\n",
       "    <tr style=\"text-align: right;\">\n",
       "      <th></th>\n",
       "      <th>Admit Day of Week</th>\n",
       "      <th>Age</th>\n",
       "      <th>Gender Desc</th>\n",
       "      <th>Smoker Flag</th>\n",
       "      <th>LOS</th>\n",
       "      <th>Diag Code</th>\n",
       "      <th>Admit Month</th>\n",
       "      <th>Ethnicity Group</th>\n",
       "      <th>DHB Group</th>\n",
       "    </tr>\n",
       "  </thead>\n",
       "  <tbody>\n",
       "    <tr>\n",
       "      <th>0</th>\n",
       "      <td>Mon</td>\n",
       "      <td>44</td>\n",
       "      <td>0</td>\n",
       "      <td>0</td>\n",
       "      <td>0</td>\n",
       "      <td>J459</td>\n",
       "      <td>Aug</td>\n",
       "      <td>European</td>\n",
       "      <td>Auckland</td>\n",
       "    </tr>\n",
       "    <tr>\n",
       "      <th>1</th>\n",
       "      <td>Fri</td>\n",
       "      <td>60</td>\n",
       "      <td>0</td>\n",
       "      <td>0</td>\n",
       "      <td>3</td>\n",
       "      <td>J459</td>\n",
       "      <td>May</td>\n",
       "      <td>Pacific Peoples</td>\n",
       "      <td>Auckland</td>\n",
       "    </tr>\n",
       "    <tr>\n",
       "      <th>2</th>\n",
       "      <td>Tue</td>\n",
       "      <td>42</td>\n",
       "      <td>1</td>\n",
       "      <td>0</td>\n",
       "      <td>34</td>\n",
       "      <td>J459</td>\n",
       "      <td>Apr</td>\n",
       "      <td>Asian</td>\n",
       "      <td>Auckland</td>\n",
       "    </tr>\n",
       "    <tr>\n",
       "      <th>3</th>\n",
       "      <td>Sat</td>\n",
       "      <td>31</td>\n",
       "      <td>0</td>\n",
       "      <td>0</td>\n",
       "      <td>2</td>\n",
       "      <td>J459</td>\n",
       "      <td>Jun</td>\n",
       "      <td>European</td>\n",
       "      <td>Auckland</td>\n",
       "    </tr>\n",
       "    <tr>\n",
       "      <th>4</th>\n",
       "      <td>Tue</td>\n",
       "      <td>70</td>\n",
       "      <td>0</td>\n",
       "      <td>0</td>\n",
       "      <td>6</td>\n",
       "      <td>R060</td>\n",
       "      <td>Feb</td>\n",
       "      <td>Maori</td>\n",
       "      <td>Auckland</td>\n",
       "    </tr>\n",
       "  </tbody>\n",
       "</table>\n",
       "</div>"
      ],
      "text/plain": [
       "  Admit Day of Week  Age  Gender Desc  Smoker Flag  LOS Diag Code Admit Month  \\\n",
       "0               Mon   44            0            0    0      J459         Aug   \n",
       "1               Fri   60            0            0    3      J459         May   \n",
       "2               Tue   42            1            0   34      J459         Apr   \n",
       "3               Sat   31            0            0    2      J459         Jun   \n",
       "4               Tue   70            0            0    6      R060         Feb   \n",
       "\n",
       "   Ethnicity Group DHB Group  \n",
       "0         European  Auckland  \n",
       "1  Pacific Peoples  Auckland  \n",
       "2            Asian  Auckland  \n",
       "3         European  Auckland  \n",
       "4            Maori  Auckland  "
      ]
     },
     "execution_count": 13,
     "metadata": {},
     "output_type": "execute_result"
    }
   ],
   "source": [
    "asthma_admission_data.head(5)"
   ]
  },
  {
   "cell_type": "code",
   "execution_count": 14,
   "id": "2524a56b",
   "metadata": {
    "scrolled": true
   },
   "outputs": [
    {
     "data": {
      "text/plain": [
       "Index(['Admit Day of Week', 'Age', 'Gender Desc', 'Smoker Flag', 'LOS',\n",
       "       'Diag Code', 'Admit Month', 'Ethnicity Group', 'DHB Group'],\n",
       "      dtype='object')"
      ]
     },
     "execution_count": 14,
     "metadata": {},
     "output_type": "execute_result"
    }
   ],
   "source": [
    "asthma_admission_data.columns"
   ]
  },
  {
   "cell_type": "code",
   "execution_count": 15,
   "id": "4123f45f",
   "metadata": {},
   "outputs": [
    {
     "data": {
      "text/plain": [
       "count    10833.000000\n",
       "mean         2.150374\n",
       "std          4.667687\n",
       "min          0.000000\n",
       "25%          0.000000\n",
       "50%          1.000000\n",
       "75%          2.000000\n",
       "max         44.000000\n",
       "Name: LOS, dtype: float64"
      ]
     },
     "execution_count": 15,
     "metadata": {},
     "output_type": "execute_result"
    }
   ],
   "source": [
    "asthma_admission_data['LOS'].describe()"
   ]
  },
  {
   "cell_type": "code",
   "execution_count": 6,
   "id": "415c1009",
   "metadata": {
    "scrolled": true
   },
   "outputs": [
    {
     "data": {
      "text/plain": [
       "0     4623\n",
       "1     3198\n",
       "2      898\n",
       "3      501\n",
       "4      284\n",
       "5      230\n",
       "6      171\n",
       "7      151\n",
       "8      104\n",
       "9       94\n",
       "10      58\n",
       "11      52\n",
       "12      45\n",
       "13      44\n",
       "15      39\n",
       "14      32\n",
       "16      29\n",
       "19      28\n",
       "17      25\n",
       "18      23\n",
       "22      22\n",
       "20      20\n",
       "21      17\n",
       "23      15\n",
       "28      13\n",
       "24      13\n",
       "26      12\n",
       "29      10\n",
       "25       9\n",
       "30       9\n",
       "31       8\n",
       "27       8\n",
       "34       7\n",
       "42       6\n",
       "32       5\n",
       "38       4\n",
       "36       4\n",
       "37       4\n",
       "33       3\n",
       "44       3\n",
       "35       3\n",
       "40       3\n",
       "39       2\n",
       "43       2\n",
       "41       2\n",
       "Name: LOS, dtype: int64"
      ]
     },
     "execution_count": 6,
     "metadata": {},
     "output_type": "execute_result"
    }
   ],
   "source": [
    "asthma_admission_data['LOS'].value_counts()"
   ]
  },
  {
   "cell_type": "markdown",
   "id": "f6878997",
   "metadata": {},
   "source": [
    "### Eliminating instances with <b>zero</b> days"
   ]
  },
  {
   "cell_type": "code",
   "execution_count": 16,
   "id": "1df0d8a1",
   "metadata": {},
   "outputs": [
    {
     "data": {
      "text/html": [
       "<div>\n",
       "<style scoped>\n",
       "    .dataframe tbody tr th:only-of-type {\n",
       "        vertical-align: middle;\n",
       "    }\n",
       "\n",
       "    .dataframe tbody tr th {\n",
       "        vertical-align: top;\n",
       "    }\n",
       "\n",
       "    .dataframe thead th {\n",
       "        text-align: right;\n",
       "    }\n",
       "</style>\n",
       "<table border=\"1\" class=\"dataframe\">\n",
       "  <thead>\n",
       "    <tr style=\"text-align: right;\">\n",
       "      <th></th>\n",
       "      <th>Admit Day of Week</th>\n",
       "      <th>Age</th>\n",
       "      <th>Gender Desc</th>\n",
       "      <th>Smoker Flag</th>\n",
       "      <th>LOS</th>\n",
       "      <th>Diag Code</th>\n",
       "      <th>Admit Month</th>\n",
       "      <th>Ethnicity Group</th>\n",
       "      <th>DHB Group</th>\n",
       "    </tr>\n",
       "  </thead>\n",
       "  <tbody>\n",
       "    <tr>\n",
       "      <th>1</th>\n",
       "      <td>Fri</td>\n",
       "      <td>60</td>\n",
       "      <td>0</td>\n",
       "      <td>0</td>\n",
       "      <td>3</td>\n",
       "      <td>J459</td>\n",
       "      <td>May</td>\n",
       "      <td>Pacific Peoples</td>\n",
       "      <td>Auckland</td>\n",
       "    </tr>\n",
       "    <tr>\n",
       "      <th>2</th>\n",
       "      <td>Tue</td>\n",
       "      <td>42</td>\n",
       "      <td>1</td>\n",
       "      <td>0</td>\n",
       "      <td>34</td>\n",
       "      <td>J459</td>\n",
       "      <td>Apr</td>\n",
       "      <td>Asian</td>\n",
       "      <td>Auckland</td>\n",
       "    </tr>\n",
       "    <tr>\n",
       "      <th>3</th>\n",
       "      <td>Sat</td>\n",
       "      <td>31</td>\n",
       "      <td>0</td>\n",
       "      <td>0</td>\n",
       "      <td>2</td>\n",
       "      <td>J459</td>\n",
       "      <td>Jun</td>\n",
       "      <td>European</td>\n",
       "      <td>Auckland</td>\n",
       "    </tr>\n",
       "    <tr>\n",
       "      <th>4</th>\n",
       "      <td>Tue</td>\n",
       "      <td>70</td>\n",
       "      <td>0</td>\n",
       "      <td>0</td>\n",
       "      <td>6</td>\n",
       "      <td>R060</td>\n",
       "      <td>Feb</td>\n",
       "      <td>Maori</td>\n",
       "      <td>Auckland</td>\n",
       "    </tr>\n",
       "    <tr>\n",
       "      <th>7</th>\n",
       "      <td>Sat</td>\n",
       "      <td>48</td>\n",
       "      <td>0</td>\n",
       "      <td>0</td>\n",
       "      <td>2</td>\n",
       "      <td>R05</td>\n",
       "      <td>Jun</td>\n",
       "      <td>Asian</td>\n",
       "      <td>Waitemata</td>\n",
       "    </tr>\n",
       "  </tbody>\n",
       "</table>\n",
       "</div>"
      ],
      "text/plain": [
       "  Admit Day of Week  Age  Gender Desc  Smoker Flag  LOS Diag Code Admit Month  \\\n",
       "1               Fri   60            0            0    3      J459         May   \n",
       "2               Tue   42            1            0   34      J459         Apr   \n",
       "3               Sat   31            0            0    2      J459         Jun   \n",
       "4               Tue   70            0            0    6      R060         Feb   \n",
       "7               Sat   48            0            0    2       R05         Jun   \n",
       "\n",
       "   Ethnicity Group  DHB Group  \n",
       "1  Pacific Peoples   Auckland  \n",
       "2            Asian   Auckland  \n",
       "3         European   Auckland  \n",
       "4            Maori   Auckland  \n",
       "7            Asian  Waitemata  "
      ]
     },
     "execution_count": 16,
     "metadata": {},
     "output_type": "execute_result"
    }
   ],
   "source": [
    "# asthma_admission_data_copy = asthma_admission_data.copy()\n",
    "asthma_admission_data.drop(asthma_admission_data[asthma_admission_data['LOS']==0].index, axis=0, inplace=True)\n",
    "asthma_admission_data.head(5)"
   ]
  },
  {
   "cell_type": "code",
   "execution_count": 17,
   "id": "76c32ca1",
   "metadata": {},
   "outputs": [
    {
     "data": {
      "text/plain": [
       "(6210, 9)"
      ]
     },
     "execution_count": 17,
     "metadata": {},
     "output_type": "execute_result"
    }
   ],
   "source": [
    "asthma_admission_data.shape"
   ]
  },
  {
   "cell_type": "code",
   "execution_count": 18,
   "id": "96d02bf8",
   "metadata": {
    "scrolled": true
   },
   "outputs": [
    {
     "data": {
      "text/plain": [
       "1     3198\n",
       "2      898\n",
       "3      501\n",
       "4      284\n",
       "5      230\n",
       "6      171\n",
       "7      151\n",
       "8      104\n",
       "9       94\n",
       "10      58\n",
       "11      52\n",
       "12      45\n",
       "13      44\n",
       "15      39\n",
       "14      32\n",
       "16      29\n",
       "19      28\n",
       "17      25\n",
       "18      23\n",
       "22      22\n",
       "20      20\n",
       "21      17\n",
       "23      15\n",
       "24      13\n",
       "28      13\n",
       "26      12\n",
       "29      10\n",
       "25       9\n",
       "30       9\n",
       "27       8\n",
       "31       8\n",
       "34       7\n",
       "42       6\n",
       "32       5\n",
       "36       4\n",
       "37       4\n",
       "38       4\n",
       "33       3\n",
       "35       3\n",
       "40       3\n",
       "44       3\n",
       "39       2\n",
       "41       2\n",
       "43       2\n",
       "Name: LOS, dtype: int64"
      ]
     },
     "execution_count": 18,
     "metadata": {},
     "output_type": "execute_result"
    }
   ],
   "source": [
    "asthma_admission_data[\"LOS\"].sort_values().value_counts()"
   ]
  },
  {
   "cell_type": "markdown",
   "id": "e8287a83",
   "metadata": {},
   "source": [
    "### Eliminating records with LOS > 14"
   ]
  },
  {
   "cell_type": "code",
   "execution_count": 20,
   "id": "376689ca",
   "metadata": {},
   "outputs": [
    {
     "data": {
      "text/plain": [
       "5862"
      ]
     },
     "execution_count": 20,
     "metadata": {},
     "output_type": "execute_result"
    }
   ],
   "source": [
    "# asthma_admission_data_copy = asthma_admission_data.copy()\n",
    "asthma_admission_data.drop(asthma_admission_data[asthma_admission_data[\"LOS\"]>14].index, axis=0, inplace=True)\n",
    "len(asthma_admission_data)"
   ]
  },
  {
   "cell_type": "code",
   "execution_count": 21,
   "id": "28019dfe",
   "metadata": {
    "scrolled": true
   },
   "outputs": [
    {
     "data": {
      "text/plain": [
       "1     3198\n",
       "2      898\n",
       "3      501\n",
       "4      284\n",
       "5      230\n",
       "6      171\n",
       "7      151\n",
       "8      104\n",
       "9       94\n",
       "10      58\n",
       "11      52\n",
       "12      45\n",
       "13      44\n",
       "14      32\n",
       "Name: LOS, dtype: int64"
      ]
     },
     "execution_count": 21,
     "metadata": {},
     "output_type": "execute_result"
    }
   ],
   "source": [
    "asthma_admission_data[\"LOS\"].value_counts()"
   ]
  },
  {
   "cell_type": "code",
   "execution_count": 60,
   "id": "c860fc80",
   "metadata": {},
   "outputs": [
    {
     "data": {
      "text/plain": [
       "Index(['Admit Day of Week', 'Age', 'Gender Desc', 'Smoker Flag', 'LOS',\n",
       "       'Diag Code', 'Admit Month', 'Ethnicity Group', 'DHB Group'],\n",
       "      dtype='object')"
      ]
     },
     "execution_count": 60,
     "metadata": {},
     "output_type": "execute_result"
    }
   ],
   "source": [
    "asthma_admission_data.columns"
   ]
  },
  {
   "cell_type": "markdown",
   "id": "91ec17ba",
   "metadata": {},
   "source": [
    "## Rename Columns"
   ]
  },
  {
   "cell_type": "code",
   "execution_count": 22,
   "id": "e27b3879",
   "metadata": {},
   "outputs": [
    {
     "data": {
      "text/plain": [
       "Index(['Admit Day of Week', 'Age', 'Gender', 'Smoker Status', 'LOS',\n",
       "       'Diagnostic Code', 'Admit Month', 'Ethnicity Group', 'DHB Group'],\n",
       "      dtype='object')"
      ]
     },
     "execution_count": 22,
     "metadata": {},
     "output_type": "execute_result"
    }
   ],
   "source": [
    "# Rename Gender Desc\n",
    "asthma_admission_data.rename(columns={\"Gender Desc\":\"Gender\", \"Smoker Flag\":\"Smoker Status\", \"Diag Code\":\"Diagnostic Code\"}, inplace=True)\n",
    "asthma_admission_data.columns"
   ]
  },
  {
   "cell_type": "markdown",
   "id": "5fd35dc4",
   "metadata": {},
   "source": [
    "## Preprocess Data"
   ]
  },
  {
   "cell_type": "code",
   "execution_count": 23,
   "id": "15bf78cc",
   "metadata": {},
   "outputs": [],
   "source": [
    "categorical_features = [\"Admit Day of Week\", \"Diagnostic Code\", \"Admit Month\", \"Ethnicity Group\", \"DHB Group\"]\n",
    "ohe = OneHotEncoder(sparse=False)\n",
    "num_feature = [\"Age\"]\n",
    "std_scalar = StandardScaler()\n",
    "preprocessor = ColumnTransformer(\n",
    "    transformers = [(\"categorical\", ohe, categorical_features),\n",
    "                   (\"numerical\", std_scalar, num_feature)],\n",
    "    remainder=\"passthrough\")\n"
   ]
  },
  {
   "cell_type": "markdown",
   "id": "410c310b",
   "metadata": {},
   "source": [
    "## Defining `Training` , `Validation` and `Test` sets"
   ]
  },
  {
   "cell_type": "code",
   "execution_count": 24,
   "id": "1c7edaf4",
   "metadata": {},
   "outputs": [],
   "source": [
    "# asthma_admission_data = transformed_df_copy.copy()\n",
    "np.random.seed(42)\n",
    "\n",
    "# Shuffle the dataset\n",
    "asthma_admission_data_shuffled = asthma_admission_data.sample(frac=1).reset_index(drop=True)\n",
    "\n",
    "# Defining X and y\n",
    "X = asthma_admission_data_shuffled.drop(\"LOS\",axis=1)\n",
    "y = asthma_admission_data_shuffled[\"LOS\"]\n",
    "\n",
    "# Defining boundry limits for train and validation sets\n",
    "train_split = round(0.7*len(asthma_admission_data_shuffled)) #80:20%\n",
    "# valid_split = round(train_split + 0.15*len(asthma_admission_data_shuffled))\n",
    "\n",
    "# Splitting into train, val and test sets\n",
    "X_train, y_train = X[:train_split], y[:train_split]\n",
    "# X_val, y_val = X[train_split:valid_split], y[train_split:valid_split]\n",
    "# X_test, y_test = X[valid_split:], y[valid_split:]\n",
    "X_test, y_test = X[train_split:], y[train_split:]"
   ]
  },
  {
   "cell_type": "code",
   "execution_count": 25,
   "id": "b8ec75ee",
   "metadata": {
    "scrolled": true
   },
   "outputs": [
    {
     "data": {
      "text/plain": [
       "((4103, 8), (4103,), (1759, 8), (1759,))"
      ]
     },
     "execution_count": 25,
     "metadata": {},
     "output_type": "execute_result"
    }
   ],
   "source": [
    "X_train.shape, y_train.shape, X_test.shape, y_test.shape "
   ]
  },
  {
   "cell_type": "code",
   "execution_count": null,
   "id": "62851121",
   "metadata": {},
   "outputs": [],
   "source": []
  },
  {
   "cell_type": "markdown",
   "id": "c0082f2c",
   "metadata": {},
   "source": [
    "### Sampling training data"
   ]
  },
  {
   "cell_type": "code",
   "execution_count": null,
   "id": "682d380e",
   "metadata": {},
   "outputs": [],
   "source": [
    "# ## specify phi relevance values\n",
    "# rg_mtrx = [\n",
    "\n",
    "#     [35000,  1, 0],  ## over-sample (\"minority\")\n",
    "#     [125000, 0, 0],  ## under-sample (\"majority\")\n",
    "#     [200000, 0, 0],  ## under-sample\n",
    "#     [250000, 0, 0],  ## under-sample\n",
    "# ]"
   ]
  },
  {
   "cell_type": "code",
   "execution_count": 40,
   "id": "7e074512",
   "metadata": {},
   "outputs": [
    {
     "name": "stderr",
     "output_type": "stream",
     "text": [
      "dist_matrix: 100%|###################################################################| 463/463 [01:35<00:00,  4.84it/s]\n",
      "synth_matrix: 100%|#################################################################| 463/463 [00:04<00:00, 108.73it/s]\n",
      "r_index: 100%|######################################################################| 169/169 [00:00<00:00, 389.15it/s]\n"
     ]
    }
   ],
   "source": [
    "# X_train_sampled = smogn.smoter(data = asthma_admission_data_shuffled[:train_split],\n",
    "#                               y = 'LOS',\n",
    "#                               k = 7,\n",
    "# #                               pert = 0.04,#  the amount of perturbation to apply to the introduction of Gaussian Noise.\n",
    "#                               samp_method = 'balance', # less ('balance') or more('extreme') sampling\n",
    "#                               rel_thres = 0.5,\n",
    "#                               rel_method = 'auto', # specifies how relevant or rare \"minority\" values in y are determined\n",
    "#                               rel_xtrm_type = 'high', # indicates which region of the response variable y should be considered rare or a \"minority\"\n",
    "#                               rel_coef = 5 # specifies the box plot coefficient used to automatically determine extreme and therefore rare \"minority\" values in y, when rel_method = 'auto'\n",
    "#                 )"
   ]
  },
  {
   "cell_type": "code",
   "execution_count": 140,
   "id": "8af8c8b7",
   "metadata": {},
   "outputs": [
    {
     "data": {
      "text/plain": [
       "4690"
      ]
     },
     "execution_count": 140,
     "metadata": {},
     "output_type": "execute_result"
    }
   ],
   "source": [
    "len(asthma_admission_data_shuffled[:train_split])"
   ]
  },
  {
   "cell_type": "code",
   "execution_count": 42,
   "id": "27fb3fd9",
   "metadata": {},
   "outputs": [],
   "source": [
    "# asthma_admission_data_shuffled[:train_split][\"LOS\"].describe()"
   ]
  },
  {
   "cell_type": "code",
   "execution_count": 142,
   "id": "5a2f659e",
   "metadata": {},
   "outputs": [],
   "source": [
    "# X_train_sampled.shape"
   ]
  },
  {
   "cell_type": "code",
   "execution_count": 43,
   "id": "b2a87453",
   "metadata": {},
   "outputs": [],
   "source": [
    "# X_train_sampled[\"LOS\"].describe()"
   ]
  },
  {
   "cell_type": "code",
   "execution_count": 44,
   "id": "c327adc0",
   "metadata": {},
   "outputs": [
    {
     "data": {
      "text/plain": [
       "0       15.0\n",
       "1       15.0\n",
       "2       15.0\n",
       "3       15.0\n",
       "4       15.0\n",
       "        ... \n",
       "4957     2.0\n",
       "4960    11.0\n",
       "4961     1.0\n",
       "4962     2.0\n",
       "4965     1.0\n",
       "Name: LOS, Length: 4506, dtype: float64"
      ]
     },
     "execution_count": 44,
     "metadata": {},
     "output_type": "execute_result"
    }
   ],
   "source": [
    "X_train_sampled['LOS']"
   ]
  },
  {
   "cell_type": "code",
   "execution_count": 45,
   "id": "8e2adac1",
   "metadata": {},
   "outputs": [],
   "source": [
    "# X_train_sampled"
   ]
  },
  {
   "cell_type": "code",
   "execution_count": 52,
   "id": "e90a8402",
   "metadata": {},
   "outputs": [],
   "source": [
    "X_train_sampled = X_train_sampled.reset_index(drop=True)"
   ]
  },
  {
   "cell_type": "code",
   "execution_count": 47,
   "id": "0d12336d",
   "metadata": {},
   "outputs": [],
   "source": [
    "## X_train_sampled.drop('index', axis=1, inplace=True)\n",
    "## X_train_sampled"
   ]
  },
  {
   "cell_type": "code",
   "execution_count": 48,
   "id": "98c058da",
   "metadata": {},
   "outputs": [],
   "source": [
    "# X_train_sampled"
   ]
  },
  {
   "cell_type": "markdown",
   "id": "bdf3bf47",
   "metadata": {},
   "source": [
    "#### Plot `LOS` distribution"
   ]
  },
  {
   "cell_type": "code",
   "execution_count": 26,
   "id": "bd8d1228",
   "metadata": {},
   "outputs": [
    {
     "data": {
      "text/plain": [
       "<AxesSubplot:xlabel='LOS', ylabel='Density'>"
      ]
     },
     "execution_count": 26,
     "metadata": {},
     "output_type": "execute_result"
    },
    {
     "data": {
      "image/png": "[encoded data removed]",
      "text/plain": [
       "<Figure size 432x288 with 1 Axes>"
      ]
     },
     "metadata": {
      "needs_background": "light"
     },
     "output_type": "display_data"
    }
   ],
   "source": [
    "sb.kdeplot(y_train, label='Original',legend=True)\n",
    "# sb.kdeplot(X_train_sampled['LOS'], label='Sampled')"
   ]
  },
  {
   "cell_type": "markdown",
   "id": "c6f36052",
   "metadata": {},
   "source": [
    "## Defining a function for evaluting models"
   ]
  },
  {
   "cell_type": "markdown",
   "id": "ff326285",
   "metadata": {},
   "source": [
    "### Evaluation metrics cross validation"
   ]
  },
  {
   "cell_type": "code",
   "execution_count": 27,
   "id": "a3dad8e9",
   "metadata": {},
   "outputs": [],
   "source": [
    "scoring = ['neg_mean_squared_error','r2','neg_mean_absolute_error']#,'roc_auc']\n",
    "\n",
    "### Function to print metrics mean values\n",
    "def print_cv_metrics_mean(metrics):\n",
    "    print(f\"Mean MSE: {metrics['test_neg_mean_squared_error'].mean():.2f}\")\n",
    "    print(f\"Mean R2: {metrics['test_r2'].mean():.2f}\")\n",
    "#     print(f\"Mean RMSE: {sqrt(metrics['test_neg_mean_squared_error']*(-1)).mean():.2f}%\")\n",
    "    #print(f\"Mean F1 Score: {metrics['test_roc_auc'].mean():.2f}\")"
   ]
  },
  {
   "cell_type": "code",
   "execution_count": 28,
   "id": "daeb5ea2",
   "metadata": {},
   "outputs": [],
   "source": [
    "def evaluate_models (y_true, y_preds):\n",
    "    \"\"\"\n",
    "    Perform evaluation comparison on y_true vs y_preds \n",
    "    on a classification\n",
    "    \"\"\"\n",
    "    MSE = mean_squared_error(y_true,y_preds)\n",
    "    RMSE = mean_squared_error(y_true,y_preds,squared=False)\n",
    "    R2 = r2_score(y_true,y_preds)\n",
    "    MAE = mean_absolute_error(y_true,y_preds) \n",
    "    #auc = roc_auc_score(y_true,y_preds)\n",
    "    \n",
    "    # Building a metrics dictionary and save them for later reference\n",
    "    metric_dict = {\"MSE\": round(MSE,2),\n",
    "                  \"RMSE\": round(RMSE,2),\n",
    "                  \"R2\": round(R2,2),\n",
    "                  \"MAE\": round(MAE,2)}\n",
    "           \n",
    "    # Printing the metrics values\n",
    "    print(f\"MSE: {MSE:.2f}\")\n",
    "    print(f\"RMSE: {RMSE:.2f}\")\n",
    "    print(f\"R2: {R2:.2f}\")\n",
    "    print(f\"MAE: {MAE:.2f}\") \n",
    "    \n",
    "    return metric_dict\n",
    "    "
   ]
  },
  {
   "cell_type": "code",
   "execution_count": 29,
   "id": "a12d7668",
   "metadata": {},
   "outputs": [],
   "source": [
    "# Function Generating the ROC curve\n",
    "def plot_roc_curve(y_test,y_prob_preds):\n",
    "    fpr, tpr, t = roc_curve(y_test, y_prob_preds)\n",
    "    auc = roc_auc_score(y_test,y_prob_preds)\n",
    "    \n",
    "    # best threshold in ROC\n",
    "    gmeans = np.sqrt(tpr*(1-fpr))\n",
    "    ix = np.argmax(gmeans)\n",
    "\n",
    "    rcParams['figure.figsize'] = 5,5\n",
    "    plt.rcParams.update({'font.size': 14})\n",
    "\n",
    "    # Plot ROC curve\n",
    "    plt.plot(fpr,tpr,label=\"AUC=\"+str(round(auc,2)))\n",
    "    #plt.scatter(fpr[ix],tpr[ix],label='Optimal threshold {%0.5f}'%t[ix], marker='o', color='black')\n",
    "    plt.ylabel('True Positive Rate')\n",
    "    plt.xlabel('False Positive Rate')\n",
    "    plt.legend(loc=4)\n",
    "    plt.show()"
   ]
  },
  {
   "cell_type": "markdown",
   "id": "897a5b55",
   "metadata": {},
   "source": [
    "## Training model"
   ]
  },
  {
   "cell_type": "markdown",
   "id": "9b865a5a",
   "metadata": {},
   "source": [
    "### Trying classification with few models"
   ]
  },
  {
   "cell_type": "code",
   "execution_count": 48,
   "id": "d46dd064",
   "metadata": {},
   "outputs": [],
   "source": [
    "# Putting all the classifiers into a dictionary\n",
    "models = {\"Linear Regression\": LinearRegression(),\n",
    "#           \"Gaussain Naive Bayes\": GaussianNB(),\n",
    "         \"KNN\":KNeighborsClassifier(),\n",
    "         \"SVM\":SVR(),\n",
    "         \"Random Forest\": RandomForestRegressor()}\n",
    "\n",
    "# Built a function to fit and score the models\n",
    "def fit_and_score_models(models,X_train,y_train,X_test,y_test):\n",
    "    \"\"\"\n",
    "    Fits and evaluate given machine learning models.\n",
    "    models :  a dictionary of different Scikit-Learn machine learning models.\n",
    "    X_train :  training data (no labels)\n",
    "    X_test : testing data (no labels)\n",
    "    y_train : training labels\n",
    "    y_test : testing labels\n",
    "    \"\"\"\n",
    "    np.random.seed(42)\n",
    "    model_scores={}\n",
    "    \n",
    "    for name,model in models.items():\n",
    "        model.fit(X_train,y_train)\n",
    "        model_scores[name] = model.score(X_test,y_test)\n",
    "    return model_scores"
   ]
  },
  {
   "cell_type": "code",
   "execution_count": 49,
   "id": "1db1674d",
   "metadata": {},
   "outputs": [
    {
     "data": {
      "text/plain": [
       "{'Linear Regression': 0.1439746631455847,\n",
       " 'KNN': 0.4830917874396135,\n",
       " 'SVM': 0.03741429951753128,\n",
       " 'Random Forest': 0.13491050024187035}"
      ]
     },
     "execution_count": 49,
     "metadata": {},
     "output_type": "execute_result"
    }
   ],
   "source": [
    "np.random.seed(42)\n",
    "# # Shuffle the dataset\n",
    "# asthma_admission_data_shuffled = asthma_admission_data.sample(frac=1).reset_index(drop=True)\n",
    "\n",
    "# # Defining X and y\n",
    "# X = asthma_admission_data_shuffled.drop(\"LOS Group\",axis=1)\n",
    "# y = asthma_admission_data_shuffled[\"LOS Group\"]\n",
    "\n",
    "# Calling the above function\n",
    "# X_train,X_test,y_train,y_test = train_test_split(X,y,test_size=0.2)\n",
    "\n",
    "model_scores=fit_and_score_models(models=models,\n",
    "                     X_train=X_train,\n",
    "                     y_train=y_train,\n",
    "                     X_test=X_test, #X_val\n",
    "                     y_test=y_test) #y_val\n",
    "model_scores"
   ]
  },
  {
   "cell_type": "markdown",
   "id": "ab47a9fa",
   "metadata": {},
   "source": [
    "### SVM"
   ]
  },
  {
   "cell_type": "markdown",
   "id": "57a8d3a1",
   "metadata": {},
   "source": [
    "#### Baseline Model"
   ]
  },
  {
   "cell_type": "code",
   "execution_count": 30,
   "id": "2f692a64",
   "metadata": {},
   "outputs": [
    {
     "data": {
      "text/plain": [
       "{'fit_time': array([0.64933825, 0.55102324, 0.60623193, 0.57396483, 0.63225818]),\n",
       " 'score_time': array([0.31766486, 0.3012507 , 0.27405214, 0.28726459, 0.26426959]),\n",
       " 'test_neg_mean_squared_error': array([-6.60664805, -6.53160897, -7.38378345, -6.43076782, -7.17790397]),\n",
       " 'test_r2': array([0.06090485, 0.01226228, 0.03767628, 0.03802532, 0.0108531 ]),\n",
       " 'test_neg_mean_absolute_error': array([-1.49598692, -1.48794367, -1.56969522, -1.48953662, -1.52288137])}"
      ]
     },
     "execution_count": 30,
     "metadata": {},
     "output_type": "execute_result"
    }
   ],
   "source": [
    "np.random.seed(42)\n",
    "model_svm_baseline = SVR()\n",
    "\n",
    "pipe_svm = Pipeline(steps=[(\"preprocess\",preprocessor),\n",
    "                      (\"model\",model_svm_baseline)])\n",
    "\n",
    "# model_svm_baseline = TransformedTargetRegressor(regressor=SVR(), transformer=MinMaxScaler())\n",
    "# pipe = Pipeline(steps=[('sampler', SMOTE()),\n",
    "#                        ('model',model_svm_baseline),\n",
    "#                       ],\n",
    "#                 )\n",
    "cross_val_scores_svm = cross_validate(pipe_svm,X_train,y_train, cv=5, scoring=scoring, error_score='raise')\n",
    "\n",
    "# y_preds_svm_baseline = model_svm_baseline.predict(X_test)\n",
    "# model_metrics_svm_baseline = evaluate_models(y_test,y_preds_svm_baseline)\n",
    "\n",
    "cross_val_scores_svm"
   ]
  },
  {
   "cell_type": "code",
   "execution_count": 31,
   "id": "c1a15915",
   "metadata": {
    "scrolled": true
   },
   "outputs": [
    {
     "name": "stdout",
     "output_type": "stream",
     "text": [
      "Mean MSE: -6.83\n",
      "Mean R2: 0.03\n"
     ]
    }
   ],
   "source": [
    "print_cv_metrics_mean(cross_val_scores_svm)"
   ]
  },
  {
   "cell_type": "code",
   "execution_count": 32,
   "id": "f9b51211",
   "metadata": {},
   "outputs": [
    {
     "data": {
      "text/plain": [
       "{'C': 1.0,\n",
       " 'cache_size': 200,\n",
       " 'coef0': 0.0,\n",
       " 'degree': 3,\n",
       " 'epsilon': 0.1,\n",
       " 'gamma': 'scale',\n",
       " 'kernel': 'rbf',\n",
       " 'max_iter': -1,\n",
       " 'shrinking': True,\n",
       " 'tol': 0.001,\n",
       " 'verbose': False}"
      ]
     },
     "execution_count": 32,
     "metadata": {},
     "output_type": "execute_result"
    }
   ],
   "source": [
    "model_svm_baseline.get_params()"
   ]
  },
  {
   "cell_type": "markdown",
   "id": "5492989f",
   "metadata": {},
   "source": [
    "#### Tuning using RandomizedSearchCV"
   ]
  },
  {
   "cell_type": "code",
   "execution_count": 34,
   "id": "c55112c0",
   "metadata": {
    "scrolled": true
   },
   "outputs": [
    {
     "name": "stdout",
     "output_type": "stream",
     "text": [
      "Fitting 5 folds for each of 10 candidates, totalling 50 fits\n",
      "[CV] END model__C=1, model__degree=3, model__gamma=auto, model__kernel=rbf; total time=   0.5s\n",
      "[CV] END model__C=1, model__degree=3, model__gamma=auto, model__kernel=rbf; total time=   0.5s\n",
      "[CV] END model__C=1, model__degree=3, model__gamma=auto, model__kernel=rbf; total time=   0.5s\n",
      "[CV] END model__C=1, model__degree=3, model__gamma=auto, model__kernel=rbf; total time=   0.5s\n",
      "[CV] END model__C=1, model__degree=3, model__gamma=auto, model__kernel=rbf; total time=   0.5s\n",
      "[CV] END model__C=1, model__degree=3, model__gamma=scale, model__kernel=poly; total time=   0.3s\n",
      "[CV] END model__C=1, model__degree=3, model__gamma=scale, model__kernel=poly; total time=   0.3s\n",
      "[CV] END model__C=1, model__degree=3, model__gamma=scale, model__kernel=poly; total time=   0.4s\n",
      "[CV] END model__C=1, model__degree=3, model__gamma=scale, model__kernel=poly; total time=   0.4s\n",
      "[CV] END model__C=1, model__degree=3, model__gamma=scale, model__kernel=poly; total time=   0.3s\n",
      "[CV] END model__C=1, model__degree=2, model__gamma=scale, model__kernel=poly; total time=   0.3s\n",
      "[CV] END model__C=1, model__degree=2, model__gamma=scale, model__kernel=poly; total time=   0.3s\n",
      "[CV] END model__C=1, model__degree=2, model__gamma=scale, model__kernel=poly; total time=   0.3s\n",
      "[CV] END model__C=1, model__degree=2, model__gamma=scale, model__kernel=poly; total time=   0.3s\n",
      "[CV] END model__C=1, model__degree=2, model__gamma=scale, model__kernel=poly; total time=   0.3s\n",
      "[CV] END model__C=0.1, model__degree=2, model__gamma=auto, model__kernel=rbf; total time=   0.5s\n",
      "[CV] END model__C=0.1, model__degree=2, model__gamma=auto, model__kernel=rbf; total time=   0.5s\n",
      "[CV] END model__C=0.1, model__degree=2, model__gamma=auto, model__kernel=rbf; total time=   0.5s\n",
      "[CV] END model__C=0.1, model__degree=2, model__gamma=auto, model__kernel=rbf; total time=   0.5s\n",
      "[CV] END model__C=0.1, model__degree=2, model__gamma=auto, model__kernel=rbf; total time=   0.5s\n",
      "[CV] END model__C=0.1, model__degree=3, model__gamma=auto, model__kernel=rbf; total time=   0.5s\n",
      "[CV] END model__C=0.1, model__degree=3, model__gamma=auto, model__kernel=rbf; total time=   0.5s\n",
      "[CV] END model__C=0.1, model__degree=3, model__gamma=auto, model__kernel=rbf; total time=   0.5s\n",
      "[CV] END model__C=0.1, model__degree=3, model__gamma=auto, model__kernel=rbf; total time=   0.5s\n",
      "[CV] END model__C=0.1, model__degree=3, model__gamma=auto, model__kernel=rbf; total time=   0.5s\n",
      "[CV] END model__C=1, model__degree=2, model__gamma=scale, model__kernel=sigmoid; total time=   0.4s\n",
      "[CV] END model__C=1, model__degree=2, model__gamma=scale, model__kernel=sigmoid; total time=   0.5s\n",
      "[CV] END model__C=1, model__degree=2, model__gamma=scale, model__kernel=sigmoid; total time=   0.5s\n",
      "[CV] END model__C=1, model__degree=2, model__gamma=scale, model__kernel=sigmoid; total time=   0.5s\n",
      "[CV] END model__C=1, model__degree=2, model__gamma=scale, model__kernel=sigmoid; total time=   0.5s\n",
      "[CV] END model__C=1, model__degree=3, model__gamma=auto, model__kernel=poly; total time=   0.3s\n",
      "[CV] END model__C=1, model__degree=3, model__gamma=auto, model__kernel=poly; total time=   0.3s\n",
      "[CV] END model__C=1, model__degree=3, model__gamma=auto, model__kernel=poly; total time=   0.3s\n",
      "[CV] END model__C=1, model__degree=3, model__gamma=auto, model__kernel=poly; total time=   0.3s\n",
      "[CV] END model__C=1, model__degree=3, model__gamma=auto, model__kernel=poly; total time=   0.3s\n",
      "[CV] END model__C=0.1, model__degree=3, model__gamma=auto, model__kernel=poly; total time=   0.3s\n",
      "[CV] END model__C=0.1, model__degree=3, model__gamma=auto, model__kernel=poly; total time=   0.3s\n",
      "[CV] END model__C=0.1, model__degree=3, model__gamma=auto, model__kernel=poly; total time=   0.3s\n",
      "[CV] END model__C=0.1, model__degree=3, model__gamma=auto, model__kernel=poly; total time=   0.3s\n",
      "[CV] END model__C=0.1, model__degree=3, model__gamma=auto, model__kernel=poly; total time=   0.3s\n",
      "[CV] END model__C=0.1, model__degree=3, model__gamma=scale, model__kernel=sigmoid; total time=   0.5s\n",
      "[CV] END model__C=0.1, model__degree=3, model__gamma=scale, model__kernel=sigmoid; total time=   0.4s\n",
      "[CV] END model__C=0.1, model__degree=3, model__gamma=scale, model__kernel=sigmoid; total time=   0.5s\n",
      "[CV] END model__C=0.1, model__degree=3, model__gamma=scale, model__kernel=sigmoid; total time=   0.4s\n",
      "[CV] END model__C=0.1, model__degree=3, model__gamma=scale, model__kernel=sigmoid; total time=   0.4s\n",
      "[CV] END model__C=1, model__degree=2, model__gamma=auto, model__kernel=poly; total time=   0.3s\n",
      "[CV] END model__C=1, model__degree=2, model__gamma=auto, model__kernel=poly; total time=   0.3s\n",
      "[CV] END model__C=1, model__degree=2, model__gamma=auto, model__kernel=poly; total time=   0.3s\n",
      "[CV] END model__C=1, model__degree=2, model__gamma=auto, model__kernel=poly; total time=   0.3s\n",
      "[CV] END model__C=1, model__degree=2, model__gamma=auto, model__kernel=poly; total time=   0.3s\n"
     ]
    },
    {
     "data": {
      "text/html": [
       "<style>#sk-container-id-1 {color: black;background-color: white;}#sk-container-id-1 pre{padding: 0;}#sk-container-id-1 div.sk-toggleable {background-color: white;}#sk-container-id-1 label.sk-toggleable__label {cursor: pointer;display: block;width: 100%;margin-bottom: 0;padding: 0.3em;box-sizing: border-box;text-align: center;}#sk-container-id-1 label.sk-toggleable__label-arrow:before {content: \"▸\";float: left;margin-right: 0.25em;color: #696969;}#sk-container-id-1 label.sk-toggleable__label-arrow:hover:before {color: black;}#sk-container-id-1 div.sk-estimator:hover label.sk-toggleable__label-arrow:before {color: black;}#sk-container-id-1 div.sk-toggleable__content {max-height: 0;max-width: 0;overflow: hidden;text-align: left;background-color: #f0f8ff;}#sk-container-id-1 div.sk-toggleable__content pre {margin: 0.2em;color: black;border-radius: 0.25em;background-color: #f0f8ff;}#sk-container-id-1 input.sk-toggleable__control:checked~div.sk-toggleable__content {max-height: 200px;max-width: 100%;overflow: auto;}#sk-container-id-1 input.sk-toggleable__control:checked~label.sk-toggleable__label-arrow:before {content: \"▾\";}#sk-container-id-1 div.sk-estimator input.sk-toggleable__control:checked~label.sk-toggleable__label {background-color: #d4ebff;}#sk-container-id-1 div.sk-label input.sk-toggleable__control:checked~label.sk-toggleable__label {background-color: #d4ebff;}#sk-container-id-1 input.sk-hidden--visually {border: 0;clip: rect(1px 1px 1px 1px);clip: rect(1px, 1px, 1px, 1px);height: 1px;margin: -1px;overflow: hidden;padding: 0;position: absolute;width: 1px;}#sk-container-id-1 div.sk-estimator {font-family: monospace;background-color: #f0f8ff;border: 1px dotted black;border-radius: 0.25em;box-sizing: border-box;margin-bottom: 0.5em;}#sk-container-id-1 div.sk-estimator:hover {background-color: #d4ebff;}#sk-container-id-1 div.sk-parallel-item::after {content: \"\";width: 100%;border-bottom: 1px solid gray;flex-grow: 1;}#sk-container-id-1 div.sk-label:hover label.sk-toggleable__label {background-color: #d4ebff;}#sk-container-id-1 div.sk-serial::before {content: \"\";position: absolute;border-left: 1px solid gray;box-sizing: border-box;top: 0;bottom: 0;left: 50%;z-index: 0;}#sk-container-id-1 div.sk-serial {display: flex;flex-direction: column;align-items: center;background-color: white;padding-right: 0.2em;padding-left: 0.2em;position: relative;}#sk-container-id-1 div.sk-item {position: relative;z-index: 1;}#sk-container-id-1 div.sk-parallel {display: flex;align-items: stretch;justify-content: center;background-color: white;position: relative;}#sk-container-id-1 div.sk-item::before, #sk-container-id-1 div.sk-parallel-item::before {content: \"\";position: absolute;border-left: 1px solid gray;box-sizing: border-box;top: 0;bottom: 0;left: 50%;z-index: -1;}#sk-container-id-1 div.sk-parallel-item {display: flex;flex-direction: column;z-index: 1;position: relative;background-color: white;}#sk-container-id-1 div.sk-parallel-item:first-child::after {align-self: flex-end;width: 50%;}#sk-container-id-1 div.sk-parallel-item:last-child::after {align-self: flex-start;width: 50%;}#sk-container-id-1 div.sk-parallel-item:only-child::after {width: 0;}#sk-container-id-1 div.sk-dashed-wrapped {border: 1px dashed gray;margin: 0 0.4em 0.5em 0.4em;box-sizing: border-box;padding-bottom: 0.4em;background-color: white;}#sk-container-id-1 div.sk-label label {font-family: monospace;font-weight: bold;display: inline-block;line-height: 1.2em;}#sk-container-id-1 div.sk-label-container {text-align: center;}#sk-container-id-1 div.sk-container {/* jupyter's `normalize.less` sets `[hidden] { display: none; }` but bootstrap.min.css set `[hidden] { display: none !important; }` so we also need the `!important` here to be able to override the default hidden behavior on the sphinx rendered scikit-learn.org. See: https://github.com/scikit-learn/scikit-learn/issues/21755 */display: inline-block !important;position: relative;}#sk-container-id-1 div.sk-text-repr-fallback {display: none;}</style><div id=\"sk-container-id-1\" class=\"sk-top-container\"><div class=\"sk-text-repr-fallback\"><pre>RandomizedSearchCV(cv=5,\n",
       "                   estimator=Pipeline(steps=[(&#x27;preprocess&#x27;,\n",
       "                                              ColumnTransformer(remainder=&#x27;passthrough&#x27;,\n",
       "                                                                transformers=[(&#x27;categorical&#x27;,\n",
       "                                                                               OneHotEncoder(sparse=False),\n",
       "                                                                               [&#x27;Admit &#x27;\n",
       "                                                                                &#x27;Day &#x27;\n",
       "                                                                                &#x27;of &#x27;\n",
       "                                                                                &#x27;Week&#x27;,\n",
       "                                                                                &#x27;Diagnostic &#x27;\n",
       "                                                                                &#x27;Code&#x27;,\n",
       "                                                                                &#x27;Admit &#x27;\n",
       "                                                                                &#x27;Month&#x27;,\n",
       "                                                                                &#x27;Ethnicity &#x27;\n",
       "                                                                                &#x27;Group&#x27;,\n",
       "                                                                                &#x27;DHB &#x27;\n",
       "                                                                                &#x27;Group&#x27;]),\n",
       "                                                                              (&#x27;numerical&#x27;,\n",
       "                                                                               StandardScaler(),\n",
       "                                                                               [&#x27;Age&#x27;])])),\n",
       "                                             (&#x27;model&#x27;, SVR())]),\n",
       "                   param_distributions={&#x27;model__C&#x27;: [0.1, 1],\n",
       "                                        &#x27;model__degree&#x27;: [2, 3],\n",
       "                                        &#x27;model__gamma&#x27;: [&#x27;scale&#x27;, &#x27;auto&#x27;],\n",
       "                                        &#x27;model__kernel&#x27;: [&#x27;rbf&#x27;, &#x27;poly&#x27;,\n",
       "                                                          &#x27;sigmoid&#x27;]},\n",
       "                   verbose=2)</pre><b>In a Jupyter environment, please rerun this cell to show the HTML representation or trust the notebook. <br />On GitHub, the HTML representation is unable to render, please try loading this page with nbviewer.org.</b></div><div class=\"sk-container\" hidden><div class=\"sk-item sk-dashed-wrapped\"><div class=\"sk-label-container\"><div class=\"sk-label sk-toggleable\"><input class=\"sk-toggleable__control sk-hidden--visually\" id=\"sk-estimator-id-1\" type=\"checkbox\" ><label for=\"sk-estimator-id-1\" class=\"sk-toggleable__label sk-toggleable__label-arrow\">RandomizedSearchCV</label><div class=\"sk-toggleable__content\"><pre>RandomizedSearchCV(cv=5,\n",
       "                   estimator=Pipeline(steps=[(&#x27;preprocess&#x27;,\n",
       "                                              ColumnTransformer(remainder=&#x27;passthrough&#x27;,\n",
       "                                                                transformers=[(&#x27;categorical&#x27;,\n",
       "                                                                               OneHotEncoder(sparse=False),\n",
       "                                                                               [&#x27;Admit &#x27;\n",
       "                                                                                &#x27;Day &#x27;\n",
       "                                                                                &#x27;of &#x27;\n",
       "                                                                                &#x27;Week&#x27;,\n",
       "                                                                                &#x27;Diagnostic &#x27;\n",
       "                                                                                &#x27;Code&#x27;,\n",
       "                                                                                &#x27;Admit &#x27;\n",
       "                                                                                &#x27;Month&#x27;,\n",
       "                                                                                &#x27;Ethnicity &#x27;\n",
       "                                                                                &#x27;Group&#x27;,\n",
       "                                                                                &#x27;DHB &#x27;\n",
       "                                                                                &#x27;Group&#x27;]),\n",
       "                                                                              (&#x27;numerical&#x27;,\n",
       "                                                                               StandardScaler(),\n",
       "                                                                               [&#x27;Age&#x27;])])),\n",
       "                                             (&#x27;model&#x27;, SVR())]),\n",
       "                   param_distributions={&#x27;model__C&#x27;: [0.1, 1],\n",
       "                                        &#x27;model__degree&#x27;: [2, 3],\n",
       "                                        &#x27;model__gamma&#x27;: [&#x27;scale&#x27;, &#x27;auto&#x27;],\n",
       "                                        &#x27;model__kernel&#x27;: [&#x27;rbf&#x27;, &#x27;poly&#x27;,\n",
       "                                                          &#x27;sigmoid&#x27;]},\n",
       "                   verbose=2)</pre></div></div></div><div class=\"sk-parallel\"><div class=\"sk-parallel-item\"><div class=\"sk-item\"><div class=\"sk-label-container\"><div class=\"sk-label sk-toggleable\"><input class=\"sk-toggleable__control sk-hidden--visually\" id=\"sk-estimator-id-2\" type=\"checkbox\" ><label for=\"sk-estimator-id-2\" class=\"sk-toggleable__label sk-toggleable__label-arrow\">estimator: Pipeline</label><div class=\"sk-toggleable__content\"><pre>Pipeline(steps=[(&#x27;preprocess&#x27;,\n",
       "                 ColumnTransformer(remainder=&#x27;passthrough&#x27;,\n",
       "                                   transformers=[(&#x27;categorical&#x27;,\n",
       "                                                  OneHotEncoder(sparse=False),\n",
       "                                                  [&#x27;Admit Day of Week&#x27;,\n",
       "                                                   &#x27;Diagnostic Code&#x27;,\n",
       "                                                   &#x27;Admit Month&#x27;,\n",
       "                                                   &#x27;Ethnicity Group&#x27;,\n",
       "                                                   &#x27;DHB Group&#x27;]),\n",
       "                                                 (&#x27;numerical&#x27;, StandardScaler(),\n",
       "                                                  [&#x27;Age&#x27;])])),\n",
       "                (&#x27;model&#x27;, SVR())])</pre></div></div></div><div class=\"sk-serial\"><div class=\"sk-item\"><div class=\"sk-serial\"><div class=\"sk-item sk-dashed-wrapped\"><div class=\"sk-label-container\"><div class=\"sk-label sk-toggleable\"><input class=\"sk-toggleable__control sk-hidden--visually\" id=\"sk-estimator-id-3\" type=\"checkbox\" ><label for=\"sk-estimator-id-3\" class=\"sk-toggleable__label sk-toggleable__label-arrow\">preprocess: ColumnTransformer</label><div class=\"sk-toggleable__content\"><pre>ColumnTransformer(remainder=&#x27;passthrough&#x27;,\n",
       "                  transformers=[(&#x27;categorical&#x27;, OneHotEncoder(sparse=False),\n",
       "                                 [&#x27;Admit Day of Week&#x27;, &#x27;Diagnostic Code&#x27;,\n",
       "                                  &#x27;Admit Month&#x27;, &#x27;Ethnicity Group&#x27;,\n",
       "                                  &#x27;DHB Group&#x27;]),\n",
       "                                (&#x27;numerical&#x27;, StandardScaler(), [&#x27;Age&#x27;])])</pre></div></div></div><div class=\"sk-parallel\"><div class=\"sk-parallel-item\"><div class=\"sk-item\"><div class=\"sk-label-container\"><div class=\"sk-label sk-toggleable\"><input class=\"sk-toggleable__control sk-hidden--visually\" id=\"sk-estimator-id-4\" type=\"checkbox\" ><label for=\"sk-estimator-id-4\" class=\"sk-toggleable__label sk-toggleable__label-arrow\">categorical</label><div class=\"sk-toggleable__content\"><pre>[&#x27;Admit Day of Week&#x27;, &#x27;Diagnostic Code&#x27;, &#x27;Admit Month&#x27;, &#x27;Ethnicity Group&#x27;, &#x27;DHB Group&#x27;]</pre></div></div></div><div class=\"sk-serial\"><div class=\"sk-item\"><div class=\"sk-estimator sk-toggleable\"><input class=\"sk-toggleable__control sk-hidden--visually\" id=\"sk-estimator-id-5\" type=\"checkbox\" ><label for=\"sk-estimator-id-5\" class=\"sk-toggleable__label sk-toggleable__label-arrow\">OneHotEncoder</label><div class=\"sk-toggleable__content\"><pre>OneHotEncoder(sparse=False)</pre></div></div></div></div></div></div><div class=\"sk-parallel-item\"><div class=\"sk-item\"><div class=\"sk-label-container\"><div class=\"sk-label sk-toggleable\"><input class=\"sk-toggleable__control sk-hidden--visually\" id=\"sk-estimator-id-6\" type=\"checkbox\" ><label for=\"sk-estimator-id-6\" class=\"sk-toggleable__label sk-toggleable__label-arrow\">numerical</label><div class=\"sk-toggleable__content\"><pre>[&#x27;Age&#x27;]</pre></div></div></div><div class=\"sk-serial\"><div class=\"sk-item\"><div class=\"sk-estimator sk-toggleable\"><input class=\"sk-toggleable__control sk-hidden--visually\" id=\"sk-estimator-id-7\" type=\"checkbox\" ><label for=\"sk-estimator-id-7\" class=\"sk-toggleable__label sk-toggleable__label-arrow\">StandardScaler</label><div class=\"sk-toggleable__content\"><pre>StandardScaler()</pre></div></div></div></div></div></div><div class=\"sk-parallel-item\"><div class=\"sk-item\"><div class=\"sk-label-container\"><div class=\"sk-label sk-toggleable\"><input class=\"sk-toggleable__control sk-hidden--visually\" id=\"sk-estimator-id-8\" type=\"checkbox\" ><label for=\"sk-estimator-id-8\" class=\"sk-toggleable__label sk-toggleable__label-arrow\">remainder</label><div class=\"sk-toggleable__content\"><pre></pre></div></div></div><div class=\"sk-serial\"><div class=\"sk-item\"><div class=\"sk-estimator sk-toggleable\"><input class=\"sk-toggleable__control sk-hidden--visually\" id=\"sk-estimator-id-9\" type=\"checkbox\" ><label for=\"sk-estimator-id-9\" class=\"sk-toggleable__label sk-toggleable__label-arrow\">passthrough</label><div class=\"sk-toggleable__content\"><pre>passthrough</pre></div></div></div></div></div></div></div></div><div class=\"sk-item\"><div class=\"sk-estimator sk-toggleable\"><input class=\"sk-toggleable__control sk-hidden--visually\" id=\"sk-estimator-id-10\" type=\"checkbox\" ><label for=\"sk-estimator-id-10\" class=\"sk-toggleable__label sk-toggleable__label-arrow\">SVR</label><div class=\"sk-toggleable__content\"><pre>SVR()</pre></div></div></div></div></div></div></div></div></div></div></div></div>"
      ],
      "text/plain": [
       "RandomizedSearchCV(cv=5,\n",
       "                   estimator=Pipeline(steps=[('preprocess',\n",
       "                                              ColumnTransformer(remainder='passthrough',\n",
       "                                                                transformers=[('categorical',\n",
       "                                                                               OneHotEncoder(sparse=False),\n",
       "                                                                               ['Admit '\n",
       "                                                                                'Day '\n",
       "                                                                                'of '\n",
       "                                                                                'Week',\n",
       "                                                                                'Diagnostic '\n",
       "                                                                                'Code',\n",
       "                                                                                'Admit '\n",
       "                                                                                'Month',\n",
       "                                                                                'Ethnicity '\n",
       "                                                                                'Group',\n",
       "                                                                                'DHB '\n",
       "                                                                                'Group']),\n",
       "                                                                              ('numerical',\n",
       "                                                                               StandardScaler(),\n",
       "                                                                               ['Age'])])),\n",
       "                                             ('model', SVR())]),\n",
       "                   param_distributions={'model__C': [0.1, 1],\n",
       "                                        'model__degree': [2, 3],\n",
       "                                        'model__gamma': ['scale', 'auto'],\n",
       "                                        'model__kernel': ['rbf', 'poly',\n",
       "                                                          'sigmoid']},\n",
       "                   verbose=2)"
      ]
     },
     "execution_count": 34,
     "metadata": {},
     "output_type": "execute_result"
    }
   ],
   "source": [
    "np.random.seed(42)\n",
    "\n",
    "# X_train2,X_test2,y_train2,y_test2 = train_test_split(X,y,test_size=0.2)\n",
    "\n",
    "model_svm_3 = SVR()\n",
    "pipe_svm = Pipeline(steps=[(\"preprocess\",preprocessor),\n",
    "                      (\"model\",model_svm_3)])\n",
    "\n",
    "svm_grid = {\"model__C\":[0.1,1],\n",
    "            \"model__gamma\": ['scale','auto'],\n",
    "            \"model__kernel\": [\"rbf\",\"poly\",\"sigmoid\"],\n",
    "            \"model__degree\":[2,3]}\n",
    "\n",
    "\n",
    "rs_model_svm = RandomizedSearchCV(estimator=pipe_svm,\n",
    "                                 param_distributions=svm_grid,\n",
    "                                 n_iter =10,\n",
    "                                 cv=5,\n",
    "                                 verbose=2)\n",
    "# Training models\n",
    "rs_model_svm.fit(X_train,y_train)\n",
    "\n",
    "# cross_val_scores_svm_2 = cross_validate(rs_model_svm,X_train,y_train, cv=5, scoring=scoring)"
   ]
  },
  {
   "cell_type": "code",
   "execution_count": 35,
   "id": "44c51a4a",
   "metadata": {},
   "outputs": [
    {
     "data": {
      "text/plain": [
       "{'model__kernel': 'poly',\n",
       " 'model__gamma': 'scale',\n",
       " 'model__degree': 2,\n",
       " 'model__C': 1}"
      ]
     },
     "execution_count": 35,
     "metadata": {},
     "output_type": "execute_result"
    }
   ],
   "source": [
    "rs_model_svm.best_params_"
   ]
  },
  {
   "cell_type": "code",
   "execution_count": 36,
   "id": "05972a7c",
   "metadata": {},
   "outputs": [
    {
     "data": {
      "text/plain": [
       "0.03172989191184768"
      ]
     },
     "execution_count": 36,
     "metadata": {},
     "output_type": "execute_result"
    }
   ],
   "source": [
    "rs_model_svm.best_score_"
   ]
  },
  {
   "cell_type": "markdown",
   "id": "3c0dbc4c",
   "metadata": {},
   "source": [
    "#### Tuning using GridSearchCV"
   ]
  },
  {
   "cell_type": "code",
   "execution_count": 37,
   "id": "97b9a952",
   "metadata": {
    "scrolled": true
   },
   "outputs": [
    {
     "name": "stdout",
     "output_type": "stream",
     "text": [
      "Fitting 5 folds for each of 24 candidates, totalling 120 fits\n",
      "[CV] END model__C=0.1, model__degree=2, model__gamma=scale, model__kernel=rbf; total time=   0.5s\n",
      "[CV] END model__C=0.1, model__degree=2, model__gamma=scale, model__kernel=rbf; total time=   0.5s\n",
      "[CV] END model__C=0.1, model__degree=2, model__gamma=scale, model__kernel=rbf; total time=   0.5s\n",
      "[CV] END model__C=0.1, model__degree=2, model__gamma=scale, model__kernel=rbf; total time=   0.5s\n",
      "[CV] END model__C=0.1, model__degree=2, model__gamma=scale, model__kernel=rbf; total time=   0.6s\n",
      "[CV] END model__C=0.1, model__degree=2, model__gamma=scale, model__kernel=poly; total time=   0.3s\n",
      "[CV] END model__C=0.1, model__degree=2, model__gamma=scale, model__kernel=poly; total time=   0.3s\n",
      "[CV] END model__C=0.1, model__degree=2, model__gamma=scale, model__kernel=poly; total time=   0.3s\n",
      "[CV] END model__C=0.1, model__degree=2, model__gamma=scale, model__kernel=poly; total time=   0.3s\n",
      "[CV] END model__C=0.1, model__degree=2, model__gamma=scale, model__kernel=poly; total time=   0.3s\n",
      "[CV] END model__C=0.1, model__degree=2, model__gamma=scale, model__kernel=linear; total time=   0.3s\n",
      "[CV] END model__C=0.1, model__degree=2, model__gamma=scale, model__kernel=linear; total time=   0.3s\n",
      "[CV] END model__C=0.1, model__degree=2, model__gamma=scale, model__kernel=linear; total time=   0.3s\n",
      "[CV] END model__C=0.1, model__degree=2, model__gamma=scale, model__kernel=linear; total time=   0.3s\n",
      "[CV] END model__C=0.1, model__degree=2, model__gamma=scale, model__kernel=linear; total time=   0.3s\n",
      "[CV] END model__C=0.1, model__degree=2, model__gamma=auto, model__kernel=rbf; total time=   0.5s\n",
      "[CV] END model__C=0.1, model__degree=2, model__gamma=auto, model__kernel=rbf; total time=   0.5s\n",
      "[CV] END model__C=0.1, model__degree=2, model__gamma=auto, model__kernel=rbf; total time=   0.5s\n",
      "[CV] END model__C=0.1, model__degree=2, model__gamma=auto, model__kernel=rbf; total time=   0.5s\n",
      "[CV] END model__C=0.1, model__degree=2, model__gamma=auto, model__kernel=rbf; total time=   0.5s\n",
      "[CV] END model__C=0.1, model__degree=2, model__gamma=auto, model__kernel=poly; total time=   0.3s\n",
      "[CV] END model__C=0.1, model__degree=2, model__gamma=auto, model__kernel=poly; total time=   0.3s\n",
      "[CV] END model__C=0.1, model__degree=2, model__gamma=auto, model__kernel=poly; total time=   0.3s\n",
      "[CV] END model__C=0.1, model__degree=2, model__gamma=auto, model__kernel=poly; total time=   0.3s\n",
      "[CV] END model__C=0.1, model__degree=2, model__gamma=auto, model__kernel=poly; total time=   0.3s\n",
      "[CV] END model__C=0.1, model__degree=2, model__gamma=auto, model__kernel=linear; total time=   0.3s\n",
      "[CV] END model__C=0.1, model__degree=2, model__gamma=auto, model__kernel=linear; total time=   0.2s\n",
      "[CV] END model__C=0.1, model__degree=2, model__gamma=auto, model__kernel=linear; total time=   0.2s\n",
      "[CV] END model__C=0.1, model__degree=2, model__gamma=auto, model__kernel=linear; total time=   0.3s\n",
      "[CV] END model__C=0.1, model__degree=2, model__gamma=auto, model__kernel=linear; total time=   0.2s\n",
      "[CV] END model__C=0.1, model__degree=3, model__gamma=scale, model__kernel=rbf; total time=   0.5s\n",
      "[CV] END model__C=0.1, model__degree=3, model__gamma=scale, model__kernel=rbf; total time=   0.5s\n",
      "[CV] END model__C=0.1, model__degree=3, model__gamma=scale, model__kernel=rbf; total time=   0.5s\n",
      "[CV] END model__C=0.1, model__degree=3, model__gamma=scale, model__kernel=rbf; total time=   0.5s\n",
      "[CV] END model__C=0.1, model__degree=3, model__gamma=scale, model__kernel=rbf; total time=   0.5s\n",
      "[CV] END model__C=0.1, model__degree=3, model__gamma=scale, model__kernel=poly; total time=   0.2s\n",
      "[CV] END model__C=0.1, model__degree=3, model__gamma=scale, model__kernel=poly; total time=   0.3s\n",
      "[CV] END model__C=0.1, model__degree=3, model__gamma=scale, model__kernel=poly; total time=   0.3s\n",
      "[CV] END model__C=0.1, model__degree=3, model__gamma=scale, model__kernel=poly; total time=   0.3s\n",
      "[CV] END model__C=0.1, model__degree=3, model__gamma=scale, model__kernel=poly; total time=   0.3s\n",
      "[CV] END model__C=0.1, model__degree=3, model__gamma=scale, model__kernel=linear; total time=   0.3s\n",
      "[CV] END model__C=0.1, model__degree=3, model__gamma=scale, model__kernel=linear; total time=   0.2s\n",
      "[CV] END model__C=0.1, model__degree=3, model__gamma=scale, model__kernel=linear; total time=   0.3s\n",
      "[CV] END model__C=0.1, model__degree=3, model__gamma=scale, model__kernel=linear; total time=   0.3s\n",
      "[CV] END model__C=0.1, model__degree=3, model__gamma=scale, model__kernel=linear; total time=   0.2s\n",
      "[CV] END model__C=0.1, model__degree=3, model__gamma=auto, model__kernel=rbf; total time=   0.5s\n",
      "[CV] END model__C=0.1, model__degree=3, model__gamma=auto, model__kernel=rbf; total time=   0.4s\n",
      "[CV] END model__C=0.1, model__degree=3, model__gamma=auto, model__kernel=rbf; total time=   0.5s\n",
      "[CV] END model__C=0.1, model__degree=3, model__gamma=auto, model__kernel=rbf; total time=   0.5s\n",
      "[CV] END model__C=0.1, model__degree=3, model__gamma=auto, model__kernel=rbf; total time=   0.5s\n",
      "[CV] END model__C=0.1, model__degree=3, model__gamma=auto, model__kernel=poly; total time=   0.3s\n",
      "[CV] END model__C=0.1, model__degree=3, model__gamma=auto, model__kernel=poly; total time=   0.3s\n",
      "[CV] END model__C=0.1, model__degree=3, model__gamma=auto, model__kernel=poly; total time=   0.3s\n",
      "[CV] END model__C=0.1, model__degree=3, model__gamma=auto, model__kernel=poly; total time=   0.2s\n",
      "[CV] END model__C=0.1, model__degree=3, model__gamma=auto, model__kernel=poly; total time=   0.3s\n",
      "[CV] END model__C=0.1, model__degree=3, model__gamma=auto, model__kernel=linear; total time=   0.3s\n",
      "[CV] END model__C=0.1, model__degree=3, model__gamma=auto, model__kernel=linear; total time=   0.2s\n",
      "[CV] END model__C=0.1, model__degree=3, model__gamma=auto, model__kernel=linear; total time=   0.3s\n",
      "[CV] END model__C=0.1, model__degree=3, model__gamma=auto, model__kernel=linear; total time=   0.3s\n",
      "[CV] END model__C=0.1, model__degree=3, model__gamma=auto, model__kernel=linear; total time=   0.2s\n",
      "[CV] END model__C=1, model__degree=2, model__gamma=scale, model__kernel=rbf; total time=   0.5s\n",
      "[CV] END model__C=1, model__degree=2, model__gamma=scale, model__kernel=rbf; total time=   0.5s\n",
      "[CV] END model__C=1, model__degree=2, model__gamma=scale, model__kernel=rbf; total time=   0.5s\n",
      "[CV] END model__C=1, model__degree=2, model__gamma=scale, model__kernel=rbf; total time=   0.5s\n",
      "[CV] END model__C=1, model__degree=2, model__gamma=scale, model__kernel=rbf; total time=   0.5s\n",
      "[CV] END model__C=1, model__degree=2, model__gamma=scale, model__kernel=poly; total time=   0.3s\n",
      "[CV] END model__C=1, model__degree=2, model__gamma=scale, model__kernel=poly; total time=   0.3s\n",
      "[CV] END model__C=1, model__degree=2, model__gamma=scale, model__kernel=poly; total time=   0.3s\n",
      "[CV] END model__C=1, model__degree=2, model__gamma=scale, model__kernel=poly; total time=   0.3s\n",
      "[CV] END model__C=1, model__degree=2, model__gamma=scale, model__kernel=poly; total time=   0.3s\n",
      "[CV] END model__C=1, model__degree=2, model__gamma=scale, model__kernel=linear; total time=   0.4s\n",
      "[CV] END model__C=1, model__degree=2, model__gamma=scale, model__kernel=linear; total time=   0.4s\n",
      "[CV] END model__C=1, model__degree=2, model__gamma=scale, model__kernel=linear; total time=   0.4s\n",
      "[CV] END model__C=1, model__degree=2, model__gamma=scale, model__kernel=linear; total time=   0.4s\n",
      "[CV] END model__C=1, model__degree=2, model__gamma=scale, model__kernel=linear; total time=   0.4s\n",
      "[CV] END model__C=1, model__degree=2, model__gamma=auto, model__kernel=rbf; total time=   0.5s\n",
      "[CV] END model__C=1, model__degree=2, model__gamma=auto, model__kernel=rbf; total time=   0.6s\n",
      "[CV] END model__C=1, model__degree=2, model__gamma=auto, model__kernel=rbf; total time=   0.5s\n",
      "[CV] END model__C=1, model__degree=2, model__gamma=auto, model__kernel=rbf; total time=   0.5s\n",
      "[CV] END model__C=1, model__degree=2, model__gamma=auto, model__kernel=rbf; total time=   0.5s\n",
      "[CV] END model__C=1, model__degree=2, model__gamma=auto, model__kernel=poly; total time=   0.3s\n",
      "[CV] END model__C=1, model__degree=2, model__gamma=auto, model__kernel=poly; total time=   0.3s\n",
      "[CV] END model__C=1, model__degree=2, model__gamma=auto, model__kernel=poly; total time=   0.3s\n"
     ]
    },
    {
     "name": "stdout",
     "output_type": "stream",
     "text": [
      "[CV] END model__C=1, model__degree=2, model__gamma=auto, model__kernel=poly; total time=   0.3s\n",
      "[CV] END model__C=1, model__degree=2, model__gamma=auto, model__kernel=poly; total time=   0.3s\n",
      "[CV] END model__C=1, model__degree=2, model__gamma=auto, model__kernel=linear; total time=   0.4s\n",
      "[CV] END model__C=1, model__degree=2, model__gamma=auto, model__kernel=linear; total time=   0.4s\n",
      "[CV] END model__C=1, model__degree=2, model__gamma=auto, model__kernel=linear; total time=   0.4s\n",
      "[CV] END model__C=1, model__degree=2, model__gamma=auto, model__kernel=linear; total time=   0.4s\n",
      "[CV] END model__C=1, model__degree=2, model__gamma=auto, model__kernel=linear; total time=   0.4s\n",
      "[CV] END model__C=1, model__degree=3, model__gamma=scale, model__kernel=rbf; total time=   0.5s\n",
      "[CV] END model__C=1, model__degree=3, model__gamma=scale, model__kernel=rbf; total time=   0.6s\n",
      "[CV] END model__C=1, model__degree=3, model__gamma=scale, model__kernel=rbf; total time=   0.6s\n",
      "[CV] END model__C=1, model__degree=3, model__gamma=scale, model__kernel=rbf; total time=   0.6s\n",
      "[CV] END model__C=1, model__degree=3, model__gamma=scale, model__kernel=rbf; total time=   0.6s\n",
      "[CV] END model__C=1, model__degree=3, model__gamma=scale, model__kernel=poly; total time=   0.4s\n",
      "[CV] END model__C=1, model__degree=3, model__gamma=scale, model__kernel=poly; total time=   0.4s\n",
      "[CV] END model__C=1, model__degree=3, model__gamma=scale, model__kernel=poly; total time=   0.4s\n",
      "[CV] END model__C=1, model__degree=3, model__gamma=scale, model__kernel=poly; total time=   0.4s\n",
      "[CV] END model__C=1, model__degree=3, model__gamma=scale, model__kernel=poly; total time=   0.3s\n",
      "[CV] END model__C=1, model__degree=3, model__gamma=scale, model__kernel=linear; total time=   0.4s\n",
      "[CV] END model__C=1, model__degree=3, model__gamma=scale, model__kernel=linear; total time=   0.4s\n",
      "[CV] END model__C=1, model__degree=3, model__gamma=scale, model__kernel=linear; total time=   0.4s\n",
      "[CV] END model__C=1, model__degree=3, model__gamma=scale, model__kernel=linear; total time=   0.4s\n",
      "[CV] END model__C=1, model__degree=3, model__gamma=scale, model__kernel=linear; total time=   0.4s\n",
      "[CV] END model__C=1, model__degree=3, model__gamma=auto, model__kernel=rbf; total time=   0.5s\n",
      "[CV] END model__C=1, model__degree=3, model__gamma=auto, model__kernel=rbf; total time=   0.6s\n",
      "[CV] END model__C=1, model__degree=3, model__gamma=auto, model__kernel=rbf; total time=   0.5s\n",
      "[CV] END model__C=1, model__degree=3, model__gamma=auto, model__kernel=rbf; total time=   0.5s\n",
      "[CV] END model__C=1, model__degree=3, model__gamma=auto, model__kernel=rbf; total time=   0.5s\n",
      "[CV] END model__C=1, model__degree=3, model__gamma=auto, model__kernel=poly; total time=   0.3s\n",
      "[CV] END model__C=1, model__degree=3, model__gamma=auto, model__kernel=poly; total time=   0.3s\n",
      "[CV] END model__C=1, model__degree=3, model__gamma=auto, model__kernel=poly; total time=   0.3s\n",
      "[CV] END model__C=1, model__degree=3, model__gamma=auto, model__kernel=poly; total time=   0.3s\n",
      "[CV] END model__C=1, model__degree=3, model__gamma=auto, model__kernel=poly; total time=   0.3s\n",
      "[CV] END model__C=1, model__degree=3, model__gamma=auto, model__kernel=linear; total time=   0.4s\n",
      "[CV] END model__C=1, model__degree=3, model__gamma=auto, model__kernel=linear; total time=   0.4s\n",
      "[CV] END model__C=1, model__degree=3, model__gamma=auto, model__kernel=linear; total time=   0.4s\n",
      "[CV] END model__C=1, model__degree=3, model__gamma=auto, model__kernel=linear; total time=   0.4s\n",
      "[CV] END model__C=1, model__degree=3, model__gamma=auto, model__kernel=linear; total time=   0.4s\n"
     ]
    },
    {
     "data": {
      "text/html": [
       "<style>#sk-container-id-2 {color: black;background-color: white;}#sk-container-id-2 pre{padding: 0;}#sk-container-id-2 div.sk-toggleable {background-color: white;}#sk-container-id-2 label.sk-toggleable__label {cursor: pointer;display: block;width: 100%;margin-bottom: 0;padding: 0.3em;box-sizing: border-box;text-align: center;}#sk-container-id-2 label.sk-toggleable__label-arrow:before {content: \"▸\";float: left;margin-right: 0.25em;color: #696969;}#sk-container-id-2 label.sk-toggleable__label-arrow:hover:before {color: black;}#sk-container-id-2 div.sk-estimator:hover label.sk-toggleable__label-arrow:before {color: black;}#sk-container-id-2 div.sk-toggleable__content {max-height: 0;max-width: 0;overflow: hidden;text-align: left;background-color: #f0f8ff;}#sk-container-id-2 div.sk-toggleable__content pre {margin: 0.2em;color: black;border-radius: 0.25em;background-color: #f0f8ff;}#sk-container-id-2 input.sk-toggleable__control:checked~div.sk-toggleable__content {max-height: 200px;max-width: 100%;overflow: auto;}#sk-container-id-2 input.sk-toggleable__control:checked~label.sk-toggleable__label-arrow:before {content: \"▾\";}#sk-container-id-2 div.sk-estimator input.sk-toggleable__control:checked~label.sk-toggleable__label {background-color: #d4ebff;}#sk-container-id-2 div.sk-label input.sk-toggleable__control:checked~label.sk-toggleable__label {background-color: #d4ebff;}#sk-container-id-2 input.sk-hidden--visually {border: 0;clip: rect(1px 1px 1px 1px);clip: rect(1px, 1px, 1px, 1px);height: 1px;margin: -1px;overflow: hidden;padding: 0;position: absolute;width: 1px;}#sk-container-id-2 div.sk-estimator {font-family: monospace;background-color: #f0f8ff;border: 1px dotted black;border-radius: 0.25em;box-sizing: border-box;margin-bottom: 0.5em;}#sk-container-id-2 div.sk-estimator:hover {background-color: #d4ebff;}#sk-container-id-2 div.sk-parallel-item::after {content: \"\";width: 100%;border-bottom: 1px solid gray;flex-grow: 1;}#sk-container-id-2 div.sk-label:hover label.sk-toggleable__label {background-color: #d4ebff;}#sk-container-id-2 div.sk-serial::before {content: \"\";position: absolute;border-left: 1px solid gray;box-sizing: border-box;top: 0;bottom: 0;left: 50%;z-index: 0;}#sk-container-id-2 div.sk-serial {display: flex;flex-direction: column;align-items: center;background-color: white;padding-right: 0.2em;padding-left: 0.2em;position: relative;}#sk-container-id-2 div.sk-item {position: relative;z-index: 1;}#sk-container-id-2 div.sk-parallel {display: flex;align-items: stretch;justify-content: center;background-color: white;position: relative;}#sk-container-id-2 div.sk-item::before, #sk-container-id-2 div.sk-parallel-item::before {content: \"\";position: absolute;border-left: 1px solid gray;box-sizing: border-box;top: 0;bottom: 0;left: 50%;z-index: -1;}#sk-container-id-2 div.sk-parallel-item {display: flex;flex-direction: column;z-index: 1;position: relative;background-color: white;}#sk-container-id-2 div.sk-parallel-item:first-child::after {align-self: flex-end;width: 50%;}#sk-container-id-2 div.sk-parallel-item:last-child::after {align-self: flex-start;width: 50%;}#sk-container-id-2 div.sk-parallel-item:only-child::after {width: 0;}#sk-container-id-2 div.sk-dashed-wrapped {border: 1px dashed gray;margin: 0 0.4em 0.5em 0.4em;box-sizing: border-box;padding-bottom: 0.4em;background-color: white;}#sk-container-id-2 div.sk-label label {font-family: monospace;font-weight: bold;display: inline-block;line-height: 1.2em;}#sk-container-id-2 div.sk-label-container {text-align: center;}#sk-container-id-2 div.sk-container {/* jupyter's `normalize.less` sets `[hidden] { display: none; }` but bootstrap.min.css set `[hidden] { display: none !important; }` so we also need the `!important` here to be able to override the default hidden behavior on the sphinx rendered scikit-learn.org. See: https://github.com/scikit-learn/scikit-learn/issues/21755 */display: inline-block !important;position: relative;}#sk-container-id-2 div.sk-text-repr-fallback {display: none;}</style><div id=\"sk-container-id-2\" class=\"sk-top-container\"><div class=\"sk-text-repr-fallback\"><pre>GridSearchCV(cv=5,\n",
       "             estimator=Pipeline(steps=[(&#x27;preprocess&#x27;,\n",
       "                                        ColumnTransformer(remainder=&#x27;passthrough&#x27;,\n",
       "                                                          transformers=[(&#x27;categorical&#x27;,\n",
       "                                                                         OneHotEncoder(sparse=False),\n",
       "                                                                         [&#x27;Admit &#x27;\n",
       "                                                                          &#x27;Day &#x27;\n",
       "                                                                          &#x27;of &#x27;\n",
       "                                                                          &#x27;Week&#x27;,\n",
       "                                                                          &#x27;Diagnostic &#x27;\n",
       "                                                                          &#x27;Code&#x27;,\n",
       "                                                                          &#x27;Admit &#x27;\n",
       "                                                                          &#x27;Month&#x27;,\n",
       "                                                                          &#x27;Ethnicity &#x27;\n",
       "                                                                          &#x27;Group&#x27;,\n",
       "                                                                          &#x27;DHB &#x27;\n",
       "                                                                          &#x27;Group&#x27;]),\n",
       "                                                                        (&#x27;numerical&#x27;,\n",
       "                                                                         StandardScaler(),\n",
       "                                                                         [&#x27;Age&#x27;])])),\n",
       "                                       (&#x27;model&#x27;, SVR())]),\n",
       "             param_grid={&#x27;model__C&#x27;: [0.1, 1], &#x27;model__degree&#x27;: [2, 3],\n",
       "                         &#x27;model__gamma&#x27;: [&#x27;scale&#x27;, &#x27;auto&#x27;],\n",
       "                         &#x27;model__kernel&#x27;: [&#x27;rbf&#x27;, &#x27;poly&#x27;, &#x27;linear&#x27;]},\n",
       "             verbose=2)</pre><b>In a Jupyter environment, please rerun this cell to show the HTML representation or trust the notebook. <br />On GitHub, the HTML representation is unable to render, please try loading this page with nbviewer.org.</b></div><div class=\"sk-container\" hidden><div class=\"sk-item sk-dashed-wrapped\"><div class=\"sk-label-container\"><div class=\"sk-label sk-toggleable\"><input class=\"sk-toggleable__control sk-hidden--visually\" id=\"sk-estimator-id-11\" type=\"checkbox\" ><label for=\"sk-estimator-id-11\" class=\"sk-toggleable__label sk-toggleable__label-arrow\">GridSearchCV</label><div class=\"sk-toggleable__content\"><pre>GridSearchCV(cv=5,\n",
       "             estimator=Pipeline(steps=[(&#x27;preprocess&#x27;,\n",
       "                                        ColumnTransformer(remainder=&#x27;passthrough&#x27;,\n",
       "                                                          transformers=[(&#x27;categorical&#x27;,\n",
       "                                                                         OneHotEncoder(sparse=False),\n",
       "                                                                         [&#x27;Admit &#x27;\n",
       "                                                                          &#x27;Day &#x27;\n",
       "                                                                          &#x27;of &#x27;\n",
       "                                                                          &#x27;Week&#x27;,\n",
       "                                                                          &#x27;Diagnostic &#x27;\n",
       "                                                                          &#x27;Code&#x27;,\n",
       "                                                                          &#x27;Admit &#x27;\n",
       "                                                                          &#x27;Month&#x27;,\n",
       "                                                                          &#x27;Ethnicity &#x27;\n",
       "                                                                          &#x27;Group&#x27;,\n",
       "                                                                          &#x27;DHB &#x27;\n",
       "                                                                          &#x27;Group&#x27;]),\n",
       "                                                                        (&#x27;numerical&#x27;,\n",
       "                                                                         StandardScaler(),\n",
       "                                                                         [&#x27;Age&#x27;])])),\n",
       "                                       (&#x27;model&#x27;, SVR())]),\n",
       "             param_grid={&#x27;model__C&#x27;: [0.1, 1], &#x27;model__degree&#x27;: [2, 3],\n",
       "                         &#x27;model__gamma&#x27;: [&#x27;scale&#x27;, &#x27;auto&#x27;],\n",
       "                         &#x27;model__kernel&#x27;: [&#x27;rbf&#x27;, &#x27;poly&#x27;, &#x27;linear&#x27;]},\n",
       "             verbose=2)</pre></div></div></div><div class=\"sk-parallel\"><div class=\"sk-parallel-item\"><div class=\"sk-item\"><div class=\"sk-label-container\"><div class=\"sk-label sk-toggleable\"><input class=\"sk-toggleable__control sk-hidden--visually\" id=\"sk-estimator-id-12\" type=\"checkbox\" ><label for=\"sk-estimator-id-12\" class=\"sk-toggleable__label sk-toggleable__label-arrow\">estimator: Pipeline</label><div class=\"sk-toggleable__content\"><pre>Pipeline(steps=[(&#x27;preprocess&#x27;,\n",
       "                 ColumnTransformer(remainder=&#x27;passthrough&#x27;,\n",
       "                                   transformers=[(&#x27;categorical&#x27;,\n",
       "                                                  OneHotEncoder(sparse=False),\n",
       "                                                  [&#x27;Admit Day of Week&#x27;,\n",
       "                                                   &#x27;Diagnostic Code&#x27;,\n",
       "                                                   &#x27;Admit Month&#x27;,\n",
       "                                                   &#x27;Ethnicity Group&#x27;,\n",
       "                                                   &#x27;DHB Group&#x27;]),\n",
       "                                                 (&#x27;numerical&#x27;, StandardScaler(),\n",
       "                                                  [&#x27;Age&#x27;])])),\n",
       "                (&#x27;model&#x27;, SVR())])</pre></div></div></div><div class=\"sk-serial\"><div class=\"sk-item\"><div class=\"sk-serial\"><div class=\"sk-item sk-dashed-wrapped\"><div class=\"sk-label-container\"><div class=\"sk-label sk-toggleable\"><input class=\"sk-toggleable__control sk-hidden--visually\" id=\"sk-estimator-id-13\" type=\"checkbox\" ><label for=\"sk-estimator-id-13\" class=\"sk-toggleable__label sk-toggleable__label-arrow\">preprocess: ColumnTransformer</label><div class=\"sk-toggleable__content\"><pre>ColumnTransformer(remainder=&#x27;passthrough&#x27;,\n",
       "                  transformers=[(&#x27;categorical&#x27;, OneHotEncoder(sparse=False),\n",
       "                                 [&#x27;Admit Day of Week&#x27;, &#x27;Diagnostic Code&#x27;,\n",
       "                                  &#x27;Admit Month&#x27;, &#x27;Ethnicity Group&#x27;,\n",
       "                                  &#x27;DHB Group&#x27;]),\n",
       "                                (&#x27;numerical&#x27;, StandardScaler(), [&#x27;Age&#x27;])])</pre></div></div></div><div class=\"sk-parallel\"><div class=\"sk-parallel-item\"><div class=\"sk-item\"><div class=\"sk-label-container\"><div class=\"sk-label sk-toggleable\"><input class=\"sk-toggleable__control sk-hidden--visually\" id=\"sk-estimator-id-14\" type=\"checkbox\" ><label for=\"sk-estimator-id-14\" class=\"sk-toggleable__label sk-toggleable__label-arrow\">categorical</label><div class=\"sk-toggleable__content\"><pre>[&#x27;Admit Day of Week&#x27;, &#x27;Diagnostic Code&#x27;, &#x27;Admit Month&#x27;, &#x27;Ethnicity Group&#x27;, &#x27;DHB Group&#x27;]</pre></div></div></div><div class=\"sk-serial\"><div class=\"sk-item\"><div class=\"sk-estimator sk-toggleable\"><input class=\"sk-toggleable__control sk-hidden--visually\" id=\"sk-estimator-id-15\" type=\"checkbox\" ><label for=\"sk-estimator-id-15\" class=\"sk-toggleable__label sk-toggleable__label-arrow\">OneHotEncoder</label><div class=\"sk-toggleable__content\"><pre>OneHotEncoder(sparse=False)</pre></div></div></div></div></div></div><div class=\"sk-parallel-item\"><div class=\"sk-item\"><div class=\"sk-label-container\"><div class=\"sk-label sk-toggleable\"><input class=\"sk-toggleable__control sk-hidden--visually\" id=\"sk-estimator-id-16\" type=\"checkbox\" ><label for=\"sk-estimator-id-16\" class=\"sk-toggleable__label sk-toggleable__label-arrow\">numerical</label><div class=\"sk-toggleable__content\"><pre>[&#x27;Age&#x27;]</pre></div></div></div><div class=\"sk-serial\"><div class=\"sk-item\"><div class=\"sk-estimator sk-toggleable\"><input class=\"sk-toggleable__control sk-hidden--visually\" id=\"sk-estimator-id-17\" type=\"checkbox\" ><label for=\"sk-estimator-id-17\" class=\"sk-toggleable__label sk-toggleable__label-arrow\">StandardScaler</label><div class=\"sk-toggleable__content\"><pre>StandardScaler()</pre></div></div></div></div></div></div><div class=\"sk-parallel-item\"><div class=\"sk-item\"><div class=\"sk-label-container\"><div class=\"sk-label sk-toggleable\"><input class=\"sk-toggleable__control sk-hidden--visually\" id=\"sk-estimator-id-18\" type=\"checkbox\" ><label for=\"sk-estimator-id-18\" class=\"sk-toggleable__label sk-toggleable__label-arrow\">remainder</label><div class=\"sk-toggleable__content\"><pre></pre></div></div></div><div class=\"sk-serial\"><div class=\"sk-item\"><div class=\"sk-estimator sk-toggleable\"><input class=\"sk-toggleable__control sk-hidden--visually\" id=\"sk-estimator-id-19\" type=\"checkbox\" ><label for=\"sk-estimator-id-19\" class=\"sk-toggleable__label sk-toggleable__label-arrow\">passthrough</label><div class=\"sk-toggleable__content\"><pre>passthrough</pre></div></div></div></div></div></div></div></div><div class=\"sk-item\"><div class=\"sk-estimator sk-toggleable\"><input class=\"sk-toggleable__control sk-hidden--visually\" id=\"sk-estimator-id-20\" type=\"checkbox\" ><label for=\"sk-estimator-id-20\" class=\"sk-toggleable__label sk-toggleable__label-arrow\">SVR</label><div class=\"sk-toggleable__content\"><pre>SVR()</pre></div></div></div></div></div></div></div></div></div></div></div></div>"
      ],
      "text/plain": [
       "GridSearchCV(cv=5,\n",
       "             estimator=Pipeline(steps=[('preprocess',\n",
       "                                        ColumnTransformer(remainder='passthrough',\n",
       "                                                          transformers=[('categorical',\n",
       "                                                                         OneHotEncoder(sparse=False),\n",
       "                                                                         ['Admit '\n",
       "                                                                          'Day '\n",
       "                                                                          'of '\n",
       "                                                                          'Week',\n",
       "                                                                          'Diagnostic '\n",
       "                                                                          'Code',\n",
       "                                                                          'Admit '\n",
       "                                                                          'Month',\n",
       "                                                                          'Ethnicity '\n",
       "                                                                          'Group',\n",
       "                                                                          'DHB '\n",
       "                                                                          'Group']),\n",
       "                                                                        ('numerical',\n",
       "                                                                         StandardScaler(),\n",
       "                                                                         ['Age'])])),\n",
       "                                       ('model', SVR())]),\n",
       "             param_grid={'model__C': [0.1, 1], 'model__degree': [2, 3],\n",
       "                         'model__gamma': ['scale', 'auto'],\n",
       "                         'model__kernel': ['rbf', 'poly', 'linear']},\n",
       "             verbose=2)"
      ]
     },
     "execution_count": 37,
     "metadata": {},
     "output_type": "execute_result"
    }
   ],
   "source": [
    "np.random.seed(42)\n",
    "model_svm_4 = SVR()\n",
    "pipe_svm = Pipeline(steps=[(\"preprocess\",preprocessor),\n",
    "                      (\"model\",model_svm_3)])\n",
    "\n",
    "\n",
    "svm_gs_grid = {\"model__C\":[0.1,1],\n",
    "            \"model__gamma\": ['scale','auto'],\n",
    "            \"model__kernel\": [\"rbf\",\"poly\",\"linear\"],\n",
    "            \"model__degree\":[2,3]}\n",
    "\n",
    "# X_train2,X_test2,y_train2,y_test2 = train_test_split(X,y,test_size=0.2)\n",
    "\n",
    "gs_model_svm = GridSearchCV(estimator=pipe_svm,\n",
    "                                 param_grid=svm_gs_grid,\n",
    "                                 cv=5,\n",
    "                                 verbose=2)\n",
    "# Training models\n",
    "gs_model_svm.fit(X_train,y_train)"
   ]
  },
  {
   "cell_type": "code",
   "execution_count": 38,
   "id": "4fd4d227",
   "metadata": {},
   "outputs": [
    {
     "data": {
      "text/plain": [
       "{'model__C': 1,\n",
       " 'model__degree': 2,\n",
       " 'model__gamma': 'scale',\n",
       " 'model__kernel': 'rbf'}"
      ]
     },
     "execution_count": 38,
     "metadata": {},
     "output_type": "execute_result"
    }
   ],
   "source": [
    "gs_model_svm.best_params_"
   ]
  },
  {
   "cell_type": "code",
   "execution_count": 39,
   "id": "00d1d730",
   "metadata": {},
   "outputs": [
    {
     "data": {
      "text/plain": [
       "0.0319443627950821"
      ]
     },
     "execution_count": 39,
     "metadata": {},
     "output_type": "execute_result"
    }
   ],
   "source": [
    "gs_model_svm.best_score_"
   ]
  },
  {
   "cell_type": "markdown",
   "id": "0b87c5ff",
   "metadata": {},
   "source": [
    "#### Re-training the best model"
   ]
  },
  {
   "cell_type": "code",
   "execution_count": 86,
   "id": "f7f999fc",
   "metadata": {
    "scrolled": true
   },
   "outputs": [
    {
     "name": "stdout",
     "output_type": "stream",
     "text": [
      "MSE: 7.03\n",
      "RMSE: 2.65\n",
      "R2: 0.05\n",
      "MAE: 1.50\n"
     ]
    },
    {
     "data": {
      "text/plain": [
       "{'MSE': 7.03, 'RMSE': 2.65, 'R2': 0.05, 'MAE': 1.5}"
      ]
     },
     "execution_count": 86,
     "metadata": {},
     "output_type": "execute_result"
    }
   ],
   "source": [
    "np.random.seed(42)\n",
    "\n",
    "final_model_svm = SVR(C = 1,\n",
    "                     degree = 2,\n",
    "                     gamma = \"scale\",\n",
    "                     kernel = \"rbf\")\n",
    "\n",
    "pipe_svm_final = Pipeline(steps=[(\"preprocess\",preprocessor),\n",
    "                      (\"model\",final_model_svm)])\n",
    "\n",
    "pipe_svm_final.fit(X_train,y_train)\n",
    "final_y_preds_svm = pipe_svm_final.predict(X_test)\n",
    "final_model_metrics = evaluate_models(y_test,final_y_preds_svm)\n",
    "final_model_metrics\n",
    "\n",
    "# final_y_preds_proba_svm = final_model_svm.predict_proba(X_test)\n",
    "# plot_roc_curve(y_test,final_y_preds_proba_svm[:,1])\n",
    "# cross_val_scores_svm_2 = cross_validate(final_model_svm,X,y, cv=5, scoring=scoring)"
   ]
  },
  {
   "cell_type": "markdown",
   "id": "a67ce7c5",
   "metadata": {},
   "source": [
    "### RandomForestRegressor"
   ]
  },
  {
   "cell_type": "markdown",
   "id": "1669cb34",
   "metadata": {},
   "source": [
    "#### Baseline Model"
   ]
  },
  {
   "cell_type": "code",
   "execution_count": 41,
   "id": "bbed3c76",
   "metadata": {
    "scrolled": true
   },
   "outputs": [
    {
     "data": {
      "text/plain": [
       "{'fit_time': array([0.78900743, 0.73131847, 0.69957137, 0.6841743 , 0.78052807]),\n",
       " 'score_time': array([0.01600027, 0.01698852, 0.02492404, 0.01600051, 0.01599836]),\n",
       " 'test_neg_mean_squared_error': array([-6.37038119, -6.26878408, -6.98975008, -6.97573907, -7.39373818]),\n",
       " 'test_r2': array([ 0.09448875,  0.05200777,  0.08903039, -0.0434966 , -0.01888981]),\n",
       " 'test_neg_mean_absolute_error': array([-1.72379927, -1.71590658, -1.75514413, -1.80950361, -1.81894666])}"
      ]
     },
     "execution_count": 41,
     "metadata": {},
     "output_type": "execute_result"
    }
   ],
   "source": [
    "np.random.seed(42)\n",
    "model_rf_baseline = RandomForestRegressor()\n",
    "# Creating pipeline\n",
    "pipe = Pipeline(steps=[(\"preprocess\",preprocessor),\n",
    "                      (\"model\",model_rf_baseline)])\n",
    "\n",
    "# model_rf_baseline.fit(X_train,y_train)\n",
    "\n",
    "# y_preds_rf_baseline = model_rf_baseline.predict(X_val)\n",
    "\n",
    "# model_metrics_rf_baseline = evaluate_models(y_val,y_preds_rf_baseline)\n",
    "\n",
    "cross_val_scores_rf = cross_validate(pipe,X_train,y_train, cv=5, scoring=scoring, error_score=\"raise\")\n",
    "cross_val_scores_rf"
   ]
  },
  {
   "cell_type": "code",
   "execution_count": 42,
   "id": "da2dfb6d",
   "metadata": {
    "scrolled": false
   },
   "outputs": [
    {
     "data": {
      "text/plain": [
       "{'bootstrap': True,\n",
       " 'ccp_alpha': 0.0,\n",
       " 'criterion': 'squared_error',\n",
       " 'max_depth': None,\n",
       " 'max_features': 1.0,\n",
       " 'max_leaf_nodes': None,\n",
       " 'max_samples': None,\n",
       " 'min_impurity_decrease': 0.0,\n",
       " 'min_samples_leaf': 1,\n",
       " 'min_samples_split': 2,\n",
       " 'min_weight_fraction_leaf': 0.0,\n",
       " 'n_estimators': 100,\n",
       " 'n_jobs': None,\n",
       " 'oob_score': False,\n",
       " 'random_state': None,\n",
       " 'verbose': 0,\n",
       " 'warm_start': False}"
      ]
     },
     "execution_count": 42,
     "metadata": {},
     "output_type": "execute_result"
    }
   ],
   "source": [
    "model_rf_baseline.get_params()"
   ]
  },
  {
   "cell_type": "markdown",
   "id": "b92e0675",
   "metadata": {},
   "source": [
    "#### Hyperparameter tuning by Hand"
   ]
  },
  {
   "cell_type": "code",
   "execution_count": 16,
   "id": "d9ccecc9",
   "metadata": {
    "scrolled": true
   },
   "outputs": [
    {
     "name": "stdout",
     "output_type": "stream",
     "text": [
      "Mean Accuracy: 61.80%\n",
      "Mean Precision: 64.64%\n",
      "Mean Recall: 74.35%\n",
      "Mean F1 Score: 0.69\n",
      "Mean ROC-AUC: 0.65\n"
     ]
    }
   ],
   "source": [
    "np.random.seed(42)\n",
    "model_rf_2 = RandomForestClassifier(n_estimators=1000,min_samples_leaf=2, min_samples_split=4,max_features='auto')\n",
    "\n",
    "# model_rf_2.fit(X_train,y_train)\n",
    "\n",
    "# y_preds_rf_2 = model_rf_2.predict(X_val)\n",
    "\n",
    "# model_metrics_rf_2 = evaluate_models(y_val,y_preds_rf_2)\n",
    "\n",
    "cross_val_scores_rf_2 = cross_validate(model_rf_2,X_train,y_train, cv=5, scoring=scoring)\n",
    "print_cv_metrics_mean(cross_val_scores_rf_2)"
   ]
  },
  {
   "cell_type": "markdown",
   "id": "5fa3596c",
   "metadata": {},
   "source": [
    "Mean Accuracy: 59.08%\n",
    "Mean Precision: 63.20%\n",
    "Mean Recall: 70.06%\n",
    "Mean F1 Score: 0.66\n",
    "Mean ROC-AUC: 0.62"
   ]
  },
  {
   "cell_type": "markdown",
   "id": "e15e044d",
   "metadata": {},
   "source": [
    "#### Hyperparameter tuning using RandomizedSearchCV"
   ]
  },
  {
   "cell_type": "code",
   "execution_count": 45,
   "id": "5a32a956",
   "metadata": {
    "scrolled": true
   },
   "outputs": [
    {
     "name": "stdout",
     "output_type": "stream",
     "text": [
      "Fitting 5 folds for each of 10 candidates, totalling 50 fits\n",
      "[CV] END model__max_features=1, model__min_samples_leaf=1, model__min_samples_split=4, model__n_estimators=100; total time=   1.7s\n",
      "[CV] END model__max_features=1, model__min_samples_leaf=1, model__min_samples_split=4, model__n_estimators=100; total time=   0.1s\n",
      "[CV] END model__max_features=1, model__min_samples_leaf=1, model__min_samples_split=4, model__n_estimators=100; total time=   0.1s\n",
      "[CV] END model__max_features=1, model__min_samples_leaf=1, model__min_samples_split=4, model__n_estimators=100; total time=   0.1s\n",
      "[CV] END model__max_features=1, model__min_samples_leaf=1, model__min_samples_split=4, model__n_estimators=100; total time=   0.1s\n",
      "[CV] END model__max_features=sqrt, model__min_samples_leaf=4, model__min_samples_split=2, model__n_estimators=500; total time=   0.5s\n",
      "[CV] END model__max_features=sqrt, model__min_samples_leaf=4, model__min_samples_split=2, model__n_estimators=500; total time=   0.5s\n",
      "[CV] END model__max_features=sqrt, model__min_samples_leaf=4, model__min_samples_split=2, model__n_estimators=500; total time=   0.5s\n",
      "[CV] END model__max_features=sqrt, model__min_samples_leaf=4, model__min_samples_split=2, model__n_estimators=500; total time=   0.5s\n",
      "[CV] END model__max_features=sqrt, model__min_samples_leaf=4, model__min_samples_split=2, model__n_estimators=500; total time=   0.6s\n",
      "[CV] END model__max_features=1, model__min_samples_leaf=2, model__min_samples_split=4, model__n_estimators=500; total time=   0.4s\n",
      "[CV] END model__max_features=1, model__min_samples_leaf=2, model__min_samples_split=4, model__n_estimators=500; total time=   0.5s\n",
      "[CV] END model__max_features=1, model__min_samples_leaf=2, model__min_samples_split=4, model__n_estimators=500; total time=   0.5s\n",
      "[CV] END model__max_features=1, model__min_samples_leaf=2, model__min_samples_split=4, model__n_estimators=500; total time=   0.5s\n",
      "[CV] END model__max_features=1, model__min_samples_leaf=2, model__min_samples_split=4, model__n_estimators=500; total time=   0.4s\n",
      "[CV] END model__max_features=1, model__min_samples_leaf=1, model__min_samples_split=2, model__n_estimators=100; total time=   0.1s\n",
      "[CV] END model__max_features=1, model__min_samples_leaf=1, model__min_samples_split=2, model__n_estimators=100; total time=   0.1s\n",
      "[CV] END model__max_features=1, model__min_samples_leaf=1, model__min_samples_split=2, model__n_estimators=100; total time=   0.1s\n",
      "[CV] END model__max_features=1, model__min_samples_leaf=1, model__min_samples_split=2, model__n_estimators=100; total time=   0.1s\n",
      "[CV] END model__max_features=1, model__min_samples_leaf=1, model__min_samples_split=2, model__n_estimators=100; total time=   0.1s\n",
      "[CV] END model__max_features=1, model__min_samples_leaf=4, model__min_samples_split=4, model__n_estimators=100; total time=   0.0s\n",
      "[CV] END model__max_features=1, model__min_samples_leaf=4, model__min_samples_split=4, model__n_estimators=100; total time=   0.1s\n",
      "[CV] END model__max_features=1, model__min_samples_leaf=4, model__min_samples_split=4, model__n_estimators=100; total time=   0.1s\n",
      "[CV] END model__max_features=1, model__min_samples_leaf=4, model__min_samples_split=4, model__n_estimators=100; total time=   0.0s\n",
      "[CV] END model__max_features=1, model__min_samples_leaf=4, model__min_samples_split=4, model__n_estimators=100; total time=   0.0s\n",
      "[CV] END model__max_features=sqrt, model__min_samples_leaf=2, model__min_samples_split=2, model__n_estimators=500; total time=   0.5s\n",
      "[CV] END model__max_features=sqrt, model__min_samples_leaf=2, model__min_samples_split=2, model__n_estimators=500; total time=   0.6s\n",
      "[CV] END model__max_features=sqrt, model__min_samples_leaf=2, model__min_samples_split=2, model__n_estimators=500; total time=   0.6s\n",
      "[CV] END model__max_features=sqrt, model__min_samples_leaf=2, model__min_samples_split=2, model__n_estimators=500; total time=   0.6s\n",
      "[CV] END model__max_features=sqrt, model__min_samples_leaf=2, model__min_samples_split=2, model__n_estimators=500; total time=   0.6s\n",
      "[CV] END model__max_features=1, model__min_samples_leaf=1, model__min_samples_split=6, model__n_estimators=500; total time=   0.6s\n",
      "[CV] END model__max_features=1, model__min_samples_leaf=1, model__min_samples_split=6, model__n_estimators=500; total time=   0.5s\n",
      "[CV] END model__max_features=1, model__min_samples_leaf=1, model__min_samples_split=6, model__n_estimators=500; total time=   0.5s\n",
      "[CV] END model__max_features=1, model__min_samples_leaf=1, model__min_samples_split=6, model__n_estimators=500; total time=   0.5s\n",
      "[CV] END model__max_features=1, model__min_samples_leaf=1, model__min_samples_split=6, model__n_estimators=500; total time=   0.5s\n",
      "[CV] END model__max_features=1, model__min_samples_leaf=4, model__min_samples_split=6, model__n_estimators=500; total time=   0.4s\n",
      "[CV] END model__max_features=1, model__min_samples_leaf=4, model__min_samples_split=6, model__n_estimators=500; total time=   0.4s\n",
      "[CV] END model__max_features=1, model__min_samples_leaf=4, model__min_samples_split=6, model__n_estimators=500; total time=   0.3s\n",
      "[CV] END model__max_features=1, model__min_samples_leaf=4, model__min_samples_split=6, model__n_estimators=500; total time=   0.3s\n",
      "[CV] END model__max_features=1, model__min_samples_leaf=4, model__min_samples_split=6, model__n_estimators=500; total time=   0.4s\n",
      "[CV] END model__max_features=1, model__min_samples_leaf=2, model__min_samples_split=2, model__n_estimators=100; total time=   0.1s\n",
      "[CV] END model__max_features=1, model__min_samples_leaf=2, model__min_samples_split=2, model__n_estimators=100; total time=   0.1s\n",
      "[CV] END model__max_features=1, model__min_samples_leaf=2, model__min_samples_split=2, model__n_estimators=100; total time=   0.1s\n",
      "[CV] END model__max_features=1, model__min_samples_leaf=2, model__min_samples_split=2, model__n_estimators=100; total time=   0.1s\n",
      "[CV] END model__max_features=1, model__min_samples_leaf=2, model__min_samples_split=2, model__n_estimators=100; total time=   0.1s\n",
      "[CV] END model__max_features=sqrt, model__min_samples_leaf=2, model__min_samples_split=4, model__n_estimators=500; total time=   0.5s\n",
      "[CV] END model__max_features=sqrt, model__min_samples_leaf=2, model__min_samples_split=4, model__n_estimators=500; total time=   0.6s\n",
      "[CV] END model__max_features=sqrt, model__min_samples_leaf=2, model__min_samples_split=4, model__n_estimators=500; total time=   0.6s\n",
      "[CV] END model__max_features=sqrt, model__min_samples_leaf=2, model__min_samples_split=4, model__n_estimators=500; total time=   0.6s\n",
      "[CV] END model__max_features=sqrt, model__min_samples_leaf=2, model__min_samples_split=4, model__n_estimators=500; total time=   0.7s\n"
     ]
    },
    {
     "data": {
      "text/html": [
       "<style>#sk-container-id-3 {color: black;background-color: white;}#sk-container-id-3 pre{padding: 0;}#sk-container-id-3 div.sk-toggleable {background-color: white;}#sk-container-id-3 label.sk-toggleable__label {cursor: pointer;display: block;width: 100%;margin-bottom: 0;padding: 0.3em;box-sizing: border-box;text-align: center;}#sk-container-id-3 label.sk-toggleable__label-arrow:before {content: \"▸\";float: left;margin-right: 0.25em;color: #696969;}#sk-container-id-3 label.sk-toggleable__label-arrow:hover:before {color: black;}#sk-container-id-3 div.sk-estimator:hover label.sk-toggleable__label-arrow:before {color: black;}#sk-container-id-3 div.sk-toggleable__content {max-height: 0;max-width: 0;overflow: hidden;text-align: left;background-color: #f0f8ff;}#sk-container-id-3 div.sk-toggleable__content pre {margin: 0.2em;color: black;border-radius: 0.25em;background-color: #f0f8ff;}#sk-container-id-3 input.sk-toggleable__control:checked~div.sk-toggleable__content {max-height: 200px;max-width: 100%;overflow: auto;}#sk-container-id-3 input.sk-toggleable__control:checked~label.sk-toggleable__label-arrow:before {content: \"▾\";}#sk-container-id-3 div.sk-estimator input.sk-toggleable__control:checked~label.sk-toggleable__label {background-color: #d4ebff;}#sk-container-id-3 div.sk-label input.sk-toggleable__control:checked~label.sk-toggleable__label {background-color: #d4ebff;}#sk-container-id-3 input.sk-hidden--visually {border: 0;clip: rect(1px 1px 1px 1px);clip: rect(1px, 1px, 1px, 1px);height: 1px;margin: -1px;overflow: hidden;padding: 0;position: absolute;width: 1px;}#sk-container-id-3 div.sk-estimator {font-family: monospace;background-color: #f0f8ff;border: 1px dotted black;border-radius: 0.25em;box-sizing: border-box;margin-bottom: 0.5em;}#sk-container-id-3 div.sk-estimator:hover {background-color: #d4ebff;}#sk-container-id-3 div.sk-parallel-item::after {content: \"\";width: 100%;border-bottom: 1px solid gray;flex-grow: 1;}#sk-container-id-3 div.sk-label:hover label.sk-toggleable__label {background-color: #d4ebff;}#sk-container-id-3 div.sk-serial::before {content: \"\";position: absolute;border-left: 1px solid gray;box-sizing: border-box;top: 0;bottom: 0;left: 50%;z-index: 0;}#sk-container-id-3 div.sk-serial {display: flex;flex-direction: column;align-items: center;background-color: white;padding-right: 0.2em;padding-left: 0.2em;position: relative;}#sk-container-id-3 div.sk-item {position: relative;z-index: 1;}#sk-container-id-3 div.sk-parallel {display: flex;align-items: stretch;justify-content: center;background-color: white;position: relative;}#sk-container-id-3 div.sk-item::before, #sk-container-id-3 div.sk-parallel-item::before {content: \"\";position: absolute;border-left: 1px solid gray;box-sizing: border-box;top: 0;bottom: 0;left: 50%;z-index: -1;}#sk-container-id-3 div.sk-parallel-item {display: flex;flex-direction: column;z-index: 1;position: relative;background-color: white;}#sk-container-id-3 div.sk-parallel-item:first-child::after {align-self: flex-end;width: 50%;}#sk-container-id-3 div.sk-parallel-item:last-child::after {align-self: flex-start;width: 50%;}#sk-container-id-3 div.sk-parallel-item:only-child::after {width: 0;}#sk-container-id-3 div.sk-dashed-wrapped {border: 1px dashed gray;margin: 0 0.4em 0.5em 0.4em;box-sizing: border-box;padding-bottom: 0.4em;background-color: white;}#sk-container-id-3 div.sk-label label {font-family: monospace;font-weight: bold;display: inline-block;line-height: 1.2em;}#sk-container-id-3 div.sk-label-container {text-align: center;}#sk-container-id-3 div.sk-container {/* jupyter's `normalize.less` sets `[hidden] { display: none; }` but bootstrap.min.css set `[hidden] { display: none !important; }` so we also need the `!important` here to be able to override the default hidden behavior on the sphinx rendered scikit-learn.org. See: https://github.com/scikit-learn/scikit-learn/issues/21755 */display: inline-block !important;position: relative;}#sk-container-id-3 div.sk-text-repr-fallback {display: none;}</style><div id=\"sk-container-id-3\" class=\"sk-top-container\"><div class=\"sk-text-repr-fallback\"><pre>RandomizedSearchCV(cv=5,\n",
       "                   estimator=Pipeline(steps=[(&#x27;preprocess&#x27;,\n",
       "                                              ColumnTransformer(remainder=&#x27;passthrough&#x27;,\n",
       "                                                                transformers=[(&#x27;categorical&#x27;,\n",
       "                                                                               OneHotEncoder(sparse=False),\n",
       "                                                                               [&#x27;Admit &#x27;\n",
       "                                                                                &#x27;Day &#x27;\n",
       "                                                                                &#x27;of &#x27;\n",
       "                                                                                &#x27;Week&#x27;,\n",
       "                                                                                &#x27;Diagnostic &#x27;\n",
       "                                                                                &#x27;Code&#x27;,\n",
       "                                                                                &#x27;Admit &#x27;\n",
       "                                                                                &#x27;Month&#x27;,\n",
       "                                                                                &#x27;Ethnicity &#x27;\n",
       "                                                                                &#x27;Group&#x27;,\n",
       "                                                                                &#x27;DHB &#x27;\n",
       "                                                                                &#x27;Group&#x27;]),\n",
       "                                                                              (&#x27;numerical&#x27;,\n",
       "                                                                               StandardScaler(),\n",
       "                                                                               [&#x27;Age&#x27;])])),\n",
       "                                             (&#x27;model&#x27;,\n",
       "                                              RandomForestRegressor(n_jobs=-1))]),\n",
       "                   param_distributions={&#x27;model__max_features&#x27;: [1, &#x27;sqrt&#x27;],\n",
       "                                        &#x27;model__min_samples_leaf&#x27;: [1, 2, 4],\n",
       "                                        &#x27;model__min_samples_split&#x27;: [2, 4, 6],\n",
       "                                        &#x27;model__n_estimators&#x27;: [100, 200, 500,\n",
       "                                                                1000]},\n",
       "                   verbose=2)</pre><b>In a Jupyter environment, please rerun this cell to show the HTML representation or trust the notebook. <br />On GitHub, the HTML representation is unable to render, please try loading this page with nbviewer.org.</b></div><div class=\"sk-container\" hidden><div class=\"sk-item sk-dashed-wrapped\"><div class=\"sk-label-container\"><div class=\"sk-label sk-toggleable\"><input class=\"sk-toggleable__control sk-hidden--visually\" id=\"sk-estimator-id-21\" type=\"checkbox\" ><label for=\"sk-estimator-id-21\" class=\"sk-toggleable__label sk-toggleable__label-arrow\">RandomizedSearchCV</label><div class=\"sk-toggleable__content\"><pre>RandomizedSearchCV(cv=5,\n",
       "                   estimator=Pipeline(steps=[(&#x27;preprocess&#x27;,\n",
       "                                              ColumnTransformer(remainder=&#x27;passthrough&#x27;,\n",
       "                                                                transformers=[(&#x27;categorical&#x27;,\n",
       "                                                                               OneHotEncoder(sparse=False),\n",
       "                                                                               [&#x27;Admit &#x27;\n",
       "                                                                                &#x27;Day &#x27;\n",
       "                                                                                &#x27;of &#x27;\n",
       "                                                                                &#x27;Week&#x27;,\n",
       "                                                                                &#x27;Diagnostic &#x27;\n",
       "                                                                                &#x27;Code&#x27;,\n",
       "                                                                                &#x27;Admit &#x27;\n",
       "                                                                                &#x27;Month&#x27;,\n",
       "                                                                                &#x27;Ethnicity &#x27;\n",
       "                                                                                &#x27;Group&#x27;,\n",
       "                                                                                &#x27;DHB &#x27;\n",
       "                                                                                &#x27;Group&#x27;]),\n",
       "                                                                              (&#x27;numerical&#x27;,\n",
       "                                                                               StandardScaler(),\n",
       "                                                                               [&#x27;Age&#x27;])])),\n",
       "                                             (&#x27;model&#x27;,\n",
       "                                              RandomForestRegressor(n_jobs=-1))]),\n",
       "                   param_distributions={&#x27;model__max_features&#x27;: [1, &#x27;sqrt&#x27;],\n",
       "                                        &#x27;model__min_samples_leaf&#x27;: [1, 2, 4],\n",
       "                                        &#x27;model__min_samples_split&#x27;: [2, 4, 6],\n",
       "                                        &#x27;model__n_estimators&#x27;: [100, 200, 500,\n",
       "                                                                1000]},\n",
       "                   verbose=2)</pre></div></div></div><div class=\"sk-parallel\"><div class=\"sk-parallel-item\"><div class=\"sk-item\"><div class=\"sk-label-container\"><div class=\"sk-label sk-toggleable\"><input class=\"sk-toggleable__control sk-hidden--visually\" id=\"sk-estimator-id-22\" type=\"checkbox\" ><label for=\"sk-estimator-id-22\" class=\"sk-toggleable__label sk-toggleable__label-arrow\">estimator: Pipeline</label><div class=\"sk-toggleable__content\"><pre>Pipeline(steps=[(&#x27;preprocess&#x27;,\n",
       "                 ColumnTransformer(remainder=&#x27;passthrough&#x27;,\n",
       "                                   transformers=[(&#x27;categorical&#x27;,\n",
       "                                                  OneHotEncoder(sparse=False),\n",
       "                                                  [&#x27;Admit Day of Week&#x27;,\n",
       "                                                   &#x27;Diagnostic Code&#x27;,\n",
       "                                                   &#x27;Admit Month&#x27;,\n",
       "                                                   &#x27;Ethnicity Group&#x27;,\n",
       "                                                   &#x27;DHB Group&#x27;]),\n",
       "                                                 (&#x27;numerical&#x27;, StandardScaler(),\n",
       "                                                  [&#x27;Age&#x27;])])),\n",
       "                (&#x27;model&#x27;, RandomForestRegressor(n_jobs=-1))])</pre></div></div></div><div class=\"sk-serial\"><div class=\"sk-item\"><div class=\"sk-serial\"><div class=\"sk-item sk-dashed-wrapped\"><div class=\"sk-label-container\"><div class=\"sk-label sk-toggleable\"><input class=\"sk-toggleable__control sk-hidden--visually\" id=\"sk-estimator-id-23\" type=\"checkbox\" ><label for=\"sk-estimator-id-23\" class=\"sk-toggleable__label sk-toggleable__label-arrow\">preprocess: ColumnTransformer</label><div class=\"sk-toggleable__content\"><pre>ColumnTransformer(remainder=&#x27;passthrough&#x27;,\n",
       "                  transformers=[(&#x27;categorical&#x27;, OneHotEncoder(sparse=False),\n",
       "                                 [&#x27;Admit Day of Week&#x27;, &#x27;Diagnostic Code&#x27;,\n",
       "                                  &#x27;Admit Month&#x27;, &#x27;Ethnicity Group&#x27;,\n",
       "                                  &#x27;DHB Group&#x27;]),\n",
       "                                (&#x27;numerical&#x27;, StandardScaler(), [&#x27;Age&#x27;])])</pre></div></div></div><div class=\"sk-parallel\"><div class=\"sk-parallel-item\"><div class=\"sk-item\"><div class=\"sk-label-container\"><div class=\"sk-label sk-toggleable\"><input class=\"sk-toggleable__control sk-hidden--visually\" id=\"sk-estimator-id-24\" type=\"checkbox\" ><label for=\"sk-estimator-id-24\" class=\"sk-toggleable__label sk-toggleable__label-arrow\">categorical</label><div class=\"sk-toggleable__content\"><pre>[&#x27;Admit Day of Week&#x27;, &#x27;Diagnostic Code&#x27;, &#x27;Admit Month&#x27;, &#x27;Ethnicity Group&#x27;, &#x27;DHB Group&#x27;]</pre></div></div></div><div class=\"sk-serial\"><div class=\"sk-item\"><div class=\"sk-estimator sk-toggleable\"><input class=\"sk-toggleable__control sk-hidden--visually\" id=\"sk-estimator-id-25\" type=\"checkbox\" ><label for=\"sk-estimator-id-25\" class=\"sk-toggleable__label sk-toggleable__label-arrow\">OneHotEncoder</label><div class=\"sk-toggleable__content\"><pre>OneHotEncoder(sparse=False)</pre></div></div></div></div></div></div><div class=\"sk-parallel-item\"><div class=\"sk-item\"><div class=\"sk-label-container\"><div class=\"sk-label sk-toggleable\"><input class=\"sk-toggleable__control sk-hidden--visually\" id=\"sk-estimator-id-26\" type=\"checkbox\" ><label for=\"sk-estimator-id-26\" class=\"sk-toggleable__label sk-toggleable__label-arrow\">numerical</label><div class=\"sk-toggleable__content\"><pre>[&#x27;Age&#x27;]</pre></div></div></div><div class=\"sk-serial\"><div class=\"sk-item\"><div class=\"sk-estimator sk-toggleable\"><input class=\"sk-toggleable__control sk-hidden--visually\" id=\"sk-estimator-id-27\" type=\"checkbox\" ><label for=\"sk-estimator-id-27\" class=\"sk-toggleable__label sk-toggleable__label-arrow\">StandardScaler</label><div class=\"sk-toggleable__content\"><pre>StandardScaler()</pre></div></div></div></div></div></div><div class=\"sk-parallel-item\"><div class=\"sk-item\"><div class=\"sk-label-container\"><div class=\"sk-label sk-toggleable\"><input class=\"sk-toggleable__control sk-hidden--visually\" id=\"sk-estimator-id-28\" type=\"checkbox\" ><label for=\"sk-estimator-id-28\" class=\"sk-toggleable__label sk-toggleable__label-arrow\">remainder</label><div class=\"sk-toggleable__content\"><pre>[&#x27;Gender&#x27;, &#x27;Smoker Status&#x27;]</pre></div></div></div><div class=\"sk-serial\"><div class=\"sk-item\"><div class=\"sk-estimator sk-toggleable\"><input class=\"sk-toggleable__control sk-hidden--visually\" id=\"sk-estimator-id-29\" type=\"checkbox\" ><label for=\"sk-estimator-id-29\" class=\"sk-toggleable__label sk-toggleable__label-arrow\">passthrough</label><div class=\"sk-toggleable__content\"><pre>passthrough</pre></div></div></div></div></div></div></div></div><div class=\"sk-item\"><div class=\"sk-estimator sk-toggleable\"><input class=\"sk-toggleable__control sk-hidden--visually\" id=\"sk-estimator-id-30\" type=\"checkbox\" ><label for=\"sk-estimator-id-30\" class=\"sk-toggleable__label sk-toggleable__label-arrow\">RandomForestRegressor</label><div class=\"sk-toggleable__content\"><pre>RandomForestRegressor(n_jobs=-1)</pre></div></div></div></div></div></div></div></div></div></div></div></div>"
      ],
      "text/plain": [
       "RandomizedSearchCV(cv=5,\n",
       "                   estimator=Pipeline(steps=[('preprocess',\n",
       "                                              ColumnTransformer(remainder='passthrough',\n",
       "                                                                transformers=[('categorical',\n",
       "                                                                               OneHotEncoder(sparse=False),\n",
       "                                                                               ['Admit '\n",
       "                                                                                'Day '\n",
       "                                                                                'of '\n",
       "                                                                                'Week',\n",
       "                                                                                'Diagnostic '\n",
       "                                                                                'Code',\n",
       "                                                                                'Admit '\n",
       "                                                                                'Month',\n",
       "                                                                                'Ethnicity '\n",
       "                                                                                'Group',\n",
       "                                                                                'DHB '\n",
       "                                                                                'Group']),\n",
       "                                                                              ('numerical',\n",
       "                                                                               StandardScaler(),\n",
       "                                                                               ['Age'])])),\n",
       "                                             ('model',\n",
       "                                              RandomForestRegressor(n_jobs=-1))]),\n",
       "                   param_distributions={'model__max_features': [1, 'sqrt'],\n",
       "                                        'model__min_samples_leaf': [1, 2, 4],\n",
       "                                        'model__min_samples_split': [2, 4, 6],\n",
       "                                        'model__n_estimators': [100, 200, 500,\n",
       "                                                                1000]},\n",
       "                   verbose=2)"
      ]
     },
     "execution_count": 45,
     "metadata": {},
     "output_type": "execute_result"
    }
   ],
   "source": [
    "np.random.seed(42)\n",
    "\n",
    "# X_train2,X_test2,y_train2,y_test2 = train_test_split(X,y,test_size=0.2)\n",
    "model_rf_3 = RandomForestRegressor(n_jobs=-1)\n",
    "pipe_rf = Pipeline(steps=[(\"preprocess\",preprocessor),\n",
    "                      (\"model\",model_rf_3)])\n",
    "\n",
    "randomforest_grid = {\"model__n_estimators\":[100,200,500,1000],\n",
    "                    \"model__max_features\": [1,\"sqrt\"],\n",
    "                    \"model__min_samples_split\":[2,4,6],\n",
    "                    \"model__min_samples_leaf\":[1,2,4]}\n",
    "\n",
    "rs_model_rf = RandomizedSearchCV(estimator=pipe_rf,\n",
    "                                 param_distributions=randomforest_grid,\n",
    "                                 n_iter =10,\n",
    "                                 cv=5,\n",
    "                                 verbose=2)\n",
    "# Training models\n",
    "rs_model_rf.fit(X_train,y_train)"
   ]
  },
  {
   "cell_type": "code",
   "execution_count": 46,
   "id": "e44282d2",
   "metadata": {
    "scrolled": true
   },
   "outputs": [
    {
     "data": {
      "text/plain": [
       "{'model__n_estimators': 500,\n",
       " 'model__min_samples_split': 2,\n",
       " 'model__min_samples_leaf': 4,\n",
       " 'model__max_features': 'sqrt'}"
      ]
     },
     "execution_count": 46,
     "metadata": {},
     "output_type": "execute_result"
    }
   ],
   "source": [
    "rs_model_rf.best_params_"
   ]
  },
  {
   "cell_type": "code",
   "execution_count": 47,
   "id": "8736af27",
   "metadata": {},
   "outputs": [
    {
     "data": {
      "text/plain": [
       "0.1433864842390182"
      ]
     },
     "execution_count": 47,
     "metadata": {},
     "output_type": "execute_result"
    }
   ],
   "source": [
    "rs_model_rf.best_score_"
   ]
  },
  {
   "cell_type": "markdown",
   "id": "83563f32",
   "metadata": {},
   "source": [
    "#### Parameter tuning by GridSearchCV"
   ]
  },
  {
   "cell_type": "code",
   "execution_count": 48,
   "id": "2ba3d2a8",
   "metadata": {
    "scrolled": true
   },
   "outputs": [
    {
     "name": "stdout",
     "output_type": "stream",
     "text": [
      "Fitting 5 folds for each of 54 candidates, totalling 270 fits\n",
      "[CV] END model__max_features=log2, model__min_samples_leaf=1, model__min_samples_split=2, model__n_estimators=200; total time=   0.2s\n",
      "[CV] END model__max_features=log2, model__min_samples_leaf=1, model__min_samples_split=2, model__n_estimators=200; total time=   0.2s\n",
      "[CV] END model__max_features=log2, model__min_samples_leaf=1, model__min_samples_split=2, model__n_estimators=200; total time=   0.2s\n",
      "[CV] END model__max_features=log2, model__min_samples_leaf=1, model__min_samples_split=2, model__n_estimators=200; total time=   0.2s\n",
      "[CV] END model__max_features=log2, model__min_samples_leaf=1, model__min_samples_split=2, model__n_estimators=200; total time=   0.2s\n",
      "[CV] END model__max_features=log2, model__min_samples_leaf=1, model__min_samples_split=2, model__n_estimators=500; total time=   0.4s\n",
      "[CV] END model__max_features=log2, model__min_samples_leaf=1, model__min_samples_split=2, model__n_estimators=500; total time=   0.5s\n",
      "[CV] END model__max_features=log2, model__min_samples_leaf=1, model__min_samples_split=2, model__n_estimators=500; total time=   0.4s\n",
      "[CV] END model__max_features=log2, model__min_samples_leaf=1, model__min_samples_split=2, model__n_estimators=500; total time=   0.4s\n",
      "[CV] END model__max_features=log2, model__min_samples_leaf=1, model__min_samples_split=2, model__n_estimators=500; total time=   0.5s\n",
      "[CV] END model__max_features=log2, model__min_samples_leaf=1, model__min_samples_split=2, model__n_estimators=750; total time=   0.7s\n",
      "[CV] END model__max_features=log2, model__min_samples_leaf=1, model__min_samples_split=2, model__n_estimators=750; total time=   0.7s\n",
      "[CV] END model__max_features=log2, model__min_samples_leaf=1, model__min_samples_split=2, model__n_estimators=750; total time=   0.8s\n",
      "[CV] END model__max_features=log2, model__min_samples_leaf=1, model__min_samples_split=2, model__n_estimators=750; total time=   0.9s\n",
      "[CV] END model__max_features=log2, model__min_samples_leaf=1, model__min_samples_split=2, model__n_estimators=750; total time=   0.9s\n",
      "[CV] END model__max_features=log2, model__min_samples_leaf=1, model__min_samples_split=4, model__n_estimators=200; total time=   0.2s\n",
      "[CV] END model__max_features=log2, model__min_samples_leaf=1, model__min_samples_split=4, model__n_estimators=200; total time=   0.2s\n",
      "[CV] END model__max_features=log2, model__min_samples_leaf=1, model__min_samples_split=4, model__n_estimators=200; total time=   0.2s\n",
      "[CV] END model__max_features=log2, model__min_samples_leaf=1, model__min_samples_split=4, model__n_estimators=200; total time=   0.2s\n",
      "[CV] END model__max_features=log2, model__min_samples_leaf=1, model__min_samples_split=4, model__n_estimators=200; total time=   0.2s\n",
      "[CV] END model__max_features=log2, model__min_samples_leaf=1, model__min_samples_split=4, model__n_estimators=500; total time=   0.8s\n",
      "[CV] END model__max_features=log2, model__min_samples_leaf=1, model__min_samples_split=4, model__n_estimators=500; total time=   0.8s\n",
      "[CV] END model__max_features=log2, model__min_samples_leaf=1, model__min_samples_split=4, model__n_estimators=500; total time=   1.0s\n",
      "[CV] END model__max_features=log2, model__min_samples_leaf=1, model__min_samples_split=4, model__n_estimators=500; total time=   0.8s\n",
      "[CV] END model__max_features=log2, model__min_samples_leaf=1, model__min_samples_split=4, model__n_estimators=500; total time=   1.0s\n",
      "[CV] END model__max_features=log2, model__min_samples_leaf=1, model__min_samples_split=4, model__n_estimators=750; total time=   1.4s\n",
      "[CV] END model__max_features=log2, model__min_samples_leaf=1, model__min_samples_split=4, model__n_estimators=750; total time=   1.3s\n",
      "[CV] END model__max_features=log2, model__min_samples_leaf=1, model__min_samples_split=4, model__n_estimators=750; total time=   1.4s\n",
      "[CV] END model__max_features=log2, model__min_samples_leaf=1, model__min_samples_split=4, model__n_estimators=750; total time=   1.3s\n",
      "[CV] END model__max_features=log2, model__min_samples_leaf=1, model__min_samples_split=4, model__n_estimators=750; total time=   1.3s\n",
      "[CV] END model__max_features=log2, model__min_samples_leaf=2, model__min_samples_split=2, model__n_estimators=200; total time=   0.3s\n",
      "[CV] END model__max_features=log2, model__min_samples_leaf=2, model__min_samples_split=2, model__n_estimators=200; total time=   0.3s\n",
      "[CV] END model__max_features=log2, model__min_samples_leaf=2, model__min_samples_split=2, model__n_estimators=200; total time=   0.3s\n",
      "[CV] END model__max_features=log2, model__min_samples_leaf=2, model__min_samples_split=2, model__n_estimators=200; total time=   0.2s\n",
      "[CV] END model__max_features=log2, model__min_samples_leaf=2, model__min_samples_split=2, model__n_estimators=200; total time=   0.4s\n",
      "[CV] END model__max_features=log2, model__min_samples_leaf=2, model__min_samples_split=2, model__n_estimators=500; total time=   0.9s\n",
      "[CV] END model__max_features=log2, model__min_samples_leaf=2, model__min_samples_split=2, model__n_estimators=500; total time=   0.7s\n",
      "[CV] END model__max_features=log2, model__min_samples_leaf=2, model__min_samples_split=2, model__n_estimators=500; total time=   0.8s\n",
      "[CV] END model__max_features=log2, model__min_samples_leaf=2, model__min_samples_split=2, model__n_estimators=500; total time=   0.8s\n",
      "[CV] END model__max_features=log2, model__min_samples_leaf=2, model__min_samples_split=2, model__n_estimators=500; total time=   0.7s\n",
      "[CV] END model__max_features=log2, model__min_samples_leaf=2, model__min_samples_split=2, model__n_estimators=750; total time=   1.1s\n",
      "[CV] END model__max_features=log2, model__min_samples_leaf=2, model__min_samples_split=2, model__n_estimators=750; total time=   1.3s\n",
      "[CV] END model__max_features=log2, model__min_samples_leaf=2, model__min_samples_split=2, model__n_estimators=750; total time=   1.1s\n",
      "[CV] END model__max_features=log2, model__min_samples_leaf=2, model__min_samples_split=2, model__n_estimators=750; total time=   1.1s\n",
      "[CV] END model__max_features=log2, model__min_samples_leaf=2, model__min_samples_split=2, model__n_estimators=750; total time=   1.2s\n",
      "[CV] END model__max_features=log2, model__min_samples_leaf=2, model__min_samples_split=4, model__n_estimators=200; total time=   0.3s\n",
      "[CV] END model__max_features=log2, model__min_samples_leaf=2, model__min_samples_split=4, model__n_estimators=200; total time=   0.3s\n",
      "[CV] END model__max_features=log2, model__min_samples_leaf=2, model__min_samples_split=4, model__n_estimators=200; total time=   0.3s\n",
      "[CV] END model__max_features=log2, model__min_samples_leaf=2, model__min_samples_split=4, model__n_estimators=200; total time=   0.3s\n",
      "[CV] END model__max_features=log2, model__min_samples_leaf=2, model__min_samples_split=4, model__n_estimators=200; total time=   0.4s\n",
      "[CV] END model__max_features=log2, model__min_samples_leaf=2, model__min_samples_split=4, model__n_estimators=500; total time=   0.7s\n",
      "[CV] END model__max_features=log2, model__min_samples_leaf=2, model__min_samples_split=4, model__n_estimators=500; total time=   0.8s\n",
      "[CV] END model__max_features=log2, model__min_samples_leaf=2, model__min_samples_split=4, model__n_estimators=500; total time=   0.7s\n",
      "[CV] END model__max_features=log2, model__min_samples_leaf=2, model__min_samples_split=4, model__n_estimators=500; total time=   0.7s\n",
      "[CV] END model__max_features=log2, model__min_samples_leaf=2, model__min_samples_split=4, model__n_estimators=500; total time=   0.7s\n",
      "[CV] END model__max_features=log2, model__min_samples_leaf=2, model__min_samples_split=4, model__n_estimators=750; total time=   1.1s\n",
      "[CV] END model__max_features=log2, model__min_samples_leaf=2, model__min_samples_split=4, model__n_estimators=750; total time=   1.0s\n",
      "[CV] END model__max_features=log2, model__min_samples_leaf=2, model__min_samples_split=4, model__n_estimators=750; total time=   1.0s\n",
      "[CV] END model__max_features=log2, model__min_samples_leaf=2, model__min_samples_split=4, model__n_estimators=750; total time=   1.1s\n",
      "[CV] END model__max_features=log2, model__min_samples_leaf=2, model__min_samples_split=4, model__n_estimators=750; total time=   1.0s\n",
      "[CV] END model__max_features=log2, model__min_samples_leaf=4, model__min_samples_split=2, model__n_estimators=200; total time=   0.3s\n"
     ]
    },
    {
     "name": "stdout",
     "output_type": "stream",
     "text": [
      "[CV] END model__max_features=log2, model__min_samples_leaf=4, model__min_samples_split=2, model__n_estimators=200; total time=   0.3s\n",
      "[CV] END model__max_features=log2, model__min_samples_leaf=4, model__min_samples_split=2, model__n_estimators=200; total time=   0.3s\n",
      "[CV] END model__max_features=log2, model__min_samples_leaf=4, model__min_samples_split=2, model__n_estimators=200; total time=   0.3s\n",
      "[CV] END model__max_features=log2, model__min_samples_leaf=4, model__min_samples_split=2, model__n_estimators=200; total time=   0.3s\n",
      "[CV] END model__max_features=log2, model__min_samples_leaf=4, model__min_samples_split=2, model__n_estimators=500; total time=   0.7s\n",
      "[CV] END model__max_features=log2, model__min_samples_leaf=4, model__min_samples_split=2, model__n_estimators=500; total time=   0.7s\n",
      "[CV] END model__max_features=log2, model__min_samples_leaf=4, model__min_samples_split=2, model__n_estimators=500; total time=   0.6s\n",
      "[CV] END model__max_features=log2, model__min_samples_leaf=4, model__min_samples_split=2, model__n_estimators=500; total time=   0.6s\n",
      "[CV] END model__max_features=log2, model__min_samples_leaf=4, model__min_samples_split=2, model__n_estimators=500; total time=   0.6s\n",
      "[CV] END model__max_features=log2, model__min_samples_leaf=4, model__min_samples_split=2, model__n_estimators=750; total time=   0.9s\n",
      "[CV] END model__max_features=log2, model__min_samples_leaf=4, model__min_samples_split=2, model__n_estimators=750; total time=   0.9s\n",
      "[CV] END model__max_features=log2, model__min_samples_leaf=4, model__min_samples_split=2, model__n_estimators=750; total time=   1.0s\n",
      "[CV] END model__max_features=log2, model__min_samples_leaf=4, model__min_samples_split=2, model__n_estimators=750; total time=   0.8s\n",
      "[CV] END model__max_features=log2, model__min_samples_leaf=4, model__min_samples_split=2, model__n_estimators=750; total time=   0.9s\n",
      "[CV] END model__max_features=log2, model__min_samples_leaf=4, model__min_samples_split=4, model__n_estimators=200; total time=   0.2s\n",
      "[CV] END model__max_features=log2, model__min_samples_leaf=4, model__min_samples_split=4, model__n_estimators=200; total time=   0.2s\n",
      "[CV] END model__max_features=log2, model__min_samples_leaf=4, model__min_samples_split=4, model__n_estimators=200; total time=   0.2s\n",
      "[CV] END model__max_features=log2, model__min_samples_leaf=4, model__min_samples_split=4, model__n_estimators=200; total time=   0.2s\n",
      "[CV] END model__max_features=log2, model__min_samples_leaf=4, model__min_samples_split=4, model__n_estimators=200; total time=   0.2s\n",
      "[CV] END model__max_features=log2, model__min_samples_leaf=4, model__min_samples_split=4, model__n_estimators=500; total time=   0.6s\n",
      "[CV] END model__max_features=log2, model__min_samples_leaf=4, model__min_samples_split=4, model__n_estimators=500; total time=   0.6s\n",
      "[CV] END model__max_features=log2, model__min_samples_leaf=4, model__min_samples_split=4, model__n_estimators=500; total time=   0.7s\n",
      "[CV] END model__max_features=log2, model__min_samples_leaf=4, model__min_samples_split=4, model__n_estimators=500; total time=   0.6s\n",
      "[CV] END model__max_features=log2, model__min_samples_leaf=4, model__min_samples_split=4, model__n_estimators=500; total time=   0.5s\n",
      "[CV] END model__max_features=log2, model__min_samples_leaf=4, model__min_samples_split=4, model__n_estimators=750; total time=   0.8s\n",
      "[CV] END model__max_features=log2, model__min_samples_leaf=4, model__min_samples_split=4, model__n_estimators=750; total time=   0.7s\n",
      "[CV] END model__max_features=log2, model__min_samples_leaf=4, model__min_samples_split=4, model__n_estimators=750; total time=   0.7s\n",
      "[CV] END model__max_features=log2, model__min_samples_leaf=4, model__min_samples_split=4, model__n_estimators=750; total time=   0.8s\n",
      "[CV] END model__max_features=log2, model__min_samples_leaf=4, model__min_samples_split=4, model__n_estimators=750; total time=   0.8s\n",
      "[CV] END model__max_features=sqrt, model__min_samples_leaf=1, model__min_samples_split=2, model__n_estimators=200; total time=   0.3s\n",
      "[CV] END model__max_features=sqrt, model__min_samples_leaf=1, model__min_samples_split=2, model__n_estimators=200; total time=   0.4s\n",
      "[CV] END model__max_features=sqrt, model__min_samples_leaf=1, model__min_samples_split=2, model__n_estimators=200; total time=   0.5s\n",
      "[CV] END model__max_features=sqrt, model__min_samples_leaf=1, model__min_samples_split=2, model__n_estimators=200; total time=   0.4s\n",
      "[CV] END model__max_features=sqrt, model__min_samples_leaf=1, model__min_samples_split=2, model__n_estimators=200; total time=   0.3s\n",
      "[CV] END model__max_features=sqrt, model__min_samples_leaf=1, model__min_samples_split=2, model__n_estimators=500; total time=   0.8s\n",
      "[CV] END model__max_features=sqrt, model__min_samples_leaf=1, model__min_samples_split=2, model__n_estimators=500; total time=   0.8s\n",
      "[CV] END model__max_features=sqrt, model__min_samples_leaf=1, model__min_samples_split=2, model__n_estimators=500; total time=   0.8s\n",
      "[CV] END model__max_features=sqrt, model__min_samples_leaf=1, model__min_samples_split=2, model__n_estimators=500; total time=   0.8s\n",
      "[CV] END model__max_features=sqrt, model__min_samples_leaf=1, model__min_samples_split=2, model__n_estimators=500; total time=   0.9s\n",
      "[CV] END model__max_features=sqrt, model__min_samples_leaf=1, model__min_samples_split=2, model__n_estimators=750; total time=   1.3s\n",
      "[CV] END model__max_features=sqrt, model__min_samples_leaf=1, model__min_samples_split=2, model__n_estimators=750; total time=   1.5s\n",
      "[CV] END model__max_features=sqrt, model__min_samples_leaf=1, model__min_samples_split=2, model__n_estimators=750; total time=   1.3s\n",
      "[CV] END model__max_features=sqrt, model__min_samples_leaf=1, model__min_samples_split=2, model__n_estimators=750; total time=   1.3s\n",
      "[CV] END model__max_features=sqrt, model__min_samples_leaf=1, model__min_samples_split=2, model__n_estimators=750; total time=   1.5s\n",
      "[CV] END model__max_features=sqrt, model__min_samples_leaf=1, model__min_samples_split=4, model__n_estimators=200; total time=   0.4s\n",
      "[CV] END model__max_features=sqrt, model__min_samples_leaf=1, model__min_samples_split=4, model__n_estimators=200; total time=   0.3s\n",
      "[CV] END model__max_features=sqrt, model__min_samples_leaf=1, model__min_samples_split=4, model__n_estimators=200; total time=   0.3s\n",
      "[CV] END model__max_features=sqrt, model__min_samples_leaf=1, model__min_samples_split=4, model__n_estimators=200; total time=   0.3s\n",
      "[CV] END model__max_features=sqrt, model__min_samples_leaf=1, model__min_samples_split=4, model__n_estimators=200; total time=   0.4s\n",
      "[CV] END model__max_features=sqrt, model__min_samples_leaf=1, model__min_samples_split=4, model__n_estimators=500; total time=   1.0s\n",
      "[CV] END model__max_features=sqrt, model__min_samples_leaf=1, model__min_samples_split=4, model__n_estimators=500; total time=   0.8s\n",
      "[CV] END model__max_features=sqrt, model__min_samples_leaf=1, model__min_samples_split=4, model__n_estimators=500; total time=   0.8s\n",
      "[CV] END model__max_features=sqrt, model__min_samples_leaf=1, model__min_samples_split=4, model__n_estimators=500; total time=   0.8s\n",
      "[CV] END model__max_features=sqrt, model__min_samples_leaf=1, model__min_samples_split=4, model__n_estimators=500; total time=   0.7s\n",
      "[CV] END model__max_features=sqrt, model__min_samples_leaf=1, model__min_samples_split=4, model__n_estimators=750; total time=   1.7s\n",
      "[CV] END model__max_features=sqrt, model__min_samples_leaf=1, model__min_samples_split=4, model__n_estimators=750; total time=   1.6s\n",
      "[CV] END model__max_features=sqrt, model__min_samples_leaf=1, model__min_samples_split=4, model__n_estimators=750; total time=   1.3s\n",
      "[CV] END model__max_features=sqrt, model__min_samples_leaf=1, model__min_samples_split=4, model__n_estimators=750; total time=   1.3s\n",
      "[CV] END model__max_features=sqrt, model__min_samples_leaf=1, model__min_samples_split=4, model__n_estimators=750; total time=   1.3s\n",
      "[CV] END model__max_features=sqrt, model__min_samples_leaf=2, model__min_samples_split=2, model__n_estimators=200; total time=   0.3s\n",
      "[CV] END model__max_features=sqrt, model__min_samples_leaf=2, model__min_samples_split=2, model__n_estimators=200; total time=   0.4s\n",
      "[CV] END model__max_features=sqrt, model__min_samples_leaf=2, model__min_samples_split=2, model__n_estimators=200; total time=   0.3s\n"
     ]
    },
    {
     "name": "stdout",
     "output_type": "stream",
     "text": [
      "[CV] END model__max_features=sqrt, model__min_samples_leaf=2, model__min_samples_split=2, model__n_estimators=200; total time=   0.3s\n",
      "[CV] END model__max_features=sqrt, model__min_samples_leaf=2, model__min_samples_split=2, model__n_estimators=200; total time=   0.3s\n",
      "[CV] END model__max_features=sqrt, model__min_samples_leaf=2, model__min_samples_split=2, model__n_estimators=500; total time=   0.8s\n",
      "[CV] END model__max_features=sqrt, model__min_samples_leaf=2, model__min_samples_split=2, model__n_estimators=500; total time=   0.9s\n",
      "[CV] END model__max_features=sqrt, model__min_samples_leaf=2, model__min_samples_split=2, model__n_estimators=500; total time=   1.2s\n",
      "[CV] END model__max_features=sqrt, model__min_samples_leaf=2, model__min_samples_split=2, model__n_estimators=500; total time=   1.1s\n",
      "[CV] END model__max_features=sqrt, model__min_samples_leaf=2, model__min_samples_split=2, model__n_estimators=500; total time=   1.0s\n",
      "[CV] END model__max_features=sqrt, model__min_samples_leaf=2, model__min_samples_split=2, model__n_estimators=750; total time=   1.4s\n",
      "[CV] END model__max_features=sqrt, model__min_samples_leaf=2, model__min_samples_split=2, model__n_estimators=750; total time=   1.5s\n",
      "[CV] END model__max_features=sqrt, model__min_samples_leaf=2, model__min_samples_split=2, model__n_estimators=750; total time=   1.5s\n",
      "[CV] END model__max_features=sqrt, model__min_samples_leaf=2, model__min_samples_split=2, model__n_estimators=750; total time=   1.4s\n",
      "[CV] END model__max_features=sqrt, model__min_samples_leaf=2, model__min_samples_split=2, model__n_estimators=750; total time=   1.4s\n",
      "[CV] END model__max_features=sqrt, model__min_samples_leaf=2, model__min_samples_split=4, model__n_estimators=200; total time=   0.4s\n",
      "[CV] END model__max_features=sqrt, model__min_samples_leaf=2, model__min_samples_split=4, model__n_estimators=200; total time=   0.3s\n",
      "[CV] END model__max_features=sqrt, model__min_samples_leaf=2, model__min_samples_split=4, model__n_estimators=200; total time=   0.4s\n",
      "[CV] END model__max_features=sqrt, model__min_samples_leaf=2, model__min_samples_split=4, model__n_estimators=200; total time=   0.4s\n",
      "[CV] END model__max_features=sqrt, model__min_samples_leaf=2, model__min_samples_split=4, model__n_estimators=200; total time=   0.3s\n",
      "[CV] END model__max_features=sqrt, model__min_samples_leaf=2, model__min_samples_split=4, model__n_estimators=500; total time=   0.9s\n",
      "[CV] END model__max_features=sqrt, model__min_samples_leaf=2, model__min_samples_split=4, model__n_estimators=500; total time=   0.9s\n",
      "[CV] END model__max_features=sqrt, model__min_samples_leaf=2, model__min_samples_split=4, model__n_estimators=500; total time=   0.9s\n",
      "[CV] END model__max_features=sqrt, model__min_samples_leaf=2, model__min_samples_split=4, model__n_estimators=500; total time=   0.9s\n",
      "[CV] END model__max_features=sqrt, model__min_samples_leaf=2, model__min_samples_split=4, model__n_estimators=500; total time=   0.8s\n",
      "[CV] END model__max_features=sqrt, model__min_samples_leaf=2, model__min_samples_split=4, model__n_estimators=750; total time=   1.9s\n",
      "[CV] END model__max_features=sqrt, model__min_samples_leaf=2, model__min_samples_split=4, model__n_estimators=750; total time=   1.7s\n",
      "[CV] END model__max_features=sqrt, model__min_samples_leaf=2, model__min_samples_split=4, model__n_estimators=750; total time=   1.5s\n",
      "[CV] END model__max_features=sqrt, model__min_samples_leaf=2, model__min_samples_split=4, model__n_estimators=750; total time=   1.6s\n",
      "[CV] END model__max_features=sqrt, model__min_samples_leaf=2, model__min_samples_split=4, model__n_estimators=750; total time=   1.6s\n",
      "[CV] END model__max_features=sqrt, model__min_samples_leaf=4, model__min_samples_split=2, model__n_estimators=200; total time=   0.3s\n",
      "[CV] END model__max_features=sqrt, model__min_samples_leaf=4, model__min_samples_split=2, model__n_estimators=200; total time=   0.4s\n",
      "[CV] END model__max_features=sqrt, model__min_samples_leaf=4, model__min_samples_split=2, model__n_estimators=200; total time=   0.3s\n",
      "[CV] END model__max_features=sqrt, model__min_samples_leaf=4, model__min_samples_split=2, model__n_estimators=200; total time=   0.4s\n",
      "[CV] END model__max_features=sqrt, model__min_samples_leaf=4, model__min_samples_split=2, model__n_estimators=200; total time=   0.4s\n",
      "[CV] END model__max_features=sqrt, model__min_samples_leaf=4, model__min_samples_split=2, model__n_estimators=500; total time=   0.7s\n",
      "[CV] END model__max_features=sqrt, model__min_samples_leaf=4, model__min_samples_split=2, model__n_estimators=500; total time=   0.7s\n",
      "[CV] END model__max_features=sqrt, model__min_samples_leaf=4, model__min_samples_split=2, model__n_estimators=500; total time=   0.8s\n",
      "[CV] END model__max_features=sqrt, model__min_samples_leaf=4, model__min_samples_split=2, model__n_estimators=500; total time=   0.8s\n",
      "[CV] END model__max_features=sqrt, model__min_samples_leaf=4, model__min_samples_split=2, model__n_estimators=500; total time=   0.8s\n",
      "[CV] END model__max_features=sqrt, model__min_samples_leaf=4, model__min_samples_split=2, model__n_estimators=750; total time=   1.1s\n",
      "[CV] END model__max_features=sqrt, model__min_samples_leaf=4, model__min_samples_split=2, model__n_estimators=750; total time=   1.3s\n",
      "[CV] END model__max_features=sqrt, model__min_samples_leaf=4, model__min_samples_split=2, model__n_estimators=750; total time=   1.4s\n",
      "[CV] END model__max_features=sqrt, model__min_samples_leaf=4, model__min_samples_split=2, model__n_estimators=750; total time=   1.9s\n",
      "[CV] END model__max_features=sqrt, model__min_samples_leaf=4, model__min_samples_split=2, model__n_estimators=750; total time=   1.5s\n",
      "[CV] END model__max_features=sqrt, model__min_samples_leaf=4, model__min_samples_split=4, model__n_estimators=200; total time=   0.3s\n",
      "[CV] END model__max_features=sqrt, model__min_samples_leaf=4, model__min_samples_split=4, model__n_estimators=200; total time=   0.4s\n",
      "[CV] END model__max_features=sqrt, model__min_samples_leaf=4, model__min_samples_split=4, model__n_estimators=200; total time=   0.4s\n",
      "[CV] END model__max_features=sqrt, model__min_samples_leaf=4, model__min_samples_split=4, model__n_estimators=200; total time=   0.5s\n",
      "[CV] END model__max_features=sqrt, model__min_samples_leaf=4, model__min_samples_split=4, model__n_estimators=200; total time=   0.4s\n",
      "[CV] END model__max_features=sqrt, model__min_samples_leaf=4, model__min_samples_split=4, model__n_estimators=500; total time=   0.9s\n",
      "[CV] END model__max_features=sqrt, model__min_samples_leaf=4, model__min_samples_split=4, model__n_estimators=500; total time=   0.8s\n",
      "[CV] END model__max_features=sqrt, model__min_samples_leaf=4, model__min_samples_split=4, model__n_estimators=500; total time=   0.7s\n",
      "[CV] END model__max_features=sqrt, model__min_samples_leaf=4, model__min_samples_split=4, model__n_estimators=500; total time=   0.7s\n",
      "[CV] END model__max_features=sqrt, model__min_samples_leaf=4, model__min_samples_split=4, model__n_estimators=500; total time=   0.9s\n",
      "[CV] END model__max_features=sqrt, model__min_samples_leaf=4, model__min_samples_split=4, model__n_estimators=750; total time=   1.3s\n",
      "[CV] END model__max_features=sqrt, model__min_samples_leaf=4, model__min_samples_split=4, model__n_estimators=750; total time=   1.6s\n",
      "[CV] END model__max_features=sqrt, model__min_samples_leaf=4, model__min_samples_split=4, model__n_estimators=750; total time=   1.6s\n",
      "[CV] END model__max_features=sqrt, model__min_samples_leaf=4, model__min_samples_split=4, model__n_estimators=750; total time=   1.3s\n",
      "[CV] END model__max_features=sqrt, model__min_samples_leaf=4, model__min_samples_split=4, model__n_estimators=750; total time=   1.4s\n",
      "[CV] END model__max_features=1, model__min_samples_leaf=1, model__min_samples_split=2, model__n_estimators=200; total time=   0.5s\n",
      "[CV] END model__max_features=1, model__min_samples_leaf=1, model__min_samples_split=2, model__n_estimators=200; total time=   0.4s\n",
      "[CV] END model__max_features=1, model__min_samples_leaf=1, model__min_samples_split=2, model__n_estimators=200; total time=   0.6s\n",
      "[CV] END model__max_features=1, model__min_samples_leaf=1, model__min_samples_split=2, model__n_estimators=200; total time=   0.4s\n",
      "[CV] END model__max_features=1, model__min_samples_leaf=1, model__min_samples_split=2, model__n_estimators=200; total time=   0.4s\n"
     ]
    },
    {
     "name": "stdout",
     "output_type": "stream",
     "text": [
      "[CV] END model__max_features=1, model__min_samples_leaf=1, model__min_samples_split=2, model__n_estimators=500; total time=   0.9s\n",
      "[CV] END model__max_features=1, model__min_samples_leaf=1, model__min_samples_split=2, model__n_estimators=500; total time=   0.8s\n",
      "[CV] END model__max_features=1, model__min_samples_leaf=1, model__min_samples_split=2, model__n_estimators=500; total time=   0.7s\n",
      "[CV] END model__max_features=1, model__min_samples_leaf=1, model__min_samples_split=2, model__n_estimators=500; total time=   0.8s\n",
      "[CV] END model__max_features=1, model__min_samples_leaf=1, model__min_samples_split=2, model__n_estimators=500; total time=   0.8s\n",
      "[CV] END model__max_features=1, model__min_samples_leaf=1, model__min_samples_split=2, model__n_estimators=750; total time=   1.1s\n",
      "[CV] END model__max_features=1, model__min_samples_leaf=1, model__min_samples_split=2, model__n_estimators=750; total time=   1.1s\n",
      "[CV] END model__max_features=1, model__min_samples_leaf=1, model__min_samples_split=2, model__n_estimators=750; total time=   1.1s\n",
      "[CV] END model__max_features=1, model__min_samples_leaf=1, model__min_samples_split=2, model__n_estimators=750; total time=   1.5s\n",
      "[CV] END model__max_features=1, model__min_samples_leaf=1, model__min_samples_split=2, model__n_estimators=750; total time=   1.7s\n",
      "[CV] END model__max_features=1, model__min_samples_leaf=1, model__min_samples_split=4, model__n_estimators=200; total time=   0.4s\n",
      "[CV] END model__max_features=1, model__min_samples_leaf=1, model__min_samples_split=4, model__n_estimators=200; total time=   0.4s\n",
      "[CV] END model__max_features=1, model__min_samples_leaf=1, model__min_samples_split=4, model__n_estimators=200; total time=   0.4s\n",
      "[CV] END model__max_features=1, model__min_samples_leaf=1, model__min_samples_split=4, model__n_estimators=200; total time=   0.4s\n",
      "[CV] END model__max_features=1, model__min_samples_leaf=1, model__min_samples_split=4, model__n_estimators=200; total time=   0.4s\n",
      "[CV] END model__max_features=1, model__min_samples_leaf=1, model__min_samples_split=4, model__n_estimators=500; total time=   0.9s\n",
      "[CV] END model__max_features=1, model__min_samples_leaf=1, model__min_samples_split=4, model__n_estimators=500; total time=   1.2s\n",
      "[CV] END model__max_features=1, model__min_samples_leaf=1, model__min_samples_split=4, model__n_estimators=500; total time=   1.1s\n",
      "[CV] END model__max_features=1, model__min_samples_leaf=1, model__min_samples_split=4, model__n_estimators=500; total time=   0.9s\n",
      "[CV] END model__max_features=1, model__min_samples_leaf=1, model__min_samples_split=4, model__n_estimators=500; total time=   0.8s\n",
      "[CV] END model__max_features=1, model__min_samples_leaf=1, model__min_samples_split=4, model__n_estimators=750; total time=   1.2s\n",
      "[CV] END model__max_features=1, model__min_samples_leaf=1, model__min_samples_split=4, model__n_estimators=750; total time=   1.4s\n",
      "[CV] END model__max_features=1, model__min_samples_leaf=1, model__min_samples_split=4, model__n_estimators=750; total time=   1.9s\n",
      "[CV] END model__max_features=1, model__min_samples_leaf=1, model__min_samples_split=4, model__n_estimators=750; total time=   1.8s\n",
      "[CV] END model__max_features=1, model__min_samples_leaf=1, model__min_samples_split=4, model__n_estimators=750; total time=   1.5s\n",
      "[CV] END model__max_features=1, model__min_samples_leaf=2, model__min_samples_split=2, model__n_estimators=200; total time=   0.4s\n",
      "[CV] END model__max_features=1, model__min_samples_leaf=2, model__min_samples_split=2, model__n_estimators=200; total time=   0.4s\n",
      "[CV] END model__max_features=1, model__min_samples_leaf=2, model__min_samples_split=2, model__n_estimators=200; total time=   0.3s\n",
      "[CV] END model__max_features=1, model__min_samples_leaf=2, model__min_samples_split=2, model__n_estimators=200; total time=   0.3s\n",
      "[CV] END model__max_features=1, model__min_samples_leaf=2, model__min_samples_split=2, model__n_estimators=200; total time=   0.3s\n",
      "[CV] END model__max_features=1, model__min_samples_leaf=2, model__min_samples_split=2, model__n_estimators=500; total time=   0.8s\n",
      "[CV] END model__max_features=1, model__min_samples_leaf=2, model__min_samples_split=2, model__n_estimators=500; total time=   0.9s\n",
      "[CV] END model__max_features=1, model__min_samples_leaf=2, model__min_samples_split=2, model__n_estimators=500; total time=   0.9s\n",
      "[CV] END model__max_features=1, model__min_samples_leaf=2, model__min_samples_split=2, model__n_estimators=500; total time=   0.8s\n",
      "[CV] END model__max_features=1, model__min_samples_leaf=2, model__min_samples_split=2, model__n_estimators=500; total time=   0.8s\n",
      "[CV] END model__max_features=1, model__min_samples_leaf=2, model__min_samples_split=2, model__n_estimators=750; total time=   1.1s\n",
      "[CV] END model__max_features=1, model__min_samples_leaf=2, model__min_samples_split=2, model__n_estimators=750; total time=   1.0s\n",
      "[CV] END model__max_features=1, model__min_samples_leaf=2, model__min_samples_split=2, model__n_estimators=750; total time=   1.3s\n",
      "[CV] END model__max_features=1, model__min_samples_leaf=2, model__min_samples_split=2, model__n_estimators=750; total time=   1.1s\n",
      "[CV] END model__max_features=1, model__min_samples_leaf=2, model__min_samples_split=2, model__n_estimators=750; total time=   1.2s\n",
      "[CV] END model__max_features=1, model__min_samples_leaf=2, model__min_samples_split=4, model__n_estimators=200; total time=   0.3s\n",
      "[CV] END model__max_features=1, model__min_samples_leaf=2, model__min_samples_split=4, model__n_estimators=200; total time=   0.3s\n",
      "[CV] END model__max_features=1, model__min_samples_leaf=2, model__min_samples_split=4, model__n_estimators=200; total time=   0.3s\n",
      "[CV] END model__max_features=1, model__min_samples_leaf=2, model__min_samples_split=4, model__n_estimators=200; total time=   0.3s\n",
      "[CV] END model__max_features=1, model__min_samples_leaf=2, model__min_samples_split=4, model__n_estimators=200; total time=   0.3s\n",
      "[CV] END model__max_features=1, model__min_samples_leaf=2, model__min_samples_split=4, model__n_estimators=500; total time=   0.7s\n",
      "[CV] END model__max_features=1, model__min_samples_leaf=2, model__min_samples_split=4, model__n_estimators=500; total time=   0.8s\n",
      "[CV] END model__max_features=1, model__min_samples_leaf=2, model__min_samples_split=4, model__n_estimators=500; total time=   0.7s\n",
      "[CV] END model__max_features=1, model__min_samples_leaf=2, model__min_samples_split=4, model__n_estimators=500; total time=   0.6s\n",
      "[CV] END model__max_features=1, model__min_samples_leaf=2, model__min_samples_split=4, model__n_estimators=500; total time=   0.8s\n",
      "[CV] END model__max_features=1, model__min_samples_leaf=2, model__min_samples_split=4, model__n_estimators=750; total time=   1.1s\n",
      "[CV] END model__max_features=1, model__min_samples_leaf=2, model__min_samples_split=4, model__n_estimators=750; total time=   1.1s\n",
      "[CV] END model__max_features=1, model__min_samples_leaf=2, model__min_samples_split=4, model__n_estimators=750; total time=   1.2s\n",
      "[CV] END model__max_features=1, model__min_samples_leaf=2, model__min_samples_split=4, model__n_estimators=750; total time=   1.1s\n",
      "[CV] END model__max_features=1, model__min_samples_leaf=2, model__min_samples_split=4, model__n_estimators=750; total time=   1.1s\n",
      "[CV] END model__max_features=1, model__min_samples_leaf=4, model__min_samples_split=2, model__n_estimators=200; total time=   0.3s\n",
      "[CV] END model__max_features=1, model__min_samples_leaf=4, model__min_samples_split=2, model__n_estimators=200; total time=   0.2s\n",
      "[CV] END model__max_features=1, model__min_samples_leaf=4, model__min_samples_split=2, model__n_estimators=200; total time=   0.2s\n",
      "[CV] END model__max_features=1, model__min_samples_leaf=4, model__min_samples_split=2, model__n_estimators=200; total time=   0.3s\n",
      "[CV] END model__max_features=1, model__min_samples_leaf=4, model__min_samples_split=2, model__n_estimators=200; total time=   0.3s\n",
      "[CV] END model__max_features=1, model__min_samples_leaf=4, model__min_samples_split=2, model__n_estimators=500; total time=   0.6s\n",
      "[CV] END model__max_features=1, model__min_samples_leaf=4, model__min_samples_split=2, model__n_estimators=500; total time=   0.5s\n",
      "[CV] END model__max_features=1, model__min_samples_leaf=4, model__min_samples_split=2, model__n_estimators=500; total time=   0.7s\n"
     ]
    },
    {
     "name": "stdout",
     "output_type": "stream",
     "text": [
      "[CV] END model__max_features=1, model__min_samples_leaf=4, model__min_samples_split=2, model__n_estimators=500; total time=   0.6s\n",
      "[CV] END model__max_features=1, model__min_samples_leaf=4, model__min_samples_split=2, model__n_estimators=500; total time=   0.5s\n",
      "[CV] END model__max_features=1, model__min_samples_leaf=4, model__min_samples_split=2, model__n_estimators=750; total time=   1.0s\n",
      "[CV] END model__max_features=1, model__min_samples_leaf=4, model__min_samples_split=2, model__n_estimators=750; total time=   0.9s\n",
      "[CV] END model__max_features=1, model__min_samples_leaf=4, model__min_samples_split=2, model__n_estimators=750; total time=   0.9s\n",
      "[CV] END model__max_features=1, model__min_samples_leaf=4, model__min_samples_split=2, model__n_estimators=750; total time=   0.8s\n",
      "[CV] END model__max_features=1, model__min_samples_leaf=4, model__min_samples_split=2, model__n_estimators=750; total time=   0.8s\n",
      "[CV] END model__max_features=1, model__min_samples_leaf=4, model__min_samples_split=4, model__n_estimators=200; total time=   0.2s\n",
      "[CV] END model__max_features=1, model__min_samples_leaf=4, model__min_samples_split=4, model__n_estimators=200; total time=   0.2s\n",
      "[CV] END model__max_features=1, model__min_samples_leaf=4, model__min_samples_split=4, model__n_estimators=200; total time=   0.2s\n",
      "[CV] END model__max_features=1, model__min_samples_leaf=4, model__min_samples_split=4, model__n_estimators=200; total time=   0.2s\n",
      "[CV] END model__max_features=1, model__min_samples_leaf=4, model__min_samples_split=4, model__n_estimators=200; total time=   0.2s\n",
      "[CV] END model__max_features=1, model__min_samples_leaf=4, model__min_samples_split=4, model__n_estimators=500; total time=   0.4s\n",
      "[CV] END model__max_features=1, model__min_samples_leaf=4, model__min_samples_split=4, model__n_estimators=500; total time=   0.5s\n",
      "[CV] END model__max_features=1, model__min_samples_leaf=4, model__min_samples_split=4, model__n_estimators=500; total time=   0.5s\n",
      "[CV] END model__max_features=1, model__min_samples_leaf=4, model__min_samples_split=4, model__n_estimators=500; total time=   0.5s\n",
      "[CV] END model__max_features=1, model__min_samples_leaf=4, model__min_samples_split=4, model__n_estimators=500; total time=   0.4s\n",
      "[CV] END model__max_features=1, model__min_samples_leaf=4, model__min_samples_split=4, model__n_estimators=750; total time=   0.8s\n",
      "[CV] END model__max_features=1, model__min_samples_leaf=4, model__min_samples_split=4, model__n_estimators=750; total time=   0.8s\n",
      "[CV] END model__max_features=1, model__min_samples_leaf=4, model__min_samples_split=4, model__n_estimators=750; total time=   0.8s\n",
      "[CV] END model__max_features=1, model__min_samples_leaf=4, model__min_samples_split=4, model__n_estimators=750; total time=   0.7s\n",
      "[CV] END model__max_features=1, model__min_samples_leaf=4, model__min_samples_split=4, model__n_estimators=750; total time=   0.8s\n"
     ]
    },
    {
     "data": {
      "text/html": [
       "<style>#sk-container-id-4 {color: black;background-color: white;}#sk-container-id-4 pre{padding: 0;}#sk-container-id-4 div.sk-toggleable {background-color: white;}#sk-container-id-4 label.sk-toggleable__label {cursor: pointer;display: block;width: 100%;margin-bottom: 0;padding: 0.3em;box-sizing: border-box;text-align: center;}#sk-container-id-4 label.sk-toggleable__label-arrow:before {content: \"▸\";float: left;margin-right: 0.25em;color: #696969;}#sk-container-id-4 label.sk-toggleable__label-arrow:hover:before {color: black;}#sk-container-id-4 div.sk-estimator:hover label.sk-toggleable__label-arrow:before {color: black;}#sk-container-id-4 div.sk-toggleable__content {max-height: 0;max-width: 0;overflow: hidden;text-align: left;background-color: #f0f8ff;}#sk-container-id-4 div.sk-toggleable__content pre {margin: 0.2em;color: black;border-radius: 0.25em;background-color: #f0f8ff;}#sk-container-id-4 input.sk-toggleable__control:checked~div.sk-toggleable__content {max-height: 200px;max-width: 100%;overflow: auto;}#sk-container-id-4 input.sk-toggleable__control:checked~label.sk-toggleable__label-arrow:before {content: \"▾\";}#sk-container-id-4 div.sk-estimator input.sk-toggleable__control:checked~label.sk-toggleable__label {background-color: #d4ebff;}#sk-container-id-4 div.sk-label input.sk-toggleable__control:checked~label.sk-toggleable__label {background-color: #d4ebff;}#sk-container-id-4 input.sk-hidden--visually {border: 0;clip: rect(1px 1px 1px 1px);clip: rect(1px, 1px, 1px, 1px);height: 1px;margin: -1px;overflow: hidden;padding: 0;position: absolute;width: 1px;}#sk-container-id-4 div.sk-estimator {font-family: monospace;background-color: #f0f8ff;border: 1px dotted black;border-radius: 0.25em;box-sizing: border-box;margin-bottom: 0.5em;}#sk-container-id-4 div.sk-estimator:hover {background-color: #d4ebff;}#sk-container-id-4 div.sk-parallel-item::after {content: \"\";width: 100%;border-bottom: 1px solid gray;flex-grow: 1;}#sk-container-id-4 div.sk-label:hover label.sk-toggleable__label {background-color: #d4ebff;}#sk-container-id-4 div.sk-serial::before {content: \"\";position: absolute;border-left: 1px solid gray;box-sizing: border-box;top: 0;bottom: 0;left: 50%;z-index: 0;}#sk-container-id-4 div.sk-serial {display: flex;flex-direction: column;align-items: center;background-color: white;padding-right: 0.2em;padding-left: 0.2em;position: relative;}#sk-container-id-4 div.sk-item {position: relative;z-index: 1;}#sk-container-id-4 div.sk-parallel {display: flex;align-items: stretch;justify-content: center;background-color: white;position: relative;}#sk-container-id-4 div.sk-item::before, #sk-container-id-4 div.sk-parallel-item::before {content: \"\";position: absolute;border-left: 1px solid gray;box-sizing: border-box;top: 0;bottom: 0;left: 50%;z-index: -1;}#sk-container-id-4 div.sk-parallel-item {display: flex;flex-direction: column;z-index: 1;position: relative;background-color: white;}#sk-container-id-4 div.sk-parallel-item:first-child::after {align-self: flex-end;width: 50%;}#sk-container-id-4 div.sk-parallel-item:last-child::after {align-self: flex-start;width: 50%;}#sk-container-id-4 div.sk-parallel-item:only-child::after {width: 0;}#sk-container-id-4 div.sk-dashed-wrapped {border: 1px dashed gray;margin: 0 0.4em 0.5em 0.4em;box-sizing: border-box;padding-bottom: 0.4em;background-color: white;}#sk-container-id-4 div.sk-label label {font-family: monospace;font-weight: bold;display: inline-block;line-height: 1.2em;}#sk-container-id-4 div.sk-label-container {text-align: center;}#sk-container-id-4 div.sk-container {/* jupyter's `normalize.less` sets `[hidden] { display: none; }` but bootstrap.min.css set `[hidden] { display: none !important; }` so we also need the `!important` here to be able to override the default hidden behavior on the sphinx rendered scikit-learn.org. See: https://github.com/scikit-learn/scikit-learn/issues/21755 */display: inline-block !important;position: relative;}#sk-container-id-4 div.sk-text-repr-fallback {display: none;}</style><div id=\"sk-container-id-4\" class=\"sk-top-container\"><div class=\"sk-text-repr-fallback\"><pre>GridSearchCV(cv=5,\n",
       "             estimator=Pipeline(steps=[(&#x27;preprocess&#x27;,\n",
       "                                        ColumnTransformer(remainder=&#x27;passthrough&#x27;,\n",
       "                                                          transformers=[(&#x27;categorical&#x27;,\n",
       "                                                                         OneHotEncoder(sparse=False),\n",
       "                                                                         [&#x27;Admit &#x27;\n",
       "                                                                          &#x27;Day &#x27;\n",
       "                                                                          &#x27;of &#x27;\n",
       "                                                                          &#x27;Week&#x27;,\n",
       "                                                                          &#x27;Diagnostic &#x27;\n",
       "                                                                          &#x27;Code&#x27;,\n",
       "                                                                          &#x27;Admit &#x27;\n",
       "                                                                          &#x27;Month&#x27;,\n",
       "                                                                          &#x27;Ethnicity &#x27;\n",
       "                                                                          &#x27;Group&#x27;,\n",
       "                                                                          &#x27;DHB &#x27;\n",
       "                                                                          &#x27;Group&#x27;]),\n",
       "                                                                        (&#x27;numerical&#x27;,\n",
       "                                                                         StandardScaler(),\n",
       "                                                                         [&#x27;Age&#x27;])])),\n",
       "                                       (&#x27;model&#x27;,\n",
       "                                        RandomForestRegressor(n_jobs=-1))]),\n",
       "             param_grid={&#x27;model__max_features&#x27;: [&#x27;log2&#x27;, &#x27;sqrt&#x27;, 1],\n",
       "                         &#x27;model__min_samples_leaf&#x27;: [1, 2, 4],\n",
       "                         &#x27;model__min_samples_split&#x27;: [2, 4],\n",
       "                         &#x27;model__n_estimators&#x27;: [200, 500, 750]},\n",
       "             scoring=&#x27;r2&#x27;, verbose=2)</pre><b>In a Jupyter environment, please rerun this cell to show the HTML representation or trust the notebook. <br />On GitHub, the HTML representation is unable to render, please try loading this page with nbviewer.org.</b></div><div class=\"sk-container\" hidden><div class=\"sk-item sk-dashed-wrapped\"><div class=\"sk-label-container\"><div class=\"sk-label sk-toggleable\"><input class=\"sk-toggleable__control sk-hidden--visually\" id=\"sk-estimator-id-31\" type=\"checkbox\" ><label for=\"sk-estimator-id-31\" class=\"sk-toggleable__label sk-toggleable__label-arrow\">GridSearchCV</label><div class=\"sk-toggleable__content\"><pre>GridSearchCV(cv=5,\n",
       "             estimator=Pipeline(steps=[(&#x27;preprocess&#x27;,\n",
       "                                        ColumnTransformer(remainder=&#x27;passthrough&#x27;,\n",
       "                                                          transformers=[(&#x27;categorical&#x27;,\n",
       "                                                                         OneHotEncoder(sparse=False),\n",
       "                                                                         [&#x27;Admit &#x27;\n",
       "                                                                          &#x27;Day &#x27;\n",
       "                                                                          &#x27;of &#x27;\n",
       "                                                                          &#x27;Week&#x27;,\n",
       "                                                                          &#x27;Diagnostic &#x27;\n",
       "                                                                          &#x27;Code&#x27;,\n",
       "                                                                          &#x27;Admit &#x27;\n",
       "                                                                          &#x27;Month&#x27;,\n",
       "                                                                          &#x27;Ethnicity &#x27;\n",
       "                                                                          &#x27;Group&#x27;,\n",
       "                                                                          &#x27;DHB &#x27;\n",
       "                                                                          &#x27;Group&#x27;]),\n",
       "                                                                        (&#x27;numerical&#x27;,\n",
       "                                                                         StandardScaler(),\n",
       "                                                                         [&#x27;Age&#x27;])])),\n",
       "                                       (&#x27;model&#x27;,\n",
       "                                        RandomForestRegressor(n_jobs=-1))]),\n",
       "             param_grid={&#x27;model__max_features&#x27;: [&#x27;log2&#x27;, &#x27;sqrt&#x27;, 1],\n",
       "                         &#x27;model__min_samples_leaf&#x27;: [1, 2, 4],\n",
       "                         &#x27;model__min_samples_split&#x27;: [2, 4],\n",
       "                         &#x27;model__n_estimators&#x27;: [200, 500, 750]},\n",
       "             scoring=&#x27;r2&#x27;, verbose=2)</pre></div></div></div><div class=\"sk-parallel\"><div class=\"sk-parallel-item\"><div class=\"sk-item\"><div class=\"sk-label-container\"><div class=\"sk-label sk-toggleable\"><input class=\"sk-toggleable__control sk-hidden--visually\" id=\"sk-estimator-id-32\" type=\"checkbox\" ><label for=\"sk-estimator-id-32\" class=\"sk-toggleable__label sk-toggleable__label-arrow\">estimator: Pipeline</label><div class=\"sk-toggleable__content\"><pre>Pipeline(steps=[(&#x27;preprocess&#x27;,\n",
       "                 ColumnTransformer(remainder=&#x27;passthrough&#x27;,\n",
       "                                   transformers=[(&#x27;categorical&#x27;,\n",
       "                                                  OneHotEncoder(sparse=False),\n",
       "                                                  [&#x27;Admit Day of Week&#x27;,\n",
       "                                                   &#x27;Diagnostic Code&#x27;,\n",
       "                                                   &#x27;Admit Month&#x27;,\n",
       "                                                   &#x27;Ethnicity Group&#x27;,\n",
       "                                                   &#x27;DHB Group&#x27;]),\n",
       "                                                 (&#x27;numerical&#x27;, StandardScaler(),\n",
       "                                                  [&#x27;Age&#x27;])])),\n",
       "                (&#x27;model&#x27;, RandomForestRegressor(n_jobs=-1))])</pre></div></div></div><div class=\"sk-serial\"><div class=\"sk-item\"><div class=\"sk-serial\"><div class=\"sk-item sk-dashed-wrapped\"><div class=\"sk-label-container\"><div class=\"sk-label sk-toggleable\"><input class=\"sk-toggleable__control sk-hidden--visually\" id=\"sk-estimator-id-33\" type=\"checkbox\" ><label for=\"sk-estimator-id-33\" class=\"sk-toggleable__label sk-toggleable__label-arrow\">preprocess: ColumnTransformer</label><div class=\"sk-toggleable__content\"><pre>ColumnTransformer(remainder=&#x27;passthrough&#x27;,\n",
       "                  transformers=[(&#x27;categorical&#x27;, OneHotEncoder(sparse=False),\n",
       "                                 [&#x27;Admit Day of Week&#x27;, &#x27;Diagnostic Code&#x27;,\n",
       "                                  &#x27;Admit Month&#x27;, &#x27;Ethnicity Group&#x27;,\n",
       "                                  &#x27;DHB Group&#x27;]),\n",
       "                                (&#x27;numerical&#x27;, StandardScaler(), [&#x27;Age&#x27;])])</pre></div></div></div><div class=\"sk-parallel\"><div class=\"sk-parallel-item\"><div class=\"sk-item\"><div class=\"sk-label-container\"><div class=\"sk-label sk-toggleable\"><input class=\"sk-toggleable__control sk-hidden--visually\" id=\"sk-estimator-id-34\" type=\"checkbox\" ><label for=\"sk-estimator-id-34\" class=\"sk-toggleable__label sk-toggleable__label-arrow\">categorical</label><div class=\"sk-toggleable__content\"><pre>[&#x27;Admit Day of Week&#x27;, &#x27;Diagnostic Code&#x27;, &#x27;Admit Month&#x27;, &#x27;Ethnicity Group&#x27;, &#x27;DHB Group&#x27;]</pre></div></div></div><div class=\"sk-serial\"><div class=\"sk-item\"><div class=\"sk-estimator sk-toggleable\"><input class=\"sk-toggleable__control sk-hidden--visually\" id=\"sk-estimator-id-35\" type=\"checkbox\" ><label for=\"sk-estimator-id-35\" class=\"sk-toggleable__label sk-toggleable__label-arrow\">OneHotEncoder</label><div class=\"sk-toggleable__content\"><pre>OneHotEncoder(sparse=False)</pre></div></div></div></div></div></div><div class=\"sk-parallel-item\"><div class=\"sk-item\"><div class=\"sk-label-container\"><div class=\"sk-label sk-toggleable\"><input class=\"sk-toggleable__control sk-hidden--visually\" id=\"sk-estimator-id-36\" type=\"checkbox\" ><label for=\"sk-estimator-id-36\" class=\"sk-toggleable__label sk-toggleable__label-arrow\">numerical</label><div class=\"sk-toggleable__content\"><pre>[&#x27;Age&#x27;]</pre></div></div></div><div class=\"sk-serial\"><div class=\"sk-item\"><div class=\"sk-estimator sk-toggleable\"><input class=\"sk-toggleable__control sk-hidden--visually\" id=\"sk-estimator-id-37\" type=\"checkbox\" ><label for=\"sk-estimator-id-37\" class=\"sk-toggleable__label sk-toggleable__label-arrow\">StandardScaler</label><div class=\"sk-toggleable__content\"><pre>StandardScaler()</pre></div></div></div></div></div></div><div class=\"sk-parallel-item\"><div class=\"sk-item\"><div class=\"sk-label-container\"><div class=\"sk-label sk-toggleable\"><input class=\"sk-toggleable__control sk-hidden--visually\" id=\"sk-estimator-id-38\" type=\"checkbox\" ><label for=\"sk-estimator-id-38\" class=\"sk-toggleable__label sk-toggleable__label-arrow\">remainder</label><div class=\"sk-toggleable__content\"><pre>[&#x27;Gender&#x27;, &#x27;Smoker Status&#x27;]</pre></div></div></div><div class=\"sk-serial\"><div class=\"sk-item\"><div class=\"sk-estimator sk-toggleable\"><input class=\"sk-toggleable__control sk-hidden--visually\" id=\"sk-estimator-id-39\" type=\"checkbox\" ><label for=\"sk-estimator-id-39\" class=\"sk-toggleable__label sk-toggleable__label-arrow\">passthrough</label><div class=\"sk-toggleable__content\"><pre>passthrough</pre></div></div></div></div></div></div></div></div><div class=\"sk-item\"><div class=\"sk-estimator sk-toggleable\"><input class=\"sk-toggleable__control sk-hidden--visually\" id=\"sk-estimator-id-40\" type=\"checkbox\" ><label for=\"sk-estimator-id-40\" class=\"sk-toggleable__label sk-toggleable__label-arrow\">RandomForestRegressor</label><div class=\"sk-toggleable__content\"><pre>RandomForestRegressor(n_jobs=-1)</pre></div></div></div></div></div></div></div></div></div></div></div></div>"
      ],
      "text/plain": [
       "GridSearchCV(cv=5,\n",
       "             estimator=Pipeline(steps=[('preprocess',\n",
       "                                        ColumnTransformer(remainder='passthrough',\n",
       "                                                          transformers=[('categorical',\n",
       "                                                                         OneHotEncoder(sparse=False),\n",
       "                                                                         ['Admit '\n",
       "                                                                          'Day '\n",
       "                                                                          'of '\n",
       "                                                                          'Week',\n",
       "                                                                          'Diagnostic '\n",
       "                                                                          'Code',\n",
       "                                                                          'Admit '\n",
       "                                                                          'Month',\n",
       "                                                                          'Ethnicity '\n",
       "                                                                          'Group',\n",
       "                                                                          'DHB '\n",
       "                                                                          'Group']),\n",
       "                                                                        ('numerical',\n",
       "                                                                         StandardScaler(),\n",
       "                                                                         ['Age'])])),\n",
       "                                       ('model',\n",
       "                                        RandomForestRegressor(n_jobs=-1))]),\n",
       "             param_grid={'model__max_features': ['log2', 'sqrt', 1],\n",
       "                         'model__min_samples_leaf': [1, 2, 4],\n",
       "                         'model__min_samples_split': [2, 4],\n",
       "                         'model__n_estimators': [200, 500, 750]},\n",
       "             scoring='r2', verbose=2)"
      ]
     },
     "execution_count": 48,
     "metadata": {},
     "output_type": "execute_result"
    }
   ],
   "source": [
    "np.random.seed(42)\n",
    "\n",
    "\n",
    "# X_train2,X_test2,y_train2,y_test2 = train_test_split(X,y,test_size=0.2)\n",
    "model_rf_4 = RandomForestRegressor(n_jobs=-1)\n",
    "pipe_rf_gs = Pipeline(steps=[(\"preprocess\",preprocessor),\n",
    "                      (\"model\",model_rf_4)\n",
    "                      ]\n",
    "               )\n",
    "\n",
    "rf_gs_grid = {\"model__n_estimators\":[200,500,750],\n",
    "              \"model__max_features\": [\"log2\",\"sqrt\",1],\n",
    "              \"model__min_samples_split\":[2,4],\n",
    "              \"model__min_samples_leaf\":[1,2,4]}\n",
    "\n",
    "gs_model_rf = GridSearchCV(estimator=pipe_rf_gs,\n",
    "                           param_grid=rf_gs_grid,\n",
    "                           scoring='r2',\n",
    "                           cv=5,\n",
    "                           verbose=2)\n",
    "# Training models\n",
    "gs_model_rf.fit(X_train,y_train)"
   ]
  },
  {
   "cell_type": "code",
   "execution_count": 49,
   "id": "f503ef82",
   "metadata": {},
   "outputs": [
    {
     "data": {
      "text/plain": [
       "{'model__max_features': 'sqrt',\n",
       " 'model__min_samples_leaf': 4,\n",
       " 'model__min_samples_split': 4,\n",
       " 'model__n_estimators': 200}"
      ]
     },
     "execution_count": 49,
     "metadata": {},
     "output_type": "execute_result"
    }
   ],
   "source": [
    "gs_model_rf.best_params_"
   ]
  },
  {
   "cell_type": "code",
   "execution_count": 50,
   "id": "be79a725",
   "metadata": {},
   "outputs": [
    {
     "data": {
      "text/plain": [
       "0.14472521986994405"
      ]
     },
     "execution_count": 50,
     "metadata": {},
     "output_type": "execute_result"
    }
   ],
   "source": [
    "gs_model_rf.best_score_"
   ]
  },
  {
   "cell_type": "markdown",
   "id": "ca99ecac",
   "metadata": {},
   "source": [
    "#### Re-train the best model"
   ]
  },
  {
   "cell_type": "code",
   "execution_count": 51,
   "id": "aa14ce39",
   "metadata": {},
   "outputs": [
    {
     "name": "stdout",
     "output_type": "stream",
     "text": [
      "MSE: 6.15\n",
      "RMSE: 2.48\n",
      "R2: 0.17\n",
      "MAE: 1.67\n"
     ]
    }
   ],
   "source": [
    "np.random.seed(42)\n",
    "\n",
    "final_model_rf = RandomForestRegressor(max_features='sqrt',\n",
    "                                        min_samples_leaf=4, \n",
    "                                        min_samples_split=4, \n",
    "                                        n_estimators=200)\n",
    "\n",
    "pipe = Pipeline(steps=[(\"preprocess\",preprocessor),\n",
    "                      (\"model\",final_model_rf)\n",
    "                      ]\n",
    "               )\n",
    "\n",
    "pipe.fit(X_train,y_train)\n",
    "final_y_preds_rf = pipe.predict(X_test)\n",
    "final_model_metrics_rf = evaluate_models(y_test,final_y_preds_rf)\n",
    "# final_model_metrics\n",
    "\n",
    "# final_y_preds_proba_rf = final_model_rf.predict_proba(X_test)\n",
    "# plot_roc_curve(y_test,final_y_preds_proba_rf[:,1])"
   ]
  },
  {
   "cell_type": "markdown",
   "id": "262b27f6",
   "metadata": {},
   "source": [
    "MSE: 6.15\n",
    "RMSE: 2.48\n",
    "R2: 0.17\n",
    "MAE: 1.67"
   ]
  },
  {
   "cell_type": "markdown",
   "id": "0ae2393a",
   "metadata": {},
   "source": [
    "## Permutation feature importance"
   ]
  },
  {
   "cell_type": "code",
   "execution_count": 52,
   "id": "15e0f4be",
   "metadata": {},
   "outputs": [],
   "source": [
    "#%% Feature Permutation Importance\n",
    "from sklearn.inspection import permutation_importance\n",
    "plt.rcParams.update({'font.size': 12})\n",
    "rcParams['figure.figsize'] = 8,5\n",
    "per_imp = permutation_importance(pipe, X_test, y_test, scoring='r2') #pipe_tune_best\n",
    "sorted_idx = per_imp.importances_mean.argsort()"
   ]
  },
  {
   "cell_type": "code",
   "execution_count": 54,
   "id": "07783bc9",
   "metadata": {},
   "outputs": [
    {
     "data": {
      "text/plain": [
       "Text(0.5, 1.0, 'Feature Importance')"
      ]
     },
     "execution_count": 54,
     "metadata": {},
     "output_type": "execute_result"
    },
    {
     "data": {
      "image/png": "[encoded data removed]",
      "text/plain": [
       "<Figure size 576x360 with 1 Axes>"
      ]
     },
     "metadata": {
      "needs_background": "light"
     },
     "output_type": "display_data"
    }
   ],
   "source": [
    "# first_x = sorted_idx[:22]\n",
    "plt.barh(X_train.columns[sorted_idx], per_imp.importances_mean[sorted_idx])\n",
    "plt.xlabel(\"Permutation Importance\")\n",
    "plt.title('Feature Importance')"
   ]
  },
  {
   "cell_type": "markdown",
   "id": "41caafbd",
   "metadata": {},
   "source": [
    "### Feature Importance"
   ]
  },
  {
   "cell_type": "code",
   "execution_count": 102,
   "id": "32acf652",
   "metadata": {},
   "outputs": [
    {
     "name": "stdout",
     "output_type": "stream",
     "text": [
      "Elapsed time for computing feature importance: 0.027 seconds\n"
     ]
    }
   ],
   "source": [
    "import time\n",
    "start_time = time.time()\n",
    "importances = final_model_rf.feature_importances_\n",
    "std = np.std([tree.feature_importances_ for tree in final_model_rf.estimators_], axis=0)\n",
    "elapsed_time = time.time() - start_time\n",
    "print(f\"Elapsed time for computing feature importance: {elapsed_time:.3f} seconds\")"
   ]
  },
  {
   "cell_type": "code",
   "execution_count": 98,
   "id": "378db333",
   "metadata": {},
   "outputs": [
    {
     "data": {
      "text/plain": [
       "Index(['Admit Day of Week', 'Age', 'Gender', 'Smoker Status',\n",
       "       'Diagnostic Code', 'Admit Month', 'Ethnicity Group', 'DHB Group'],\n",
       "      dtype='object')"
      ]
     },
     "execution_count": 98,
     "metadata": {},
     "output_type": "execute_result"
    }
   ],
   "source": [
    "X_train.columns"
   ]
  },
  {
   "cell_type": "code",
   "execution_count": 103,
   "id": "88c8db84",
   "metadata": {},
   "outputs": [
    {
     "data": {
      "image/png": "[encoded data removed]",
      "text/plain": [
       "<Figure size 432x288 with 1 Axes>"
      ]
     },
     "metadata": {
      "needs_background": "light"
     },
     "output_type": "display_data"
    }
   ],
   "source": [
    "forest_importances = pd.Series(importances) #, index=['Admit Day of Week', 'Age', 'Gender', 'Smoker Status','Diagnostic Code', 'Admit Month', 'Ethnicity Group', 'DHB Group'])\n",
    "fig, ax = plt.subplots()\n",
    "forest_importances.plot.bar(yerr=std, ax=ax)\n",
    "ax.set_title(\"Feature importances using MDI\")\n",
    "ax.set_ylabel(\"Mean decrease in impurity\")\n",
    "fig.tight_layout()"
   ]
  },
  {
   "cell_type": "markdown",
   "id": "3b21e79b",
   "metadata": {},
   "source": [
    "## Linear Regression"
   ]
  },
  {
   "cell_type": "markdown",
   "id": "bbcef5dd",
   "metadata": {},
   "source": [
    "#### Baseline Model"
   ]
  },
  {
   "cell_type": "code",
   "execution_count": 55,
   "id": "9c52fa4d",
   "metadata": {},
   "outputs": [
    {
     "data": {
      "text/plain": [
       "{'fit_time': array([0.05320978, 0.01052642, 0.00950384, 0.01024532, 0.00999999]),\n",
       " 'score_time': array([0.00602102, 0.00399995, 0.00400019, 0.00399923, 0.00399995]),\n",
       " 'test_neg_mean_squared_error': array([-5.6945689 , -5.8289978 , -6.22683493, -5.84089825, -6.35473402]),\n",
       " 'test_r2': array([0.19055139, 0.11851413, 0.18846063, 0.12626355, 0.12428955]),\n",
       " 'test_neg_mean_absolute_error': array([-1.65526095, -1.69113029, -1.68886076, -1.69221727, -1.72369474])}"
      ]
     },
     "execution_count": 55,
     "metadata": {},
     "output_type": "execute_result"
    }
   ],
   "source": [
    "np.random.seed(42)\n",
    "\n",
    "lr_model_baseline = LinearRegression()\n",
    "\n",
    "pipe_lr = Pipeline(steps=[(\"preprocess\",preprocessor),\n",
    "                      (\"model\",lr_model_baseline)\n",
    "                      ]\n",
    "               )\n",
    "\n",
    "# lr_model_baseline.fit(X_train,y_train)\n",
    "# lr_model_baseline.score(X_val,y_val)\n",
    "\n",
    "cross_val_scores_lr = cross_validate(pipe_lr,X_train,y_train, cv=5, scoring=scoring)\n",
    "# print_cv_metrics_mean(cross_val_scores_lr)\n",
    "cross_val_scores_lr"
   ]
  },
  {
   "cell_type": "code",
   "execution_count": 56,
   "id": "744da145",
   "metadata": {},
   "outputs": [
    {
     "data": {
      "text/plain": [
       "{'copy_X': True,\n",
       " 'fit_intercept': True,\n",
       " 'n_jobs': None,\n",
       " 'normalize': 'deprecated',\n",
       " 'positive': False}"
      ]
     },
     "execution_count": 56,
     "metadata": {},
     "output_type": "execute_result"
    }
   ],
   "source": [
    "lr_model_baseline.get_params()"
   ]
  },
  {
   "cell_type": "markdown",
   "id": "5d0b3468",
   "metadata": {},
   "source": [
    "### Xtreme Gradient Boosting "
   ]
  },
  {
   "cell_type": "markdown",
   "id": "711accb4",
   "metadata": {},
   "source": [
    "#### Baseline model"
   ]
  },
  {
   "cell_type": "code",
   "execution_count": 57,
   "id": "f60f31dd",
   "metadata": {},
   "outputs": [
    {
     "name": "stdout",
     "output_type": "stream",
     "text": [
      "Mean MSE: -7.69\n",
      "Mean R2: -0.09\n"
     ]
    }
   ],
   "source": [
    "np.random.seed(42)\n",
    "gb_model_baseline = xgboost.XGBRegressor()\n",
    "pipe_xgb = Pipeline(steps=[(\"preprocess\",preprocessor),\n",
    "                      (\"model\",gb_model_baseline)\n",
    "                      ]\n",
    "               )\n",
    "\n",
    "cross_val_scores_gb = cross_validate(pipe_xgb,X_train,y_train, cv=5, scoring=scoring)\n",
    "print_cv_metrics_mean(cross_val_scores_gb)"
   ]
  },
  {
   "cell_type": "code",
   "execution_count": 58,
   "id": "ea82402b",
   "metadata": {},
   "outputs": [
    {
     "data": {
      "text/plain": [
       "{'objective': 'reg:squarederror',\n",
       " 'base_score': None,\n",
       " 'booster': None,\n",
       " 'callbacks': None,\n",
       " 'colsample_bylevel': None,\n",
       " 'colsample_bynode': None,\n",
       " 'colsample_bytree': None,\n",
       " 'early_stopping_rounds': None,\n",
       " 'enable_categorical': False,\n",
       " 'eval_metric': None,\n",
       " 'gamma': None,\n",
       " 'gpu_id': None,\n",
       " 'grow_policy': None,\n",
       " 'importance_type': None,\n",
       " 'interaction_constraints': None,\n",
       " 'learning_rate': None,\n",
       " 'max_bin': None,\n",
       " 'max_cat_to_onehot': None,\n",
       " 'max_delta_step': None,\n",
       " 'max_depth': None,\n",
       " 'max_leaves': None,\n",
       " 'min_child_weight': None,\n",
       " 'missing': nan,\n",
       " 'monotone_constraints': None,\n",
       " 'n_estimators': 100,\n",
       " 'n_jobs': None,\n",
       " 'num_parallel_tree': None,\n",
       " 'predictor': None,\n",
       " 'random_state': None,\n",
       " 'reg_alpha': None,\n",
       " 'reg_lambda': None,\n",
       " 'sampling_method': None,\n",
       " 'scale_pos_weight': None,\n",
       " 'subsample': None,\n",
       " 'tree_method': None,\n",
       " 'validate_parameters': None,\n",
       " 'verbosity': None}"
      ]
     },
     "execution_count": 58,
     "metadata": {},
     "output_type": "execute_result"
    }
   ],
   "source": [
    "gb_model_baseline.get_params()"
   ]
  },
  {
   "cell_type": "markdown",
   "id": "bfd63027",
   "metadata": {},
   "source": [
    "#### Hyperparameter tuning by hand"
   ]
  },
  {
   "cell_type": "code",
   "execution_count": 65,
   "id": "e97322d5",
   "metadata": {},
   "outputs": [
    {
     "name": "stdout",
     "output_type": "stream",
     "text": [
      "Mean MSE: -7.67\n",
      "Mean R2: -0.09\n"
     ]
    }
   ],
   "source": [
    "np.random.seed(42)\n",
    "gb_model_2 = xgboost.XGBRegressor(learning_rate=0.1, n_estimators=100, random_state=0, max_depth=10, max_leaves=0)\n",
    "pipe_xgb = Pipeline(steps=[(\"preprocess\",preprocessor),\n",
    "                      (\"model\",gb_model_2)\n",
    "                      ]\n",
    "               )\n",
    "\n",
    "cross_val_scores_gb_2 = cross_validate(pipe_xgb,X_train,y_train, cv=5, scoring=scoring)\n",
    "print_cv_metrics_mean(cross_val_scores_gb_2)"
   ]
  },
  {
   "cell_type": "markdown",
   "id": "a38169bb",
   "metadata": {},
   "source": [
    "#### Hyperparameter tuning by RandomizedSearchCV"
   ]
  },
  {
   "cell_type": "code",
   "execution_count": 69,
   "id": "9a01870f",
   "metadata": {},
   "outputs": [
    {
     "name": "stdout",
     "output_type": "stream",
     "text": [
      "Fitting 5 folds for each of 50 candidates, totalling 250 fits\n",
      "[CV] END model__colsample_bytree=0.5, model__eta=0.1, model__max_depth=2, model__n_estimators=500, model__subsample=1; total time=   0.1s\n",
      "[CV] END model__colsample_bytree=0.5, model__eta=0.1, model__max_depth=2, model__n_estimators=500, model__subsample=1; total time=   0.1s\n",
      "[CV] END model__colsample_bytree=0.5, model__eta=0.1, model__max_depth=2, model__n_estimators=500, model__subsample=1; total time=   0.1s\n",
      "[CV] END model__colsample_bytree=0.5, model__eta=0.1, model__max_depth=2, model__n_estimators=500, model__subsample=1; total time=   0.1s\n",
      "[CV] END model__colsample_bytree=0.5, model__eta=0.1, model__max_depth=2, model__n_estimators=500, model__subsample=1; total time=   0.1s\n",
      "[CV] END model__colsample_bytree=1, model__eta=0.1, model__max_depth=2, model__n_estimators=100, model__subsample=0.5; total time=   0.0s\n",
      "[CV] END model__colsample_bytree=1, model__eta=0.1, model__max_depth=2, model__n_estimators=100, model__subsample=0.5; total time=   0.0s\n",
      "[CV] END model__colsample_bytree=1, model__eta=0.1, model__max_depth=2, model__n_estimators=100, model__subsample=0.5; total time=   0.0s\n",
      "[CV] END model__colsample_bytree=1, model__eta=0.1, model__max_depth=2, model__n_estimators=100, model__subsample=0.5; total time=   0.0s\n",
      "[CV] END model__colsample_bytree=1, model__eta=0.1, model__max_depth=2, model__n_estimators=100, model__subsample=0.5; total time=   0.0s\n",
      "[CV] END model__colsample_bytree=0.5, model__eta=0.3, model__max_depth=2, model__n_estimators=500, model__subsample=0.5; total time=   0.2s\n",
      "[CV] END model__colsample_bytree=0.5, model__eta=0.3, model__max_depth=2, model__n_estimators=500, model__subsample=0.5; total time=   0.2s\n",
      "[CV] END model__colsample_bytree=0.5, model__eta=0.3, model__max_depth=2, model__n_estimators=500, model__subsample=0.5; total time=   0.2s\n",
      "[CV] END model__colsample_bytree=0.5, model__eta=0.3, model__max_depth=2, model__n_estimators=500, model__subsample=0.5; total time=   0.2s\n",
      "[CV] END model__colsample_bytree=0.5, model__eta=0.3, model__max_depth=2, model__n_estimators=500, model__subsample=0.5; total time=   0.2s\n",
      "[CV] END model__colsample_bytree=1, model__eta=0.1, model__max_depth=2, model__n_estimators=1000, model__subsample=1; total time=   0.4s\n",
      "[CV] END model__colsample_bytree=1, model__eta=0.1, model__max_depth=2, model__n_estimators=1000, model__subsample=1; total time=   0.3s\n",
      "[CV] END model__colsample_bytree=1, model__eta=0.1, model__max_depth=2, model__n_estimators=1000, model__subsample=1; total time=   0.4s\n",
      "[CV] END model__colsample_bytree=1, model__eta=0.1, model__max_depth=2, model__n_estimators=1000, model__subsample=1; total time=   0.4s\n",
      "[CV] END model__colsample_bytree=1, model__eta=0.1, model__max_depth=2, model__n_estimators=1000, model__subsample=1; total time=   0.4s\n",
      "[CV] END model__colsample_bytree=1, model__eta=0.01, model__max_depth=5, model__n_estimators=100, model__subsample=1; total time=   0.0s\n",
      "[CV] END model__colsample_bytree=1, model__eta=0.01, model__max_depth=5, model__n_estimators=100, model__subsample=1; total time=   0.0s\n",
      "[CV] END model__colsample_bytree=1, model__eta=0.01, model__max_depth=5, model__n_estimators=100, model__subsample=1; total time=   0.0s\n",
      "[CV] END model__colsample_bytree=1, model__eta=0.01, model__max_depth=5, model__n_estimators=100, model__subsample=1; total time=   0.0s\n",
      "[CV] END model__colsample_bytree=1, model__eta=0.01, model__max_depth=5, model__n_estimators=100, model__subsample=1; total time=   0.0s\n",
      "[CV] END model__colsample_bytree=1, model__eta=0.3, model__max_depth=5, model__n_estimators=100, model__subsample=1; total time=   0.0s\n",
      "[CV] END model__colsample_bytree=1, model__eta=0.3, model__max_depth=5, model__n_estimators=100, model__subsample=1; total time=   0.0s\n",
      "[CV] END model__colsample_bytree=1, model__eta=0.3, model__max_depth=5, model__n_estimators=100, model__subsample=1; total time=   0.0s\n",
      "[CV] END model__colsample_bytree=1, model__eta=0.3, model__max_depth=5, model__n_estimators=100, model__subsample=1; total time=   0.0s\n",
      "[CV] END model__colsample_bytree=1, model__eta=0.3, model__max_depth=5, model__n_estimators=100, model__subsample=1; total time=   0.0s\n",
      "[CV] END model__colsample_bytree=0.5, model__eta=0.01, model__max_depth=2, model__n_estimators=1000, model__subsample=1; total time=   0.3s\n",
      "[CV] END model__colsample_bytree=0.5, model__eta=0.01, model__max_depth=2, model__n_estimators=1000, model__subsample=1; total time=   0.3s\n",
      "[CV] END model__colsample_bytree=0.5, model__eta=0.01, model__max_depth=2, model__n_estimators=1000, model__subsample=1; total time=   0.3s\n",
      "[CV] END model__colsample_bytree=0.5, model__eta=0.01, model__max_depth=2, model__n_estimators=1000, model__subsample=1; total time=   0.3s\n",
      "[CV] END model__colsample_bytree=0.5, model__eta=0.01, model__max_depth=2, model__n_estimators=1000, model__subsample=1; total time=   0.3s\n",
      "[CV] END model__colsample_bytree=0.5, model__eta=0.01, model__max_depth=5, model__n_estimators=200, model__subsample=0.5; total time=   0.1s\n",
      "[CV] END model__colsample_bytree=0.5, model__eta=0.01, model__max_depth=5, model__n_estimators=200, model__subsample=0.5; total time=   0.1s\n",
      "[CV] END model__colsample_bytree=0.5, model__eta=0.01, model__max_depth=5, model__n_estimators=200, model__subsample=0.5; total time=   0.1s\n",
      "[CV] END model__colsample_bytree=0.5, model__eta=0.01, model__max_depth=5, model__n_estimators=200, model__subsample=0.5; total time=   0.2s\n",
      "[CV] END model__colsample_bytree=0.5, model__eta=0.01, model__max_depth=5, model__n_estimators=200, model__subsample=0.5; total time=   0.3s\n",
      "[CV] END model__colsample_bytree=0.5, model__eta=0.01, model__max_depth=5, model__n_estimators=100, model__subsample=0.5; total time=   0.1s\n",
      "[CV] END model__colsample_bytree=0.5, model__eta=0.01, model__max_depth=5, model__n_estimators=100, model__subsample=0.5; total time=   0.1s\n",
      "[CV] END model__colsample_bytree=0.5, model__eta=0.01, model__max_depth=5, model__n_estimators=100, model__subsample=0.5; total time=   0.1s\n",
      "[CV] END model__colsample_bytree=0.5, model__eta=0.01, model__max_depth=5, model__n_estimators=100, model__subsample=0.5; total time=   0.1s\n",
      "[CV] END model__colsample_bytree=0.5, model__eta=0.01, model__max_depth=5, model__n_estimators=100, model__subsample=0.5; total time=   0.1s\n",
      "[CV] END model__colsample_bytree=0.5, model__eta=0.01, model__max_depth=2, model__n_estimators=100, model__subsample=1; total time=   0.0s\n",
      "[CV] END model__colsample_bytree=0.5, model__eta=0.01, model__max_depth=2, model__n_estimators=100, model__subsample=1; total time=   0.0s\n",
      "[CV] END model__colsample_bytree=0.5, model__eta=0.01, model__max_depth=2, model__n_estimators=100, model__subsample=1; total time=   0.0s\n",
      "[CV] END model__colsample_bytree=0.5, model__eta=0.01, model__max_depth=2, model__n_estimators=100, model__subsample=1; total time=   0.0s\n",
      "[CV] END model__colsample_bytree=0.5, model__eta=0.01, model__max_depth=2, model__n_estimators=100, model__subsample=1; total time=   0.0s\n",
      "[CV] END model__colsample_bytree=0.5, model__eta=0.3, model__max_depth=2, model__n_estimators=1000, model__subsample=0.5; total time=   0.9s\n",
      "[CV] END model__colsample_bytree=0.5, model__eta=0.3, model__max_depth=2, model__n_estimators=1000, model__subsample=0.5; total time=   1.0s\n",
      "[CV] END model__colsample_bytree=0.5, model__eta=0.3, model__max_depth=2, model__n_estimators=1000, model__subsample=0.5; total time=   0.8s\n",
      "[CV] END model__colsample_bytree=0.5, model__eta=0.3, model__max_depth=2, model__n_estimators=1000, model__subsample=0.5; total time=   0.9s\n",
      "[CV] END model__colsample_bytree=0.5, model__eta=0.3, model__max_depth=2, model__n_estimators=1000, model__subsample=0.5; total time=   0.9s\n",
      "[CV] END model__colsample_bytree=1, model__eta=0.01, model__max_depth=5, model__n_estimators=100, model__subsample=0.5; total time=   0.1s\n",
      "[CV] END model__colsample_bytree=1, model__eta=0.01, model__max_depth=5, model__n_estimators=100, model__subsample=0.5; total time=   0.1s\n",
      "[CV] END model__colsample_bytree=1, model__eta=0.01, model__max_depth=5, model__n_estimators=100, model__subsample=0.5; total time=   0.2s\n",
      "[CV] END model__colsample_bytree=1, model__eta=0.01, model__max_depth=5, model__n_estimators=100, model__subsample=0.5; total time=   0.2s\n"
     ]
    },
    {
     "name": "stdout",
     "output_type": "stream",
     "text": [
      "[CV] END model__colsample_bytree=1, model__eta=0.01, model__max_depth=5, model__n_estimators=100, model__subsample=0.5; total time=   0.2s\n",
      "[CV] END model__colsample_bytree=0.5, model__eta=0.3, model__max_depth=1, model__n_estimators=200, model__subsample=0.5; total time=   0.1s\n",
      "[CV] END model__colsample_bytree=0.5, model__eta=0.3, model__max_depth=1, model__n_estimators=200, model__subsample=0.5; total time=   0.1s\n",
      "[CV] END model__colsample_bytree=0.5, model__eta=0.3, model__max_depth=1, model__n_estimators=200, model__subsample=0.5; total time=   0.1s\n",
      "[CV] END model__colsample_bytree=0.5, model__eta=0.3, model__max_depth=1, model__n_estimators=200, model__subsample=0.5; total time=   0.1s\n",
      "[CV] END model__colsample_bytree=0.5, model__eta=0.3, model__max_depth=1, model__n_estimators=200, model__subsample=0.5; total time=   0.1s\n",
      "[CV] END model__colsample_bytree=0.5, model__eta=0.3, model__max_depth=1, model__n_estimators=100, model__subsample=1; total time=   0.0s\n",
      "[CV] END model__colsample_bytree=0.5, model__eta=0.3, model__max_depth=1, model__n_estimators=100, model__subsample=1; total time=   0.0s\n",
      "[CV] END model__colsample_bytree=0.5, model__eta=0.3, model__max_depth=1, model__n_estimators=100, model__subsample=1; total time=   0.0s\n",
      "[CV] END model__colsample_bytree=0.5, model__eta=0.3, model__max_depth=1, model__n_estimators=100, model__subsample=1; total time=   0.0s\n",
      "[CV] END model__colsample_bytree=0.5, model__eta=0.3, model__max_depth=1, model__n_estimators=100, model__subsample=1; total time=   0.0s\n",
      "[CV] END model__colsample_bytree=1, model__eta=0.1, model__max_depth=10, model__n_estimators=100, model__subsample=1; total time=   0.4s\n",
      "[CV] END model__colsample_bytree=1, model__eta=0.1, model__max_depth=10, model__n_estimators=100, model__subsample=1; total time=   0.4s\n",
      "[CV] END model__colsample_bytree=1, model__eta=0.1, model__max_depth=10, model__n_estimators=100, model__subsample=1; total time=   0.4s\n",
      "[CV] END model__colsample_bytree=1, model__eta=0.1, model__max_depth=10, model__n_estimators=100, model__subsample=1; total time=   0.5s\n",
      "[CV] END model__colsample_bytree=1, model__eta=0.1, model__max_depth=10, model__n_estimators=100, model__subsample=1; total time=   0.4s\n",
      "[CV] END model__colsample_bytree=0.5, model__eta=0.01, model__max_depth=10, model__n_estimators=1000, model__subsample=0.5; total time=   4.0s\n",
      "[CV] END model__colsample_bytree=0.5, model__eta=0.01, model__max_depth=10, model__n_estimators=1000, model__subsample=0.5; total time=   3.8s\n",
      "[CV] END model__colsample_bytree=0.5, model__eta=0.01, model__max_depth=10, model__n_estimators=1000, model__subsample=0.5; total time=   3.8s\n",
      "[CV] END model__colsample_bytree=0.5, model__eta=0.01, model__max_depth=10, model__n_estimators=1000, model__subsample=0.5; total time=   3.8s\n",
      "[CV] END model__colsample_bytree=0.5, model__eta=0.01, model__max_depth=10, model__n_estimators=1000, model__subsample=0.5; total time=   3.6s\n",
      "[CV] END model__colsample_bytree=1, model__eta=0.1, model__max_depth=5, model__n_estimators=100, model__subsample=1; total time=   0.1s\n",
      "[CV] END model__colsample_bytree=1, model__eta=0.1, model__max_depth=5, model__n_estimators=100, model__subsample=1; total time=   0.1s\n",
      "[CV] END model__colsample_bytree=1, model__eta=0.1, model__max_depth=5, model__n_estimators=100, model__subsample=1; total time=   0.1s\n",
      "[CV] END model__colsample_bytree=1, model__eta=0.1, model__max_depth=5, model__n_estimators=100, model__subsample=1; total time=   0.1s\n",
      "[CV] END model__colsample_bytree=1, model__eta=0.1, model__max_depth=5, model__n_estimators=100, model__subsample=1; total time=   0.1s\n",
      "[CV] END model__colsample_bytree=0.5, model__eta=0.3, model__max_depth=1, model__n_estimators=500, model__subsample=1; total time=   0.2s\n",
      "[CV] END model__colsample_bytree=0.5, model__eta=0.3, model__max_depth=1, model__n_estimators=500, model__subsample=1; total time=   0.2s\n",
      "[CV] END model__colsample_bytree=0.5, model__eta=0.3, model__max_depth=1, model__n_estimators=500, model__subsample=1; total time=   0.2s\n",
      "[CV] END model__colsample_bytree=0.5, model__eta=0.3, model__max_depth=1, model__n_estimators=500, model__subsample=1; total time=   0.2s\n",
      "[CV] END model__colsample_bytree=0.5, model__eta=0.3, model__max_depth=1, model__n_estimators=500, model__subsample=1; total time=   0.2s\n",
      "[CV] END model__colsample_bytree=1, model__eta=0.01, model__max_depth=2, model__n_estimators=1000, model__subsample=1; total time=   0.7s\n",
      "[CV] END model__colsample_bytree=1, model__eta=0.01, model__max_depth=2, model__n_estimators=1000, model__subsample=1; total time=   0.7s\n",
      "[CV] END model__colsample_bytree=1, model__eta=0.01, model__max_depth=2, model__n_estimators=1000, model__subsample=1; total time=   0.7s\n",
      "[CV] END model__colsample_bytree=1, model__eta=0.01, model__max_depth=2, model__n_estimators=1000, model__subsample=1; total time=   0.7s\n",
      "[CV] END model__colsample_bytree=1, model__eta=0.01, model__max_depth=2, model__n_estimators=1000, model__subsample=1; total time=   0.7s\n",
      "[CV] END model__colsample_bytree=0.5, model__eta=0.3, model__max_depth=1, model__n_estimators=500, model__subsample=0.5; total time=   0.3s\n",
      "[CV] END model__colsample_bytree=0.5, model__eta=0.3, model__max_depth=1, model__n_estimators=500, model__subsample=0.5; total time=   0.3s\n",
      "[CV] END model__colsample_bytree=0.5, model__eta=0.3, model__max_depth=1, model__n_estimators=500, model__subsample=0.5; total time=   0.3s\n",
      "[CV] END model__colsample_bytree=0.5, model__eta=0.3, model__max_depth=1, model__n_estimators=500, model__subsample=0.5; total time=   0.3s\n",
      "[CV] END model__colsample_bytree=0.5, model__eta=0.3, model__max_depth=1, model__n_estimators=500, model__subsample=0.5; total time=   0.3s\n",
      "[CV] END model__colsample_bytree=1, model__eta=0.3, model__max_depth=2, model__n_estimators=200, model__subsample=1; total time=   0.1s\n",
      "[CV] END model__colsample_bytree=1, model__eta=0.3, model__max_depth=2, model__n_estimators=200, model__subsample=1; total time=   0.1s\n",
      "[CV] END model__colsample_bytree=1, model__eta=0.3, model__max_depth=2, model__n_estimators=200, model__subsample=1; total time=   0.1s\n",
      "[CV] END model__colsample_bytree=1, model__eta=0.3, model__max_depth=2, model__n_estimators=200, model__subsample=1; total time=   0.1s\n",
      "[CV] END model__colsample_bytree=1, model__eta=0.3, model__max_depth=2, model__n_estimators=200, model__subsample=1; total time=   0.1s\n",
      "[CV] END model__colsample_bytree=1, model__eta=0.1, model__max_depth=10, model__n_estimators=200, model__subsample=0.5; total time=   0.9s\n",
      "[CV] END model__colsample_bytree=1, model__eta=0.1, model__max_depth=10, model__n_estimators=200, model__subsample=0.5; total time=   0.9s\n",
      "[CV] END model__colsample_bytree=1, model__eta=0.1, model__max_depth=10, model__n_estimators=200, model__subsample=0.5; total time=   1.0s\n",
      "[CV] END model__colsample_bytree=1, model__eta=0.1, model__max_depth=10, model__n_estimators=200, model__subsample=0.5; total time=   1.0s\n",
      "[CV] END model__colsample_bytree=1, model__eta=0.1, model__max_depth=10, model__n_estimators=200, model__subsample=0.5; total time=   1.0s\n",
      "[CV] END model__colsample_bytree=1, model__eta=0.01, model__max_depth=5, model__n_estimators=1000, model__subsample=0.5; total time=   2.0s\n",
      "[CV] END model__colsample_bytree=1, model__eta=0.01, model__max_depth=5, model__n_estimators=1000, model__subsample=0.5; total time=   2.0s\n",
      "[CV] END model__colsample_bytree=1, model__eta=0.01, model__max_depth=5, model__n_estimators=1000, model__subsample=0.5; total time=   1.9s\n",
      "[CV] END model__colsample_bytree=1, model__eta=0.01, model__max_depth=5, model__n_estimators=1000, model__subsample=0.5; total time=   2.0s\n",
      "[CV] END model__colsample_bytree=1, model__eta=0.01, model__max_depth=5, model__n_estimators=1000, model__subsample=0.5; total time=   2.0s\n",
      "[CV] END model__colsample_bytree=1, model__eta=0.01, model__max_depth=1, model__n_estimators=200, model__subsample=0.5; total time=   0.1s\n",
      "[CV] END model__colsample_bytree=1, model__eta=0.01, model__max_depth=1, model__n_estimators=200, model__subsample=0.5; total time=   0.1s\n",
      "[CV] END model__colsample_bytree=1, model__eta=0.01, model__max_depth=1, model__n_estimators=200, model__subsample=0.5; total time=   0.1s\n",
      "[CV] END model__colsample_bytree=1, model__eta=0.01, model__max_depth=1, model__n_estimators=200, model__subsample=0.5; total time=   0.3s\n"
     ]
    },
    {
     "name": "stdout",
     "output_type": "stream",
     "text": [
      "[CV] END model__colsample_bytree=1, model__eta=0.01, model__max_depth=1, model__n_estimators=200, model__subsample=0.5; total time=   0.1s\n",
      "[CV] END model__colsample_bytree=0.5, model__eta=0.3, model__max_depth=1, model__n_estimators=200, model__subsample=1; total time=   0.0s\n",
      "[CV] END model__colsample_bytree=0.5, model__eta=0.3, model__max_depth=1, model__n_estimators=200, model__subsample=1; total time=   0.0s\n",
      "[CV] END model__colsample_bytree=0.5, model__eta=0.3, model__max_depth=1, model__n_estimators=200, model__subsample=1; total time=   0.0s\n",
      "[CV] END model__colsample_bytree=0.5, model__eta=0.3, model__max_depth=1, model__n_estimators=200, model__subsample=1; total time=   0.0s\n",
      "[CV] END model__colsample_bytree=0.5, model__eta=0.3, model__max_depth=1, model__n_estimators=200, model__subsample=1; total time=   0.1s\n",
      "[CV] END model__colsample_bytree=1, model__eta=0.01, model__max_depth=5, model__n_estimators=200, model__subsample=1; total time=   0.3s\n",
      "[CV] END model__colsample_bytree=1, model__eta=0.01, model__max_depth=5, model__n_estimators=200, model__subsample=1; total time=   0.2s\n",
      "[CV] END model__colsample_bytree=1, model__eta=0.01, model__max_depth=5, model__n_estimators=200, model__subsample=1; total time=   0.3s\n",
      "[CV] END model__colsample_bytree=1, model__eta=0.01, model__max_depth=5, model__n_estimators=200, model__subsample=1; total time=   0.3s\n",
      "[CV] END model__colsample_bytree=1, model__eta=0.01, model__max_depth=5, model__n_estimators=200, model__subsample=1; total time=   0.3s\n",
      "[CV] END model__colsample_bytree=0.5, model__eta=0.01, model__max_depth=10, model__n_estimators=100, model__subsample=0.5; total time=   0.3s\n",
      "[CV] END model__colsample_bytree=0.5, model__eta=0.01, model__max_depth=10, model__n_estimators=100, model__subsample=0.5; total time=   0.3s\n",
      "[CV] END model__colsample_bytree=0.5, model__eta=0.01, model__max_depth=10, model__n_estimators=100, model__subsample=0.5; total time=   0.5s\n",
      "[CV] END model__colsample_bytree=0.5, model__eta=0.01, model__max_depth=10, model__n_estimators=100, model__subsample=0.5; total time=   0.3s\n",
      "[CV] END model__colsample_bytree=0.5, model__eta=0.01, model__max_depth=10, model__n_estimators=100, model__subsample=0.5; total time=   0.4s\n",
      "[CV] END model__colsample_bytree=1, model__eta=0.1, model__max_depth=10, model__n_estimators=1000, model__subsample=0.5; total time=   7.5s\n",
      "[CV] END model__colsample_bytree=1, model__eta=0.1, model__max_depth=10, model__n_estimators=1000, model__subsample=0.5; total time=   7.5s\n",
      "[CV] END model__colsample_bytree=1, model__eta=0.1, model__max_depth=10, model__n_estimators=1000, model__subsample=0.5; total time=   7.7s\n",
      "[CV] END model__colsample_bytree=1, model__eta=0.1, model__max_depth=10, model__n_estimators=1000, model__subsample=0.5; total time=   7.7s\n",
      "[CV] END model__colsample_bytree=1, model__eta=0.1, model__max_depth=10, model__n_estimators=1000, model__subsample=0.5; total time=  10.4s\n",
      "[CV] END model__colsample_bytree=0.5, model__eta=0.1, model__max_depth=10, model__n_estimators=500, model__subsample=0.5; total time=   2.6s\n",
      "[CV] END model__colsample_bytree=0.5, model__eta=0.1, model__max_depth=10, model__n_estimators=500, model__subsample=0.5; total time=   2.7s\n",
      "[CV] END model__colsample_bytree=0.5, model__eta=0.1, model__max_depth=10, model__n_estimators=500, model__subsample=0.5; total time=   1.8s\n",
      "[CV] END model__colsample_bytree=0.5, model__eta=0.1, model__max_depth=10, model__n_estimators=500, model__subsample=0.5; total time=   2.0s\n",
      "[CV] END model__colsample_bytree=0.5, model__eta=0.1, model__max_depth=10, model__n_estimators=500, model__subsample=0.5; total time=   1.8s\n",
      "[CV] END model__colsample_bytree=1, model__eta=0.1, model__max_depth=2, model__n_estimators=500, model__subsample=1; total time=   0.3s\n",
      "[CV] END model__colsample_bytree=1, model__eta=0.1, model__max_depth=2, model__n_estimators=500, model__subsample=1; total time=   0.3s\n",
      "[CV] END model__colsample_bytree=1, model__eta=0.1, model__max_depth=2, model__n_estimators=500, model__subsample=1; total time=   0.3s\n",
      "[CV] END model__colsample_bytree=1, model__eta=0.1, model__max_depth=2, model__n_estimators=500, model__subsample=1; total time=   0.3s\n",
      "[CV] END model__colsample_bytree=1, model__eta=0.1, model__max_depth=2, model__n_estimators=500, model__subsample=1; total time=   0.3s\n",
      "[CV] END model__colsample_bytree=1, model__eta=0.01, model__max_depth=5, model__n_estimators=200, model__subsample=0.5; total time=   0.5s\n",
      "[CV] END model__colsample_bytree=1, model__eta=0.01, model__max_depth=5, model__n_estimators=200, model__subsample=0.5; total time=   0.5s\n",
      "[CV] END model__colsample_bytree=1, model__eta=0.01, model__max_depth=5, model__n_estimators=200, model__subsample=0.5; total time=   0.3s\n",
      "[CV] END model__colsample_bytree=1, model__eta=0.01, model__max_depth=5, model__n_estimators=200, model__subsample=0.5; total time=   0.3s\n",
      "[CV] END model__colsample_bytree=1, model__eta=0.01, model__max_depth=5, model__n_estimators=200, model__subsample=0.5; total time=   0.4s\n",
      "[CV] END model__colsample_bytree=1, model__eta=0.3, model__max_depth=1, model__n_estimators=1000, model__subsample=0.5; total time=   0.8s\n",
      "[CV] END model__colsample_bytree=1, model__eta=0.3, model__max_depth=1, model__n_estimators=1000, model__subsample=0.5; total time=   0.7s\n",
      "[CV] END model__colsample_bytree=1, model__eta=0.3, model__max_depth=1, model__n_estimators=1000, model__subsample=0.5; total time=   0.7s\n",
      "[CV] END model__colsample_bytree=1, model__eta=0.3, model__max_depth=1, model__n_estimators=1000, model__subsample=0.5; total time=   0.7s\n",
      "[CV] END model__colsample_bytree=1, model__eta=0.3, model__max_depth=1, model__n_estimators=1000, model__subsample=0.5; total time=   0.7s\n",
      "[CV] END model__colsample_bytree=0.5, model__eta=0.01, model__max_depth=5, model__n_estimators=200, model__subsample=1; total time=   0.2s\n",
      "[CV] END model__colsample_bytree=0.5, model__eta=0.01, model__max_depth=5, model__n_estimators=200, model__subsample=1; total time=   0.2s\n",
      "[CV] END model__colsample_bytree=0.5, model__eta=0.01, model__max_depth=5, model__n_estimators=200, model__subsample=1; total time=   0.2s\n",
      "[CV] END model__colsample_bytree=0.5, model__eta=0.01, model__max_depth=5, model__n_estimators=200, model__subsample=1; total time=   0.2s\n",
      "[CV] END model__colsample_bytree=0.5, model__eta=0.01, model__max_depth=5, model__n_estimators=200, model__subsample=1; total time=   0.2s\n",
      "[CV] END model__colsample_bytree=0.5, model__eta=0.3, model__max_depth=10, model__n_estimators=200, model__subsample=0.5; total time=   0.6s\n",
      "[CV] END model__colsample_bytree=0.5, model__eta=0.3, model__max_depth=10, model__n_estimators=200, model__subsample=0.5; total time=   0.6s\n",
      "[CV] END model__colsample_bytree=0.5, model__eta=0.3, model__max_depth=10, model__n_estimators=200, model__subsample=0.5; total time=   0.6s\n",
      "[CV] END model__colsample_bytree=0.5, model__eta=0.3, model__max_depth=10, model__n_estimators=200, model__subsample=0.5; total time=   0.6s\n",
      "[CV] END model__colsample_bytree=0.5, model__eta=0.3, model__max_depth=10, model__n_estimators=200, model__subsample=0.5; total time=   0.6s\n",
      "[CV] END model__colsample_bytree=1, model__eta=0.3, model__max_depth=2, model__n_estimators=200, model__subsample=0.5; total time=   0.2s\n",
      "[CV] END model__colsample_bytree=1, model__eta=0.3, model__max_depth=2, model__n_estimators=200, model__subsample=0.5; total time=   0.1s\n",
      "[CV] END model__colsample_bytree=1, model__eta=0.3, model__max_depth=2, model__n_estimators=200, model__subsample=0.5; total time=   0.2s\n",
      "[CV] END model__colsample_bytree=1, model__eta=0.3, model__max_depth=2, model__n_estimators=200, model__subsample=0.5; total time=   0.1s\n",
      "[CV] END model__colsample_bytree=1, model__eta=0.3, model__max_depth=2, model__n_estimators=200, model__subsample=0.5; total time=   0.2s\n",
      "[CV] END model__colsample_bytree=0.5, model__eta=0.01, model__max_depth=1, model__n_estimators=500, model__subsample=1; total time=   0.2s\n",
      "[CV] END model__colsample_bytree=0.5, model__eta=0.01, model__max_depth=1, model__n_estimators=500, model__subsample=1; total time=   0.2s\n",
      "[CV] END model__colsample_bytree=0.5, model__eta=0.01, model__max_depth=1, model__n_estimators=500, model__subsample=1; total time=   0.2s\n"
     ]
    },
    {
     "name": "stdout",
     "output_type": "stream",
     "text": [
      "[CV] END model__colsample_bytree=0.5, model__eta=0.01, model__max_depth=1, model__n_estimators=500, model__subsample=1; total time=   0.2s\n",
      "[CV] END model__colsample_bytree=0.5, model__eta=0.01, model__max_depth=1, model__n_estimators=500, model__subsample=1; total time=   0.2s\n",
      "[CV] END model__colsample_bytree=1, model__eta=0.1, model__max_depth=1, model__n_estimators=500, model__subsample=1; total time=   0.2s\n",
      "[CV] END model__colsample_bytree=1, model__eta=0.1, model__max_depth=1, model__n_estimators=500, model__subsample=1; total time=   0.2s\n",
      "[CV] END model__colsample_bytree=1, model__eta=0.1, model__max_depth=1, model__n_estimators=500, model__subsample=1; total time=   0.2s\n",
      "[CV] END model__colsample_bytree=1, model__eta=0.1, model__max_depth=1, model__n_estimators=500, model__subsample=1; total time=   0.2s\n",
      "[CV] END model__colsample_bytree=1, model__eta=0.1, model__max_depth=1, model__n_estimators=500, model__subsample=1; total time=   0.2s\n",
      "[CV] END model__colsample_bytree=1, model__eta=0.1, model__max_depth=2, model__n_estimators=1000, model__subsample=0.5; total time=   1.0s\n",
      "[CV] END model__colsample_bytree=1, model__eta=0.1, model__max_depth=2, model__n_estimators=1000, model__subsample=0.5; total time=   1.0s\n",
      "[CV] END model__colsample_bytree=1, model__eta=0.1, model__max_depth=2, model__n_estimators=1000, model__subsample=0.5; total time=   1.0s\n",
      "[CV] END model__colsample_bytree=1, model__eta=0.1, model__max_depth=2, model__n_estimators=1000, model__subsample=0.5; total time=   1.0s\n",
      "[CV] END model__colsample_bytree=1, model__eta=0.1, model__max_depth=2, model__n_estimators=1000, model__subsample=0.5; total time=   1.0s\n",
      "[CV] END model__colsample_bytree=1, model__eta=0.3, model__max_depth=1, model__n_estimators=500, model__subsample=1; total time=   0.2s\n",
      "[CV] END model__colsample_bytree=1, model__eta=0.3, model__max_depth=1, model__n_estimators=500, model__subsample=1; total time=   0.2s\n",
      "[CV] END model__colsample_bytree=1, model__eta=0.3, model__max_depth=1, model__n_estimators=500, model__subsample=1; total time=   0.2s\n",
      "[CV] END model__colsample_bytree=1, model__eta=0.3, model__max_depth=1, model__n_estimators=500, model__subsample=1; total time=   0.2s\n",
      "[CV] END model__colsample_bytree=1, model__eta=0.3, model__max_depth=1, model__n_estimators=500, model__subsample=1; total time=   0.2s\n",
      "[CV] END model__colsample_bytree=0.5, model__eta=0.3, model__max_depth=5, model__n_estimators=200, model__subsample=0.5; total time=   0.2s\n",
      "[CV] END model__colsample_bytree=0.5, model__eta=0.3, model__max_depth=5, model__n_estimators=200, model__subsample=0.5; total time=   0.2s\n",
      "[CV] END model__colsample_bytree=0.5, model__eta=0.3, model__max_depth=5, model__n_estimators=200, model__subsample=0.5; total time=   0.2s\n",
      "[CV] END model__colsample_bytree=0.5, model__eta=0.3, model__max_depth=5, model__n_estimators=200, model__subsample=0.5; total time=   0.2s\n",
      "[CV] END model__colsample_bytree=0.5, model__eta=0.3, model__max_depth=5, model__n_estimators=200, model__subsample=0.5; total time=   0.3s\n",
      "[CV] END model__colsample_bytree=1, model__eta=0.01, model__max_depth=2, model__n_estimators=500, model__subsample=1; total time=   0.3s\n",
      "[CV] END model__colsample_bytree=1, model__eta=0.01, model__max_depth=2, model__n_estimators=500, model__subsample=1; total time=   0.4s\n",
      "[CV] END model__colsample_bytree=1, model__eta=0.01, model__max_depth=2, model__n_estimators=500, model__subsample=1; total time=   0.4s\n",
      "[CV] END model__colsample_bytree=1, model__eta=0.01, model__max_depth=2, model__n_estimators=500, model__subsample=1; total time=   0.3s\n",
      "[CV] END model__colsample_bytree=1, model__eta=0.01, model__max_depth=2, model__n_estimators=500, model__subsample=1; total time=   0.3s\n",
      "[CV] END model__colsample_bytree=1, model__eta=0.3, model__max_depth=1, model__n_estimators=200, model__subsample=0.5; total time=   0.1s\n",
      "[CV] END model__colsample_bytree=1, model__eta=0.3, model__max_depth=1, model__n_estimators=200, model__subsample=0.5; total time=   0.1s\n",
      "[CV] END model__colsample_bytree=1, model__eta=0.3, model__max_depth=1, model__n_estimators=200, model__subsample=0.5; total time=   0.1s\n",
      "[CV] END model__colsample_bytree=1, model__eta=0.3, model__max_depth=1, model__n_estimators=200, model__subsample=0.5; total time=   0.1s\n",
      "[CV] END model__colsample_bytree=1, model__eta=0.3, model__max_depth=1, model__n_estimators=200, model__subsample=0.5; total time=   0.1s\n",
      "[CV] END model__colsample_bytree=0.5, model__eta=0.1, model__max_depth=1, model__n_estimators=200, model__subsample=1; total time=   0.0s\n",
      "[CV] END model__colsample_bytree=0.5, model__eta=0.1, model__max_depth=1, model__n_estimators=200, model__subsample=1; total time=   0.0s\n",
      "[CV] END model__colsample_bytree=0.5, model__eta=0.1, model__max_depth=1, model__n_estimators=200, model__subsample=1; total time=   0.0s\n",
      "[CV] END model__colsample_bytree=0.5, model__eta=0.1, model__max_depth=1, model__n_estimators=200, model__subsample=1; total time=   0.0s\n",
      "[CV] END model__colsample_bytree=0.5, model__eta=0.1, model__max_depth=1, model__n_estimators=200, model__subsample=1; total time=   0.0s\n",
      "[CV] END model__colsample_bytree=1, model__eta=0.1, model__max_depth=1, model__n_estimators=1000, model__subsample=1; total time=   0.5s\n",
      "[CV] END model__colsample_bytree=1, model__eta=0.1, model__max_depth=1, model__n_estimators=1000, model__subsample=1; total time=   0.5s\n",
      "[CV] END model__colsample_bytree=1, model__eta=0.1, model__max_depth=1, model__n_estimators=1000, model__subsample=1; total time=   0.5s\n",
      "[CV] END model__colsample_bytree=1, model__eta=0.1, model__max_depth=1, model__n_estimators=1000, model__subsample=1; total time=   0.5s\n",
      "[CV] END model__colsample_bytree=1, model__eta=0.1, model__max_depth=1, model__n_estimators=1000, model__subsample=1; total time=   0.5s\n",
      "[CV] END model__colsample_bytree=0.5, model__eta=0.1, model__max_depth=2, model__n_estimators=200, model__subsample=0.5; total time=   0.1s\n",
      "[CV] END model__colsample_bytree=0.5, model__eta=0.1, model__max_depth=2, model__n_estimators=200, model__subsample=0.5; total time=   0.1s\n",
      "[CV] END model__colsample_bytree=0.5, model__eta=0.1, model__max_depth=2, model__n_estimators=200, model__subsample=0.5; total time=   0.1s\n",
      "[CV] END model__colsample_bytree=0.5, model__eta=0.1, model__max_depth=2, model__n_estimators=200, model__subsample=0.5; total time=   0.1s\n",
      "[CV] END model__colsample_bytree=0.5, model__eta=0.1, model__max_depth=2, model__n_estimators=200, model__subsample=0.5; total time=   0.1s\n",
      "[CV] END model__colsample_bytree=1, model__eta=0.3, model__max_depth=5, model__n_estimators=1000, model__subsample=0.5; total time=   2.0s\n",
      "[CV] END model__colsample_bytree=1, model__eta=0.3, model__max_depth=5, model__n_estimators=1000, model__subsample=0.5; total time=   2.0s\n",
      "[CV] END model__colsample_bytree=1, model__eta=0.3, model__max_depth=5, model__n_estimators=1000, model__subsample=0.5; total time=   2.0s\n",
      "[CV] END model__colsample_bytree=1, model__eta=0.3, model__max_depth=5, model__n_estimators=1000, model__subsample=0.5; total time=   2.0s\n",
      "[CV] END model__colsample_bytree=1, model__eta=0.3, model__max_depth=5, model__n_estimators=1000, model__subsample=0.5; total time=   2.0s\n",
      "[CV] END model__colsample_bytree=1, model__eta=0.01, model__max_depth=1, model__n_estimators=500, model__subsample=1; total time=   0.2s\n",
      "[CV] END model__colsample_bytree=1, model__eta=0.01, model__max_depth=1, model__n_estimators=500, model__subsample=1; total time=   0.2s\n",
      "[CV] END model__colsample_bytree=1, model__eta=0.01, model__max_depth=1, model__n_estimators=500, model__subsample=1; total time=   0.2s\n",
      "[CV] END model__colsample_bytree=1, model__eta=0.01, model__max_depth=1, model__n_estimators=500, model__subsample=1; total time=   0.2s\n",
      "[CV] END model__colsample_bytree=1, model__eta=0.01, model__max_depth=1, model__n_estimators=500, model__subsample=1; total time=   0.2s\n",
      "[CV] END model__colsample_bytree=0.5, model__eta=0.1, model__max_depth=5, model__n_estimators=1000, model__subsample=1; total time=   1.1s\n",
      "[CV] END model__colsample_bytree=0.5, model__eta=0.1, model__max_depth=5, model__n_estimators=1000, model__subsample=1; total time=   1.0s\n",
      "[CV] END model__colsample_bytree=0.5, model__eta=0.1, model__max_depth=5, model__n_estimators=1000, model__subsample=1; total time=   1.2s\n"
     ]
    },
    {
     "name": "stdout",
     "output_type": "stream",
     "text": [
      "[CV] END model__colsample_bytree=0.5, model__eta=0.1, model__max_depth=5, model__n_estimators=1000, model__subsample=1; total time=   1.1s\n",
      "[CV] END model__colsample_bytree=0.5, model__eta=0.1, model__max_depth=5, model__n_estimators=1000, model__subsample=1; total time=   1.0s\n",
      "[CV] END model__colsample_bytree=0.5, model__eta=0.3, model__max_depth=2, model__n_estimators=200, model__subsample=1; total time=   0.0s\n",
      "[CV] END model__colsample_bytree=0.5, model__eta=0.3, model__max_depth=2, model__n_estimators=200, model__subsample=1; total time=   0.0s\n",
      "[CV] END model__colsample_bytree=0.5, model__eta=0.3, model__max_depth=2, model__n_estimators=200, model__subsample=1; total time=   0.0s\n",
      "[CV] END model__colsample_bytree=0.5, model__eta=0.3, model__max_depth=2, model__n_estimators=200, model__subsample=1; total time=   0.0s\n",
      "[CV] END model__colsample_bytree=0.5, model__eta=0.3, model__max_depth=2, model__n_estimators=200, model__subsample=1; total time=   0.0s\n",
      "[CV] END model__colsample_bytree=1, model__eta=0.01, model__max_depth=10, model__n_estimators=1000, model__subsample=0.5; total time=   4.9s\n",
      "[CV] END model__colsample_bytree=1, model__eta=0.01, model__max_depth=10, model__n_estimators=1000, model__subsample=0.5; total time=   4.9s\n",
      "[CV] END model__colsample_bytree=1, model__eta=0.01, model__max_depth=10, model__n_estimators=1000, model__subsample=0.5; total time=   5.0s\n",
      "[CV] END model__colsample_bytree=1, model__eta=0.01, model__max_depth=10, model__n_estimators=1000, model__subsample=0.5; total time=   4.8s\n",
      "[CV] END model__colsample_bytree=1, model__eta=0.01, model__max_depth=10, model__n_estimators=1000, model__subsample=0.5; total time=   4.9s\n"
     ]
    },
    {
     "data": {
      "text/html": [
       "<style>#sk-container-id-5 {color: black;background-color: white;}#sk-container-id-5 pre{padding: 0;}#sk-container-id-5 div.sk-toggleable {background-color: white;}#sk-container-id-5 label.sk-toggleable__label {cursor: pointer;display: block;width: 100%;margin-bottom: 0;padding: 0.3em;box-sizing: border-box;text-align: center;}#sk-container-id-5 label.sk-toggleable__label-arrow:before {content: \"▸\";float: left;margin-right: 0.25em;color: #696969;}#sk-container-id-5 label.sk-toggleable__label-arrow:hover:before {color: black;}#sk-container-id-5 div.sk-estimator:hover label.sk-toggleable__label-arrow:before {color: black;}#sk-container-id-5 div.sk-toggleable__content {max-height: 0;max-width: 0;overflow: hidden;text-align: left;background-color: #f0f8ff;}#sk-container-id-5 div.sk-toggleable__content pre {margin: 0.2em;color: black;border-radius: 0.25em;background-color: #f0f8ff;}#sk-container-id-5 input.sk-toggleable__control:checked~div.sk-toggleable__content {max-height: 200px;max-width: 100%;overflow: auto;}#sk-container-id-5 input.sk-toggleable__control:checked~label.sk-toggleable__label-arrow:before {content: \"▾\";}#sk-container-id-5 div.sk-estimator input.sk-toggleable__control:checked~label.sk-toggleable__label {background-color: #d4ebff;}#sk-container-id-5 div.sk-label input.sk-toggleable__control:checked~label.sk-toggleable__label {background-color: #d4ebff;}#sk-container-id-5 input.sk-hidden--visually {border: 0;clip: rect(1px 1px 1px 1px);clip: rect(1px, 1px, 1px, 1px);height: 1px;margin: -1px;overflow: hidden;padding: 0;position: absolute;width: 1px;}#sk-container-id-5 div.sk-estimator {font-family: monospace;background-color: #f0f8ff;border: 1px dotted black;border-radius: 0.25em;box-sizing: border-box;margin-bottom: 0.5em;}#sk-container-id-5 div.sk-estimator:hover {background-color: #d4ebff;}#sk-container-id-5 div.sk-parallel-item::after {content: \"\";width: 100%;border-bottom: 1px solid gray;flex-grow: 1;}#sk-container-id-5 div.sk-label:hover label.sk-toggleable__label {background-color: #d4ebff;}#sk-container-id-5 div.sk-serial::before {content: \"\";position: absolute;border-left: 1px solid gray;box-sizing: border-box;top: 0;bottom: 0;left: 50%;z-index: 0;}#sk-container-id-5 div.sk-serial {display: flex;flex-direction: column;align-items: center;background-color: white;padding-right: 0.2em;padding-left: 0.2em;position: relative;}#sk-container-id-5 div.sk-item {position: relative;z-index: 1;}#sk-container-id-5 div.sk-parallel {display: flex;align-items: stretch;justify-content: center;background-color: white;position: relative;}#sk-container-id-5 div.sk-item::before, #sk-container-id-5 div.sk-parallel-item::before {content: \"\";position: absolute;border-left: 1px solid gray;box-sizing: border-box;top: 0;bottom: 0;left: 50%;z-index: -1;}#sk-container-id-5 div.sk-parallel-item {display: flex;flex-direction: column;z-index: 1;position: relative;background-color: white;}#sk-container-id-5 div.sk-parallel-item:first-child::after {align-self: flex-end;width: 50%;}#sk-container-id-5 div.sk-parallel-item:last-child::after {align-self: flex-start;width: 50%;}#sk-container-id-5 div.sk-parallel-item:only-child::after {width: 0;}#sk-container-id-5 div.sk-dashed-wrapped {border: 1px dashed gray;margin: 0 0.4em 0.5em 0.4em;box-sizing: border-box;padding-bottom: 0.4em;background-color: white;}#sk-container-id-5 div.sk-label label {font-family: monospace;font-weight: bold;display: inline-block;line-height: 1.2em;}#sk-container-id-5 div.sk-label-container {text-align: center;}#sk-container-id-5 div.sk-container {/* jupyter's `normalize.less` sets `[hidden] { display: none; }` but bootstrap.min.css set `[hidden] { display: none !important; }` so we also need the `!important` here to be able to override the default hidden behavior on the sphinx rendered scikit-learn.org. See: https://github.com/scikit-learn/scikit-learn/issues/21755 */display: inline-block !important;position: relative;}#sk-container-id-5 div.sk-text-repr-fallback {display: none;}</style><div id=\"sk-container-id-5\" class=\"sk-top-container\"><div class=\"sk-text-repr-fallback\"><pre>RandomizedSearchCV(cv=5,\n",
       "                   estimator=Pipeline(steps=[(&#x27;preprocess&#x27;,\n",
       "                                              ColumnTransformer(remainder=&#x27;passthrough&#x27;,\n",
       "                                                                transformers=[(&#x27;categorical&#x27;,\n",
       "                                                                               OneHotEncoder(sparse=False),\n",
       "                                                                               [&#x27;Admit &#x27;\n",
       "                                                                                &#x27;Day &#x27;\n",
       "                                                                                &#x27;of &#x27;\n",
       "                                                                                &#x27;Week&#x27;,\n",
       "                                                                                &#x27;Diagnostic &#x27;\n",
       "                                                                                &#x27;Code&#x27;,\n",
       "                                                                                &#x27;Admit &#x27;\n",
       "                                                                                &#x27;Month&#x27;,\n",
       "                                                                                &#x27;Ethnicity &#x27;\n",
       "                                                                                &#x27;Group&#x27;,\n",
       "                                                                                &#x27;DHB &#x27;\n",
       "                                                                                &#x27;Group&#x27;]),\n",
       "                                                                              (&#x27;numerical&#x27;,\n",
       "                                                                               StandardScaler(),\n",
       "                                                                               [&#x27;Age&#x27;])])),\n",
       "                                             (&#x27;model&#x27;,\n",
       "                                              XGBRegressor(base_score=None,\n",
       "                                                           booster=None,\n",
       "                                                           ca...\n",
       "                                                           missing=nan,\n",
       "                                                           monotone_constraints=None,\n",
       "                                                           n_estimators=100,\n",
       "                                                           n_jobs=None,\n",
       "                                                           num_parallel_tree=None,\n",
       "                                                           predictor=None,\n",
       "                                                           random_state=0,\n",
       "                                                           reg_alpha=None,\n",
       "                                                           reg_lambda=None, ...))]),\n",
       "                   n_iter=50,\n",
       "                   param_distributions={&#x27;model__colsample_bytree&#x27;: [0.5, 1],\n",
       "                                        &#x27;model__eta&#x27;: [0.01, 0.1, 0.3],\n",
       "                                        &#x27;model__max_depth&#x27;: [1, 2, 5, 10],\n",
       "                                        &#x27;model__n_estimators&#x27;: [100, 200, 500,\n",
       "                                                                1000],\n",
       "                                        &#x27;model__subsample&#x27;: [0.5, 1]},\n",
       "                   verbose=2)</pre><b>In a Jupyter environment, please rerun this cell to show the HTML representation or trust the notebook. <br />On GitHub, the HTML representation is unable to render, please try loading this page with nbviewer.org.</b></div><div class=\"sk-container\" hidden><div class=\"sk-item sk-dashed-wrapped\"><div class=\"sk-label-container\"><div class=\"sk-label sk-toggleable\"><input class=\"sk-toggleable__control sk-hidden--visually\" id=\"sk-estimator-id-41\" type=\"checkbox\" ><label for=\"sk-estimator-id-41\" class=\"sk-toggleable__label sk-toggleable__label-arrow\">RandomizedSearchCV</label><div class=\"sk-toggleable__content\"><pre>RandomizedSearchCV(cv=5,\n",
       "                   estimator=Pipeline(steps=[(&#x27;preprocess&#x27;,\n",
       "                                              ColumnTransformer(remainder=&#x27;passthrough&#x27;,\n",
       "                                                                transformers=[(&#x27;categorical&#x27;,\n",
       "                                                                               OneHotEncoder(sparse=False),\n",
       "                                                                               [&#x27;Admit &#x27;\n",
       "                                                                                &#x27;Day &#x27;\n",
       "                                                                                &#x27;of &#x27;\n",
       "                                                                                &#x27;Week&#x27;,\n",
       "                                                                                &#x27;Diagnostic &#x27;\n",
       "                                                                                &#x27;Code&#x27;,\n",
       "                                                                                &#x27;Admit &#x27;\n",
       "                                                                                &#x27;Month&#x27;,\n",
       "                                                                                &#x27;Ethnicity &#x27;\n",
       "                                                                                &#x27;Group&#x27;,\n",
       "                                                                                &#x27;DHB &#x27;\n",
       "                                                                                &#x27;Group&#x27;]),\n",
       "                                                                              (&#x27;numerical&#x27;,\n",
       "                                                                               StandardScaler(),\n",
       "                                                                               [&#x27;Age&#x27;])])),\n",
       "                                             (&#x27;model&#x27;,\n",
       "                                              XGBRegressor(base_score=None,\n",
       "                                                           booster=None,\n",
       "                                                           ca...\n",
       "                                                           missing=nan,\n",
       "                                                           monotone_constraints=None,\n",
       "                                                           n_estimators=100,\n",
       "                                                           n_jobs=None,\n",
       "                                                           num_parallel_tree=None,\n",
       "                                                           predictor=None,\n",
       "                                                           random_state=0,\n",
       "                                                           reg_alpha=None,\n",
       "                                                           reg_lambda=None, ...))]),\n",
       "                   n_iter=50,\n",
       "                   param_distributions={&#x27;model__colsample_bytree&#x27;: [0.5, 1],\n",
       "                                        &#x27;model__eta&#x27;: [0.01, 0.1, 0.3],\n",
       "                                        &#x27;model__max_depth&#x27;: [1, 2, 5, 10],\n",
       "                                        &#x27;model__n_estimators&#x27;: [100, 200, 500,\n",
       "                                                                1000],\n",
       "                                        &#x27;model__subsample&#x27;: [0.5, 1]},\n",
       "                   verbose=2)</pre></div></div></div><div class=\"sk-parallel\"><div class=\"sk-parallel-item\"><div class=\"sk-item\"><div class=\"sk-label-container\"><div class=\"sk-label sk-toggleable\"><input class=\"sk-toggleable__control sk-hidden--visually\" id=\"sk-estimator-id-42\" type=\"checkbox\" ><label for=\"sk-estimator-id-42\" class=\"sk-toggleable__label sk-toggleable__label-arrow\">estimator: Pipeline</label><div class=\"sk-toggleable__content\"><pre>Pipeline(steps=[(&#x27;preprocess&#x27;,\n",
       "                 ColumnTransformer(remainder=&#x27;passthrough&#x27;,\n",
       "                                   transformers=[(&#x27;categorical&#x27;,\n",
       "                                                  OneHotEncoder(sparse=False),\n",
       "                                                  [&#x27;Admit Day of Week&#x27;,\n",
       "                                                   &#x27;Diagnostic Code&#x27;,\n",
       "                                                   &#x27;Admit Month&#x27;,\n",
       "                                                   &#x27;Ethnicity Group&#x27;,\n",
       "                                                   &#x27;DHB Group&#x27;]),\n",
       "                                                 (&#x27;numerical&#x27;, StandardScaler(),\n",
       "                                                  [&#x27;Age&#x27;])])),\n",
       "                (&#x27;model&#x27;,\n",
       "                 XGBRegressor(base_score=None, booster=None, callbacks=None,\n",
       "                              colsample_bylevel=None, colsample_by...\n",
       "                              gamma=None, gpu_id=None, grow_policy=None,\n",
       "                              importance_type=None,\n",
       "                              interaction_constraints=None, learning_rate=0.1,\n",
       "                              max_bin=None, max_cat_to_onehot=None,\n",
       "                              max_delta_step=None, max_depth=10,\n",
       "                              max_leaves=None, min_child_weight=None,\n",
       "                              missing=nan, monotone_constraints=None,\n",
       "                              n_estimators=100, n_jobs=None,\n",
       "                              num_parallel_tree=None, predictor=None,\n",
       "                              random_state=0, reg_alpha=None, reg_lambda=None, ...))])</pre></div></div></div><div class=\"sk-serial\"><div class=\"sk-item\"><div class=\"sk-serial\"><div class=\"sk-item sk-dashed-wrapped\"><div class=\"sk-label-container\"><div class=\"sk-label sk-toggleable\"><input class=\"sk-toggleable__control sk-hidden--visually\" id=\"sk-estimator-id-43\" type=\"checkbox\" ><label for=\"sk-estimator-id-43\" class=\"sk-toggleable__label sk-toggleable__label-arrow\">preprocess: ColumnTransformer</label><div class=\"sk-toggleable__content\"><pre>ColumnTransformer(remainder=&#x27;passthrough&#x27;,\n",
       "                  transformers=[(&#x27;categorical&#x27;, OneHotEncoder(sparse=False),\n",
       "                                 [&#x27;Admit Day of Week&#x27;, &#x27;Diagnostic Code&#x27;,\n",
       "                                  &#x27;Admit Month&#x27;, &#x27;Ethnicity Group&#x27;,\n",
       "                                  &#x27;DHB Group&#x27;]),\n",
       "                                (&#x27;numerical&#x27;, StandardScaler(), [&#x27;Age&#x27;])])</pre></div></div></div><div class=\"sk-parallel\"><div class=\"sk-parallel-item\"><div class=\"sk-item\"><div class=\"sk-label-container\"><div class=\"sk-label sk-toggleable\"><input class=\"sk-toggleable__control sk-hidden--visually\" id=\"sk-estimator-id-44\" type=\"checkbox\" ><label for=\"sk-estimator-id-44\" class=\"sk-toggleable__label sk-toggleable__label-arrow\">categorical</label><div class=\"sk-toggleable__content\"><pre>[&#x27;Admit Day of Week&#x27;, &#x27;Diagnostic Code&#x27;, &#x27;Admit Month&#x27;, &#x27;Ethnicity Group&#x27;, &#x27;DHB Group&#x27;]</pre></div></div></div><div class=\"sk-serial\"><div class=\"sk-item\"><div class=\"sk-estimator sk-toggleable\"><input class=\"sk-toggleable__control sk-hidden--visually\" id=\"sk-estimator-id-45\" type=\"checkbox\" ><label for=\"sk-estimator-id-45\" class=\"sk-toggleable__label sk-toggleable__label-arrow\">OneHotEncoder</label><div class=\"sk-toggleable__content\"><pre>OneHotEncoder(sparse=False)</pre></div></div></div></div></div></div><div class=\"sk-parallel-item\"><div class=\"sk-item\"><div class=\"sk-label-container\"><div class=\"sk-label sk-toggleable\"><input class=\"sk-toggleable__control sk-hidden--visually\" id=\"sk-estimator-id-46\" type=\"checkbox\" ><label for=\"sk-estimator-id-46\" class=\"sk-toggleable__label sk-toggleable__label-arrow\">numerical</label><div class=\"sk-toggleable__content\"><pre>[&#x27;Age&#x27;]</pre></div></div></div><div class=\"sk-serial\"><div class=\"sk-item\"><div class=\"sk-estimator sk-toggleable\"><input class=\"sk-toggleable__control sk-hidden--visually\" id=\"sk-estimator-id-47\" type=\"checkbox\" ><label for=\"sk-estimator-id-47\" class=\"sk-toggleable__label sk-toggleable__label-arrow\">StandardScaler</label><div class=\"sk-toggleable__content\"><pre>StandardScaler()</pre></div></div></div></div></div></div><div class=\"sk-parallel-item\"><div class=\"sk-item\"><div class=\"sk-label-container\"><div class=\"sk-label sk-toggleable\"><input class=\"sk-toggleable__control sk-hidden--visually\" id=\"sk-estimator-id-48\" type=\"checkbox\" ><label for=\"sk-estimator-id-48\" class=\"sk-toggleable__label sk-toggleable__label-arrow\">remainder</label><div class=\"sk-toggleable__content\"><pre>[&#x27;Gender&#x27;, &#x27;Smoker Status&#x27;]</pre></div></div></div><div class=\"sk-serial\"><div class=\"sk-item\"><div class=\"sk-estimator sk-toggleable\"><input class=\"sk-toggleable__control sk-hidden--visually\" id=\"sk-estimator-id-49\" type=\"checkbox\" ><label for=\"sk-estimator-id-49\" class=\"sk-toggleable__label sk-toggleable__label-arrow\">passthrough</label><div class=\"sk-toggleable__content\"><pre>passthrough</pre></div></div></div></div></div></div></div></div><div class=\"sk-item\"><div class=\"sk-estimator sk-toggleable\"><input class=\"sk-toggleable__control sk-hidden--visually\" id=\"sk-estimator-id-50\" type=\"checkbox\" ><label for=\"sk-estimator-id-50\" class=\"sk-toggleable__label sk-toggleable__label-arrow\">XGBRegressor</label><div class=\"sk-toggleable__content\"><pre>XGBRegressor(base_score=None, booster=None, callbacks=None,\n",
       "             colsample_bylevel=None, colsample_bynode=None,\n",
       "             colsample_bytree=None, early_stopping_rounds=None,\n",
       "             enable_categorical=False, eval_metric=None, gamma=None,\n",
       "             gpu_id=None, grow_policy=None, importance_type=None,\n",
       "             interaction_constraints=None, learning_rate=0.1, max_bin=None,\n",
       "             max_cat_to_onehot=None, max_delta_step=None, max_depth=10,\n",
       "             max_leaves=None, min_child_weight=None, missing=nan,\n",
       "             monotone_constraints=None, n_estimators=100, n_jobs=None,\n",
       "             num_parallel_tree=None, predictor=None, random_state=0,\n",
       "             reg_alpha=None, reg_lambda=None, ...)</pre></div></div></div></div></div></div></div></div></div></div></div></div>"
      ],
      "text/plain": [
       "RandomizedSearchCV(cv=5,\n",
       "                   estimator=Pipeline(steps=[('preprocess',\n",
       "                                              ColumnTransformer(remainder='passthrough',\n",
       "                                                                transformers=[('categorical',\n",
       "                                                                               OneHotEncoder(sparse=False),\n",
       "                                                                               ['Admit '\n",
       "                                                                                'Day '\n",
       "                                                                                'of '\n",
       "                                                                                'Week',\n",
       "                                                                                'Diagnostic '\n",
       "                                                                                'Code',\n",
       "                                                                                'Admit '\n",
       "                                                                                'Month',\n",
       "                                                                                'Ethnicity '\n",
       "                                                                                'Group',\n",
       "                                                                                'DHB '\n",
       "                                                                                'Group']),\n",
       "                                                                              ('numerical',\n",
       "                                                                               StandardScaler(),\n",
       "                                                                               ['Age'])])),\n",
       "                                             ('model',\n",
       "                                              XGBRegressor(base_score=None,\n",
       "                                                           booster=None,\n",
       "                                                           ca...\n",
       "                                                           missing=nan,\n",
       "                                                           monotone_constraints=None,\n",
       "                                                           n_estimators=100,\n",
       "                                                           n_jobs=None,\n",
       "                                                           num_parallel_tree=None,\n",
       "                                                           predictor=None,\n",
       "                                                           random_state=0,\n",
       "                                                           reg_alpha=None,\n",
       "                                                           reg_lambda=None, ...))]),\n",
       "                   n_iter=50,\n",
       "                   param_distributions={'model__colsample_bytree': [0.5, 1],\n",
       "                                        'model__eta': [0.01, 0.1, 0.3],\n",
       "                                        'model__max_depth': [1, 2, 5, 10],\n",
       "                                        'model__n_estimators': [100, 200, 500,\n",
       "                                                                1000],\n",
       "                                        'model__subsample': [0.5, 1]},\n",
       "                   verbose=2)"
      ]
     },
     "execution_count": 69,
     "metadata": {},
     "output_type": "execute_result"
    }
   ],
   "source": [
    "model_gb_3 = xgboost.XGBRegressor()\n",
    "pipe_xgb_gs = Pipeline(steps=[(\"preprocess\",preprocessor),\n",
    "                      (\"model\",gb_model_2)\n",
    "                      ]\n",
    "               )\n",
    "\n",
    "gradientBoosting_grid = {\"model__eta\": [0.01,0.1,0.3],\n",
    "                    \"model__n_estimators\":[100,200,500,1000],\n",
    "                    \"model__max_depth\":[1,2,5,10],\n",
    "                    \"model__subsample\":[0.5,1],\n",
    "                    \"model__colsample_bytree\":[0.5,1]}\n",
    "\n",
    "np.random.seed(42)\n",
    "\n",
    "# X_train2,X_test2,y_train2,y_test2 = train_test_split(X,y,test_size=0.3)\n",
    "\n",
    "rs_model_gb = RandomizedSearchCV(estimator=pipe_xgb_gs,\n",
    "                                 param_distributions=gradientBoosting_grid,\n",
    "                                 n_iter =50,\n",
    "                                 cv=5,\n",
    "                                 verbose=2)\n",
    "# Training models\n",
    "rs_model_gb.fit(X_train,y_train)"
   ]
  },
  {
   "cell_type": "code",
   "execution_count": 70,
   "id": "8c8184cb",
   "metadata": {},
   "outputs": [
    {
     "data": {
      "text/plain": [
       "{'model__subsample': 1,\n",
       " 'model__n_estimators': 200,\n",
       " 'model__max_depth': 1,\n",
       " 'model__eta': 0.3,\n",
       " 'model__colsample_bytree': 0.5}"
      ]
     },
     "execution_count": 70,
     "metadata": {},
     "output_type": "execute_result"
    }
   ],
   "source": [
    "rs_model_gb.best_params_"
   ]
  },
  {
   "cell_type": "markdown",
   "id": "98aea08d",
   "metadata": {},
   "source": [
    "#### Hyperparameter tuning by GridSearchCV"
   ]
  },
  {
   "cell_type": "code",
   "execution_count": 71,
   "id": "b73781b0",
   "metadata": {
    "scrolled": true
   },
   "outputs": [
    {
     "name": "stdout",
     "output_type": "stream",
     "text": [
      "Fitting 5 folds for each of 27 candidates, totalling 135 fits\n",
      "[CV] END model__colsample_bytree=0.5, model__eta=0.01, model__max_depth=1, model__n_estimators=150, model__subsample=1; total time=   0.0s\n",
      "[CV] END model__colsample_bytree=0.5, model__eta=0.01, model__max_depth=1, model__n_estimators=150, model__subsample=1; total time=   0.0s\n",
      "[CV] END model__colsample_bytree=0.5, model__eta=0.01, model__max_depth=1, model__n_estimators=150, model__subsample=1; total time=   0.0s\n",
      "[CV] END model__colsample_bytree=0.5, model__eta=0.01, model__max_depth=1, model__n_estimators=150, model__subsample=1; total time=   0.0s\n",
      "[CV] END model__colsample_bytree=0.5, model__eta=0.01, model__max_depth=1, model__n_estimators=150, model__subsample=1; total time=   0.0s\n",
      "[CV] END model__colsample_bytree=0.5, model__eta=0.01, model__max_depth=1, model__n_estimators=200, model__subsample=1; total time=   0.0s\n",
      "[CV] END model__colsample_bytree=0.5, model__eta=0.01, model__max_depth=1, model__n_estimators=200, model__subsample=1; total time=   0.0s\n",
      "[CV] END model__colsample_bytree=0.5, model__eta=0.01, model__max_depth=1, model__n_estimators=200, model__subsample=1; total time=   0.0s\n",
      "[CV] END model__colsample_bytree=0.5, model__eta=0.01, model__max_depth=1, model__n_estimators=200, model__subsample=1; total time=   0.0s\n",
      "[CV] END model__colsample_bytree=0.5, model__eta=0.01, model__max_depth=1, model__n_estimators=200, model__subsample=1; total time=   0.0s\n",
      "[CV] END model__colsample_bytree=0.5, model__eta=0.01, model__max_depth=1, model__n_estimators=300, model__subsample=1; total time=   0.0s\n",
      "[CV] END model__colsample_bytree=0.5, model__eta=0.01, model__max_depth=1, model__n_estimators=300, model__subsample=1; total time=   0.0s\n",
      "[CV] END model__colsample_bytree=0.5, model__eta=0.01, model__max_depth=1, model__n_estimators=300, model__subsample=1; total time=   0.0s\n",
      "[CV] END model__colsample_bytree=0.5, model__eta=0.01, model__max_depth=1, model__n_estimators=300, model__subsample=1; total time=   0.0s\n",
      "[CV] END model__colsample_bytree=0.5, model__eta=0.01, model__max_depth=1, model__n_estimators=300, model__subsample=1; total time=   0.1s\n",
      "[CV] END model__colsample_bytree=0.5, model__eta=0.01, model__max_depth=2, model__n_estimators=150, model__subsample=1; total time=   0.0s\n",
      "[CV] END model__colsample_bytree=0.5, model__eta=0.01, model__max_depth=2, model__n_estimators=150, model__subsample=1; total time=   0.0s\n",
      "[CV] END model__colsample_bytree=0.5, model__eta=0.01, model__max_depth=2, model__n_estimators=150, model__subsample=1; total time=   0.0s\n",
      "[CV] END model__colsample_bytree=0.5, model__eta=0.01, model__max_depth=2, model__n_estimators=150, model__subsample=1; total time=   0.0s\n",
      "[CV] END model__colsample_bytree=0.5, model__eta=0.01, model__max_depth=2, model__n_estimators=150, model__subsample=1; total time=   0.0s\n",
      "[CV] END model__colsample_bytree=0.5, model__eta=0.01, model__max_depth=2, model__n_estimators=200, model__subsample=1; total time=   0.0s\n",
      "[CV] END model__colsample_bytree=0.5, model__eta=0.01, model__max_depth=2, model__n_estimators=200, model__subsample=1; total time=   0.0s\n",
      "[CV] END model__colsample_bytree=0.5, model__eta=0.01, model__max_depth=2, model__n_estimators=200, model__subsample=1; total time=   0.0s\n",
      "[CV] END model__colsample_bytree=0.5, model__eta=0.01, model__max_depth=2, model__n_estimators=200, model__subsample=1; total time=   0.0s\n",
      "[CV] END model__colsample_bytree=0.5, model__eta=0.01, model__max_depth=2, model__n_estimators=200, model__subsample=1; total time=   0.0s\n",
      "[CV] END model__colsample_bytree=0.5, model__eta=0.01, model__max_depth=2, model__n_estimators=300, model__subsample=1; total time=   0.1s\n",
      "[CV] END model__colsample_bytree=0.5, model__eta=0.01, model__max_depth=2, model__n_estimators=300, model__subsample=1; total time=   0.1s\n",
      "[CV] END model__colsample_bytree=0.5, model__eta=0.01, model__max_depth=2, model__n_estimators=300, model__subsample=1; total time=   0.1s\n",
      "[CV] END model__colsample_bytree=0.5, model__eta=0.01, model__max_depth=2, model__n_estimators=300, model__subsample=1; total time=   0.1s\n",
      "[CV] END model__colsample_bytree=0.5, model__eta=0.01, model__max_depth=2, model__n_estimators=300, model__subsample=1; total time=   0.1s\n",
      "[CV] END model__colsample_bytree=0.5, model__eta=0.01, model__max_depth=5, model__n_estimators=150, model__subsample=1; total time=   0.1s\n",
      "[CV] END model__colsample_bytree=0.5, model__eta=0.01, model__max_depth=5, model__n_estimators=150, model__subsample=1; total time=   0.2s\n",
      "[CV] END model__colsample_bytree=0.5, model__eta=0.01, model__max_depth=5, model__n_estimators=150, model__subsample=1; total time=   0.3s\n",
      "[CV] END model__colsample_bytree=0.5, model__eta=0.01, model__max_depth=5, model__n_estimators=150, model__subsample=1; total time=   0.2s\n",
      "[CV] END model__colsample_bytree=0.5, model__eta=0.01, model__max_depth=5, model__n_estimators=150, model__subsample=1; total time=   0.3s\n",
      "[CV] END model__colsample_bytree=0.5, model__eta=0.01, model__max_depth=5, model__n_estimators=200, model__subsample=1; total time=   0.4s\n",
      "[CV] END model__colsample_bytree=0.5, model__eta=0.01, model__max_depth=5, model__n_estimators=200, model__subsample=1; total time=   0.4s\n",
      "[CV] END model__colsample_bytree=0.5, model__eta=0.01, model__max_depth=5, model__n_estimators=200, model__subsample=1; total time=   0.3s\n",
      "[CV] END model__colsample_bytree=0.5, model__eta=0.01, model__max_depth=5, model__n_estimators=200, model__subsample=1; total time=   0.3s\n",
      "[CV] END model__colsample_bytree=0.5, model__eta=0.01, model__max_depth=5, model__n_estimators=200, model__subsample=1; total time=   0.3s\n",
      "[CV] END model__colsample_bytree=0.5, model__eta=0.01, model__max_depth=5, model__n_estimators=300, model__subsample=1; total time=   0.6s\n",
      "[CV] END model__colsample_bytree=0.5, model__eta=0.01, model__max_depth=5, model__n_estimators=300, model__subsample=1; total time=   0.9s\n",
      "[CV] END model__colsample_bytree=0.5, model__eta=0.01, model__max_depth=5, model__n_estimators=300, model__subsample=1; total time=   0.5s\n",
      "[CV] END model__colsample_bytree=0.5, model__eta=0.01, model__max_depth=5, model__n_estimators=300, model__subsample=1; total time=   0.6s\n",
      "[CV] END model__colsample_bytree=0.5, model__eta=0.01, model__max_depth=5, model__n_estimators=300, model__subsample=1; total time=   0.5s\n",
      "[CV] END model__colsample_bytree=0.5, model__eta=0.1, model__max_depth=1, model__n_estimators=150, model__subsample=1; total time=   0.1s\n",
      "[CV] END model__colsample_bytree=0.5, model__eta=0.1, model__max_depth=1, model__n_estimators=150, model__subsample=1; total time=   0.1s\n",
      "[CV] END model__colsample_bytree=0.5, model__eta=0.1, model__max_depth=1, model__n_estimators=150, model__subsample=1; total time=   0.0s\n",
      "[CV] END model__colsample_bytree=0.5, model__eta=0.1, model__max_depth=1, model__n_estimators=150, model__subsample=1; total time=   0.1s\n",
      "[CV] END model__colsample_bytree=0.5, model__eta=0.1, model__max_depth=1, model__n_estimators=150, model__subsample=1; total time=   0.1s\n",
      "[CV] END model__colsample_bytree=0.5, model__eta=0.1, model__max_depth=1, model__n_estimators=200, model__subsample=1; total time=   0.1s\n",
      "[CV] END model__colsample_bytree=0.5, model__eta=0.1, model__max_depth=1, model__n_estimators=200, model__subsample=1; total time=   0.1s\n",
      "[CV] END model__colsample_bytree=0.5, model__eta=0.1, model__max_depth=1, model__n_estimators=200, model__subsample=1; total time=   0.1s\n",
      "[CV] END model__colsample_bytree=0.5, model__eta=0.1, model__max_depth=1, model__n_estimators=200, model__subsample=1; total time=   0.1s\n",
      "[CV] END model__colsample_bytree=0.5, model__eta=0.1, model__max_depth=1, model__n_estimators=200, model__subsample=1; total time=   0.3s\n",
      "[CV] END model__colsample_bytree=0.5, model__eta=0.1, model__max_depth=1, model__n_estimators=300, model__subsample=1; total time=   0.3s\n",
      "[CV] END model__colsample_bytree=0.5, model__eta=0.1, model__max_depth=1, model__n_estimators=300, model__subsample=1; total time=   0.3s\n",
      "[CV] END model__colsample_bytree=0.5, model__eta=0.1, model__max_depth=1, model__n_estimators=300, model__subsample=1; total time=   0.3s\n",
      "[CV] END model__colsample_bytree=0.5, model__eta=0.1, model__max_depth=1, model__n_estimators=300, model__subsample=1; total time=   0.3s\n"
     ]
    },
    {
     "name": "stdout",
     "output_type": "stream",
     "text": [
      "[CV] END model__colsample_bytree=0.5, model__eta=0.1, model__max_depth=1, model__n_estimators=300, model__subsample=1; total time=   0.2s\n",
      "[CV] END model__colsample_bytree=0.5, model__eta=0.1, model__max_depth=2, model__n_estimators=150, model__subsample=1; total time=   0.1s\n",
      "[CV] END model__colsample_bytree=0.5, model__eta=0.1, model__max_depth=2, model__n_estimators=150, model__subsample=1; total time=   0.2s\n",
      "[CV] END model__colsample_bytree=0.5, model__eta=0.1, model__max_depth=2, model__n_estimators=150, model__subsample=1; total time=   0.1s\n",
      "[CV] END model__colsample_bytree=0.5, model__eta=0.1, model__max_depth=2, model__n_estimators=150, model__subsample=1; total time=   0.1s\n",
      "[CV] END model__colsample_bytree=0.5, model__eta=0.1, model__max_depth=2, model__n_estimators=150, model__subsample=1; total time=   0.1s\n",
      "[CV] END model__colsample_bytree=0.5, model__eta=0.1, model__max_depth=2, model__n_estimators=200, model__subsample=1; total time=   0.2s\n",
      "[CV] END model__colsample_bytree=0.5, model__eta=0.1, model__max_depth=2, model__n_estimators=200, model__subsample=1; total time=   0.2s\n",
      "[CV] END model__colsample_bytree=0.5, model__eta=0.1, model__max_depth=2, model__n_estimators=200, model__subsample=1; total time=   0.2s\n",
      "[CV] END model__colsample_bytree=0.5, model__eta=0.1, model__max_depth=2, model__n_estimators=200, model__subsample=1; total time=   0.2s\n",
      "[CV] END model__colsample_bytree=0.5, model__eta=0.1, model__max_depth=2, model__n_estimators=200, model__subsample=1; total time=   0.3s\n",
      "[CV] END model__colsample_bytree=0.5, model__eta=0.1, model__max_depth=2, model__n_estimators=300, model__subsample=1; total time=   0.4s\n",
      "[CV] END model__colsample_bytree=0.5, model__eta=0.1, model__max_depth=2, model__n_estimators=300, model__subsample=1; total time=   0.3s\n",
      "[CV] END model__colsample_bytree=0.5, model__eta=0.1, model__max_depth=2, model__n_estimators=300, model__subsample=1; total time=   0.3s\n",
      "[CV] END model__colsample_bytree=0.5, model__eta=0.1, model__max_depth=2, model__n_estimators=300, model__subsample=1; total time=   0.4s\n",
      "[CV] END model__colsample_bytree=0.5, model__eta=0.1, model__max_depth=2, model__n_estimators=300, model__subsample=1; total time=   0.3s\n",
      "[CV] END model__colsample_bytree=0.5, model__eta=0.1, model__max_depth=5, model__n_estimators=150, model__subsample=1; total time=   0.3s\n",
      "[CV] END model__colsample_bytree=0.5, model__eta=0.1, model__max_depth=5, model__n_estimators=150, model__subsample=1; total time=   0.3s\n",
      "[CV] END model__colsample_bytree=0.5, model__eta=0.1, model__max_depth=5, model__n_estimators=150, model__subsample=1; total time=   0.3s\n",
      "[CV] END model__colsample_bytree=0.5, model__eta=0.1, model__max_depth=5, model__n_estimators=150, model__subsample=1; total time=   0.3s\n",
      "[CV] END model__colsample_bytree=0.5, model__eta=0.1, model__max_depth=5, model__n_estimators=150, model__subsample=1; total time=   0.3s\n",
      "[CV] END model__colsample_bytree=0.5, model__eta=0.1, model__max_depth=5, model__n_estimators=200, model__subsample=1; total time=   0.4s\n",
      "[CV] END model__colsample_bytree=0.5, model__eta=0.1, model__max_depth=5, model__n_estimators=200, model__subsample=1; total time=   0.4s\n",
      "[CV] END model__colsample_bytree=0.5, model__eta=0.1, model__max_depth=5, model__n_estimators=200, model__subsample=1; total time=   0.4s\n",
      "[CV] END model__colsample_bytree=0.5, model__eta=0.1, model__max_depth=5, model__n_estimators=200, model__subsample=1; total time=   0.4s\n",
      "[CV] END model__colsample_bytree=0.5, model__eta=0.1, model__max_depth=5, model__n_estimators=200, model__subsample=1; total time=   0.5s\n",
      "[CV] END model__colsample_bytree=0.5, model__eta=0.1, model__max_depth=5, model__n_estimators=300, model__subsample=1; total time=   0.6s\n",
      "[CV] END model__colsample_bytree=0.5, model__eta=0.1, model__max_depth=5, model__n_estimators=300, model__subsample=1; total time=   0.6s\n",
      "[CV] END model__colsample_bytree=0.5, model__eta=0.1, model__max_depth=5, model__n_estimators=300, model__subsample=1; total time=   0.6s\n",
      "[CV] END model__colsample_bytree=0.5, model__eta=0.1, model__max_depth=5, model__n_estimators=300, model__subsample=1; total time=   0.8s\n",
      "[CV] END model__colsample_bytree=0.5, model__eta=0.1, model__max_depth=5, model__n_estimators=300, model__subsample=1; total time=   0.6s\n",
      "[CV] END model__colsample_bytree=0.5, model__eta=0.3, model__max_depth=1, model__n_estimators=150, model__subsample=1; total time=   0.1s\n",
      "[CV] END model__colsample_bytree=0.5, model__eta=0.3, model__max_depth=1, model__n_estimators=150, model__subsample=1; total time=   0.0s\n",
      "[CV] END model__colsample_bytree=0.5, model__eta=0.3, model__max_depth=1, model__n_estimators=150, model__subsample=1; total time=   0.1s\n",
      "[CV] END model__colsample_bytree=0.5, model__eta=0.3, model__max_depth=1, model__n_estimators=150, model__subsample=1; total time=   0.1s\n",
      "[CV] END model__colsample_bytree=0.5, model__eta=0.3, model__max_depth=1, model__n_estimators=150, model__subsample=1; total time=   0.1s\n",
      "[CV] END model__colsample_bytree=0.5, model__eta=0.3, model__max_depth=1, model__n_estimators=200, model__subsample=1; total time=   0.1s\n",
      "[CV] END model__colsample_bytree=0.5, model__eta=0.3, model__max_depth=1, model__n_estimators=200, model__subsample=1; total time=   0.1s\n",
      "[CV] END model__colsample_bytree=0.5, model__eta=0.3, model__max_depth=1, model__n_estimators=200, model__subsample=1; total time=   0.2s\n",
      "[CV] END model__colsample_bytree=0.5, model__eta=0.3, model__max_depth=1, model__n_estimators=200, model__subsample=1; total time=   0.1s\n",
      "[CV] END model__colsample_bytree=0.5, model__eta=0.3, model__max_depth=1, model__n_estimators=200, model__subsample=1; total time=   0.1s\n",
      "[CV] END model__colsample_bytree=0.5, model__eta=0.3, model__max_depth=1, model__n_estimators=300, model__subsample=1; total time=   0.2s\n",
      "[CV] END model__colsample_bytree=0.5, model__eta=0.3, model__max_depth=1, model__n_estimators=300, model__subsample=1; total time=   0.2s\n",
      "[CV] END model__colsample_bytree=0.5, model__eta=0.3, model__max_depth=1, model__n_estimators=300, model__subsample=1; total time=   0.3s\n",
      "[CV] END model__colsample_bytree=0.5, model__eta=0.3, model__max_depth=1, model__n_estimators=300, model__subsample=1; total time=   0.3s\n",
      "[CV] END model__colsample_bytree=0.5, model__eta=0.3, model__max_depth=1, model__n_estimators=300, model__subsample=1; total time=   0.2s\n",
      "[CV] END model__colsample_bytree=0.5, model__eta=0.3, model__max_depth=2, model__n_estimators=150, model__subsample=1; total time=   0.2s\n",
      "[CV] END model__colsample_bytree=0.5, model__eta=0.3, model__max_depth=2, model__n_estimators=150, model__subsample=1; total time=   0.1s\n",
      "[CV] END model__colsample_bytree=0.5, model__eta=0.3, model__max_depth=2, model__n_estimators=150, model__subsample=1; total time=   0.2s\n",
      "[CV] END model__colsample_bytree=0.5, model__eta=0.3, model__max_depth=2, model__n_estimators=150, model__subsample=1; total time=   0.1s\n",
      "[CV] END model__colsample_bytree=0.5, model__eta=0.3, model__max_depth=2, model__n_estimators=150, model__subsample=1; total time=   0.1s\n",
      "[CV] END model__colsample_bytree=0.5, model__eta=0.3, model__max_depth=2, model__n_estimators=200, model__subsample=1; total time=   0.2s\n",
      "[CV] END model__colsample_bytree=0.5, model__eta=0.3, model__max_depth=2, model__n_estimators=200, model__subsample=1; total time=   0.2s\n",
      "[CV] END model__colsample_bytree=0.5, model__eta=0.3, model__max_depth=2, model__n_estimators=200, model__subsample=1; total time=   0.2s\n",
      "[CV] END model__colsample_bytree=0.5, model__eta=0.3, model__max_depth=2, model__n_estimators=200, model__subsample=1; total time=   0.2s\n",
      "[CV] END model__colsample_bytree=0.5, model__eta=0.3, model__max_depth=2, model__n_estimators=200, model__subsample=1; total time=   0.2s\n",
      "[CV] END model__colsample_bytree=0.5, model__eta=0.3, model__max_depth=2, model__n_estimators=300, model__subsample=1; total time=   0.3s\n",
      "[CV] END model__colsample_bytree=0.5, model__eta=0.3, model__max_depth=2, model__n_estimators=300, model__subsample=1; total time=   0.3s\n",
      "[CV] END model__colsample_bytree=0.5, model__eta=0.3, model__max_depth=2, model__n_estimators=300, model__subsample=1; total time=   0.3s\n",
      "[CV] END model__colsample_bytree=0.5, model__eta=0.3, model__max_depth=2, model__n_estimators=300, model__subsample=1; total time=   0.3s\n"
     ]
    },
    {
     "name": "stdout",
     "output_type": "stream",
     "text": [
      "[CV] END model__colsample_bytree=0.5, model__eta=0.3, model__max_depth=2, model__n_estimators=300, model__subsample=1; total time=   0.2s\n",
      "[CV] END model__colsample_bytree=0.5, model__eta=0.3, model__max_depth=5, model__n_estimators=150, model__subsample=1; total time=   0.4s\n",
      "[CV] END model__colsample_bytree=0.5, model__eta=0.3, model__max_depth=5, model__n_estimators=150, model__subsample=1; total time=   0.4s\n",
      "[CV] END model__colsample_bytree=0.5, model__eta=0.3, model__max_depth=5, model__n_estimators=150, model__subsample=1; total time=   0.3s\n",
      "[CV] END model__colsample_bytree=0.5, model__eta=0.3, model__max_depth=5, model__n_estimators=150, model__subsample=1; total time=   0.3s\n",
      "[CV] END model__colsample_bytree=0.5, model__eta=0.3, model__max_depth=5, model__n_estimators=150, model__subsample=1; total time=   0.3s\n",
      "[CV] END model__colsample_bytree=0.5, model__eta=0.3, model__max_depth=5, model__n_estimators=200, model__subsample=1; total time=   0.4s\n",
      "[CV] END model__colsample_bytree=0.5, model__eta=0.3, model__max_depth=5, model__n_estimators=200, model__subsample=1; total time=   0.5s\n",
      "[CV] END model__colsample_bytree=0.5, model__eta=0.3, model__max_depth=5, model__n_estimators=200, model__subsample=1; total time=   0.4s\n",
      "[CV] END model__colsample_bytree=0.5, model__eta=0.3, model__max_depth=5, model__n_estimators=200, model__subsample=1; total time=   0.4s\n",
      "[CV] END model__colsample_bytree=0.5, model__eta=0.3, model__max_depth=5, model__n_estimators=200, model__subsample=1; total time=   0.5s\n",
      "[CV] END model__colsample_bytree=0.5, model__eta=0.3, model__max_depth=5, model__n_estimators=300, model__subsample=1; total time=   0.6s\n",
      "[CV] END model__colsample_bytree=0.5, model__eta=0.3, model__max_depth=5, model__n_estimators=300, model__subsample=1; total time=   0.6s\n",
      "[CV] END model__colsample_bytree=0.5, model__eta=0.3, model__max_depth=5, model__n_estimators=300, model__subsample=1; total time=   0.6s\n",
      "[CV] END model__colsample_bytree=0.5, model__eta=0.3, model__max_depth=5, model__n_estimators=300, model__subsample=1; total time=   0.7s\n",
      "[CV] END model__colsample_bytree=0.5, model__eta=0.3, model__max_depth=5, model__n_estimators=300, model__subsample=1; total time=   0.7s\n"
     ]
    },
    {
     "data": {
      "text/html": [
       "<style>#sk-container-id-6 {color: black;background-color: white;}#sk-container-id-6 pre{padding: 0;}#sk-container-id-6 div.sk-toggleable {background-color: white;}#sk-container-id-6 label.sk-toggleable__label {cursor: pointer;display: block;width: 100%;margin-bottom: 0;padding: 0.3em;box-sizing: border-box;text-align: center;}#sk-container-id-6 label.sk-toggleable__label-arrow:before {content: \"▸\";float: left;margin-right: 0.25em;color: #696969;}#sk-container-id-6 label.sk-toggleable__label-arrow:hover:before {color: black;}#sk-container-id-6 div.sk-estimator:hover label.sk-toggleable__label-arrow:before {color: black;}#sk-container-id-6 div.sk-toggleable__content {max-height: 0;max-width: 0;overflow: hidden;text-align: left;background-color: #f0f8ff;}#sk-container-id-6 div.sk-toggleable__content pre {margin: 0.2em;color: black;border-radius: 0.25em;background-color: #f0f8ff;}#sk-container-id-6 input.sk-toggleable__control:checked~div.sk-toggleable__content {max-height: 200px;max-width: 100%;overflow: auto;}#sk-container-id-6 input.sk-toggleable__control:checked~label.sk-toggleable__label-arrow:before {content: \"▾\";}#sk-container-id-6 div.sk-estimator input.sk-toggleable__control:checked~label.sk-toggleable__label {background-color: #d4ebff;}#sk-container-id-6 div.sk-label input.sk-toggleable__control:checked~label.sk-toggleable__label {background-color: #d4ebff;}#sk-container-id-6 input.sk-hidden--visually {border: 0;clip: rect(1px 1px 1px 1px);clip: rect(1px, 1px, 1px, 1px);height: 1px;margin: -1px;overflow: hidden;padding: 0;position: absolute;width: 1px;}#sk-container-id-6 div.sk-estimator {font-family: monospace;background-color: #f0f8ff;border: 1px dotted black;border-radius: 0.25em;box-sizing: border-box;margin-bottom: 0.5em;}#sk-container-id-6 div.sk-estimator:hover {background-color: #d4ebff;}#sk-container-id-6 div.sk-parallel-item::after {content: \"\";width: 100%;border-bottom: 1px solid gray;flex-grow: 1;}#sk-container-id-6 div.sk-label:hover label.sk-toggleable__label {background-color: #d4ebff;}#sk-container-id-6 div.sk-serial::before {content: \"\";position: absolute;border-left: 1px solid gray;box-sizing: border-box;top: 0;bottom: 0;left: 50%;z-index: 0;}#sk-container-id-6 div.sk-serial {display: flex;flex-direction: column;align-items: center;background-color: white;padding-right: 0.2em;padding-left: 0.2em;position: relative;}#sk-container-id-6 div.sk-item {position: relative;z-index: 1;}#sk-container-id-6 div.sk-parallel {display: flex;align-items: stretch;justify-content: center;background-color: white;position: relative;}#sk-container-id-6 div.sk-item::before, #sk-container-id-6 div.sk-parallel-item::before {content: \"\";position: absolute;border-left: 1px solid gray;box-sizing: border-box;top: 0;bottom: 0;left: 50%;z-index: -1;}#sk-container-id-6 div.sk-parallel-item {display: flex;flex-direction: column;z-index: 1;position: relative;background-color: white;}#sk-container-id-6 div.sk-parallel-item:first-child::after {align-self: flex-end;width: 50%;}#sk-container-id-6 div.sk-parallel-item:last-child::after {align-self: flex-start;width: 50%;}#sk-container-id-6 div.sk-parallel-item:only-child::after {width: 0;}#sk-container-id-6 div.sk-dashed-wrapped {border: 1px dashed gray;margin: 0 0.4em 0.5em 0.4em;box-sizing: border-box;padding-bottom: 0.4em;background-color: white;}#sk-container-id-6 div.sk-label label {font-family: monospace;font-weight: bold;display: inline-block;line-height: 1.2em;}#sk-container-id-6 div.sk-label-container {text-align: center;}#sk-container-id-6 div.sk-container {/* jupyter's `normalize.less` sets `[hidden] { display: none; }` but bootstrap.min.css set `[hidden] { display: none !important; }` so we also need the `!important` here to be able to override the default hidden behavior on the sphinx rendered scikit-learn.org. See: https://github.com/scikit-learn/scikit-learn/issues/21755 */display: inline-block !important;position: relative;}#sk-container-id-6 div.sk-text-repr-fallback {display: none;}</style><div id=\"sk-container-id-6\" class=\"sk-top-container\"><div class=\"sk-text-repr-fallback\"><pre>GridSearchCV(cv=5,\n",
       "             estimator=Pipeline(steps=[(&#x27;preprocess&#x27;,\n",
       "                                        ColumnTransformer(remainder=&#x27;passthrough&#x27;,\n",
       "                                                          transformers=[(&#x27;categorical&#x27;,\n",
       "                                                                         OneHotEncoder(sparse=False),\n",
       "                                                                         [&#x27;Admit &#x27;\n",
       "                                                                          &#x27;Day &#x27;\n",
       "                                                                          &#x27;of &#x27;\n",
       "                                                                          &#x27;Week&#x27;,\n",
       "                                                                          &#x27;Diagnostic &#x27;\n",
       "                                                                          &#x27;Code&#x27;,\n",
       "                                                                          &#x27;Admit &#x27;\n",
       "                                                                          &#x27;Month&#x27;,\n",
       "                                                                          &#x27;Ethnicity &#x27;\n",
       "                                                                          &#x27;Group&#x27;,\n",
       "                                                                          &#x27;DHB &#x27;\n",
       "                                                                          &#x27;Group&#x27;]),\n",
       "                                                                        (&#x27;numerical&#x27;,\n",
       "                                                                         StandardScaler(),\n",
       "                                                                         [&#x27;Age&#x27;])])),\n",
       "                                       (&#x27;model&#x27;,\n",
       "                                        XGBRegressor(base_score=None,\n",
       "                                                     booster=None,\n",
       "                                                     callback...\n",
       "                                                     min_child_weight=None,\n",
       "                                                     missing=nan,\n",
       "                                                     monotone_constraints=None,\n",
       "                                                     n_estimators=100,\n",
       "                                                     n_jobs=None,\n",
       "                                                     num_parallel_tree=None,\n",
       "                                                     predictor=None,\n",
       "                                                     random_state=None,\n",
       "                                                     reg_alpha=None,\n",
       "                                                     reg_lambda=None, ...))]),\n",
       "             param_grid={&#x27;model__colsample_bytree&#x27;: [0.5],\n",
       "                         &#x27;model__eta&#x27;: [0.01, 0.1, 0.3],\n",
       "                         &#x27;model__max_depth&#x27;: [1, 2, 5],\n",
       "                         &#x27;model__n_estimators&#x27;: [150, 200, 300],\n",
       "                         &#x27;model__subsample&#x27;: [1]},\n",
       "             verbose=2)</pre><b>In a Jupyter environment, please rerun this cell to show the HTML representation or trust the notebook. <br />On GitHub, the HTML representation is unable to render, please try loading this page with nbviewer.org.</b></div><div class=\"sk-container\" hidden><div class=\"sk-item sk-dashed-wrapped\"><div class=\"sk-label-container\"><div class=\"sk-label sk-toggleable\"><input class=\"sk-toggleable__control sk-hidden--visually\" id=\"sk-estimator-id-51\" type=\"checkbox\" ><label for=\"sk-estimator-id-51\" class=\"sk-toggleable__label sk-toggleable__label-arrow\">GridSearchCV</label><div class=\"sk-toggleable__content\"><pre>GridSearchCV(cv=5,\n",
       "             estimator=Pipeline(steps=[(&#x27;preprocess&#x27;,\n",
       "                                        ColumnTransformer(remainder=&#x27;passthrough&#x27;,\n",
       "                                                          transformers=[(&#x27;categorical&#x27;,\n",
       "                                                                         OneHotEncoder(sparse=False),\n",
       "                                                                         [&#x27;Admit &#x27;\n",
       "                                                                          &#x27;Day &#x27;\n",
       "                                                                          &#x27;of &#x27;\n",
       "                                                                          &#x27;Week&#x27;,\n",
       "                                                                          &#x27;Diagnostic &#x27;\n",
       "                                                                          &#x27;Code&#x27;,\n",
       "                                                                          &#x27;Admit &#x27;\n",
       "                                                                          &#x27;Month&#x27;,\n",
       "                                                                          &#x27;Ethnicity &#x27;\n",
       "                                                                          &#x27;Group&#x27;,\n",
       "                                                                          &#x27;DHB &#x27;\n",
       "                                                                          &#x27;Group&#x27;]),\n",
       "                                                                        (&#x27;numerical&#x27;,\n",
       "                                                                         StandardScaler(),\n",
       "                                                                         [&#x27;Age&#x27;])])),\n",
       "                                       (&#x27;model&#x27;,\n",
       "                                        XGBRegressor(base_score=None,\n",
       "                                                     booster=None,\n",
       "                                                     callback...\n",
       "                                                     min_child_weight=None,\n",
       "                                                     missing=nan,\n",
       "                                                     monotone_constraints=None,\n",
       "                                                     n_estimators=100,\n",
       "                                                     n_jobs=None,\n",
       "                                                     num_parallel_tree=None,\n",
       "                                                     predictor=None,\n",
       "                                                     random_state=None,\n",
       "                                                     reg_alpha=None,\n",
       "                                                     reg_lambda=None, ...))]),\n",
       "             param_grid={&#x27;model__colsample_bytree&#x27;: [0.5],\n",
       "                         &#x27;model__eta&#x27;: [0.01, 0.1, 0.3],\n",
       "                         &#x27;model__max_depth&#x27;: [1, 2, 5],\n",
       "                         &#x27;model__n_estimators&#x27;: [150, 200, 300],\n",
       "                         &#x27;model__subsample&#x27;: [1]},\n",
       "             verbose=2)</pre></div></div></div><div class=\"sk-parallel\"><div class=\"sk-parallel-item\"><div class=\"sk-item\"><div class=\"sk-label-container\"><div class=\"sk-label sk-toggleable\"><input class=\"sk-toggleable__control sk-hidden--visually\" id=\"sk-estimator-id-52\" type=\"checkbox\" ><label for=\"sk-estimator-id-52\" class=\"sk-toggleable__label sk-toggleable__label-arrow\">estimator: Pipeline</label><div class=\"sk-toggleable__content\"><pre>Pipeline(steps=[(&#x27;preprocess&#x27;,\n",
       "                 ColumnTransformer(remainder=&#x27;passthrough&#x27;,\n",
       "                                   transformers=[(&#x27;categorical&#x27;,\n",
       "                                                  OneHotEncoder(sparse=False),\n",
       "                                                  [&#x27;Admit Day of Week&#x27;,\n",
       "                                                   &#x27;Diagnostic Code&#x27;,\n",
       "                                                   &#x27;Admit Month&#x27;,\n",
       "                                                   &#x27;Ethnicity Group&#x27;,\n",
       "                                                   &#x27;DHB Group&#x27;]),\n",
       "                                                 (&#x27;numerical&#x27;, StandardScaler(),\n",
       "                                                  [&#x27;Age&#x27;])])),\n",
       "                (&#x27;model&#x27;,\n",
       "                 XGBRegressor(base_score=None, booster=None, callbacks=None,\n",
       "                              colsample_bylevel=None, colsample_by...\n",
       "                              gamma=None, gpu_id=None, grow_policy=None,\n",
       "                              importance_type=None,\n",
       "                              interaction_constraints=None, learning_rate=None,\n",
       "                              max_bin=None, max_cat_to_onehot=None,\n",
       "                              max_delta_step=None, max_depth=None,\n",
       "                              max_leaves=None, min_child_weight=None,\n",
       "                              missing=nan, monotone_constraints=None,\n",
       "                              n_estimators=100, n_jobs=None,\n",
       "                              num_parallel_tree=None, predictor=None,\n",
       "                              random_state=None, reg_alpha=None,\n",
       "                              reg_lambda=None, ...))])</pre></div></div></div><div class=\"sk-serial\"><div class=\"sk-item\"><div class=\"sk-serial\"><div class=\"sk-item sk-dashed-wrapped\"><div class=\"sk-label-container\"><div class=\"sk-label sk-toggleable\"><input class=\"sk-toggleable__control sk-hidden--visually\" id=\"sk-estimator-id-53\" type=\"checkbox\" ><label for=\"sk-estimator-id-53\" class=\"sk-toggleable__label sk-toggleable__label-arrow\">preprocess: ColumnTransformer</label><div class=\"sk-toggleable__content\"><pre>ColumnTransformer(remainder=&#x27;passthrough&#x27;,\n",
       "                  transformers=[(&#x27;categorical&#x27;, OneHotEncoder(sparse=False),\n",
       "                                 [&#x27;Admit Day of Week&#x27;, &#x27;Diagnostic Code&#x27;,\n",
       "                                  &#x27;Admit Month&#x27;, &#x27;Ethnicity Group&#x27;,\n",
       "                                  &#x27;DHB Group&#x27;]),\n",
       "                                (&#x27;numerical&#x27;, StandardScaler(), [&#x27;Age&#x27;])])</pre></div></div></div><div class=\"sk-parallel\"><div class=\"sk-parallel-item\"><div class=\"sk-item\"><div class=\"sk-label-container\"><div class=\"sk-label sk-toggleable\"><input class=\"sk-toggleable__control sk-hidden--visually\" id=\"sk-estimator-id-54\" type=\"checkbox\" ><label for=\"sk-estimator-id-54\" class=\"sk-toggleable__label sk-toggleable__label-arrow\">categorical</label><div class=\"sk-toggleable__content\"><pre>[&#x27;Admit Day of Week&#x27;, &#x27;Diagnostic Code&#x27;, &#x27;Admit Month&#x27;, &#x27;Ethnicity Group&#x27;, &#x27;DHB Group&#x27;]</pre></div></div></div><div class=\"sk-serial\"><div class=\"sk-item\"><div class=\"sk-estimator sk-toggleable\"><input class=\"sk-toggleable__control sk-hidden--visually\" id=\"sk-estimator-id-55\" type=\"checkbox\" ><label for=\"sk-estimator-id-55\" class=\"sk-toggleable__label sk-toggleable__label-arrow\">OneHotEncoder</label><div class=\"sk-toggleable__content\"><pre>OneHotEncoder(sparse=False)</pre></div></div></div></div></div></div><div class=\"sk-parallel-item\"><div class=\"sk-item\"><div class=\"sk-label-container\"><div class=\"sk-label sk-toggleable\"><input class=\"sk-toggleable__control sk-hidden--visually\" id=\"sk-estimator-id-56\" type=\"checkbox\" ><label for=\"sk-estimator-id-56\" class=\"sk-toggleable__label sk-toggleable__label-arrow\">numerical</label><div class=\"sk-toggleable__content\"><pre>[&#x27;Age&#x27;]</pre></div></div></div><div class=\"sk-serial\"><div class=\"sk-item\"><div class=\"sk-estimator sk-toggleable\"><input class=\"sk-toggleable__control sk-hidden--visually\" id=\"sk-estimator-id-57\" type=\"checkbox\" ><label for=\"sk-estimator-id-57\" class=\"sk-toggleable__label sk-toggleable__label-arrow\">StandardScaler</label><div class=\"sk-toggleable__content\"><pre>StandardScaler()</pre></div></div></div></div></div></div><div class=\"sk-parallel-item\"><div class=\"sk-item\"><div class=\"sk-label-container\"><div class=\"sk-label sk-toggleable\"><input class=\"sk-toggleable__control sk-hidden--visually\" id=\"sk-estimator-id-58\" type=\"checkbox\" ><label for=\"sk-estimator-id-58\" class=\"sk-toggleable__label sk-toggleable__label-arrow\">remainder</label><div class=\"sk-toggleable__content\"><pre>[&#x27;Gender&#x27;, &#x27;Smoker Status&#x27;]</pre></div></div></div><div class=\"sk-serial\"><div class=\"sk-item\"><div class=\"sk-estimator sk-toggleable\"><input class=\"sk-toggleable__control sk-hidden--visually\" id=\"sk-estimator-id-59\" type=\"checkbox\" ><label for=\"sk-estimator-id-59\" class=\"sk-toggleable__label sk-toggleable__label-arrow\">passthrough</label><div class=\"sk-toggleable__content\"><pre>passthrough</pre></div></div></div></div></div></div></div></div><div class=\"sk-item\"><div class=\"sk-estimator sk-toggleable\"><input class=\"sk-toggleable__control sk-hidden--visually\" id=\"sk-estimator-id-60\" type=\"checkbox\" ><label for=\"sk-estimator-id-60\" class=\"sk-toggleable__label sk-toggleable__label-arrow\">XGBRegressor</label><div class=\"sk-toggleable__content\"><pre>XGBRegressor(base_score=None, booster=None, callbacks=None,\n",
       "             colsample_bylevel=None, colsample_bynode=None,\n",
       "             colsample_bytree=None, early_stopping_rounds=None,\n",
       "             enable_categorical=False, eval_metric=None, gamma=None,\n",
       "             gpu_id=None, grow_policy=None, importance_type=None,\n",
       "             interaction_constraints=None, learning_rate=None, max_bin=None,\n",
       "             max_cat_to_onehot=None, max_delta_step=None, max_depth=None,\n",
       "             max_leaves=None, min_child_weight=None, missing=nan,\n",
       "             monotone_constraints=None, n_estimators=100, n_jobs=None,\n",
       "             num_parallel_tree=None, predictor=None, random_state=None,\n",
       "             reg_alpha=None, reg_lambda=None, ...)</pre></div></div></div></div></div></div></div></div></div></div></div></div>"
      ],
      "text/plain": [
       "GridSearchCV(cv=5,\n",
       "             estimator=Pipeline(steps=[('preprocess',\n",
       "                                        ColumnTransformer(remainder='passthrough',\n",
       "                                                          transformers=[('categorical',\n",
       "                                                                         OneHotEncoder(sparse=False),\n",
       "                                                                         ['Admit '\n",
       "                                                                          'Day '\n",
       "                                                                          'of '\n",
       "                                                                          'Week',\n",
       "                                                                          'Diagnostic '\n",
       "                                                                          'Code',\n",
       "                                                                          'Admit '\n",
       "                                                                          'Month',\n",
       "                                                                          'Ethnicity '\n",
       "                                                                          'Group',\n",
       "                                                                          'DHB '\n",
       "                                                                          'Group']),\n",
       "                                                                        ('numerical',\n",
       "                                                                         StandardScaler(),\n",
       "                                                                         ['Age'])])),\n",
       "                                       ('model',\n",
       "                                        XGBRegressor(base_score=None,\n",
       "                                                     booster=None,\n",
       "                                                     callback...\n",
       "                                                     min_child_weight=None,\n",
       "                                                     missing=nan,\n",
       "                                                     monotone_constraints=None,\n",
       "                                                     n_estimators=100,\n",
       "                                                     n_jobs=None,\n",
       "                                                     num_parallel_tree=None,\n",
       "                                                     predictor=None,\n",
       "                                                     random_state=None,\n",
       "                                                     reg_alpha=None,\n",
       "                                                     reg_lambda=None, ...))]),\n",
       "             param_grid={'model__colsample_bytree': [0.5],\n",
       "                         'model__eta': [0.01, 0.1, 0.3],\n",
       "                         'model__max_depth': [1, 2, 5],\n",
       "                         'model__n_estimators': [150, 200, 300],\n",
       "                         'model__subsample': [1]},\n",
       "             verbose=2)"
      ]
     },
     "execution_count": 71,
     "metadata": {},
     "output_type": "execute_result"
    }
   ],
   "source": [
    "model_gb_4 = xgboost.XGBRegressor()\n",
    "pipe_xgb = Pipeline(steps=[(\"preprocess\",preprocessor),\n",
    "                      (\"model\",model_gb_4)\n",
    "                      ]\n",
    "               )\n",
    "gb_gs_grid = {\"model__eta\": [0.01,0.1,0.3],\n",
    "                    \"model__n_estimators\":[150,200,300],\n",
    "                    \"model__max_depth\":[1,2,5],\n",
    "                    \"model__subsample\":[1],\n",
    "                    \"model__colsample_bytree\":[0.5]}\n",
    "\n",
    "np.random.seed(42)\n",
    "\n",
    "# X_train2,X_test2,y_train2,y_test2 = train_test_split(X,y,test_size=0.3)\n",
    "\n",
    "\n",
    "gs_model_gb = GridSearchCV(estimator=pipe_xgb,\n",
    "                           param_grid=gb_gs_grid,\n",
    "                           cv=5,\n",
    "                           verbose=2)\n",
    "# Training models\n",
    "gs_model_gb.fit(X_train,y_train)"
   ]
  },
  {
   "cell_type": "code",
   "execution_count": 72,
   "id": "70cf7d9b",
   "metadata": {
    "scrolled": true
   },
   "outputs": [
    {
     "data": {
      "text/plain": [
       "{'model__colsample_bytree': 0.5,\n",
       " 'model__eta': 0.1,\n",
       " 'model__max_depth': 1,\n",
       " 'model__n_estimators': 300,\n",
       " 'model__subsample': 1}"
      ]
     },
     "execution_count": 72,
     "metadata": {},
     "output_type": "execute_result"
    }
   ],
   "source": [
    "gs_model_gb.best_params_"
   ]
  },
  {
   "cell_type": "code",
   "execution_count": 73,
   "id": "ea73c61e",
   "metadata": {},
   "outputs": [
    {
     "data": {
      "text/plain": [
       "0.15059746868790147"
      ]
     },
     "execution_count": 73,
     "metadata": {},
     "output_type": "execute_result"
    }
   ],
   "source": [
    "gs_model_gb.best_score_"
   ]
  },
  {
   "cell_type": "markdown",
   "id": "a553c466",
   "metadata": {},
   "source": [
    "#### Re-train the model"
   ]
  },
  {
   "cell_type": "code",
   "execution_count": 75,
   "id": "72586a62",
   "metadata": {
    "scrolled": false
   },
   "outputs": [
    {
     "name": "stdout",
     "output_type": "stream",
     "text": [
      "[09:21:42] WARNING: C:/Users/administrator/workspace/xgboost-win64_release_1.6.0/src/learner.cc:627: \n",
      "Parameters: { \"ets\" } might not be used.\n",
      "\n",
      "  This could be a false alarm, with some parameters getting used by language bindings but\n",
      "  then being mistakenly passed down to XGBoost core, or some parameter actually being used\n",
      "  but getting flagged wrongly here. Please open an issue if you find any such cases.\n",
      "\n",
      "\n",
      "MSE: 6.26\n",
      "RMSE: 2.50\n",
      "R2: 0.16\n",
      "MAE: 1.67\n"
     ]
    }
   ],
   "source": [
    "np.random.seed(42)\n",
    "final_model_gb = xgboost.XGBRegressor(ets = 0.1, \n",
    "                                            n_estimators = 300,\n",
    "                                            subsample=1, \n",
    "                                            max_depth = 1,\n",
    "                                            colsample_bytree = 0.5,\n",
    "                                            random_state=42\n",
    "                                            )\n",
    "pipe_xgb_final = Pipeline(steps=[(\"preprocess\",preprocessor),\n",
    "                      (\"model\",final_model_gb)\n",
    "                      ]\n",
    "               )\n",
    "\n",
    "pipe_xgb_final.fit(X_train,y_train)\n",
    "final_y_preds_gb = pipe_xgb_final.predict(X_test)\n",
    "final_model_metrics_gb = evaluate_models(y_test,final_y_preds_gb)\n",
    "\n",
    "# final_y_preds_proba_gb = final_model_gb.predict_proba(X_test)\n",
    "# plot_roc_curve(y_test,final_y_preds_proba_gb[:,1])"
   ]
  },
  {
   "cell_type": "markdown",
   "id": "070690e1",
   "metadata": {},
   "source": [
    "## KNN"
   ]
  },
  {
   "cell_type": "markdown",
   "id": "c5d3d580",
   "metadata": {},
   "source": [
    "#### Baseline model"
   ]
  },
  {
   "cell_type": "code",
   "execution_count": 79,
   "id": "700410f4",
   "metadata": {},
   "outputs": [
    {
     "name": "stdout",
     "output_type": "stream",
     "text": [
      "Mean MSE: -7.69\n",
      "Mean R2: -0.09\n"
     ]
    }
   ],
   "source": [
    "np.random.seed(42)\n",
    "knn_model_baseline = KNeighborsRegressor()\n",
    "pipe_knn = Pipeline(steps=[(\"preprocess\",preprocessor),\n",
    "                      (\"model\",gb_model_baseline)\n",
    "                      ]\n",
    "               )\n",
    "\n",
    "cross_val_scores_knn = cross_validate(pipe_knn,X_train,y_train, cv=5, scoring=scoring)\n",
    "print_cv_metrics_mean(cross_val_scores_knn)"
   ]
  },
  {
   "cell_type": "markdown",
   "id": "d259889c",
   "metadata": {},
   "source": [
    "#### Hyperparameter tuning by RandomizedSearchCV"
   ]
  },
  {
   "cell_type": "code",
   "execution_count": 81,
   "id": "c2a3fd62",
   "metadata": {},
   "outputs": [
    {
     "name": "stdout",
     "output_type": "stream",
     "text": [
      "Fitting 5 folds for each of 50 candidates, totalling 250 fits\n",
      "[CV] END model__colsample_bytree=0.5, model__eta=0.1, model__max_depth=2, model__n_estimators=500, model__subsample=1; total time=   0.1s\n",
      "[CV] END model__colsample_bytree=0.5, model__eta=0.1, model__max_depth=2, model__n_estimators=500, model__subsample=1; total time=   0.1s\n",
      "[CV] END model__colsample_bytree=0.5, model__eta=0.1, model__max_depth=2, model__n_estimators=500, model__subsample=1; total time=   0.1s\n",
      "[CV] END model__colsample_bytree=0.5, model__eta=0.1, model__max_depth=2, model__n_estimators=500, model__subsample=1; total time=   0.1s\n",
      "[CV] END model__colsample_bytree=0.5, model__eta=0.1, model__max_depth=2, model__n_estimators=500, model__subsample=1; total time=   0.1s\n",
      "[CV] END model__colsample_bytree=1, model__eta=0.1, model__max_depth=2, model__n_estimators=100, model__subsample=0.5; total time=   0.0s\n",
      "[CV] END model__colsample_bytree=1, model__eta=0.1, model__max_depth=2, model__n_estimators=100, model__subsample=0.5; total time=   0.0s\n",
      "[CV] END model__colsample_bytree=1, model__eta=0.1, model__max_depth=2, model__n_estimators=100, model__subsample=0.5; total time=   0.0s\n",
      "[CV] END model__colsample_bytree=1, model__eta=0.1, model__max_depth=2, model__n_estimators=100, model__subsample=0.5; total time=   0.0s\n",
      "[CV] END model__colsample_bytree=1, model__eta=0.1, model__max_depth=2, model__n_estimators=100, model__subsample=0.5; total time=   0.0s\n",
      "[CV] END model__colsample_bytree=0.5, model__eta=0.3, model__max_depth=2, model__n_estimators=500, model__subsample=0.5; total time=   0.2s\n",
      "[CV] END model__colsample_bytree=0.5, model__eta=0.3, model__max_depth=2, model__n_estimators=500, model__subsample=0.5; total time=   0.2s\n",
      "[CV] END model__colsample_bytree=0.5, model__eta=0.3, model__max_depth=2, model__n_estimators=500, model__subsample=0.5; total time=   0.2s\n",
      "[CV] END model__colsample_bytree=0.5, model__eta=0.3, model__max_depth=2, model__n_estimators=500, model__subsample=0.5; total time=   0.2s\n",
      "[CV] END model__colsample_bytree=0.5, model__eta=0.3, model__max_depth=2, model__n_estimators=500, model__subsample=0.5; total time=   0.2s\n",
      "[CV] END model__colsample_bytree=1, model__eta=0.1, model__max_depth=2, model__n_estimators=1000, model__subsample=1; total time=   0.4s\n",
      "[CV] END model__colsample_bytree=1, model__eta=0.1, model__max_depth=2, model__n_estimators=1000, model__subsample=1; total time=   0.3s\n",
      "[CV] END model__colsample_bytree=1, model__eta=0.1, model__max_depth=2, model__n_estimators=1000, model__subsample=1; total time=   0.4s\n",
      "[CV] END model__colsample_bytree=1, model__eta=0.1, model__max_depth=2, model__n_estimators=1000, model__subsample=1; total time=   0.3s\n",
      "[CV] END model__colsample_bytree=1, model__eta=0.1, model__max_depth=2, model__n_estimators=1000, model__subsample=1; total time=   0.3s\n",
      "[CV] END model__colsample_bytree=1, model__eta=0.01, model__max_depth=5, model__n_estimators=100, model__subsample=1; total time=   0.0s\n",
      "[CV] END model__colsample_bytree=1, model__eta=0.01, model__max_depth=5, model__n_estimators=100, model__subsample=1; total time=   0.0s\n",
      "[CV] END model__colsample_bytree=1, model__eta=0.01, model__max_depth=5, model__n_estimators=100, model__subsample=1; total time=   0.0s\n",
      "[CV] END model__colsample_bytree=1, model__eta=0.01, model__max_depth=5, model__n_estimators=100, model__subsample=1; total time=   0.0s\n",
      "[CV] END model__colsample_bytree=1, model__eta=0.01, model__max_depth=5, model__n_estimators=100, model__subsample=1; total time=   0.0s\n",
      "[CV] END model__colsample_bytree=1, model__eta=0.3, model__max_depth=5, model__n_estimators=100, model__subsample=1; total time=   0.0s\n",
      "[CV] END model__colsample_bytree=1, model__eta=0.3, model__max_depth=5, model__n_estimators=100, model__subsample=1; total time=   0.0s\n",
      "[CV] END model__colsample_bytree=1, model__eta=0.3, model__max_depth=5, model__n_estimators=100, model__subsample=1; total time=   0.0s\n",
      "[CV] END model__colsample_bytree=1, model__eta=0.3, model__max_depth=5, model__n_estimators=100, model__subsample=1; total time=   0.0s\n",
      "[CV] END model__colsample_bytree=1, model__eta=0.3, model__max_depth=5, model__n_estimators=100, model__subsample=1; total time=   0.0s\n",
      "[CV] END model__colsample_bytree=0.5, model__eta=0.01, model__max_depth=2, model__n_estimators=1000, model__subsample=1; total time=   0.3s\n",
      "[CV] END model__colsample_bytree=0.5, model__eta=0.01, model__max_depth=2, model__n_estimators=1000, model__subsample=1; total time=   0.3s\n",
      "[CV] END model__colsample_bytree=0.5, model__eta=0.01, model__max_depth=2, model__n_estimators=1000, model__subsample=1; total time=   0.3s\n",
      "[CV] END model__colsample_bytree=0.5, model__eta=0.01, model__max_depth=2, model__n_estimators=1000, model__subsample=1; total time=   0.3s\n",
      "[CV] END model__colsample_bytree=0.5, model__eta=0.01, model__max_depth=2, model__n_estimators=1000, model__subsample=1; total time=   0.5s\n",
      "[CV] END model__colsample_bytree=0.5, model__eta=0.01, model__max_depth=5, model__n_estimators=200, model__subsample=0.5; total time=   0.3s\n",
      "[CV] END model__colsample_bytree=0.5, model__eta=0.01, model__max_depth=5, model__n_estimators=200, model__subsample=0.5; total time=   0.3s\n",
      "[CV] END model__colsample_bytree=0.5, model__eta=0.01, model__max_depth=5, model__n_estimators=200, model__subsample=0.5; total time=   0.2s\n",
      "[CV] END model__colsample_bytree=0.5, model__eta=0.01, model__max_depth=5, model__n_estimators=200, model__subsample=0.5; total time=   0.2s\n",
      "[CV] END model__colsample_bytree=0.5, model__eta=0.01, model__max_depth=5, model__n_estimators=200, model__subsample=0.5; total time=   0.3s\n",
      "[CV] END model__colsample_bytree=0.5, model__eta=0.01, model__max_depth=5, model__n_estimators=100, model__subsample=0.5; total time=   0.1s\n",
      "[CV] END model__colsample_bytree=0.5, model__eta=0.01, model__max_depth=5, model__n_estimators=100, model__subsample=0.5; total time=   0.1s\n",
      "[CV] END model__colsample_bytree=0.5, model__eta=0.01, model__max_depth=5, model__n_estimators=100, model__subsample=0.5; total time=   0.1s\n",
      "[CV] END model__colsample_bytree=0.5, model__eta=0.01, model__max_depth=5, model__n_estimators=100, model__subsample=0.5; total time=   0.1s\n",
      "[CV] END model__colsample_bytree=0.5, model__eta=0.01, model__max_depth=5, model__n_estimators=100, model__subsample=0.5; total time=   0.1s\n",
      "[CV] END model__colsample_bytree=0.5, model__eta=0.01, model__max_depth=2, model__n_estimators=100, model__subsample=1; total time=   0.0s\n",
      "[CV] END model__colsample_bytree=0.5, model__eta=0.01, model__max_depth=2, model__n_estimators=100, model__subsample=1; total time=   0.0s\n",
      "[CV] END model__colsample_bytree=0.5, model__eta=0.01, model__max_depth=2, model__n_estimators=100, model__subsample=1; total time=   0.0s\n",
      "[CV] END model__colsample_bytree=0.5, model__eta=0.01, model__max_depth=2, model__n_estimators=100, model__subsample=1; total time=   0.0s\n",
      "[CV] END model__colsample_bytree=0.5, model__eta=0.01, model__max_depth=2, model__n_estimators=100, model__subsample=1; total time=   0.0s\n",
      "[CV] END model__colsample_bytree=0.5, model__eta=0.3, model__max_depth=2, model__n_estimators=1000, model__subsample=0.5; total time=   0.8s\n",
      "[CV] END model__colsample_bytree=0.5, model__eta=0.3, model__max_depth=2, model__n_estimators=1000, model__subsample=0.5; total time=   0.9s\n",
      "[CV] END model__colsample_bytree=0.5, model__eta=0.3, model__max_depth=2, model__n_estimators=1000, model__subsample=0.5; total time=   0.8s\n",
      "[CV] END model__colsample_bytree=0.5, model__eta=0.3, model__max_depth=2, model__n_estimators=1000, model__subsample=0.5; total time=   1.0s\n",
      "[CV] END model__colsample_bytree=0.5, model__eta=0.3, model__max_depth=2, model__n_estimators=1000, model__subsample=0.5; total time=   0.8s\n",
      "[CV] END model__colsample_bytree=1, model__eta=0.01, model__max_depth=5, model__n_estimators=100, model__subsample=0.5; total time=   0.1s\n",
      "[CV] END model__colsample_bytree=1, model__eta=0.01, model__max_depth=5, model__n_estimators=100, model__subsample=0.5; total time=   0.1s\n",
      "[CV] END model__colsample_bytree=1, model__eta=0.01, model__max_depth=5, model__n_estimators=100, model__subsample=0.5; total time=   0.1s\n",
      "[CV] END model__colsample_bytree=1, model__eta=0.01, model__max_depth=5, model__n_estimators=100, model__subsample=0.5; total time=   0.1s\n"
     ]
    },
    {
     "name": "stdout",
     "output_type": "stream",
     "text": [
      "[CV] END model__colsample_bytree=1, model__eta=0.01, model__max_depth=5, model__n_estimators=100, model__subsample=0.5; total time=   0.1s\n",
      "[CV] END model__colsample_bytree=0.5, model__eta=0.3, model__max_depth=1, model__n_estimators=200, model__subsample=0.5; total time=   0.1s\n",
      "[CV] END model__colsample_bytree=0.5, model__eta=0.3, model__max_depth=1, model__n_estimators=200, model__subsample=0.5; total time=   0.1s\n",
      "[CV] END model__colsample_bytree=0.5, model__eta=0.3, model__max_depth=1, model__n_estimators=200, model__subsample=0.5; total time=   0.1s\n",
      "[CV] END model__colsample_bytree=0.5, model__eta=0.3, model__max_depth=1, model__n_estimators=200, model__subsample=0.5; total time=   0.1s\n",
      "[CV] END model__colsample_bytree=0.5, model__eta=0.3, model__max_depth=1, model__n_estimators=200, model__subsample=0.5; total time=   0.1s\n",
      "[CV] END model__colsample_bytree=0.5, model__eta=0.3, model__max_depth=1, model__n_estimators=100, model__subsample=1; total time=   0.0s\n",
      "[CV] END model__colsample_bytree=0.5, model__eta=0.3, model__max_depth=1, model__n_estimators=100, model__subsample=1; total time=   0.0s\n",
      "[CV] END model__colsample_bytree=0.5, model__eta=0.3, model__max_depth=1, model__n_estimators=100, model__subsample=1; total time=   0.0s\n",
      "[CV] END model__colsample_bytree=0.5, model__eta=0.3, model__max_depth=1, model__n_estimators=100, model__subsample=1; total time=   0.0s\n",
      "[CV] END model__colsample_bytree=0.5, model__eta=0.3, model__max_depth=1, model__n_estimators=100, model__subsample=1; total time=   0.0s\n",
      "[CV] END model__colsample_bytree=1, model__eta=0.1, model__max_depth=10, model__n_estimators=100, model__subsample=1; total time=   0.3s\n",
      "[CV] END model__colsample_bytree=1, model__eta=0.1, model__max_depth=10, model__n_estimators=100, model__subsample=1; total time=   0.4s\n",
      "[CV] END model__colsample_bytree=1, model__eta=0.1, model__max_depth=10, model__n_estimators=100, model__subsample=1; total time=   0.5s\n",
      "[CV] END model__colsample_bytree=1, model__eta=0.1, model__max_depth=10, model__n_estimators=100, model__subsample=1; total time=   0.4s\n",
      "[CV] END model__colsample_bytree=1, model__eta=0.1, model__max_depth=10, model__n_estimators=100, model__subsample=1; total time=   0.4s\n",
      "[CV] END model__colsample_bytree=0.5, model__eta=0.01, model__max_depth=10, model__n_estimators=1000, model__subsample=0.5; total time=   3.7s\n",
      "[CV] END model__colsample_bytree=0.5, model__eta=0.01, model__max_depth=10, model__n_estimators=1000, model__subsample=0.5; total time=   3.7s\n",
      "[CV] END model__colsample_bytree=0.5, model__eta=0.01, model__max_depth=10, model__n_estimators=1000, model__subsample=0.5; total time=   3.8s\n",
      "[CV] END model__colsample_bytree=0.5, model__eta=0.01, model__max_depth=10, model__n_estimators=1000, model__subsample=0.5; total time=   4.1s\n",
      "[CV] END model__colsample_bytree=0.5, model__eta=0.01, model__max_depth=10, model__n_estimators=1000, model__subsample=0.5; total time=   3.8s\n",
      "[CV] END model__colsample_bytree=1, model__eta=0.1, model__max_depth=5, model__n_estimators=100, model__subsample=1; total time=   0.1s\n",
      "[CV] END model__colsample_bytree=1, model__eta=0.1, model__max_depth=5, model__n_estimators=100, model__subsample=1; total time=   0.1s\n",
      "[CV] END model__colsample_bytree=1, model__eta=0.1, model__max_depth=5, model__n_estimators=100, model__subsample=1; total time=   0.1s\n",
      "[CV] END model__colsample_bytree=1, model__eta=0.1, model__max_depth=5, model__n_estimators=100, model__subsample=1; total time=   0.1s\n",
      "[CV] END model__colsample_bytree=1, model__eta=0.1, model__max_depth=5, model__n_estimators=100, model__subsample=1; total time=   0.1s\n",
      "[CV] END model__colsample_bytree=0.5, model__eta=0.3, model__max_depth=1, model__n_estimators=500, model__subsample=1; total time=   0.2s\n",
      "[CV] END model__colsample_bytree=0.5, model__eta=0.3, model__max_depth=1, model__n_estimators=500, model__subsample=1; total time=   0.2s\n",
      "[CV] END model__colsample_bytree=0.5, model__eta=0.3, model__max_depth=1, model__n_estimators=500, model__subsample=1; total time=   0.2s\n",
      "[CV] END model__colsample_bytree=0.5, model__eta=0.3, model__max_depth=1, model__n_estimators=500, model__subsample=1; total time=   0.2s\n",
      "[CV] END model__colsample_bytree=0.5, model__eta=0.3, model__max_depth=1, model__n_estimators=500, model__subsample=1; total time=   0.2s\n",
      "[CV] END model__colsample_bytree=1, model__eta=0.01, model__max_depth=2, model__n_estimators=1000, model__subsample=1; total time=   0.7s\n",
      "[CV] END model__colsample_bytree=1, model__eta=0.01, model__max_depth=2, model__n_estimators=1000, model__subsample=1; total time=   0.7s\n",
      "[CV] END model__colsample_bytree=1, model__eta=0.01, model__max_depth=2, model__n_estimators=1000, model__subsample=1; total time=   0.8s\n",
      "[CV] END model__colsample_bytree=1, model__eta=0.01, model__max_depth=2, model__n_estimators=1000, model__subsample=1; total time=   0.8s\n",
      "[CV] END model__colsample_bytree=1, model__eta=0.01, model__max_depth=2, model__n_estimators=1000, model__subsample=1; total time=   0.7s\n",
      "[CV] END model__colsample_bytree=0.5, model__eta=0.3, model__max_depth=1, model__n_estimators=500, model__subsample=0.5; total time=   0.3s\n",
      "[CV] END model__colsample_bytree=0.5, model__eta=0.3, model__max_depth=1, model__n_estimators=500, model__subsample=0.5; total time=   0.3s\n",
      "[CV] END model__colsample_bytree=0.5, model__eta=0.3, model__max_depth=1, model__n_estimators=500, model__subsample=0.5; total time=   0.3s\n",
      "[CV] END model__colsample_bytree=0.5, model__eta=0.3, model__max_depth=1, model__n_estimators=500, model__subsample=0.5; total time=   0.3s\n",
      "[CV] END model__colsample_bytree=0.5, model__eta=0.3, model__max_depth=1, model__n_estimators=500, model__subsample=0.5; total time=   0.3s\n",
      "[CV] END model__colsample_bytree=1, model__eta=0.3, model__max_depth=2, model__n_estimators=200, model__subsample=1; total time=   0.1s\n",
      "[CV] END model__colsample_bytree=1, model__eta=0.3, model__max_depth=2, model__n_estimators=200, model__subsample=1; total time=   0.1s\n",
      "[CV] END model__colsample_bytree=1, model__eta=0.3, model__max_depth=2, model__n_estimators=200, model__subsample=1; total time=   0.1s\n",
      "[CV] END model__colsample_bytree=1, model__eta=0.3, model__max_depth=2, model__n_estimators=200, model__subsample=1; total time=   0.1s\n",
      "[CV] END model__colsample_bytree=1, model__eta=0.3, model__max_depth=2, model__n_estimators=200, model__subsample=1; total time=   0.1s\n",
      "[CV] END model__colsample_bytree=1, model__eta=0.1, model__max_depth=10, model__n_estimators=200, model__subsample=0.5; total time=   1.0s\n",
      "[CV] END model__colsample_bytree=1, model__eta=0.1, model__max_depth=10, model__n_estimators=200, model__subsample=0.5; total time=   1.0s\n",
      "[CV] END model__colsample_bytree=1, model__eta=0.1, model__max_depth=10, model__n_estimators=200, model__subsample=0.5; total time=   0.9s\n",
      "[CV] END model__colsample_bytree=1, model__eta=0.1, model__max_depth=10, model__n_estimators=200, model__subsample=0.5; total time=   1.1s\n",
      "[CV] END model__colsample_bytree=1, model__eta=0.1, model__max_depth=10, model__n_estimators=200, model__subsample=0.5; total time=   1.0s\n",
      "[CV] END model__colsample_bytree=1, model__eta=0.01, model__max_depth=5, model__n_estimators=1000, model__subsample=0.5; total time=   2.2s\n",
      "[CV] END model__colsample_bytree=1, model__eta=0.01, model__max_depth=5, model__n_estimators=1000, model__subsample=0.5; total time=   2.1s\n",
      "[CV] END model__colsample_bytree=1, model__eta=0.01, model__max_depth=5, model__n_estimators=1000, model__subsample=0.5; total time=   2.1s\n",
      "[CV] END model__colsample_bytree=1, model__eta=0.01, model__max_depth=5, model__n_estimators=1000, model__subsample=0.5; total time=   2.1s\n",
      "[CV] END model__colsample_bytree=1, model__eta=0.01, model__max_depth=5, model__n_estimators=1000, model__subsample=0.5; total time=   2.1s\n",
      "[CV] END model__colsample_bytree=1, model__eta=0.01, model__max_depth=1, model__n_estimators=200, model__subsample=0.5; total time=   0.1s\n",
      "[CV] END model__colsample_bytree=1, model__eta=0.01, model__max_depth=1, model__n_estimators=200, model__subsample=0.5; total time=   0.1s\n",
      "[CV] END model__colsample_bytree=1, model__eta=0.01, model__max_depth=1, model__n_estimators=200, model__subsample=0.5; total time=   0.1s\n",
      "[CV] END model__colsample_bytree=1, model__eta=0.01, model__max_depth=1, model__n_estimators=200, model__subsample=0.5; total time=   0.1s\n",
      "[CV] END model__colsample_bytree=1, model__eta=0.01, model__max_depth=1, model__n_estimators=200, model__subsample=0.5; total time=   0.1s\n"
     ]
    },
    {
     "name": "stdout",
     "output_type": "stream",
     "text": [
      "[CV] END model__colsample_bytree=0.5, model__eta=0.3, model__max_depth=1, model__n_estimators=200, model__subsample=1; total time=   0.0s\n",
      "[CV] END model__colsample_bytree=0.5, model__eta=0.3, model__max_depth=1, model__n_estimators=200, model__subsample=1; total time=   0.0s\n",
      "[CV] END model__colsample_bytree=0.5, model__eta=0.3, model__max_depth=1, model__n_estimators=200, model__subsample=1; total time=   0.0s\n",
      "[CV] END model__colsample_bytree=0.5, model__eta=0.3, model__max_depth=1, model__n_estimators=200, model__subsample=1; total time=   0.0s\n",
      "[CV] END model__colsample_bytree=0.5, model__eta=0.3, model__max_depth=1, model__n_estimators=200, model__subsample=1; total time=   0.0s\n",
      "[CV] END model__colsample_bytree=1, model__eta=0.01, model__max_depth=5, model__n_estimators=200, model__subsample=1; total time=   0.2s\n",
      "[CV] END model__colsample_bytree=1, model__eta=0.01, model__max_depth=5, model__n_estimators=200, model__subsample=1; total time=   0.2s\n",
      "[CV] END model__colsample_bytree=1, model__eta=0.01, model__max_depth=5, model__n_estimators=200, model__subsample=1; total time=   0.2s\n",
      "[CV] END model__colsample_bytree=1, model__eta=0.01, model__max_depth=5, model__n_estimators=200, model__subsample=1; total time=   0.3s\n",
      "[CV] END model__colsample_bytree=1, model__eta=0.01, model__max_depth=5, model__n_estimators=200, model__subsample=1; total time=   0.2s\n",
      "[CV] END model__colsample_bytree=0.5, model__eta=0.01, model__max_depth=10, model__n_estimators=100, model__subsample=0.5; total time=   0.3s\n",
      "[CV] END model__colsample_bytree=0.5, model__eta=0.01, model__max_depth=10, model__n_estimators=100, model__subsample=0.5; total time=   0.3s\n",
      "[CV] END model__colsample_bytree=0.5, model__eta=0.01, model__max_depth=10, model__n_estimators=100, model__subsample=0.5; total time=   0.3s\n",
      "[CV] END model__colsample_bytree=0.5, model__eta=0.01, model__max_depth=10, model__n_estimators=100, model__subsample=0.5; total time=   0.3s\n",
      "[CV] END model__colsample_bytree=0.5, model__eta=0.01, model__max_depth=10, model__n_estimators=100, model__subsample=0.5; total time=   0.3s\n",
      "[CV] END model__colsample_bytree=1, model__eta=0.1, model__max_depth=10, model__n_estimators=1000, model__subsample=0.5; total time=   5.0s\n",
      "[CV] END model__colsample_bytree=1, model__eta=0.1, model__max_depth=10, model__n_estimators=1000, model__subsample=0.5; total time=   4.9s\n",
      "[CV] END model__colsample_bytree=1, model__eta=0.1, model__max_depth=10, model__n_estimators=1000, model__subsample=0.5; total time=   6.2s\n",
      "[CV] END model__colsample_bytree=1, model__eta=0.1, model__max_depth=10, model__n_estimators=1000, model__subsample=0.5; total time=   6.7s\n",
      "[CV] END model__colsample_bytree=1, model__eta=0.1, model__max_depth=10, model__n_estimators=1000, model__subsample=0.5; total time=   8.4s\n",
      "[CV] END model__colsample_bytree=0.5, model__eta=0.1, model__max_depth=10, model__n_estimators=500, model__subsample=0.5; total time=   2.7s\n",
      "[CV] END model__colsample_bytree=0.5, model__eta=0.1, model__max_depth=10, model__n_estimators=500, model__subsample=0.5; total time=   2.7s\n",
      "[CV] END model__colsample_bytree=0.5, model__eta=0.1, model__max_depth=10, model__n_estimators=500, model__subsample=0.5; total time=   2.4s\n",
      "[CV] END model__colsample_bytree=0.5, model__eta=0.1, model__max_depth=10, model__n_estimators=500, model__subsample=0.5; total time=   2.2s\n",
      "[CV] END model__colsample_bytree=0.5, model__eta=0.1, model__max_depth=10, model__n_estimators=500, model__subsample=0.5; total time=   2.4s\n",
      "[CV] END model__colsample_bytree=1, model__eta=0.1, model__max_depth=2, model__n_estimators=500, model__subsample=1; total time=   0.4s\n",
      "[CV] END model__colsample_bytree=1, model__eta=0.1, model__max_depth=2, model__n_estimators=500, model__subsample=1; total time=   0.5s\n",
      "[CV] END model__colsample_bytree=1, model__eta=0.1, model__max_depth=2, model__n_estimators=500, model__subsample=1; total time=   0.5s\n",
      "[CV] END model__colsample_bytree=1, model__eta=0.1, model__max_depth=2, model__n_estimators=500, model__subsample=1; total time=   0.5s\n",
      "[CV] END model__colsample_bytree=1, model__eta=0.1, model__max_depth=2, model__n_estimators=500, model__subsample=1; total time=   0.5s\n",
      "[CV] END model__colsample_bytree=1, model__eta=0.01, model__max_depth=5, model__n_estimators=200, model__subsample=0.5; total time=   0.6s\n",
      "[CV] END model__colsample_bytree=1, model__eta=0.01, model__max_depth=5, model__n_estimators=200, model__subsample=0.5; total time=   1.0s\n",
      "[CV] END model__colsample_bytree=1, model__eta=0.01, model__max_depth=5, model__n_estimators=200, model__subsample=0.5; total time=   0.9s\n",
      "[CV] END model__colsample_bytree=1, model__eta=0.01, model__max_depth=5, model__n_estimators=200, model__subsample=0.5; total time=   0.7s\n",
      "[CV] END model__colsample_bytree=1, model__eta=0.01, model__max_depth=5, model__n_estimators=200, model__subsample=0.5; total time=   0.4s\n",
      "[CV] END model__colsample_bytree=1, model__eta=0.3, model__max_depth=1, model__n_estimators=1000, model__subsample=0.5; total time=   1.2s\n",
      "[CV] END model__colsample_bytree=1, model__eta=0.3, model__max_depth=1, model__n_estimators=1000, model__subsample=0.5; total time=   1.0s\n",
      "[CV] END model__colsample_bytree=1, model__eta=0.3, model__max_depth=1, model__n_estimators=1000, model__subsample=0.5; total time=   1.1s\n",
      "[CV] END model__colsample_bytree=1, model__eta=0.3, model__max_depth=1, model__n_estimators=1000, model__subsample=0.5; total time=   1.0s\n",
      "[CV] END model__colsample_bytree=1, model__eta=0.3, model__max_depth=1, model__n_estimators=1000, model__subsample=0.5; total time=   1.1s\n",
      "[CV] END model__colsample_bytree=0.5, model__eta=0.01, model__max_depth=5, model__n_estimators=200, model__subsample=1; total time=   0.3s\n",
      "[CV] END model__colsample_bytree=0.5, model__eta=0.01, model__max_depth=5, model__n_estimators=200, model__subsample=1; total time=   0.5s\n",
      "[CV] END model__colsample_bytree=0.5, model__eta=0.01, model__max_depth=5, model__n_estimators=200, model__subsample=1; total time=   0.4s\n",
      "[CV] END model__colsample_bytree=0.5, model__eta=0.01, model__max_depth=5, model__n_estimators=200, model__subsample=1; total time=   0.4s\n",
      "[CV] END model__colsample_bytree=0.5, model__eta=0.01, model__max_depth=5, model__n_estimators=200, model__subsample=1; total time=   0.5s\n",
      "[CV] END model__colsample_bytree=0.5, model__eta=0.3, model__max_depth=10, model__n_estimators=200, model__subsample=0.5; total time=   1.3s\n",
      "[CV] END model__colsample_bytree=0.5, model__eta=0.3, model__max_depth=10, model__n_estimators=200, model__subsample=0.5; total time=   1.1s\n",
      "[CV] END model__colsample_bytree=0.5, model__eta=0.3, model__max_depth=10, model__n_estimators=200, model__subsample=0.5; total time=   1.1s\n",
      "[CV] END model__colsample_bytree=0.5, model__eta=0.3, model__max_depth=10, model__n_estimators=200, model__subsample=0.5; total time=   1.3s\n",
      "[CV] END model__colsample_bytree=0.5, model__eta=0.3, model__max_depth=10, model__n_estimators=200, model__subsample=0.5; total time=   1.1s\n",
      "[CV] END model__colsample_bytree=1, model__eta=0.3, model__max_depth=2, model__n_estimators=200, model__subsample=0.5; total time=   0.3s\n",
      "[CV] END model__colsample_bytree=1, model__eta=0.3, model__max_depth=2, model__n_estimators=200, model__subsample=0.5; total time=   0.4s\n",
      "[CV] END model__colsample_bytree=1, model__eta=0.3, model__max_depth=2, model__n_estimators=200, model__subsample=0.5; total time=   0.6s\n",
      "[CV] END model__colsample_bytree=1, model__eta=0.3, model__max_depth=2, model__n_estimators=200, model__subsample=0.5; total time=   0.3s\n",
      "[CV] END model__colsample_bytree=1, model__eta=0.3, model__max_depth=2, model__n_estimators=200, model__subsample=0.5; total time=   0.3s\n",
      "[CV] END model__colsample_bytree=0.5, model__eta=0.01, model__max_depth=1, model__n_estimators=500, model__subsample=1; total time=   0.3s\n",
      "[CV] END model__colsample_bytree=0.5, model__eta=0.01, model__max_depth=1, model__n_estimators=500, model__subsample=1; total time=   0.4s\n",
      "[CV] END model__colsample_bytree=0.5, model__eta=0.01, model__max_depth=1, model__n_estimators=500, model__subsample=1; total time=   0.4s\n",
      "[CV] END model__colsample_bytree=0.5, model__eta=0.01, model__max_depth=1, model__n_estimators=500, model__subsample=1; total time=   0.6s\n"
     ]
    },
    {
     "name": "stdout",
     "output_type": "stream",
     "text": [
      "[CV] END model__colsample_bytree=0.5, model__eta=0.01, model__max_depth=1, model__n_estimators=500, model__subsample=1; total time=   0.3s\n",
      "[CV] END model__colsample_bytree=1, model__eta=0.1, model__max_depth=1, model__n_estimators=500, model__subsample=1; total time=   0.4s\n",
      "[CV] END model__colsample_bytree=1, model__eta=0.1, model__max_depth=1, model__n_estimators=500, model__subsample=1; total time=   0.4s\n",
      "[CV] END model__colsample_bytree=1, model__eta=0.1, model__max_depth=1, model__n_estimators=500, model__subsample=1; total time=   0.4s\n",
      "[CV] END model__colsample_bytree=1, model__eta=0.1, model__max_depth=1, model__n_estimators=500, model__subsample=1; total time=   0.3s\n",
      "[CV] END model__colsample_bytree=1, model__eta=0.1, model__max_depth=1, model__n_estimators=500, model__subsample=1; total time=   0.6s\n",
      "[CV] END model__colsample_bytree=1, model__eta=0.1, model__max_depth=2, model__n_estimators=1000, model__subsample=0.5; total time=   1.6s\n",
      "[CV] END model__colsample_bytree=1, model__eta=0.1, model__max_depth=2, model__n_estimators=1000, model__subsample=0.5; total time=   1.4s\n",
      "[CV] END model__colsample_bytree=1, model__eta=0.1, model__max_depth=2, model__n_estimators=1000, model__subsample=0.5; total time=   1.3s\n",
      "[CV] END model__colsample_bytree=1, model__eta=0.1, model__max_depth=2, model__n_estimators=1000, model__subsample=0.5; total time=   1.3s\n",
      "[CV] END model__colsample_bytree=1, model__eta=0.1, model__max_depth=2, model__n_estimators=1000, model__subsample=0.5; total time=   1.3s\n",
      "[CV] END model__colsample_bytree=1, model__eta=0.3, model__max_depth=1, model__n_estimators=500, model__subsample=1; total time=   0.3s\n",
      "[CV] END model__colsample_bytree=1, model__eta=0.3, model__max_depth=1, model__n_estimators=500, model__subsample=1; total time=   0.3s\n",
      "[CV] END model__colsample_bytree=1, model__eta=0.3, model__max_depth=1, model__n_estimators=500, model__subsample=1; total time=   0.2s\n",
      "[CV] END model__colsample_bytree=1, model__eta=0.3, model__max_depth=1, model__n_estimators=500, model__subsample=1; total time=   0.2s\n",
      "[CV] END model__colsample_bytree=1, model__eta=0.3, model__max_depth=1, model__n_estimators=500, model__subsample=1; total time=   0.3s\n",
      "[CV] END model__colsample_bytree=0.5, model__eta=0.3, model__max_depth=5, model__n_estimators=200, model__subsample=0.5; total time=   0.3s\n",
      "[CV] END model__colsample_bytree=0.5, model__eta=0.3, model__max_depth=5, model__n_estimators=200, model__subsample=0.5; total time=   0.3s\n",
      "[CV] END model__colsample_bytree=0.5, model__eta=0.3, model__max_depth=5, model__n_estimators=200, model__subsample=0.5; total time=   0.3s\n",
      "[CV] END model__colsample_bytree=0.5, model__eta=0.3, model__max_depth=5, model__n_estimators=200, model__subsample=0.5; total time=   0.2s\n",
      "[CV] END model__colsample_bytree=0.5, model__eta=0.3, model__max_depth=5, model__n_estimators=200, model__subsample=0.5; total time=   0.2s\n",
      "[CV] END model__colsample_bytree=1, model__eta=0.01, model__max_depth=2, model__n_estimators=500, model__subsample=1; total time=   0.3s\n",
      "[CV] END model__colsample_bytree=1, model__eta=0.01, model__max_depth=2, model__n_estimators=500, model__subsample=1; total time=   0.3s\n",
      "[CV] END model__colsample_bytree=1, model__eta=0.01, model__max_depth=2, model__n_estimators=500, model__subsample=1; total time=   0.3s\n",
      "[CV] END model__colsample_bytree=1, model__eta=0.01, model__max_depth=2, model__n_estimators=500, model__subsample=1; total time=   0.3s\n",
      "[CV] END model__colsample_bytree=1, model__eta=0.01, model__max_depth=2, model__n_estimators=500, model__subsample=1; total time=   0.3s\n",
      "[CV] END model__colsample_bytree=1, model__eta=0.3, model__max_depth=1, model__n_estimators=200, model__subsample=0.5; total time=   0.1s\n",
      "[CV] END model__colsample_bytree=1, model__eta=0.3, model__max_depth=1, model__n_estimators=200, model__subsample=0.5; total time=   0.1s\n",
      "[CV] END model__colsample_bytree=1, model__eta=0.3, model__max_depth=1, model__n_estimators=200, model__subsample=0.5; total time=   0.1s\n",
      "[CV] END model__colsample_bytree=1, model__eta=0.3, model__max_depth=1, model__n_estimators=200, model__subsample=0.5; total time=   0.1s\n",
      "[CV] END model__colsample_bytree=1, model__eta=0.3, model__max_depth=1, model__n_estimators=200, model__subsample=0.5; total time=   0.1s\n",
      "[CV] END model__colsample_bytree=0.5, model__eta=0.1, model__max_depth=1, model__n_estimators=200, model__subsample=1; total time=   0.1s\n",
      "[CV] END model__colsample_bytree=0.5, model__eta=0.1, model__max_depth=1, model__n_estimators=200, model__subsample=1; total time=   0.0s\n",
      "[CV] END model__colsample_bytree=0.5, model__eta=0.1, model__max_depth=1, model__n_estimators=200, model__subsample=1; total time=   0.0s\n",
      "[CV] END model__colsample_bytree=0.5, model__eta=0.1, model__max_depth=1, model__n_estimators=200, model__subsample=1; total time=   0.0s\n",
      "[CV] END model__colsample_bytree=0.5, model__eta=0.1, model__max_depth=1, model__n_estimators=200, model__subsample=1; total time=   0.0s\n",
      "[CV] END model__colsample_bytree=1, model__eta=0.1, model__max_depth=1, model__n_estimators=1000, model__subsample=1; total time=   0.5s\n",
      "[CV] END model__colsample_bytree=1, model__eta=0.1, model__max_depth=1, model__n_estimators=1000, model__subsample=1; total time=   0.5s\n",
      "[CV] END model__colsample_bytree=1, model__eta=0.1, model__max_depth=1, model__n_estimators=1000, model__subsample=1; total time=   0.5s\n",
      "[CV] END model__colsample_bytree=1, model__eta=0.1, model__max_depth=1, model__n_estimators=1000, model__subsample=1; total time=   0.5s\n",
      "[CV] END model__colsample_bytree=1, model__eta=0.1, model__max_depth=1, model__n_estimators=1000, model__subsample=1; total time=   0.5s\n",
      "[CV] END model__colsample_bytree=0.5, model__eta=0.1, model__max_depth=2, model__n_estimators=200, model__subsample=0.5; total time=   0.1s\n",
      "[CV] END model__colsample_bytree=0.5, model__eta=0.1, model__max_depth=2, model__n_estimators=200, model__subsample=0.5; total time=   0.1s\n",
      "[CV] END model__colsample_bytree=0.5, model__eta=0.1, model__max_depth=2, model__n_estimators=200, model__subsample=0.5; total time=   0.1s\n",
      "[CV] END model__colsample_bytree=0.5, model__eta=0.1, model__max_depth=2, model__n_estimators=200, model__subsample=0.5; total time=   0.1s\n",
      "[CV] END model__colsample_bytree=0.5, model__eta=0.1, model__max_depth=2, model__n_estimators=200, model__subsample=0.5; total time=   0.1s\n",
      "[CV] END model__colsample_bytree=1, model__eta=0.3, model__max_depth=5, model__n_estimators=1000, model__subsample=0.5; total time=   2.1s\n",
      "[CV] END model__colsample_bytree=1, model__eta=0.3, model__max_depth=5, model__n_estimators=1000, model__subsample=0.5; total time=   2.1s\n",
      "[CV] END model__colsample_bytree=1, model__eta=0.3, model__max_depth=5, model__n_estimators=1000, model__subsample=0.5; total time=   2.1s\n",
      "[CV] END model__colsample_bytree=1, model__eta=0.3, model__max_depth=5, model__n_estimators=1000, model__subsample=0.5; total time=   2.1s\n",
      "[CV] END model__colsample_bytree=1, model__eta=0.3, model__max_depth=5, model__n_estimators=1000, model__subsample=0.5; total time=   2.0s\n",
      "[CV] END model__colsample_bytree=1, model__eta=0.01, model__max_depth=1, model__n_estimators=500, model__subsample=1; total time=   0.2s\n",
      "[CV] END model__colsample_bytree=1, model__eta=0.01, model__max_depth=1, model__n_estimators=500, model__subsample=1; total time=   0.2s\n",
      "[CV] END model__colsample_bytree=1, model__eta=0.01, model__max_depth=1, model__n_estimators=500, model__subsample=1; total time=   0.2s\n",
      "[CV] END model__colsample_bytree=1, model__eta=0.01, model__max_depth=1, model__n_estimators=500, model__subsample=1; total time=   0.2s\n",
      "[CV] END model__colsample_bytree=1, model__eta=0.01, model__max_depth=1, model__n_estimators=500, model__subsample=1; total time=   0.2s\n",
      "[CV] END model__colsample_bytree=0.5, model__eta=0.1, model__max_depth=5, model__n_estimators=1000, model__subsample=1; total time=   1.1s\n",
      "[CV] END model__colsample_bytree=0.5, model__eta=0.1, model__max_depth=5, model__n_estimators=1000, model__subsample=1; total time=   1.1s\n",
      "[CV] END model__colsample_bytree=0.5, model__eta=0.1, model__max_depth=5, model__n_estimators=1000, model__subsample=1; total time=   1.3s\n",
      "[CV] END model__colsample_bytree=0.5, model__eta=0.1, model__max_depth=5, model__n_estimators=1000, model__subsample=1; total time=   1.0s\n"
     ]
    },
    {
     "name": "stdout",
     "output_type": "stream",
     "text": [
      "[CV] END model__colsample_bytree=0.5, model__eta=0.1, model__max_depth=5, model__n_estimators=1000, model__subsample=1; total time=   1.1s\n",
      "[CV] END model__colsample_bytree=0.5, model__eta=0.3, model__max_depth=2, model__n_estimators=200, model__subsample=1; total time=   0.1s\n",
      "[CV] END model__colsample_bytree=0.5, model__eta=0.3, model__max_depth=2, model__n_estimators=200, model__subsample=1; total time=   0.1s\n",
      "[CV] END model__colsample_bytree=0.5, model__eta=0.3, model__max_depth=2, model__n_estimators=200, model__subsample=1; total time=   0.0s\n",
      "[CV] END model__colsample_bytree=0.5, model__eta=0.3, model__max_depth=2, model__n_estimators=200, model__subsample=1; total time=   0.0s\n",
      "[CV] END model__colsample_bytree=0.5, model__eta=0.3, model__max_depth=2, model__n_estimators=200, model__subsample=1; total time=   0.0s\n",
      "[CV] END model__colsample_bytree=1, model__eta=0.01, model__max_depth=10, model__n_estimators=1000, model__subsample=0.5; total time=   5.0s\n",
      "[CV] END model__colsample_bytree=1, model__eta=0.01, model__max_depth=10, model__n_estimators=1000, model__subsample=0.5; total time=   5.0s\n",
      "[CV] END model__colsample_bytree=1, model__eta=0.01, model__max_depth=10, model__n_estimators=1000, model__subsample=0.5; total time=   5.3s\n",
      "[CV] END model__colsample_bytree=1, model__eta=0.01, model__max_depth=10, model__n_estimators=1000, model__subsample=0.5; total time=   5.1s\n",
      "[CV] END model__colsample_bytree=1, model__eta=0.01, model__max_depth=10, model__n_estimators=1000, model__subsample=0.5; total time=   5.1s\n"
     ]
    },
    {
     "data": {
      "text/html": [
       "<style>#sk-container-id-8 {color: black;background-color: white;}#sk-container-id-8 pre{padding: 0;}#sk-container-id-8 div.sk-toggleable {background-color: white;}#sk-container-id-8 label.sk-toggleable__label {cursor: pointer;display: block;width: 100%;margin-bottom: 0;padding: 0.3em;box-sizing: border-box;text-align: center;}#sk-container-id-8 label.sk-toggleable__label-arrow:before {content: \"▸\";float: left;margin-right: 0.25em;color: #696969;}#sk-container-id-8 label.sk-toggleable__label-arrow:hover:before {color: black;}#sk-container-id-8 div.sk-estimator:hover label.sk-toggleable__label-arrow:before {color: black;}#sk-container-id-8 div.sk-toggleable__content {max-height: 0;max-width: 0;overflow: hidden;text-align: left;background-color: #f0f8ff;}#sk-container-id-8 div.sk-toggleable__content pre {margin: 0.2em;color: black;border-radius: 0.25em;background-color: #f0f8ff;}#sk-container-id-8 input.sk-toggleable__control:checked~div.sk-toggleable__content {max-height: 200px;max-width: 100%;overflow: auto;}#sk-container-id-8 input.sk-toggleable__control:checked~label.sk-toggleable__label-arrow:before {content: \"▾\";}#sk-container-id-8 div.sk-estimator input.sk-toggleable__control:checked~label.sk-toggleable__label {background-color: #d4ebff;}#sk-container-id-8 div.sk-label input.sk-toggleable__control:checked~label.sk-toggleable__label {background-color: #d4ebff;}#sk-container-id-8 input.sk-hidden--visually {border: 0;clip: rect(1px 1px 1px 1px);clip: rect(1px, 1px, 1px, 1px);height: 1px;margin: -1px;overflow: hidden;padding: 0;position: absolute;width: 1px;}#sk-container-id-8 div.sk-estimator {font-family: monospace;background-color: #f0f8ff;border: 1px dotted black;border-radius: 0.25em;box-sizing: border-box;margin-bottom: 0.5em;}#sk-container-id-8 div.sk-estimator:hover {background-color: #d4ebff;}#sk-container-id-8 div.sk-parallel-item::after {content: \"\";width: 100%;border-bottom: 1px solid gray;flex-grow: 1;}#sk-container-id-8 div.sk-label:hover label.sk-toggleable__label {background-color: #d4ebff;}#sk-container-id-8 div.sk-serial::before {content: \"\";position: absolute;border-left: 1px solid gray;box-sizing: border-box;top: 0;bottom: 0;left: 50%;z-index: 0;}#sk-container-id-8 div.sk-serial {display: flex;flex-direction: column;align-items: center;background-color: white;padding-right: 0.2em;padding-left: 0.2em;position: relative;}#sk-container-id-8 div.sk-item {position: relative;z-index: 1;}#sk-container-id-8 div.sk-parallel {display: flex;align-items: stretch;justify-content: center;background-color: white;position: relative;}#sk-container-id-8 div.sk-item::before, #sk-container-id-8 div.sk-parallel-item::before {content: \"\";position: absolute;border-left: 1px solid gray;box-sizing: border-box;top: 0;bottom: 0;left: 50%;z-index: -1;}#sk-container-id-8 div.sk-parallel-item {display: flex;flex-direction: column;z-index: 1;position: relative;background-color: white;}#sk-container-id-8 div.sk-parallel-item:first-child::after {align-self: flex-end;width: 50%;}#sk-container-id-8 div.sk-parallel-item:last-child::after {align-self: flex-start;width: 50%;}#sk-container-id-8 div.sk-parallel-item:only-child::after {width: 0;}#sk-container-id-8 div.sk-dashed-wrapped {border: 1px dashed gray;margin: 0 0.4em 0.5em 0.4em;box-sizing: border-box;padding-bottom: 0.4em;background-color: white;}#sk-container-id-8 div.sk-label label {font-family: monospace;font-weight: bold;display: inline-block;line-height: 1.2em;}#sk-container-id-8 div.sk-label-container {text-align: center;}#sk-container-id-8 div.sk-container {/* jupyter's `normalize.less` sets `[hidden] { display: none; }` but bootstrap.min.css set `[hidden] { display: none !important; }` so we also need the `!important` here to be able to override the default hidden behavior on the sphinx rendered scikit-learn.org. See: https://github.com/scikit-learn/scikit-learn/issues/21755 */display: inline-block !important;position: relative;}#sk-container-id-8 div.sk-text-repr-fallback {display: none;}</style><div id=\"sk-container-id-8\" class=\"sk-top-container\"><div class=\"sk-text-repr-fallback\"><pre>RandomizedSearchCV(cv=5,\n",
       "                   estimator=Pipeline(steps=[(&#x27;preprocess&#x27;,\n",
       "                                              ColumnTransformer(remainder=&#x27;passthrough&#x27;,\n",
       "                                                                transformers=[(&#x27;categorical&#x27;,\n",
       "                                                                               OneHotEncoder(sparse=False),\n",
       "                                                                               [&#x27;Admit &#x27;\n",
       "                                                                                &#x27;Day &#x27;\n",
       "                                                                                &#x27;of &#x27;\n",
       "                                                                                &#x27;Week&#x27;,\n",
       "                                                                                &#x27;Diagnostic &#x27;\n",
       "                                                                                &#x27;Code&#x27;,\n",
       "                                                                                &#x27;Admit &#x27;\n",
       "                                                                                &#x27;Month&#x27;,\n",
       "                                                                                &#x27;Ethnicity &#x27;\n",
       "                                                                                &#x27;Group&#x27;,\n",
       "                                                                                &#x27;DHB &#x27;\n",
       "                                                                                &#x27;Group&#x27;]),\n",
       "                                                                              (&#x27;numerical&#x27;,\n",
       "                                                                               StandardScaler(),\n",
       "                                                                               [&#x27;Age&#x27;])])),\n",
       "                                             (&#x27;model&#x27;,\n",
       "                                              XGBRegressor(base_score=None,\n",
       "                                                           booster=None,\n",
       "                                                           ca...\n",
       "                                                           missing=nan,\n",
       "                                                           monotone_constraints=None,\n",
       "                                                           n_estimators=100,\n",
       "                                                           n_jobs=None,\n",
       "                                                           num_parallel_tree=None,\n",
       "                                                           predictor=None,\n",
       "                                                           random_state=0,\n",
       "                                                           reg_alpha=None,\n",
       "                                                           reg_lambda=None, ...))]),\n",
       "                   n_iter=50,\n",
       "                   param_distributions={&#x27;model__colsample_bytree&#x27;: [0.5, 1],\n",
       "                                        &#x27;model__eta&#x27;: [0.01, 0.1, 0.3],\n",
       "                                        &#x27;model__max_depth&#x27;: [1, 2, 5, 10],\n",
       "                                        &#x27;model__n_estimators&#x27;: [100, 200, 500,\n",
       "                                                                1000],\n",
       "                                        &#x27;model__subsample&#x27;: [0.5, 1]},\n",
       "                   verbose=2)</pre><b>In a Jupyter environment, please rerun this cell to show the HTML representation or trust the notebook. <br />On GitHub, the HTML representation is unable to render, please try loading this page with nbviewer.org.</b></div><div class=\"sk-container\" hidden><div class=\"sk-item sk-dashed-wrapped\"><div class=\"sk-label-container\"><div class=\"sk-label sk-toggleable\"><input class=\"sk-toggleable__control sk-hidden--visually\" id=\"sk-estimator-id-71\" type=\"checkbox\" ><label for=\"sk-estimator-id-71\" class=\"sk-toggleable__label sk-toggleable__label-arrow\">RandomizedSearchCV</label><div class=\"sk-toggleable__content\"><pre>RandomizedSearchCV(cv=5,\n",
       "                   estimator=Pipeline(steps=[(&#x27;preprocess&#x27;,\n",
       "                                              ColumnTransformer(remainder=&#x27;passthrough&#x27;,\n",
       "                                                                transformers=[(&#x27;categorical&#x27;,\n",
       "                                                                               OneHotEncoder(sparse=False),\n",
       "                                                                               [&#x27;Admit &#x27;\n",
       "                                                                                &#x27;Day &#x27;\n",
       "                                                                                &#x27;of &#x27;\n",
       "                                                                                &#x27;Week&#x27;,\n",
       "                                                                                &#x27;Diagnostic &#x27;\n",
       "                                                                                &#x27;Code&#x27;,\n",
       "                                                                                &#x27;Admit &#x27;\n",
       "                                                                                &#x27;Month&#x27;,\n",
       "                                                                                &#x27;Ethnicity &#x27;\n",
       "                                                                                &#x27;Group&#x27;,\n",
       "                                                                                &#x27;DHB &#x27;\n",
       "                                                                                &#x27;Group&#x27;]),\n",
       "                                                                              (&#x27;numerical&#x27;,\n",
       "                                                                               StandardScaler(),\n",
       "                                                                               [&#x27;Age&#x27;])])),\n",
       "                                             (&#x27;model&#x27;,\n",
       "                                              XGBRegressor(base_score=None,\n",
       "                                                           booster=None,\n",
       "                                                           ca...\n",
       "                                                           missing=nan,\n",
       "                                                           monotone_constraints=None,\n",
       "                                                           n_estimators=100,\n",
       "                                                           n_jobs=None,\n",
       "                                                           num_parallel_tree=None,\n",
       "                                                           predictor=None,\n",
       "                                                           random_state=0,\n",
       "                                                           reg_alpha=None,\n",
       "                                                           reg_lambda=None, ...))]),\n",
       "                   n_iter=50,\n",
       "                   param_distributions={&#x27;model__colsample_bytree&#x27;: [0.5, 1],\n",
       "                                        &#x27;model__eta&#x27;: [0.01, 0.1, 0.3],\n",
       "                                        &#x27;model__max_depth&#x27;: [1, 2, 5, 10],\n",
       "                                        &#x27;model__n_estimators&#x27;: [100, 200, 500,\n",
       "                                                                1000],\n",
       "                                        &#x27;model__subsample&#x27;: [0.5, 1]},\n",
       "                   verbose=2)</pre></div></div></div><div class=\"sk-parallel\"><div class=\"sk-parallel-item\"><div class=\"sk-item\"><div class=\"sk-label-container\"><div class=\"sk-label sk-toggleable\"><input class=\"sk-toggleable__control sk-hidden--visually\" id=\"sk-estimator-id-72\" type=\"checkbox\" ><label for=\"sk-estimator-id-72\" class=\"sk-toggleable__label sk-toggleable__label-arrow\">estimator: Pipeline</label><div class=\"sk-toggleable__content\"><pre>Pipeline(steps=[(&#x27;preprocess&#x27;,\n",
       "                 ColumnTransformer(remainder=&#x27;passthrough&#x27;,\n",
       "                                   transformers=[(&#x27;categorical&#x27;,\n",
       "                                                  OneHotEncoder(sparse=False),\n",
       "                                                  [&#x27;Admit Day of Week&#x27;,\n",
       "                                                   &#x27;Diagnostic Code&#x27;,\n",
       "                                                   &#x27;Admit Month&#x27;,\n",
       "                                                   &#x27;Ethnicity Group&#x27;,\n",
       "                                                   &#x27;DHB Group&#x27;]),\n",
       "                                                 (&#x27;numerical&#x27;, StandardScaler(),\n",
       "                                                  [&#x27;Age&#x27;])])),\n",
       "                (&#x27;model&#x27;,\n",
       "                 XGBRegressor(base_score=None, booster=None, callbacks=None,\n",
       "                              colsample_bylevel=None, colsample_by...\n",
       "                              gamma=None, gpu_id=None, grow_policy=None,\n",
       "                              importance_type=None,\n",
       "                              interaction_constraints=None, learning_rate=0.1,\n",
       "                              max_bin=None, max_cat_to_onehot=None,\n",
       "                              max_delta_step=None, max_depth=10,\n",
       "                              max_leaves=None, min_child_weight=None,\n",
       "                              missing=nan, monotone_constraints=None,\n",
       "                              n_estimators=100, n_jobs=None,\n",
       "                              num_parallel_tree=None, predictor=None,\n",
       "                              random_state=0, reg_alpha=None, reg_lambda=None, ...))])</pre></div></div></div><div class=\"sk-serial\"><div class=\"sk-item\"><div class=\"sk-serial\"><div class=\"sk-item sk-dashed-wrapped\"><div class=\"sk-label-container\"><div class=\"sk-label sk-toggleable\"><input class=\"sk-toggleable__control sk-hidden--visually\" id=\"sk-estimator-id-73\" type=\"checkbox\" ><label for=\"sk-estimator-id-73\" class=\"sk-toggleable__label sk-toggleable__label-arrow\">preprocess: ColumnTransformer</label><div class=\"sk-toggleable__content\"><pre>ColumnTransformer(remainder=&#x27;passthrough&#x27;,\n",
       "                  transformers=[(&#x27;categorical&#x27;, OneHotEncoder(sparse=False),\n",
       "                                 [&#x27;Admit Day of Week&#x27;, &#x27;Diagnostic Code&#x27;,\n",
       "                                  &#x27;Admit Month&#x27;, &#x27;Ethnicity Group&#x27;,\n",
       "                                  &#x27;DHB Group&#x27;]),\n",
       "                                (&#x27;numerical&#x27;, StandardScaler(), [&#x27;Age&#x27;])])</pre></div></div></div><div class=\"sk-parallel\"><div class=\"sk-parallel-item\"><div class=\"sk-item\"><div class=\"sk-label-container\"><div class=\"sk-label sk-toggleable\"><input class=\"sk-toggleable__control sk-hidden--visually\" id=\"sk-estimator-id-74\" type=\"checkbox\" ><label for=\"sk-estimator-id-74\" class=\"sk-toggleable__label sk-toggleable__label-arrow\">categorical</label><div class=\"sk-toggleable__content\"><pre>[&#x27;Admit Day of Week&#x27;, &#x27;Diagnostic Code&#x27;, &#x27;Admit Month&#x27;, &#x27;Ethnicity Group&#x27;, &#x27;DHB Group&#x27;]</pre></div></div></div><div class=\"sk-serial\"><div class=\"sk-item\"><div class=\"sk-estimator sk-toggleable\"><input class=\"sk-toggleable__control sk-hidden--visually\" id=\"sk-estimator-id-75\" type=\"checkbox\" ><label for=\"sk-estimator-id-75\" class=\"sk-toggleable__label sk-toggleable__label-arrow\">OneHotEncoder</label><div class=\"sk-toggleable__content\"><pre>OneHotEncoder(sparse=False)</pre></div></div></div></div></div></div><div class=\"sk-parallel-item\"><div class=\"sk-item\"><div class=\"sk-label-container\"><div class=\"sk-label sk-toggleable\"><input class=\"sk-toggleable__control sk-hidden--visually\" id=\"sk-estimator-id-76\" type=\"checkbox\" ><label for=\"sk-estimator-id-76\" class=\"sk-toggleable__label sk-toggleable__label-arrow\">numerical</label><div class=\"sk-toggleable__content\"><pre>[&#x27;Age&#x27;]</pre></div></div></div><div class=\"sk-serial\"><div class=\"sk-item\"><div class=\"sk-estimator sk-toggleable\"><input class=\"sk-toggleable__control sk-hidden--visually\" id=\"sk-estimator-id-77\" type=\"checkbox\" ><label for=\"sk-estimator-id-77\" class=\"sk-toggleable__label sk-toggleable__label-arrow\">StandardScaler</label><div class=\"sk-toggleable__content\"><pre>StandardScaler()</pre></div></div></div></div></div></div><div class=\"sk-parallel-item\"><div class=\"sk-item\"><div class=\"sk-label-container\"><div class=\"sk-label sk-toggleable\"><input class=\"sk-toggleable__control sk-hidden--visually\" id=\"sk-estimator-id-78\" type=\"checkbox\" ><label for=\"sk-estimator-id-78\" class=\"sk-toggleable__label sk-toggleable__label-arrow\">remainder</label><div class=\"sk-toggleable__content\"><pre>[&#x27;Gender&#x27;, &#x27;Smoker Status&#x27;]</pre></div></div></div><div class=\"sk-serial\"><div class=\"sk-item\"><div class=\"sk-estimator sk-toggleable\"><input class=\"sk-toggleable__control sk-hidden--visually\" id=\"sk-estimator-id-79\" type=\"checkbox\" ><label for=\"sk-estimator-id-79\" class=\"sk-toggleable__label sk-toggleable__label-arrow\">passthrough</label><div class=\"sk-toggleable__content\"><pre>passthrough</pre></div></div></div></div></div></div></div></div><div class=\"sk-item\"><div class=\"sk-estimator sk-toggleable\"><input class=\"sk-toggleable__control sk-hidden--visually\" id=\"sk-estimator-id-80\" type=\"checkbox\" ><label for=\"sk-estimator-id-80\" class=\"sk-toggleable__label sk-toggleable__label-arrow\">XGBRegressor</label><div class=\"sk-toggleable__content\"><pre>XGBRegressor(base_score=None, booster=None, callbacks=None,\n",
       "             colsample_bylevel=None, colsample_bynode=None,\n",
       "             colsample_bytree=None, early_stopping_rounds=None,\n",
       "             enable_categorical=False, eval_metric=None, gamma=None,\n",
       "             gpu_id=None, grow_policy=None, importance_type=None,\n",
       "             interaction_constraints=None, learning_rate=0.1, max_bin=None,\n",
       "             max_cat_to_onehot=None, max_delta_step=None, max_depth=10,\n",
       "             max_leaves=None, min_child_weight=None, missing=nan,\n",
       "             monotone_constraints=None, n_estimators=100, n_jobs=None,\n",
       "             num_parallel_tree=None, predictor=None, random_state=0,\n",
       "             reg_alpha=None, reg_lambda=None, ...)</pre></div></div></div></div></div></div></div></div></div></div></div></div>"
      ],
      "text/plain": [
       "RandomizedSearchCV(cv=5,\n",
       "                   estimator=Pipeline(steps=[('preprocess',\n",
       "                                              ColumnTransformer(remainder='passthrough',\n",
       "                                                                transformers=[('categorical',\n",
       "                                                                               OneHotEncoder(sparse=False),\n",
       "                                                                               ['Admit '\n",
       "                                                                                'Day '\n",
       "                                                                                'of '\n",
       "                                                                                'Week',\n",
       "                                                                                'Diagnostic '\n",
       "                                                                                'Code',\n",
       "                                                                                'Admit '\n",
       "                                                                                'Month',\n",
       "                                                                                'Ethnicity '\n",
       "                                                                                'Group',\n",
       "                                                                                'DHB '\n",
       "                                                                                'Group']),\n",
       "                                                                              ('numerical',\n",
       "                                                                               StandardScaler(),\n",
       "                                                                               ['Age'])])),\n",
       "                                             ('model',\n",
       "                                              XGBRegressor(base_score=None,\n",
       "                                                           booster=None,\n",
       "                                                           ca...\n",
       "                                                           missing=nan,\n",
       "                                                           monotone_constraints=None,\n",
       "                                                           n_estimators=100,\n",
       "                                                           n_jobs=None,\n",
       "                                                           num_parallel_tree=None,\n",
       "                                                           predictor=None,\n",
       "                                                           random_state=0,\n",
       "                                                           reg_alpha=None,\n",
       "                                                           reg_lambda=None, ...))]),\n",
       "                   n_iter=50,\n",
       "                   param_distributions={'model__colsample_bytree': [0.5, 1],\n",
       "                                        'model__eta': [0.01, 0.1, 0.3],\n",
       "                                        'model__max_depth': [1, 2, 5, 10],\n",
       "                                        'model__n_estimators': [100, 200, 500,\n",
       "                                                                1000],\n",
       "                                        'model__subsample': [0.5, 1]},\n",
       "                   verbose=2)"
      ]
     },
     "execution_count": 81,
     "metadata": {},
     "output_type": "execute_result"
    }
   ],
   "source": [
    "model_gb_3 = KNeighborsRegressor()\n",
    "pipe_knn_gs = Pipeline(steps=[(\"preprocess\",preprocessor),\n",
    "                      (\"model\",gb_model_2)\n",
    "                      ]\n",
    "               )\n",
    "\n",
    "gradientBoosting_grid = {\"model__eta\": [0.01,0.1,0.3],\n",
    "                    \"model__n_estimators\":[100,200,500,1000],\n",
    "                    \"model__max_depth\":[1,2,5,10],\n",
    "                    \"model__subsample\":[0.5,1],\n",
    "                    \"model__colsample_bytree\":[0.5,1]}\n",
    "\n",
    "np.random.seed(42)\n",
    "\n",
    "# X_train2,X_test2,y_train2,y_test2 = train_test_split(X,y,test_size=0.3)\n",
    "\n",
    "rs_model_knn = RandomizedSearchCV(estimator=pipe_knn_gs,\n",
    "                                 param_distributions=gradientBoosting_grid,\n",
    "                                 n_iter =20,\n",
    "                                 cv=5,\n",
    "                                 verbose=2)\n",
    "# Training models\n",
    "rs_model_knn.fit(X_train,y_train)"
   ]
  },
  {
   "cell_type": "markdown",
   "id": "bed8f10b",
   "metadata": {},
   "source": [
    "#### Hyperparameter tuning by GridSearchCV"
   ]
  },
  {
   "cell_type": "code",
   "execution_count": 76,
   "id": "6e6a1432",
   "metadata": {},
   "outputs": [
    {
     "name": "stdout",
     "output_type": "stream",
     "text": [
      "Fitting 5 folds for each of 48 candidates, totalling 240 fits\n",
      "[CV] END model__algorithm=auto, model__n_neighbors=3, model__p=1, model__weights=uniform; total time=   0.0s\n",
      "[CV] END model__algorithm=auto, model__n_neighbors=3, model__p=1, model__weights=uniform; total time=   0.0s\n",
      "[CV] END model__algorithm=auto, model__n_neighbors=3, model__p=1, model__weights=uniform; total time=   0.0s\n",
      "[CV] END model__algorithm=auto, model__n_neighbors=3, model__p=1, model__weights=uniform; total time=   0.0s\n",
      "[CV] END model__algorithm=auto, model__n_neighbors=3, model__p=1, model__weights=uniform; total time=   0.0s\n",
      "[CV] END model__algorithm=auto, model__n_neighbors=3, model__p=1, model__weights=distance; total time=   0.0s\n",
      "[CV] END model__algorithm=auto, model__n_neighbors=3, model__p=1, model__weights=distance; total time=   0.0s\n",
      "[CV] END model__algorithm=auto, model__n_neighbors=3, model__p=1, model__weights=distance; total time=   0.0s\n",
      "[CV] END model__algorithm=auto, model__n_neighbors=3, model__p=1, model__weights=distance; total time=   0.0s\n",
      "[CV] END model__algorithm=auto, model__n_neighbors=3, model__p=1, model__weights=distance; total time=   0.0s\n",
      "[CV] END model__algorithm=auto, model__n_neighbors=3, model__p=2, model__weights=uniform; total time=   0.0s\n",
      "[CV] END model__algorithm=auto, model__n_neighbors=3, model__p=2, model__weights=uniform; total time=   0.0s\n",
      "[CV] END model__algorithm=auto, model__n_neighbors=3, model__p=2, model__weights=uniform; total time=   0.0s\n",
      "[CV] END model__algorithm=auto, model__n_neighbors=3, model__p=2, model__weights=uniform; total time=   0.0s\n",
      "[CV] END model__algorithm=auto, model__n_neighbors=3, model__p=2, model__weights=uniform; total time=   0.0s\n",
      "[CV] END model__algorithm=auto, model__n_neighbors=3, model__p=2, model__weights=distance; total time=   0.0s\n",
      "[CV] END model__algorithm=auto, model__n_neighbors=3, model__p=2, model__weights=distance; total time=   0.0s\n",
      "[CV] END model__algorithm=auto, model__n_neighbors=3, model__p=2, model__weights=distance; total time=   0.0s\n",
      "[CV] END model__algorithm=auto, model__n_neighbors=3, model__p=2, model__weights=distance; total time=   0.0s\n",
      "[CV] END model__algorithm=auto, model__n_neighbors=3, model__p=2, model__weights=distance; total time=   0.0s\n",
      "[CV] END model__algorithm=auto, model__n_neighbors=5, model__p=1, model__weights=uniform; total time=   0.0s\n",
      "[CV] END model__algorithm=auto, model__n_neighbors=5, model__p=1, model__weights=uniform; total time=   0.0s\n",
      "[CV] END model__algorithm=auto, model__n_neighbors=5, model__p=1, model__weights=uniform; total time=   0.0s\n",
      "[CV] END model__algorithm=auto, model__n_neighbors=5, model__p=1, model__weights=uniform; total time=   0.0s\n",
      "[CV] END model__algorithm=auto, model__n_neighbors=5, model__p=1, model__weights=uniform; total time=   0.0s\n",
      "[CV] END model__algorithm=auto, model__n_neighbors=5, model__p=1, model__weights=distance; total time=   0.0s\n",
      "[CV] END model__algorithm=auto, model__n_neighbors=5, model__p=1, model__weights=distance; total time=   0.0s\n",
      "[CV] END model__algorithm=auto, model__n_neighbors=5, model__p=1, model__weights=distance; total time=   0.0s\n",
      "[CV] END model__algorithm=auto, model__n_neighbors=5, model__p=1, model__weights=distance; total time=   0.0s\n",
      "[CV] END model__algorithm=auto, model__n_neighbors=5, model__p=1, model__weights=distance; total time=   0.0s\n",
      "[CV] END model__algorithm=auto, model__n_neighbors=5, model__p=2, model__weights=uniform; total time=   0.0s\n",
      "[CV] END model__algorithm=auto, model__n_neighbors=5, model__p=2, model__weights=uniform; total time=   0.0s\n",
      "[CV] END model__algorithm=auto, model__n_neighbors=5, model__p=2, model__weights=uniform; total time=   0.0s\n",
      "[CV] END model__algorithm=auto, model__n_neighbors=5, model__p=2, model__weights=uniform; total time=   0.0s\n",
      "[CV] END model__algorithm=auto, model__n_neighbors=5, model__p=2, model__weights=uniform; total time=   0.0s\n",
      "[CV] END model__algorithm=auto, model__n_neighbors=5, model__p=2, model__weights=distance; total time=   0.0s\n",
      "[CV] END model__algorithm=auto, model__n_neighbors=5, model__p=2, model__weights=distance; total time=   0.0s\n",
      "[CV] END model__algorithm=auto, model__n_neighbors=5, model__p=2, model__weights=distance; total time=   0.0s\n",
      "[CV] END model__algorithm=auto, model__n_neighbors=5, model__p=2, model__weights=distance; total time=   0.0s\n",
      "[CV] END model__algorithm=auto, model__n_neighbors=5, model__p=2, model__weights=distance; total time=   0.0s\n",
      "[CV] END model__algorithm=auto, model__n_neighbors=9, model__p=1, model__weights=uniform; total time=   0.0s\n",
      "[CV] END model__algorithm=auto, model__n_neighbors=9, model__p=1, model__weights=uniform; total time=   0.0s\n",
      "[CV] END model__algorithm=auto, model__n_neighbors=9, model__p=1, model__weights=uniform; total time=   0.0s\n",
      "[CV] END model__algorithm=auto, model__n_neighbors=9, model__p=1, model__weights=uniform; total time=   0.0s\n",
      "[CV] END model__algorithm=auto, model__n_neighbors=9, model__p=1, model__weights=uniform; total time=   0.0s\n",
      "[CV] END model__algorithm=auto, model__n_neighbors=9, model__p=1, model__weights=distance; total time=   0.0s\n",
      "[CV] END model__algorithm=auto, model__n_neighbors=9, model__p=1, model__weights=distance; total time=   0.0s\n",
      "[CV] END model__algorithm=auto, model__n_neighbors=9, model__p=1, model__weights=distance; total time=   0.0s\n",
      "[CV] END model__algorithm=auto, model__n_neighbors=9, model__p=1, model__weights=distance; total time=   0.0s\n",
      "[CV] END model__algorithm=auto, model__n_neighbors=9, model__p=1, model__weights=distance; total time=   0.0s\n",
      "[CV] END model__algorithm=auto, model__n_neighbors=9, model__p=2, model__weights=uniform; total time=   0.0s\n",
      "[CV] END model__algorithm=auto, model__n_neighbors=9, model__p=2, model__weights=uniform; total time=   0.0s\n",
      "[CV] END model__algorithm=auto, model__n_neighbors=9, model__p=2, model__weights=uniform; total time=   0.0s\n",
      "[CV] END model__algorithm=auto, model__n_neighbors=9, model__p=2, model__weights=uniform; total time=   0.0s\n",
      "[CV] END model__algorithm=auto, model__n_neighbors=9, model__p=2, model__weights=uniform; total time=   0.0s\n",
      "[CV] END model__algorithm=auto, model__n_neighbors=9, model__p=2, model__weights=distance; total time=   0.0s\n",
      "[CV] END model__algorithm=auto, model__n_neighbors=9, model__p=2, model__weights=distance; total time=   0.0s\n",
      "[CV] END model__algorithm=auto, model__n_neighbors=9, model__p=2, model__weights=distance; total time=   0.0s\n",
      "[CV] END model__algorithm=auto, model__n_neighbors=9, model__p=2, model__weights=distance; total time=   0.0s\n",
      "[CV] END model__algorithm=auto, model__n_neighbors=9, model__p=2, model__weights=distance; total time=   0.0s\n",
      "[CV] END model__algorithm=ball_tree, model__n_neighbors=3, model__p=1, model__weights=uniform; total time=   0.0s\n",
      "[CV] END model__algorithm=ball_tree, model__n_neighbors=3, model__p=1, model__weights=uniform; total time=   0.0s\n",
      "[CV] END model__algorithm=ball_tree, model__n_neighbors=3, model__p=1, model__weights=uniform; total time=   0.0s\n",
      "[CV] END model__algorithm=ball_tree, model__n_neighbors=3, model__p=1, model__weights=uniform; total time=   0.0s\n",
      "[CV] END model__algorithm=ball_tree, model__n_neighbors=3, model__p=1, model__weights=uniform; total time=   0.0s\n",
      "[CV] END model__algorithm=ball_tree, model__n_neighbors=3, model__p=1, model__weights=distance; total time=   0.0s\n",
      "[CV] END model__algorithm=ball_tree, model__n_neighbors=3, model__p=1, model__weights=distance; total time=   0.0s\n",
      "[CV] END model__algorithm=ball_tree, model__n_neighbors=3, model__p=1, model__weights=distance; total time=   0.0s\n",
      "[CV] END model__algorithm=ball_tree, model__n_neighbors=3, model__p=1, model__weights=distance; total time=   0.0s\n",
      "[CV] END model__algorithm=ball_tree, model__n_neighbors=3, model__p=1, model__weights=distance; total time=   0.0s\n",
      "[CV] END model__algorithm=ball_tree, model__n_neighbors=3, model__p=2, model__weights=uniform; total time=   0.0s\n",
      "[CV] END model__algorithm=ball_tree, model__n_neighbors=3, model__p=2, model__weights=uniform; total time=   0.0s\n",
      "[CV] END model__algorithm=ball_tree, model__n_neighbors=3, model__p=2, model__weights=uniform; total time=   0.0s\n",
      "[CV] END model__algorithm=ball_tree, model__n_neighbors=3, model__p=2, model__weights=uniform; total time=   0.0s\n",
      "[CV] END model__algorithm=ball_tree, model__n_neighbors=3, model__p=2, model__weights=uniform; total time=   0.0s\n",
      "[CV] END model__algorithm=ball_tree, model__n_neighbors=3, model__p=2, model__weights=distance; total time=   0.0s\n"
     ]
    },
    {
     "name": "stdout",
     "output_type": "stream",
     "text": [
      "[CV] END model__algorithm=ball_tree, model__n_neighbors=3, model__p=2, model__weights=distance; total time=   0.0s\n",
      "[CV] END model__algorithm=ball_tree, model__n_neighbors=3, model__p=2, model__weights=distance; total time=   0.0s\n",
      "[CV] END model__algorithm=ball_tree, model__n_neighbors=3, model__p=2, model__weights=distance; total time=   0.0s\n",
      "[CV] END model__algorithm=ball_tree, model__n_neighbors=3, model__p=2, model__weights=distance; total time=   0.0s\n",
      "[CV] END model__algorithm=ball_tree, model__n_neighbors=5, model__p=1, model__weights=uniform; total time=   0.0s\n",
      "[CV] END model__algorithm=ball_tree, model__n_neighbors=5, model__p=1, model__weights=uniform; total time=   0.0s\n",
      "[CV] END model__algorithm=ball_tree, model__n_neighbors=5, model__p=1, model__weights=uniform; total time=   0.0s\n",
      "[CV] END model__algorithm=ball_tree, model__n_neighbors=5, model__p=1, model__weights=uniform; total time=   0.0s\n",
      "[CV] END model__algorithm=ball_tree, model__n_neighbors=5, model__p=1, model__weights=uniform; total time=   0.0s\n",
      "[CV] END model__algorithm=ball_tree, model__n_neighbors=5, model__p=1, model__weights=distance; total time=   0.0s\n",
      "[CV] END model__algorithm=ball_tree, model__n_neighbors=5, model__p=1, model__weights=distance; total time=   0.0s\n",
      "[CV] END model__algorithm=ball_tree, model__n_neighbors=5, model__p=1, model__weights=distance; total time=   0.0s\n",
      "[CV] END model__algorithm=ball_tree, model__n_neighbors=5, model__p=1, model__weights=distance; total time=   0.0s\n",
      "[CV] END model__algorithm=ball_tree, model__n_neighbors=5, model__p=1, model__weights=distance; total time=   0.0s\n",
      "[CV] END model__algorithm=ball_tree, model__n_neighbors=5, model__p=2, model__weights=uniform; total time=   0.0s\n",
      "[CV] END model__algorithm=ball_tree, model__n_neighbors=5, model__p=2, model__weights=uniform; total time=   0.0s\n",
      "[CV] END model__algorithm=ball_tree, model__n_neighbors=5, model__p=2, model__weights=uniform; total time=   0.0s\n",
      "[CV] END model__algorithm=ball_tree, model__n_neighbors=5, model__p=2, model__weights=uniform; total time=   0.0s\n",
      "[CV] END model__algorithm=ball_tree, model__n_neighbors=5, model__p=2, model__weights=uniform; total time=   0.0s\n",
      "[CV] END model__algorithm=ball_tree, model__n_neighbors=5, model__p=2, model__weights=distance; total time=   0.0s\n",
      "[CV] END model__algorithm=ball_tree, model__n_neighbors=5, model__p=2, model__weights=distance; total time=   0.0s\n",
      "[CV] END model__algorithm=ball_tree, model__n_neighbors=5, model__p=2, model__weights=distance; total time=   0.0s\n",
      "[CV] END model__algorithm=ball_tree, model__n_neighbors=5, model__p=2, model__weights=distance; total time=   0.0s\n",
      "[CV] END model__algorithm=ball_tree, model__n_neighbors=5, model__p=2, model__weights=distance; total time=   0.0s\n",
      "[CV] END model__algorithm=ball_tree, model__n_neighbors=9, model__p=1, model__weights=uniform; total time=   0.0s\n",
      "[CV] END model__algorithm=ball_tree, model__n_neighbors=9, model__p=1, model__weights=uniform; total time=   0.0s\n",
      "[CV] END model__algorithm=ball_tree, model__n_neighbors=9, model__p=1, model__weights=uniform; total time=   0.0s\n",
      "[CV] END model__algorithm=ball_tree, model__n_neighbors=9, model__p=1, model__weights=uniform; total time=   0.0s\n",
      "[CV] END model__algorithm=ball_tree, model__n_neighbors=9, model__p=1, model__weights=uniform; total time=   0.0s\n",
      "[CV] END model__algorithm=ball_tree, model__n_neighbors=9, model__p=1, model__weights=distance; total time=   0.0s\n",
      "[CV] END model__algorithm=ball_tree, model__n_neighbors=9, model__p=1, model__weights=distance; total time=   0.1s\n",
      "[CV] END model__algorithm=ball_tree, model__n_neighbors=9, model__p=1, model__weights=distance; total time=   0.1s\n",
      "[CV] END model__algorithm=ball_tree, model__n_neighbors=9, model__p=1, model__weights=distance; total time=   0.0s\n",
      "[CV] END model__algorithm=ball_tree, model__n_neighbors=9, model__p=1, model__weights=distance; total time=   0.0s\n",
      "[CV] END model__algorithm=ball_tree, model__n_neighbors=9, model__p=2, model__weights=uniform; total time=   0.0s\n",
      "[CV] END model__algorithm=ball_tree, model__n_neighbors=9, model__p=2, model__weights=uniform; total time=   0.0s\n",
      "[CV] END model__algorithm=ball_tree, model__n_neighbors=9, model__p=2, model__weights=uniform; total time=   0.0s\n",
      "[CV] END model__algorithm=ball_tree, model__n_neighbors=9, model__p=2, model__weights=uniform; total time=   0.0s\n",
      "[CV] END model__algorithm=ball_tree, model__n_neighbors=9, model__p=2, model__weights=uniform; total time=   0.1s\n",
      "[CV] END model__algorithm=ball_tree, model__n_neighbors=9, model__p=2, model__weights=distance; total time=   0.0s\n",
      "[CV] END model__algorithm=ball_tree, model__n_neighbors=9, model__p=2, model__weights=distance; total time=   0.0s\n",
      "[CV] END model__algorithm=ball_tree, model__n_neighbors=9, model__p=2, model__weights=distance; total time=   0.0s\n",
      "[CV] END model__algorithm=ball_tree, model__n_neighbors=9, model__p=2, model__weights=distance; total time=   0.0s\n",
      "[CV] END model__algorithm=ball_tree, model__n_neighbors=9, model__p=2, model__weights=distance; total time=   0.0s\n",
      "[CV] END model__algorithm=kd_tree, model__n_neighbors=3, model__p=1, model__weights=uniform; total time=   0.0s\n",
      "[CV] END model__algorithm=kd_tree, model__n_neighbors=3, model__p=1, model__weights=uniform; total time=   0.0s\n",
      "[CV] END model__algorithm=kd_tree, model__n_neighbors=3, model__p=1, model__weights=uniform; total time=   0.0s\n",
      "[CV] END model__algorithm=kd_tree, model__n_neighbors=3, model__p=1, model__weights=uniform; total time=   0.0s\n",
      "[CV] END model__algorithm=kd_tree, model__n_neighbors=3, model__p=1, model__weights=uniform; total time=   0.0s\n",
      "[CV] END model__algorithm=kd_tree, model__n_neighbors=3, model__p=1, model__weights=distance; total time=   0.0s\n",
      "[CV] END model__algorithm=kd_tree, model__n_neighbors=3, model__p=1, model__weights=distance; total time=   0.0s\n",
      "[CV] END model__algorithm=kd_tree, model__n_neighbors=3, model__p=1, model__weights=distance; total time=   0.0s\n",
      "[CV] END model__algorithm=kd_tree, model__n_neighbors=3, model__p=1, model__weights=distance; total time=   0.0s\n",
      "[CV] END model__algorithm=kd_tree, model__n_neighbors=3, model__p=1, model__weights=distance; total time=   0.0s\n",
      "[CV] END model__algorithm=kd_tree, model__n_neighbors=3, model__p=2, model__weights=uniform; total time=   0.0s\n",
      "[CV] END model__algorithm=kd_tree, model__n_neighbors=3, model__p=2, model__weights=uniform; total time=   0.0s\n",
      "[CV] END model__algorithm=kd_tree, model__n_neighbors=3, model__p=2, model__weights=uniform; total time=   0.0s\n",
      "[CV] END model__algorithm=kd_tree, model__n_neighbors=3, model__p=2, model__weights=uniform; total time=   0.0s\n",
      "[CV] END model__algorithm=kd_tree, model__n_neighbors=3, model__p=2, model__weights=uniform; total time=   0.0s\n",
      "[CV] END model__algorithm=kd_tree, model__n_neighbors=3, model__p=2, model__weights=distance; total time=   0.0s\n",
      "[CV] END model__algorithm=kd_tree, model__n_neighbors=3, model__p=2, model__weights=distance; total time=   0.0s\n",
      "[CV] END model__algorithm=kd_tree, model__n_neighbors=3, model__p=2, model__weights=distance; total time=   0.0s\n",
      "[CV] END model__algorithm=kd_tree, model__n_neighbors=3, model__p=2, model__weights=distance; total time=   0.0s\n",
      "[CV] END model__algorithm=kd_tree, model__n_neighbors=3, model__p=2, model__weights=distance; total time=   0.0s\n",
      "[CV] END model__algorithm=kd_tree, model__n_neighbors=5, model__p=1, model__weights=uniform; total time=   0.0s\n",
      "[CV] END model__algorithm=kd_tree, model__n_neighbors=5, model__p=1, model__weights=uniform; total time=   0.1s\n",
      "[CV] END model__algorithm=kd_tree, model__n_neighbors=5, model__p=1, model__weights=uniform; total time=   0.1s\n",
      "[CV] END model__algorithm=kd_tree, model__n_neighbors=5, model__p=1, model__weights=uniform; total time=   0.0s\n",
      "[CV] END model__algorithm=kd_tree, model__n_neighbors=5, model__p=1, model__weights=uniform; total time=   0.0s\n",
      "[CV] END model__algorithm=kd_tree, model__n_neighbors=5, model__p=1, model__weights=distance; total time=   0.0s\n",
      "[CV] END model__algorithm=kd_tree, model__n_neighbors=5, model__p=1, model__weights=distance; total time=   0.0s\n",
      "[CV] END model__algorithm=kd_tree, model__n_neighbors=5, model__p=1, model__weights=distance; total time=   0.0s\n",
      "[CV] END model__algorithm=kd_tree, model__n_neighbors=5, model__p=1, model__weights=distance; total time=   0.0s\n",
      "[CV] END model__algorithm=kd_tree, model__n_neighbors=5, model__p=1, model__weights=distance; total time=   0.1s\n"
     ]
    },
    {
     "name": "stdout",
     "output_type": "stream",
     "text": [
      "[CV] END model__algorithm=kd_tree, model__n_neighbors=5, model__p=2, model__weights=uniform; total time=   0.0s\n",
      "[CV] END model__algorithm=kd_tree, model__n_neighbors=5, model__p=2, model__weights=uniform; total time=   0.0s\n",
      "[CV] END model__algorithm=kd_tree, model__n_neighbors=5, model__p=2, model__weights=uniform; total time=   0.1s\n",
      "[CV] END model__algorithm=kd_tree, model__n_neighbors=5, model__p=2, model__weights=uniform; total time=   0.0s\n",
      "[CV] END model__algorithm=kd_tree, model__n_neighbors=5, model__p=2, model__weights=uniform; total time=   0.0s\n",
      "[CV] END model__algorithm=kd_tree, model__n_neighbors=5, model__p=2, model__weights=distance; total time=   0.0s\n",
      "[CV] END model__algorithm=kd_tree, model__n_neighbors=5, model__p=2, model__weights=distance; total time=   0.0s\n",
      "[CV] END model__algorithm=kd_tree, model__n_neighbors=5, model__p=2, model__weights=distance; total time=   0.0s\n",
      "[CV] END model__algorithm=kd_tree, model__n_neighbors=5, model__p=2, model__weights=distance; total time=   0.0s\n",
      "[CV] END model__algorithm=kd_tree, model__n_neighbors=5, model__p=2, model__weights=distance; total time=   0.0s\n",
      "[CV] END model__algorithm=kd_tree, model__n_neighbors=9, model__p=1, model__weights=uniform; total time=   0.1s\n",
      "[CV] END model__algorithm=kd_tree, model__n_neighbors=9, model__p=1, model__weights=uniform; total time=   0.0s\n",
      "[CV] END model__algorithm=kd_tree, model__n_neighbors=9, model__p=1, model__weights=uniform; total time=   0.1s\n",
      "[CV] END model__algorithm=kd_tree, model__n_neighbors=9, model__p=1, model__weights=uniform; total time=   0.1s\n",
      "[CV] END model__algorithm=kd_tree, model__n_neighbors=9, model__p=1, model__weights=uniform; total time=   0.1s\n",
      "[CV] END model__algorithm=kd_tree, model__n_neighbors=9, model__p=1, model__weights=distance; total time=   0.0s\n",
      "[CV] END model__algorithm=kd_tree, model__n_neighbors=9, model__p=1, model__weights=distance; total time=   0.0s\n",
      "[CV] END model__algorithm=kd_tree, model__n_neighbors=9, model__p=1, model__weights=distance; total time=   0.1s\n",
      "[CV] END model__algorithm=kd_tree, model__n_neighbors=9, model__p=1, model__weights=distance; total time=   0.0s\n",
      "[CV] END model__algorithm=kd_tree, model__n_neighbors=9, model__p=1, model__weights=distance; total time=   0.1s\n",
      "[CV] END model__algorithm=kd_tree, model__n_neighbors=9, model__p=2, model__weights=uniform; total time=   0.1s\n",
      "[CV] END model__algorithm=kd_tree, model__n_neighbors=9, model__p=2, model__weights=uniform; total time=   0.0s\n",
      "[CV] END model__algorithm=kd_tree, model__n_neighbors=9, model__p=2, model__weights=uniform; total time=   0.1s\n",
      "[CV] END model__algorithm=kd_tree, model__n_neighbors=9, model__p=2, model__weights=uniform; total time=   0.1s\n",
      "[CV] END model__algorithm=kd_tree, model__n_neighbors=9, model__p=2, model__weights=uniform; total time=   0.0s\n",
      "[CV] END model__algorithm=kd_tree, model__n_neighbors=9, model__p=2, model__weights=distance; total time=   0.1s\n",
      "[CV] END model__algorithm=kd_tree, model__n_neighbors=9, model__p=2, model__weights=distance; total time=   0.0s\n",
      "[CV] END model__algorithm=kd_tree, model__n_neighbors=9, model__p=2, model__weights=distance; total time=   0.1s\n",
      "[CV] END model__algorithm=kd_tree, model__n_neighbors=9, model__p=2, model__weights=distance; total time=   0.0s\n",
      "[CV] END model__algorithm=kd_tree, model__n_neighbors=9, model__p=2, model__weights=distance; total time=   0.1s\n",
      "[CV] END model__algorithm=brute, model__n_neighbors=3, model__p=1, model__weights=uniform; total time=   0.0s\n",
      "[CV] END model__algorithm=brute, model__n_neighbors=3, model__p=1, model__weights=uniform; total time=   0.0s\n",
      "[CV] END model__algorithm=brute, model__n_neighbors=3, model__p=1, model__weights=uniform; total time=   0.0s\n",
      "[CV] END model__algorithm=brute, model__n_neighbors=3, model__p=1, model__weights=uniform; total time=   0.0s\n",
      "[CV] END model__algorithm=brute, model__n_neighbors=3, model__p=1, model__weights=uniform; total time=   0.0s\n",
      "[CV] END model__algorithm=brute, model__n_neighbors=3, model__p=1, model__weights=distance; total time=   0.0s\n",
      "[CV] END model__algorithm=brute, model__n_neighbors=3, model__p=1, model__weights=distance; total time=   0.0s\n",
      "[CV] END model__algorithm=brute, model__n_neighbors=3, model__p=1, model__weights=distance; total time=   0.0s\n",
      "[CV] END model__algorithm=brute, model__n_neighbors=3, model__p=1, model__weights=distance; total time=   0.0s\n",
      "[CV] END model__algorithm=brute, model__n_neighbors=3, model__p=1, model__weights=distance; total time=   0.0s\n",
      "[CV] END model__algorithm=brute, model__n_neighbors=3, model__p=2, model__weights=uniform; total time=   0.0s\n",
      "[CV] END model__algorithm=brute, model__n_neighbors=3, model__p=2, model__weights=uniform; total time=   0.0s\n",
      "[CV] END model__algorithm=brute, model__n_neighbors=3, model__p=2, model__weights=uniform; total time=   0.0s\n",
      "[CV] END model__algorithm=brute, model__n_neighbors=3, model__p=2, model__weights=uniform; total time=   0.0s\n",
      "[CV] END model__algorithm=brute, model__n_neighbors=3, model__p=2, model__weights=uniform; total time=   0.0s\n",
      "[CV] END model__algorithm=brute, model__n_neighbors=3, model__p=2, model__weights=distance; total time=   0.0s\n",
      "[CV] END model__algorithm=brute, model__n_neighbors=3, model__p=2, model__weights=distance; total time=   0.0s\n",
      "[CV] END model__algorithm=brute, model__n_neighbors=3, model__p=2, model__weights=distance; total time=   0.0s\n",
      "[CV] END model__algorithm=brute, model__n_neighbors=3, model__p=2, model__weights=distance; total time=   0.0s\n",
      "[CV] END model__algorithm=brute, model__n_neighbors=3, model__p=2, model__weights=distance; total time=   0.0s\n",
      "[CV] END model__algorithm=brute, model__n_neighbors=5, model__p=1, model__weights=uniform; total time=   0.0s\n",
      "[CV] END model__algorithm=brute, model__n_neighbors=5, model__p=1, model__weights=uniform; total time=   0.0s\n",
      "[CV] END model__algorithm=brute, model__n_neighbors=5, model__p=1, model__weights=uniform; total time=   0.0s\n",
      "[CV] END model__algorithm=brute, model__n_neighbors=5, model__p=1, model__weights=uniform; total time=   0.0s\n",
      "[CV] END model__algorithm=brute, model__n_neighbors=5, model__p=1, model__weights=uniform; total time=   0.0s\n",
      "[CV] END model__algorithm=brute, model__n_neighbors=5, model__p=1, model__weights=distance; total time=   0.0s\n",
      "[CV] END model__algorithm=brute, model__n_neighbors=5, model__p=1, model__weights=distance; total time=   0.0s\n",
      "[CV] END model__algorithm=brute, model__n_neighbors=5, model__p=1, model__weights=distance; total time=   0.0s\n",
      "[CV] END model__algorithm=brute, model__n_neighbors=5, model__p=1, model__weights=distance; total time=   0.0s\n",
      "[CV] END model__algorithm=brute, model__n_neighbors=5, model__p=1, model__weights=distance; total time=   0.0s\n",
      "[CV] END model__algorithm=brute, model__n_neighbors=5, model__p=2, model__weights=uniform; total time=   0.0s\n",
      "[CV] END model__algorithm=brute, model__n_neighbors=5, model__p=2, model__weights=uniform; total time=   0.0s\n",
      "[CV] END model__algorithm=brute, model__n_neighbors=5, model__p=2, model__weights=uniform; total time=   0.0s\n",
      "[CV] END model__algorithm=brute, model__n_neighbors=5, model__p=2, model__weights=uniform; total time=   0.0s\n",
      "[CV] END model__algorithm=brute, model__n_neighbors=5, model__p=2, model__weights=uniform; total time=   0.0s\n",
      "[CV] END model__algorithm=brute, model__n_neighbors=5, model__p=2, model__weights=distance; total time=   0.0s\n",
      "[CV] END model__algorithm=brute, model__n_neighbors=5, model__p=2, model__weights=distance; total time=   0.0s\n",
      "[CV] END model__algorithm=brute, model__n_neighbors=5, model__p=2, model__weights=distance; total time=   0.0s\n",
      "[CV] END model__algorithm=brute, model__n_neighbors=5, model__p=2, model__weights=distance; total time=   0.0s\n",
      "[CV] END model__algorithm=brute, model__n_neighbors=5, model__p=2, model__weights=distance; total time=   0.0s\n",
      "[CV] END model__algorithm=brute, model__n_neighbors=9, model__p=1, model__weights=uniform; total time=   0.0s\n",
      "[CV] END model__algorithm=brute, model__n_neighbors=9, model__p=1, model__weights=uniform; total time=   0.0s\n",
      "[CV] END model__algorithm=brute, model__n_neighbors=9, model__p=1, model__weights=uniform; total time=   0.0s\n",
      "[CV] END model__algorithm=brute, model__n_neighbors=9, model__p=1, model__weights=uniform; total time=   0.0s\n",
      "[CV] END model__algorithm=brute, model__n_neighbors=9, model__p=1, model__weights=uniform; total time=   0.0s\n",
      "[CV] END model__algorithm=brute, model__n_neighbors=9, model__p=1, model__weights=distance; total time=   0.0s\n"
     ]
    },
    {
     "name": "stdout",
     "output_type": "stream",
     "text": [
      "[CV] END model__algorithm=brute, model__n_neighbors=9, model__p=1, model__weights=distance; total time=   0.0s\n",
      "[CV] END model__algorithm=brute, model__n_neighbors=9, model__p=1, model__weights=distance; total time=   0.0s\n",
      "[CV] END model__algorithm=brute, model__n_neighbors=9, model__p=1, model__weights=distance; total time=   0.0s\n",
      "[CV] END model__algorithm=brute, model__n_neighbors=9, model__p=1, model__weights=distance; total time=   0.0s\n",
      "[CV] END model__algorithm=brute, model__n_neighbors=9, model__p=2, model__weights=uniform; total time=   0.0s\n",
      "[CV] END model__algorithm=brute, model__n_neighbors=9, model__p=2, model__weights=uniform; total time=   0.0s\n",
      "[CV] END model__algorithm=brute, model__n_neighbors=9, model__p=2, model__weights=uniform; total time=   0.0s\n",
      "[CV] END model__algorithm=brute, model__n_neighbors=9, model__p=2, model__weights=uniform; total time=   0.0s\n",
      "[CV] END model__algorithm=brute, model__n_neighbors=9, model__p=2, model__weights=uniform; total time=   0.0s\n",
      "[CV] END model__algorithm=brute, model__n_neighbors=9, model__p=2, model__weights=distance; total time=   0.0s\n",
      "[CV] END model__algorithm=brute, model__n_neighbors=9, model__p=2, model__weights=distance; total time=   0.0s\n",
      "[CV] END model__algorithm=brute, model__n_neighbors=9, model__p=2, model__weights=distance; total time=   0.0s\n",
      "[CV] END model__algorithm=brute, model__n_neighbors=9, model__p=2, model__weights=distance; total time=   0.0s\n",
      "[CV] END model__algorithm=brute, model__n_neighbors=9, model__p=2, model__weights=distance; total time=   0.0s\n"
     ]
    },
    {
     "data": {
      "text/html": [
       "<style>#sk-container-id-7 {color: black;background-color: white;}#sk-container-id-7 pre{padding: 0;}#sk-container-id-7 div.sk-toggleable {background-color: white;}#sk-container-id-7 label.sk-toggleable__label {cursor: pointer;display: block;width: 100%;margin-bottom: 0;padding: 0.3em;box-sizing: border-box;text-align: center;}#sk-container-id-7 label.sk-toggleable__label-arrow:before {content: \"▸\";float: left;margin-right: 0.25em;color: #696969;}#sk-container-id-7 label.sk-toggleable__label-arrow:hover:before {color: black;}#sk-container-id-7 div.sk-estimator:hover label.sk-toggleable__label-arrow:before {color: black;}#sk-container-id-7 div.sk-toggleable__content {max-height: 0;max-width: 0;overflow: hidden;text-align: left;background-color: #f0f8ff;}#sk-container-id-7 div.sk-toggleable__content pre {margin: 0.2em;color: black;border-radius: 0.25em;background-color: #f0f8ff;}#sk-container-id-7 input.sk-toggleable__control:checked~div.sk-toggleable__content {max-height: 200px;max-width: 100%;overflow: auto;}#sk-container-id-7 input.sk-toggleable__control:checked~label.sk-toggleable__label-arrow:before {content: \"▾\";}#sk-container-id-7 div.sk-estimator input.sk-toggleable__control:checked~label.sk-toggleable__label {background-color: #d4ebff;}#sk-container-id-7 div.sk-label input.sk-toggleable__control:checked~label.sk-toggleable__label {background-color: #d4ebff;}#sk-container-id-7 input.sk-hidden--visually {border: 0;clip: rect(1px 1px 1px 1px);clip: rect(1px, 1px, 1px, 1px);height: 1px;margin: -1px;overflow: hidden;padding: 0;position: absolute;width: 1px;}#sk-container-id-7 div.sk-estimator {font-family: monospace;background-color: #f0f8ff;border: 1px dotted black;border-radius: 0.25em;box-sizing: border-box;margin-bottom: 0.5em;}#sk-container-id-7 div.sk-estimator:hover {background-color: #d4ebff;}#sk-container-id-7 div.sk-parallel-item::after {content: \"\";width: 100%;border-bottom: 1px solid gray;flex-grow: 1;}#sk-container-id-7 div.sk-label:hover label.sk-toggleable__label {background-color: #d4ebff;}#sk-container-id-7 div.sk-serial::before {content: \"\";position: absolute;border-left: 1px solid gray;box-sizing: border-box;top: 0;bottom: 0;left: 50%;z-index: 0;}#sk-container-id-7 div.sk-serial {display: flex;flex-direction: column;align-items: center;background-color: white;padding-right: 0.2em;padding-left: 0.2em;position: relative;}#sk-container-id-7 div.sk-item {position: relative;z-index: 1;}#sk-container-id-7 div.sk-parallel {display: flex;align-items: stretch;justify-content: center;background-color: white;position: relative;}#sk-container-id-7 div.sk-item::before, #sk-container-id-7 div.sk-parallel-item::before {content: \"\";position: absolute;border-left: 1px solid gray;box-sizing: border-box;top: 0;bottom: 0;left: 50%;z-index: -1;}#sk-container-id-7 div.sk-parallel-item {display: flex;flex-direction: column;z-index: 1;position: relative;background-color: white;}#sk-container-id-7 div.sk-parallel-item:first-child::after {align-self: flex-end;width: 50%;}#sk-container-id-7 div.sk-parallel-item:last-child::after {align-self: flex-start;width: 50%;}#sk-container-id-7 div.sk-parallel-item:only-child::after {width: 0;}#sk-container-id-7 div.sk-dashed-wrapped {border: 1px dashed gray;margin: 0 0.4em 0.5em 0.4em;box-sizing: border-box;padding-bottom: 0.4em;background-color: white;}#sk-container-id-7 div.sk-label label {font-family: monospace;font-weight: bold;display: inline-block;line-height: 1.2em;}#sk-container-id-7 div.sk-label-container {text-align: center;}#sk-container-id-7 div.sk-container {/* jupyter's `normalize.less` sets `[hidden] { display: none; }` but bootstrap.min.css set `[hidden] { display: none !important; }` so we also need the `!important` here to be able to override the default hidden behavior on the sphinx rendered scikit-learn.org. See: https://github.com/scikit-learn/scikit-learn/issues/21755 */display: inline-block !important;position: relative;}#sk-container-id-7 div.sk-text-repr-fallback {display: none;}</style><div id=\"sk-container-id-7\" class=\"sk-top-container\"><div class=\"sk-text-repr-fallback\"><pre>GridSearchCV(cv=5,\n",
       "             estimator=Pipeline(steps=[(&#x27;preprocess&#x27;,\n",
       "                                        ColumnTransformer(remainder=&#x27;passthrough&#x27;,\n",
       "                                                          transformers=[(&#x27;categorical&#x27;,\n",
       "                                                                         OneHotEncoder(sparse=False),\n",
       "                                                                         [&#x27;Admit &#x27;\n",
       "                                                                          &#x27;Day &#x27;\n",
       "                                                                          &#x27;of &#x27;\n",
       "                                                                          &#x27;Week&#x27;,\n",
       "                                                                          &#x27;Diagnostic &#x27;\n",
       "                                                                          &#x27;Code&#x27;,\n",
       "                                                                          &#x27;Admit &#x27;\n",
       "                                                                          &#x27;Month&#x27;,\n",
       "                                                                          &#x27;Ethnicity &#x27;\n",
       "                                                                          &#x27;Group&#x27;,\n",
       "                                                                          &#x27;DHB &#x27;\n",
       "                                                                          &#x27;Group&#x27;]),\n",
       "                                                                        (&#x27;numerical&#x27;,\n",
       "                                                                         StandardScaler(),\n",
       "                                                                         [&#x27;Age&#x27;])])),\n",
       "                                       (&#x27;model&#x27;, KNeighborsRegressor())]),\n",
       "             param_grid={&#x27;model__algorithm&#x27;: [&#x27;auto&#x27;, &#x27;ball_tree&#x27;, &#x27;kd_tree&#x27;,\n",
       "                                              &#x27;brute&#x27;],\n",
       "                         &#x27;model__n_neighbors&#x27;: [3, 5, 9], &#x27;model__p&#x27;: [1, 2],\n",
       "                         &#x27;model__weights&#x27;: [&#x27;uniform&#x27;, &#x27;distance&#x27;]},\n",
       "             verbose=2)</pre><b>In a Jupyter environment, please rerun this cell to show the HTML representation or trust the notebook. <br />On GitHub, the HTML representation is unable to render, please try loading this page with nbviewer.org.</b></div><div class=\"sk-container\" hidden><div class=\"sk-item sk-dashed-wrapped\"><div class=\"sk-label-container\"><div class=\"sk-label sk-toggleable\"><input class=\"sk-toggleable__control sk-hidden--visually\" id=\"sk-estimator-id-61\" type=\"checkbox\" ><label for=\"sk-estimator-id-61\" class=\"sk-toggleable__label sk-toggleable__label-arrow\">GridSearchCV</label><div class=\"sk-toggleable__content\"><pre>GridSearchCV(cv=5,\n",
       "             estimator=Pipeline(steps=[(&#x27;preprocess&#x27;,\n",
       "                                        ColumnTransformer(remainder=&#x27;passthrough&#x27;,\n",
       "                                                          transformers=[(&#x27;categorical&#x27;,\n",
       "                                                                         OneHotEncoder(sparse=False),\n",
       "                                                                         [&#x27;Admit &#x27;\n",
       "                                                                          &#x27;Day &#x27;\n",
       "                                                                          &#x27;of &#x27;\n",
       "                                                                          &#x27;Week&#x27;,\n",
       "                                                                          &#x27;Diagnostic &#x27;\n",
       "                                                                          &#x27;Code&#x27;,\n",
       "                                                                          &#x27;Admit &#x27;\n",
       "                                                                          &#x27;Month&#x27;,\n",
       "                                                                          &#x27;Ethnicity &#x27;\n",
       "                                                                          &#x27;Group&#x27;,\n",
       "                                                                          &#x27;DHB &#x27;\n",
       "                                                                          &#x27;Group&#x27;]),\n",
       "                                                                        (&#x27;numerical&#x27;,\n",
       "                                                                         StandardScaler(),\n",
       "                                                                         [&#x27;Age&#x27;])])),\n",
       "                                       (&#x27;model&#x27;, KNeighborsRegressor())]),\n",
       "             param_grid={&#x27;model__algorithm&#x27;: [&#x27;auto&#x27;, &#x27;ball_tree&#x27;, &#x27;kd_tree&#x27;,\n",
       "                                              &#x27;brute&#x27;],\n",
       "                         &#x27;model__n_neighbors&#x27;: [3, 5, 9], &#x27;model__p&#x27;: [1, 2],\n",
       "                         &#x27;model__weights&#x27;: [&#x27;uniform&#x27;, &#x27;distance&#x27;]},\n",
       "             verbose=2)</pre></div></div></div><div class=\"sk-parallel\"><div class=\"sk-parallel-item\"><div class=\"sk-item\"><div class=\"sk-label-container\"><div class=\"sk-label sk-toggleable\"><input class=\"sk-toggleable__control sk-hidden--visually\" id=\"sk-estimator-id-62\" type=\"checkbox\" ><label for=\"sk-estimator-id-62\" class=\"sk-toggleable__label sk-toggleable__label-arrow\">estimator: Pipeline</label><div class=\"sk-toggleable__content\"><pre>Pipeline(steps=[(&#x27;preprocess&#x27;,\n",
       "                 ColumnTransformer(remainder=&#x27;passthrough&#x27;,\n",
       "                                   transformers=[(&#x27;categorical&#x27;,\n",
       "                                                  OneHotEncoder(sparse=False),\n",
       "                                                  [&#x27;Admit Day of Week&#x27;,\n",
       "                                                   &#x27;Diagnostic Code&#x27;,\n",
       "                                                   &#x27;Admit Month&#x27;,\n",
       "                                                   &#x27;Ethnicity Group&#x27;,\n",
       "                                                   &#x27;DHB Group&#x27;]),\n",
       "                                                 (&#x27;numerical&#x27;, StandardScaler(),\n",
       "                                                  [&#x27;Age&#x27;])])),\n",
       "                (&#x27;model&#x27;, KNeighborsRegressor())])</pre></div></div></div><div class=\"sk-serial\"><div class=\"sk-item\"><div class=\"sk-serial\"><div class=\"sk-item sk-dashed-wrapped\"><div class=\"sk-label-container\"><div class=\"sk-label sk-toggleable\"><input class=\"sk-toggleable__control sk-hidden--visually\" id=\"sk-estimator-id-63\" type=\"checkbox\" ><label for=\"sk-estimator-id-63\" class=\"sk-toggleable__label sk-toggleable__label-arrow\">preprocess: ColumnTransformer</label><div class=\"sk-toggleable__content\"><pre>ColumnTransformer(remainder=&#x27;passthrough&#x27;,\n",
       "                  transformers=[(&#x27;categorical&#x27;, OneHotEncoder(sparse=False),\n",
       "                                 [&#x27;Admit Day of Week&#x27;, &#x27;Diagnostic Code&#x27;,\n",
       "                                  &#x27;Admit Month&#x27;, &#x27;Ethnicity Group&#x27;,\n",
       "                                  &#x27;DHB Group&#x27;]),\n",
       "                                (&#x27;numerical&#x27;, StandardScaler(), [&#x27;Age&#x27;])])</pre></div></div></div><div class=\"sk-parallel\"><div class=\"sk-parallel-item\"><div class=\"sk-item\"><div class=\"sk-label-container\"><div class=\"sk-label sk-toggleable\"><input class=\"sk-toggleable__control sk-hidden--visually\" id=\"sk-estimator-id-64\" type=\"checkbox\" ><label for=\"sk-estimator-id-64\" class=\"sk-toggleable__label sk-toggleable__label-arrow\">categorical</label><div class=\"sk-toggleable__content\"><pre>[&#x27;Admit Day of Week&#x27;, &#x27;Diagnostic Code&#x27;, &#x27;Admit Month&#x27;, &#x27;Ethnicity Group&#x27;, &#x27;DHB Group&#x27;]</pre></div></div></div><div class=\"sk-serial\"><div class=\"sk-item\"><div class=\"sk-estimator sk-toggleable\"><input class=\"sk-toggleable__control sk-hidden--visually\" id=\"sk-estimator-id-65\" type=\"checkbox\" ><label for=\"sk-estimator-id-65\" class=\"sk-toggleable__label sk-toggleable__label-arrow\">OneHotEncoder</label><div class=\"sk-toggleable__content\"><pre>OneHotEncoder(sparse=False)</pre></div></div></div></div></div></div><div class=\"sk-parallel-item\"><div class=\"sk-item\"><div class=\"sk-label-container\"><div class=\"sk-label sk-toggleable\"><input class=\"sk-toggleable__control sk-hidden--visually\" id=\"sk-estimator-id-66\" type=\"checkbox\" ><label for=\"sk-estimator-id-66\" class=\"sk-toggleable__label sk-toggleable__label-arrow\">numerical</label><div class=\"sk-toggleable__content\"><pre>[&#x27;Age&#x27;]</pre></div></div></div><div class=\"sk-serial\"><div class=\"sk-item\"><div class=\"sk-estimator sk-toggleable\"><input class=\"sk-toggleable__control sk-hidden--visually\" id=\"sk-estimator-id-67\" type=\"checkbox\" ><label for=\"sk-estimator-id-67\" class=\"sk-toggleable__label sk-toggleable__label-arrow\">StandardScaler</label><div class=\"sk-toggleable__content\"><pre>StandardScaler()</pre></div></div></div></div></div></div><div class=\"sk-parallel-item\"><div class=\"sk-item\"><div class=\"sk-label-container\"><div class=\"sk-label sk-toggleable\"><input class=\"sk-toggleable__control sk-hidden--visually\" id=\"sk-estimator-id-68\" type=\"checkbox\" ><label for=\"sk-estimator-id-68\" class=\"sk-toggleable__label sk-toggleable__label-arrow\">remainder</label><div class=\"sk-toggleable__content\"><pre>[&#x27;Gender&#x27;, &#x27;Smoker Status&#x27;]</pre></div></div></div><div class=\"sk-serial\"><div class=\"sk-item\"><div class=\"sk-estimator sk-toggleable\"><input class=\"sk-toggleable__control sk-hidden--visually\" id=\"sk-estimator-id-69\" type=\"checkbox\" ><label for=\"sk-estimator-id-69\" class=\"sk-toggleable__label sk-toggleable__label-arrow\">passthrough</label><div class=\"sk-toggleable__content\"><pre>passthrough</pre></div></div></div></div></div></div></div></div><div class=\"sk-item\"><div class=\"sk-estimator sk-toggleable\"><input class=\"sk-toggleable__control sk-hidden--visually\" id=\"sk-estimator-id-70\" type=\"checkbox\" ><label for=\"sk-estimator-id-70\" class=\"sk-toggleable__label sk-toggleable__label-arrow\">KNeighborsRegressor</label><div class=\"sk-toggleable__content\"><pre>KNeighborsRegressor()</pre></div></div></div></div></div></div></div></div></div></div></div></div>"
      ],
      "text/plain": [
       "GridSearchCV(cv=5,\n",
       "             estimator=Pipeline(steps=[('preprocess',\n",
       "                                        ColumnTransformer(remainder='passthrough',\n",
       "                                                          transformers=[('categorical',\n",
       "                                                                         OneHotEncoder(sparse=False),\n",
       "                                                                         ['Admit '\n",
       "                                                                          'Day '\n",
       "                                                                          'of '\n",
       "                                                                          'Week',\n",
       "                                                                          'Diagnostic '\n",
       "                                                                          'Code',\n",
       "                                                                          'Admit '\n",
       "                                                                          'Month',\n",
       "                                                                          'Ethnicity '\n",
       "                                                                          'Group',\n",
       "                                                                          'DHB '\n",
       "                                                                          'Group']),\n",
       "                                                                        ('numerical',\n",
       "                                                                         StandardScaler(),\n",
       "                                                                         ['Age'])])),\n",
       "                                       ('model', KNeighborsRegressor())]),\n",
       "             param_grid={'model__algorithm': ['auto', 'ball_tree', 'kd_tree',\n",
       "                                              'brute'],\n",
       "                         'model__n_neighbors': [3, 5, 9], 'model__p': [1, 2],\n",
       "                         'model__weights': ['uniform', 'distance']},\n",
       "             verbose=2)"
      ]
     },
     "execution_count": 76,
     "metadata": {},
     "output_type": "execute_result"
    }
   ],
   "source": [
    "model_knn_4 = KNeighborsRegressor()\n",
    "pipe_knn = Pipeline(steps=[(\"preprocess\",preprocessor),\n",
    "                      (\"model\",model_knn_4)\n",
    "                      ]\n",
    "               )\n",
    "gb_gs_grid = { \"model__n_neighbors\":[3,5,9],\n",
    "               \"model__p\": [1,2],\n",
    "                \"model__weights\": [\"uniform\",\"distance\"],\n",
    "                \"model__algorithm\" : [\"auto\", \"ball_tree\", \"kd_tree\", \"brute\"]\n",
    "        }\n",
    "\n",
    "np.random.seed(42)\n",
    "\n",
    "# X_train2,X_test2,y_train2,y_test2 = train_test_split(X,y,test_size=0.3)\n",
    "\n",
    "\n",
    "gs_model_gb = GridSearchCV(estimator=pipe_knn,\n",
    "                           param_grid=gb_gs_grid,\n",
    "                           cv=5,\n",
    "                           verbose=2)\n",
    "# Training models\n",
    "gs_model_gb.fit(X_train,y_train)"
   ]
  },
  {
   "cell_type": "code",
   "execution_count": 77,
   "id": "f41d9b1a",
   "metadata": {
    "scrolled": true
   },
   "outputs": [
    {
     "data": {
      "text/plain": [
       "{'model__algorithm': 'ball_tree',\n",
       " 'model__n_neighbors': 9,\n",
       " 'model__p': 2,\n",
       " 'model__weights': 'uniform'}"
      ]
     },
     "execution_count": 77,
     "metadata": {},
     "output_type": "execute_result"
    }
   ],
   "source": [
    "gs_model_gb.best_params_"
   ]
  },
  {
   "cell_type": "code",
   "execution_count": 78,
   "id": "9ec1efd6",
   "metadata": {},
   "outputs": [
    {
     "data": {
      "text/plain": [
       "0.04818799230949111"
      ]
     },
     "execution_count": 78,
     "metadata": {},
     "output_type": "execute_result"
    }
   ],
   "source": [
    "gs_model_gb.best_score_"
   ]
  },
  {
   "cell_type": "markdown",
   "id": "ece83470",
   "metadata": {},
   "source": [
    "#### Retrain best model"
   ]
  },
  {
   "cell_type": "code",
   "execution_count": 82,
   "id": "8017ad1f",
   "metadata": {},
   "outputs": [
    {
     "name": "stdout",
     "output_type": "stream",
     "text": [
      "MSE: 9.46\n",
      "RMSE: 3.08\n",
      "R2: -0.28\n",
      "MAE: 1.58\n"
     ]
    }
   ],
   "source": [
    "model_knn_4 = KNeighborsClassifier(algorithm = \"ball_tree\",\n",
    "                                  n_neighbors = 9,\n",
    "                                  p = 2,\n",
    "                                  weights = \"uniform\")\n",
    "\n",
    "pipe_knn_best = Pipeline(steps=[(\"preprocess\",preprocessor),\n",
    "                      (\"model\",model_knn_4)\n",
    "                      ]\n",
    "               )\n",
    "\n",
    "np.random.seed(42)\n",
    "\n",
    "pipe_knn_best.fit(X_train,y_train)\n",
    "final_y_preds_gb = pipe_knn_best.predict(X_test)\n",
    "final_model_metrics_gb = evaluate_models(y_test,final_y_preds_gb)\n"
   ]
  },
  {
   "cell_type": "markdown",
   "id": "aceaf716",
   "metadata": {},
   "source": [
    "### Neural Network"
   ]
  },
  {
   "cell_type": "code",
   "execution_count": 162,
   "id": "2c21360b",
   "metadata": {},
   "outputs": [
    {
     "name": "stderr",
     "output_type": "stream",
     "text": [
      "C:\\Anaconda3\\lib\\site-packages\\sklearn\\neural_network\\_multilayer_perceptron.py:702: ConvergenceWarning: Stochastic Optimizer: Maximum iterations (200) reached and the optimization hasn't converged yet.\n",
      "  warnings.warn(\n"
     ]
    },
    {
     "data": {
      "text/plain": [
       "0.07331053125001485"
      ]
     },
     "execution_count": 162,
     "metadata": {},
     "output_type": "execute_result"
    }
   ],
   "source": [
    "np.random.seed(42)\n",
    "\n",
    "nn_model_baseline = MLPRegressor()\n",
    "\n",
    "pipe_knn_best = Pipeline(steps=[(\"preprocess\",preprocessor),\n",
    "                      (\"model\",nn_model_baseline)\n",
    "                      ]\n",
    "               )\n",
    "\n",
    "pipe_knn_best.fit(X_train,y_train)\n",
    "pipe_knn_best.score(X_test,y_test)"
   ]
  },
  {
   "cell_type": "code",
   "execution_count": 148,
   "id": "cbcef16b",
   "metadata": {},
   "outputs": [
    {
     "data": {
      "text/plain": [
       "{'activation': 'logistic',\n",
       " 'alpha': 0.0001,\n",
       " 'batch_size': 'auto',\n",
       " 'beta_1': 0.9,\n",
       " 'beta_2': 0.999,\n",
       " 'early_stopping': False,\n",
       " 'epsilon': 1e-08,\n",
       " 'hidden_layer_sizes': (10, 10, 20),\n",
       " 'learning_rate': 'constant',\n",
       " 'learning_rate_init': 0.001,\n",
       " 'max_fun': 15000,\n",
       " 'max_iter': 500,\n",
       " 'momentum': 0.9,\n",
       " 'n_iter_no_change': 10,\n",
       " 'nesterovs_momentum': True,\n",
       " 'power_t': 0.5,\n",
       " 'random_state': None,\n",
       " 'shuffle': True,\n",
       " 'solver': 'adam',\n",
       " 'tol': 0.0001,\n",
       " 'validation_fraction': 0.1,\n",
       " 'verbose': False,\n",
       " 'warm_start': False}"
      ]
     },
     "execution_count": 148,
     "metadata": {},
     "output_type": "execute_result"
    }
   ],
   "source": [
    "nn_model_baseline.get_params()"
   ]
  },
  {
   "cell_type": "markdown",
   "id": "532569da",
   "metadata": {},
   "source": [
    "#### Parameter tuning by hand"
   ]
  },
  {
   "cell_type": "code",
   "execution_count": 155,
   "id": "4b1afd10",
   "metadata": {},
   "outputs": [
    {
     "data": {
      "text/plain": [
       "0.617508813160987"
      ]
     },
     "execution_count": 155,
     "metadata": {},
     "output_type": "execute_result"
    }
   ],
   "source": [
    "np.random.seed(42)\n",
    "\n",
    "nn_model_baseline = MLPClassifier(hidden_layer_sizes=(100,0,20), max_iter=500, activation='logistic',solver='adam')\n",
    "\n",
    "nn_model_baseline.fit(X_train,y_train)\n",
    "nn_model_baseline.score(X_val,y_val)"
   ]
  },
  {
   "cell_type": "markdown",
   "id": "f6bf7cbf",
   "metadata": {},
   "source": [
    "## Ridge Regression"
   ]
  },
  {
   "cell_type": "code",
   "execution_count": 83,
   "id": "5e378adc",
   "metadata": {},
   "outputs": [
    {
     "name": "stdout",
     "output_type": "stream",
     "text": [
      "Mean MSE: -5.99\n",
      "Mean R2: 0.15\n"
     ]
    }
   ],
   "source": [
    "np.random.seed(42)\n",
    "r_model_baseline = Ridge()\n",
    "pipe_r = Pipeline(steps=[(\"preprocess\",preprocessor),\n",
    "                      (\"model\",r_model_baseline)\n",
    "                      ]\n",
    "               )\n",
    "\n",
    "cross_val_scores_gb = cross_validate(pipe_r,X_train,y_train, cv=5, scoring=scoring)\n",
    "print_cv_metrics_mean(cross_val_scores_gb)"
   ]
  },
  {
   "cell_type": "markdown",
   "id": "918482d9",
   "metadata": {},
   "source": [
    "## Adaboost Regressor"
   ]
  },
  {
   "cell_type": "code",
   "execution_count": 85,
   "id": "b89766d3",
   "metadata": {},
   "outputs": [
    {
     "name": "stdout",
     "output_type": "stream",
     "text": [
      "Mean MSE: -6.80\n",
      "Mean R2: 0.03\n"
     ]
    }
   ],
   "source": [
    "model_ada_baseline = AdaBoostRegressor()\n",
    "pipe_ada_base = Pipeline(steps=[(\"preprocess\",preprocessor),\n",
    "                      (\"model\",model_ada_baseline)\n",
    "                      ]\n",
    "               )\n",
    "\n",
    "np.random.seed(42)\n",
    "\n",
    "cross_val_scores_gb = cross_validate(pipe_ada_base,X_train,y_train, cv=5, scoring=scoring)\n",
    "print_cv_metrics_mean(cross_val_scores_gb)"
   ]
  },
  {
   "cell_type": "markdown",
   "id": "34c6366c",
   "metadata": {},
   "source": [
    "# Sensitivity Analysis"
   ]
  },
  {
   "cell_type": "code",
   "execution_count": null,
   "id": "8db3f29a",
   "metadata": {},
   "outputs": [],
   "source": [
    "Removing `R062` from the dataset and rerunning the ML models to see whether the inclusion or exclusion of that code afftects the model performance. "
   ]
  },
  {
   "cell_type": "code",
   "execution_count": 84,
   "id": "9e39193a",
   "metadata": {},
   "outputs": [],
   "source": [
    "asthma_admission_data_sen = asthma_admission_data.copy()"
   ]
  },
  {
   "cell_type": "code",
   "execution_count": null,
   "id": "902926c3",
   "metadata": {},
   "outputs": [],
   "source": []
  }
 ],
 "metadata": {
  "kernelspec": {
   "display_name": "Python 3 (ipykernel)",
   "language": "python",
   "name": "python3"
  },
  "language_info": {
   "codemirror_mode": {
    "name": "ipython",
    "version": 3
   },
   "file_extension": ".py",
   "mimetype": "text/x-python",
   "name": "python",
   "nbconvert_exporter": "python",
   "pygments_lexer": "ipython3",
   "version": "3.9.12"
  }
 },
 "nbformat": 4,
 "nbformat_minor": 5
}

